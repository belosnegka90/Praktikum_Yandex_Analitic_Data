{
 "cells": [
  {
   "cell_type": "markdown",
   "metadata": {},
   "source": [
    "\n"
   ]
  },
  {
   "cell_type": "markdown",
   "metadata": {},
   "source": []
  },
  {
   "cell_type": "markdown",
   "metadata": {},
   "source": []
  },
  {
   "cell_type": "markdown",
   "metadata": {},
   "source": [
    "# Описание проекта\n"
   ]
  },
  {
   "cell_type": "markdown",
   "metadata": {},
   "source": [
    "Вы — аналитик крупного интернет-магазина. Вместе с отделом маркетинга вы подготовили список гипотез для увеличения выручки.\n",
    "Приоритизируйте гипотезы, запустите A/B-тест и проанализируйте результаты. \n"
   ]
  },
  {
   "cell_type": "markdown",
   "metadata": {},
   "source": [
    "# Часть 1. Приоритизация гипотез.\n",
    "В файле /datasets/hypothesis.csv 9 гипотез по увеличению выручки интернет-магазина с указанными параметрами Reach, Impact, Confidence, Effort.\n",
    "\n",
    "\n",
    "Задача\n",
    "\n",
    "\n",
    "- Примените фреймворк ICE для приоритизации гипотез. Отсортируйте их по убыванию приоритета.\n",
    "- Примените фреймворк RICE для приоритизации гипотез. Отсортируйте их по убыванию приоритета.\n",
    "- Укажите, как изменилась приоритизация гипотез при применении RICE вместо ICE. Объясните, почему так произошло."
   ]
  },
  {
   "cell_type": "markdown",
   "metadata": {},
   "source": [
    "# Часть 2. Анализ A/B-теста\n",
    "Вы провели A/B-тест и получили результаты, которые описаны в файлах /datasets/orders.csv и /datasets/visitors.csv.\n",
    "\n",
    "\n",
    "Задача\n",
    "\n",
    "\n",
    "Проанализируйте A/B-тест:\n",
    "\n",
    "\n",
    "- Постройте график кумулятивной выручки по группам. Сделайте выводы и предположения.\n",
    "- Постройте график кумулятивного среднего чека по группам. Сделайте выводы и предположения.\n",
    "- Постройте график относительного изменения кумулятивного среднего чека группы B к группе A. Сделайте выводы и предположения.\n",
    "- Постройте график кумулятивного среднего количества заказов на посетителя по группам. Сделайте выводы и предположения.\n",
    "- Постройте график относительного изменения кумулятивного среднего количества заказов на посетителя группы B к группе A. Сделайте выводы и предположения.\n",
    "- Постройте точечный график количества заказов по пользователям. Сделайте выводы и предположения.\n",
    "- Посчитайте 95-й и 99-й перцентили количества заказов на пользователя. Выберите границу для определения аномальных пользователей.\n",
    "- Постройте точечный график стоимостей заказов. Сделайте выводы и предположения.\n",
    "- Посчитайте 95-й и 99-й перцентили стоимости заказов. Выберите границу для определения аномальных заказов.\n",
    "- Посчитайте статистическую значимость различий в среднем количестве заказов на посетителя между группами по «сырым» данным. Сделайте выводы и предположения.\n",
    "- Посчитайте статистическую значимость различий в среднем чеке заказа между группами по «сырым» данным. Сделайте выводы и предположения.\n",
    "- Посчитайте статистическую значимость различий в среднем количестве заказов на посетителя между группами по «очищенным» данным. Сделайте выводы и предположения.\n",
    "- Посчитайте статистическую значимость различий в среднем чеке заказа между группами по «очищенным» данным. Сделайте выводы и предположения.\n",
    "\n",
    "\n",
    "Примите решение по результатам теста и объясните его. Варианты решений:\n",
    "1. Остановить тест, зафиксировать победу одной из групп.\n",
    "2. Остановить тест, зафиксировать отсутствие различий между группами.\n",
    "3. Продолжить тест."
   ]
  },
  {
   "cell_type": "markdown",
   "metadata": {},
   "source": []
  },
  {
   "cell_type": "markdown",
   "metadata": {},
   "source": [
    " Для начала подготовим все библиотеки для работы и откроем датафреймы"
   ]
  },
  {
   "cell_type": "code",
   "execution_count": 1,
   "metadata": {},
   "outputs": [],
   "source": [
    "import pandas as pd\n",
    "import datetime as dt\n",
    "import matplotlib.pyplot as plt\n",
    "import numpy as np\n",
    "import scipy.stats as stats"
   ]
  },
  {
   "cell_type": "code",
   "execution_count": 2,
   "metadata": {},
   "outputs": [
    {
     "data": {
      "text/html": [
       "<div>\n",
       "<style scoped>\n",
       "    .dataframe tbody tr th:only-of-type {\n",
       "        vertical-align: middle;\n",
       "    }\n",
       "\n",
       "    .dataframe tbody tr th {\n",
       "        vertical-align: top;\n",
       "    }\n",
       "\n",
       "    .dataframe thead th {\n",
       "        text-align: right;\n",
       "    }\n",
       "</style>\n",
       "<table border=\"1\" class=\"dataframe\">\n",
       "  <thead>\n",
       "    <tr style=\"text-align: right;\">\n",
       "      <th></th>\n",
       "      <th>Hypothesis</th>\n",
       "      <th>Reach</th>\n",
       "      <th>Impact</th>\n",
       "      <th>Confidence</th>\n",
       "      <th>Efforts</th>\n",
       "    </tr>\n",
       "  </thead>\n",
       "  <tbody>\n",
       "    <tr>\n",
       "      <th>0</th>\n",
       "      <td>Добавить два новых канала привлечения трафика, что позволит привлекать на 30% больше пользователей</td>\n",
       "      <td>3</td>\n",
       "      <td>10</td>\n",
       "      <td>8</td>\n",
       "      <td>6</td>\n",
       "    </tr>\n",
       "    <tr>\n",
       "      <th>1</th>\n",
       "      <td>Запустить собственную службу доставки, что сократит срок доставки заказов</td>\n",
       "      <td>2</td>\n",
       "      <td>5</td>\n",
       "      <td>4</td>\n",
       "      <td>10</td>\n",
       "    </tr>\n",
       "    <tr>\n",
       "      <th>2</th>\n",
       "      <td>Добавить блоки рекомендаций товаров на сайт интернет магазина, чтобы повысить конверсию и средний чек заказа</td>\n",
       "      <td>8</td>\n",
       "      <td>3</td>\n",
       "      <td>7</td>\n",
       "      <td>3</td>\n",
       "    </tr>\n",
       "    <tr>\n",
       "      <th>3</th>\n",
       "      <td>Изменить структура категорий, что увеличит конверсию, т.к. пользователи быстрее найдут нужный товар</td>\n",
       "      <td>8</td>\n",
       "      <td>3</td>\n",
       "      <td>3</td>\n",
       "      <td>8</td>\n",
       "    </tr>\n",
       "    <tr>\n",
       "      <th>4</th>\n",
       "      <td>Изменить цвет фона главной страницы, чтобы увеличить вовлеченность пользователей</td>\n",
       "      <td>3</td>\n",
       "      <td>1</td>\n",
       "      <td>1</td>\n",
       "      <td>1</td>\n",
       "    </tr>\n",
       "    <tr>\n",
       "      <th>5</th>\n",
       "      <td>Добавить страницу отзывов клиентов о магазине, что позволит увеличить количество заказов</td>\n",
       "      <td>3</td>\n",
       "      <td>2</td>\n",
       "      <td>2</td>\n",
       "      <td>3</td>\n",
       "    </tr>\n",
       "    <tr>\n",
       "      <th>6</th>\n",
       "      <td>Показать на главной странице баннеры с актуальными акциями и распродажами, чтобы увеличить конверсию</td>\n",
       "      <td>5</td>\n",
       "      <td>3</td>\n",
       "      <td>8</td>\n",
       "      <td>3</td>\n",
       "    </tr>\n",
       "    <tr>\n",
       "      <th>7</th>\n",
       "      <td>Добавить форму подписки на все основные страницы, чтобы собрать базу клиентов для email-рассылок</td>\n",
       "      <td>10</td>\n",
       "      <td>7</td>\n",
       "      <td>8</td>\n",
       "      <td>5</td>\n",
       "    </tr>\n",
       "    <tr>\n",
       "      <th>8</th>\n",
       "      <td>Запустить акцию, дающую скидку на товар в день рождения</td>\n",
       "      <td>1</td>\n",
       "      <td>9</td>\n",
       "      <td>9</td>\n",
       "      <td>5</td>\n",
       "    </tr>\n",
       "  </tbody>\n",
       "</table>\n",
       "</div>"
      ],
      "text/plain": [
       "                                                                                                     Hypothesis  \\\n",
       "0            Добавить два новых канала привлечения трафика, что позволит привлекать на 30% больше пользователей   \n",
       "1                                     Запустить собственную службу доставки, что сократит срок доставки заказов   \n",
       "2  Добавить блоки рекомендаций товаров на сайт интернет магазина, чтобы повысить конверсию и средний чек заказа   \n",
       "3           Изменить структура категорий, что увеличит конверсию, т.к. пользователи быстрее найдут нужный товар   \n",
       "4                              Изменить цвет фона главной страницы, чтобы увеличить вовлеченность пользователей   \n",
       "5                      Добавить страницу отзывов клиентов о магазине, что позволит увеличить количество заказов   \n",
       "6          Показать на главной странице баннеры с актуальными акциями и распродажами, чтобы увеличить конверсию   \n",
       "7              Добавить форму подписки на все основные страницы, чтобы собрать базу клиентов для email-рассылок   \n",
       "8                                                       Запустить акцию, дающую скидку на товар в день рождения   \n",
       "\n",
       "   Reach  Impact  Confidence  Efforts  \n",
       "0      3      10           8        6  \n",
       "1      2       5           4       10  \n",
       "2      8       3           7        3  \n",
       "3      8       3           3        8  \n",
       "4      3       1           1        1  \n",
       "5      3       2           2        3  \n",
       "6      5       3           8        3  \n",
       "7     10       7           8        5  \n",
       "8      1       9           9        5  "
      ]
     },
     "metadata": {},
     "output_type": "display_data"
    }
   ],
   "source": [
    "hypothesis = pd.read_csv('/datasets/hypothesis.csv')\n",
    "with pd.option_context('display.max_colwidth', None):\n",
    "    display(hypothesis)"
   ]
  },
  {
   "cell_type": "code",
   "execution_count": 3,
   "metadata": {},
   "outputs": [
    {
     "data": {
      "text/html": [
       "<div>\n",
       "<style scoped>\n",
       "    .dataframe tbody tr th:only-of-type {\n",
       "        vertical-align: middle;\n",
       "    }\n",
       "\n",
       "    .dataframe tbody tr th {\n",
       "        vertical-align: top;\n",
       "    }\n",
       "\n",
       "    .dataframe thead th {\n",
       "        text-align: right;\n",
       "    }\n",
       "</style>\n",
       "<table border=\"1\" class=\"dataframe\">\n",
       "  <thead>\n",
       "    <tr style=\"text-align: right;\">\n",
       "      <th></th>\n",
       "      <th>transactionId</th>\n",
       "      <th>visitorId</th>\n",
       "      <th>date</th>\n",
       "      <th>revenue</th>\n",
       "      <th>group</th>\n",
       "    </tr>\n",
       "  </thead>\n",
       "  <tbody>\n",
       "    <tr>\n",
       "      <th>0</th>\n",
       "      <td>3667963787</td>\n",
       "      <td>3312258926</td>\n",
       "      <td>2019-08-15</td>\n",
       "      <td>1650</td>\n",
       "      <td>B</td>\n",
       "    </tr>\n",
       "    <tr>\n",
       "      <th>1</th>\n",
       "      <td>2804400009</td>\n",
       "      <td>3642806036</td>\n",
       "      <td>2019-08-15</td>\n",
       "      <td>730</td>\n",
       "      <td>B</td>\n",
       "    </tr>\n",
       "    <tr>\n",
       "      <th>2</th>\n",
       "      <td>2961555356</td>\n",
       "      <td>4069496402</td>\n",
       "      <td>2019-08-15</td>\n",
       "      <td>400</td>\n",
       "      <td>A</td>\n",
       "    </tr>\n",
       "    <tr>\n",
       "      <th>3</th>\n",
       "      <td>3797467345</td>\n",
       "      <td>1196621759</td>\n",
       "      <td>2019-08-15</td>\n",
       "      <td>9759</td>\n",
       "      <td>B</td>\n",
       "    </tr>\n",
       "    <tr>\n",
       "      <th>4</th>\n",
       "      <td>2282983706</td>\n",
       "      <td>2322279887</td>\n",
       "      <td>2019-08-15</td>\n",
       "      <td>2308</td>\n",
       "      <td>B</td>\n",
       "    </tr>\n",
       "    <tr>\n",
       "      <th>...</th>\n",
       "      <td>...</td>\n",
       "      <td>...</td>\n",
       "      <td>...</td>\n",
       "      <td>...</td>\n",
       "      <td>...</td>\n",
       "    </tr>\n",
       "    <tr>\n",
       "      <th>1192</th>\n",
       "      <td>2662137336</td>\n",
       "      <td>3733762160</td>\n",
       "      <td>2019-08-14</td>\n",
       "      <td>6490</td>\n",
       "      <td>B</td>\n",
       "    </tr>\n",
       "    <tr>\n",
       "      <th>1193</th>\n",
       "      <td>2203539145</td>\n",
       "      <td>370388673</td>\n",
       "      <td>2019-08-14</td>\n",
       "      <td>3190</td>\n",
       "      <td>A</td>\n",
       "    </tr>\n",
       "    <tr>\n",
       "      <th>1194</th>\n",
       "      <td>1807773912</td>\n",
       "      <td>573423106</td>\n",
       "      <td>2019-08-14</td>\n",
       "      <td>10550</td>\n",
       "      <td>A</td>\n",
       "    </tr>\n",
       "    <tr>\n",
       "      <th>1195</th>\n",
       "      <td>1947021204</td>\n",
       "      <td>1614305549</td>\n",
       "      <td>2019-08-14</td>\n",
       "      <td>100</td>\n",
       "      <td>A</td>\n",
       "    </tr>\n",
       "    <tr>\n",
       "      <th>1196</th>\n",
       "      <td>3936777065</td>\n",
       "      <td>2108080724</td>\n",
       "      <td>2019-08-15</td>\n",
       "      <td>202740</td>\n",
       "      <td>B</td>\n",
       "    </tr>\n",
       "  </tbody>\n",
       "</table>\n",
       "<p>1197 rows × 5 columns</p>\n",
       "</div>"
      ],
      "text/plain": [
       "      transactionId   visitorId        date  revenue group\n",
       "0        3667963787  3312258926  2019-08-15     1650     B\n",
       "1        2804400009  3642806036  2019-08-15      730     B\n",
       "2        2961555356  4069496402  2019-08-15      400     A\n",
       "3        3797467345  1196621759  2019-08-15     9759     B\n",
       "4        2282983706  2322279887  2019-08-15     2308     B\n",
       "...             ...         ...         ...      ...   ...\n",
       "1192     2662137336  3733762160  2019-08-14     6490     B\n",
       "1193     2203539145   370388673  2019-08-14     3190     A\n",
       "1194     1807773912   573423106  2019-08-14    10550     A\n",
       "1195     1947021204  1614305549  2019-08-14      100     A\n",
       "1196     3936777065  2108080724  2019-08-15   202740     B\n",
       "\n",
       "[1197 rows x 5 columns]"
      ]
     },
     "execution_count": 3,
     "metadata": {},
     "output_type": "execute_result"
    }
   ],
   "source": [
    "orders = pd.read_csv('/datasets/orders.csv')\n",
    "orders"
   ]
  },
  {
   "cell_type": "code",
   "execution_count": 4,
   "metadata": {},
   "outputs": [
    {
     "data": {
      "text/html": [
       "<div>\n",
       "<style scoped>\n",
       "    .dataframe tbody tr th:only-of-type {\n",
       "        vertical-align: middle;\n",
       "    }\n",
       "\n",
       "    .dataframe tbody tr th {\n",
       "        vertical-align: top;\n",
       "    }\n",
       "\n",
       "    .dataframe thead th {\n",
       "        text-align: right;\n",
       "    }\n",
       "</style>\n",
       "<table border=\"1\" class=\"dataframe\">\n",
       "  <thead>\n",
       "    <tr style=\"text-align: right;\">\n",
       "      <th></th>\n",
       "      <th>date</th>\n",
       "      <th>group</th>\n",
       "      <th>visitors</th>\n",
       "    </tr>\n",
       "  </thead>\n",
       "  <tbody>\n",
       "    <tr>\n",
       "      <th>0</th>\n",
       "      <td>2019-08-01</td>\n",
       "      <td>A</td>\n",
       "      <td>719</td>\n",
       "    </tr>\n",
       "    <tr>\n",
       "      <th>1</th>\n",
       "      <td>2019-08-02</td>\n",
       "      <td>A</td>\n",
       "      <td>619</td>\n",
       "    </tr>\n",
       "    <tr>\n",
       "      <th>2</th>\n",
       "      <td>2019-08-03</td>\n",
       "      <td>A</td>\n",
       "      <td>507</td>\n",
       "    </tr>\n",
       "    <tr>\n",
       "      <th>3</th>\n",
       "      <td>2019-08-04</td>\n",
       "      <td>A</td>\n",
       "      <td>717</td>\n",
       "    </tr>\n",
       "    <tr>\n",
       "      <th>4</th>\n",
       "      <td>2019-08-05</td>\n",
       "      <td>A</td>\n",
       "      <td>756</td>\n",
       "    </tr>\n",
       "    <tr>\n",
       "      <th>...</th>\n",
       "      <td>...</td>\n",
       "      <td>...</td>\n",
       "      <td>...</td>\n",
       "    </tr>\n",
       "    <tr>\n",
       "      <th>57</th>\n",
       "      <td>2019-08-27</td>\n",
       "      <td>B</td>\n",
       "      <td>720</td>\n",
       "    </tr>\n",
       "    <tr>\n",
       "      <th>58</th>\n",
       "      <td>2019-08-28</td>\n",
       "      <td>B</td>\n",
       "      <td>654</td>\n",
       "    </tr>\n",
       "    <tr>\n",
       "      <th>59</th>\n",
       "      <td>2019-08-29</td>\n",
       "      <td>B</td>\n",
       "      <td>531</td>\n",
       "    </tr>\n",
       "    <tr>\n",
       "      <th>60</th>\n",
       "      <td>2019-08-30</td>\n",
       "      <td>B</td>\n",
       "      <td>490</td>\n",
       "    </tr>\n",
       "    <tr>\n",
       "      <th>61</th>\n",
       "      <td>2019-08-31</td>\n",
       "      <td>B</td>\n",
       "      <td>718</td>\n",
       "    </tr>\n",
       "  </tbody>\n",
       "</table>\n",
       "<p>62 rows × 3 columns</p>\n",
       "</div>"
      ],
      "text/plain": [
       "          date group  visitors\n",
       "0   2019-08-01     A       719\n",
       "1   2019-08-02     A       619\n",
       "2   2019-08-03     A       507\n",
       "3   2019-08-04     A       717\n",
       "4   2019-08-05     A       756\n",
       "..         ...   ...       ...\n",
       "57  2019-08-27     B       720\n",
       "58  2019-08-28     B       654\n",
       "59  2019-08-29     B       531\n",
       "60  2019-08-30     B       490\n",
       "61  2019-08-31     B       718\n",
       "\n",
       "[62 rows x 3 columns]"
      ]
     },
     "execution_count": 4,
     "metadata": {},
     "output_type": "execute_result"
    }
   ],
   "source": [
    "visitors = pd.read_csv('/datasets/visitors.csv')\n",
    "visitors"
   ]
  },
  {
   "cell_type": "markdown",
   "metadata": {},
   "source": [
    "# Часть 1. Приоритизация гипотез.\n",
    "## Примените фреймворк ICE для приоритизации гипотез. Отсортируйте их по убыванию приоритета."
   ]
  },
  {
   "cell_type": "code",
   "execution_count": 5,
   "metadata": {},
   "outputs": [
    {
     "data": {
      "text/html": [
       "<div>\n",
       "<style scoped>\n",
       "    .dataframe tbody tr th:only-of-type {\n",
       "        vertical-align: middle;\n",
       "    }\n",
       "\n",
       "    .dataframe tbody tr th {\n",
       "        vertical-align: top;\n",
       "    }\n",
       "\n",
       "    .dataframe thead th {\n",
       "        text-align: right;\n",
       "    }\n",
       "</style>\n",
       "<table border=\"1\" class=\"dataframe\">\n",
       "  <thead>\n",
       "    <tr style=\"text-align: right;\">\n",
       "      <th></th>\n",
       "      <th>Hypothesis</th>\n",
       "      <th>Reach</th>\n",
       "      <th>Impact</th>\n",
       "      <th>Confidence</th>\n",
       "      <th>Efforts</th>\n",
       "      <th>ICE</th>\n",
       "    </tr>\n",
       "  </thead>\n",
       "  <tbody>\n",
       "    <tr>\n",
       "      <th>8</th>\n",
       "      <td>Запустить акцию, дающую скидку на товар в день рождения</td>\n",
       "      <td>1</td>\n",
       "      <td>9</td>\n",
       "      <td>9</td>\n",
       "      <td>5</td>\n",
       "      <td>16.200000</td>\n",
       "    </tr>\n",
       "    <tr>\n",
       "      <th>0</th>\n",
       "      <td>Добавить два новых канала привлечения трафика, что позволит привлекать на 30% больше пользователей</td>\n",
       "      <td>3</td>\n",
       "      <td>10</td>\n",
       "      <td>8</td>\n",
       "      <td>6</td>\n",
       "      <td>13.333333</td>\n",
       "    </tr>\n",
       "    <tr>\n",
       "      <th>7</th>\n",
       "      <td>Добавить форму подписки на все основные страницы, чтобы собрать базу клиентов для email-рассылок</td>\n",
       "      <td>10</td>\n",
       "      <td>7</td>\n",
       "      <td>8</td>\n",
       "      <td>5</td>\n",
       "      <td>11.200000</td>\n",
       "    </tr>\n",
       "    <tr>\n",
       "      <th>6</th>\n",
       "      <td>Показать на главной странице баннеры с актуальными акциями и распродажами, чтобы увеличить конверсию</td>\n",
       "      <td>5</td>\n",
       "      <td>3</td>\n",
       "      <td>8</td>\n",
       "      <td>3</td>\n",
       "      <td>8.000000</td>\n",
       "    </tr>\n",
       "    <tr>\n",
       "      <th>2</th>\n",
       "      <td>Добавить блоки рекомендаций товаров на сайт интернет магазина, чтобы повысить конверсию и средний чек заказа</td>\n",
       "      <td>8</td>\n",
       "      <td>3</td>\n",
       "      <td>7</td>\n",
       "      <td>3</td>\n",
       "      <td>7.000000</td>\n",
       "    </tr>\n",
       "    <tr>\n",
       "      <th>1</th>\n",
       "      <td>Запустить собственную службу доставки, что сократит срок доставки заказов</td>\n",
       "      <td>2</td>\n",
       "      <td>5</td>\n",
       "      <td>4</td>\n",
       "      <td>10</td>\n",
       "      <td>2.000000</td>\n",
       "    </tr>\n",
       "    <tr>\n",
       "      <th>5</th>\n",
       "      <td>Добавить страницу отзывов клиентов о магазине, что позволит увеличить количество заказов</td>\n",
       "      <td>3</td>\n",
       "      <td>2</td>\n",
       "      <td>2</td>\n",
       "      <td>3</td>\n",
       "      <td>1.333333</td>\n",
       "    </tr>\n",
       "    <tr>\n",
       "      <th>3</th>\n",
       "      <td>Изменить структура категорий, что увеличит конверсию, т.к. пользователи быстрее найдут нужный товар</td>\n",
       "      <td>8</td>\n",
       "      <td>3</td>\n",
       "      <td>3</td>\n",
       "      <td>8</td>\n",
       "      <td>1.125000</td>\n",
       "    </tr>\n",
       "    <tr>\n",
       "      <th>4</th>\n",
       "      <td>Изменить цвет фона главной страницы, чтобы увеличить вовлеченность пользователей</td>\n",
       "      <td>3</td>\n",
       "      <td>1</td>\n",
       "      <td>1</td>\n",
       "      <td>1</td>\n",
       "      <td>1.000000</td>\n",
       "    </tr>\n",
       "  </tbody>\n",
       "</table>\n",
       "</div>"
      ],
      "text/plain": [
       "                                                                                                     Hypothesis  \\\n",
       "8                                                       Запустить акцию, дающую скидку на товар в день рождения   \n",
       "0            Добавить два новых канала привлечения трафика, что позволит привлекать на 30% больше пользователей   \n",
       "7              Добавить форму подписки на все основные страницы, чтобы собрать базу клиентов для email-рассылок   \n",
       "6          Показать на главной странице баннеры с актуальными акциями и распродажами, чтобы увеличить конверсию   \n",
       "2  Добавить блоки рекомендаций товаров на сайт интернет магазина, чтобы повысить конверсию и средний чек заказа   \n",
       "1                                     Запустить собственную службу доставки, что сократит срок доставки заказов   \n",
       "5                      Добавить страницу отзывов клиентов о магазине, что позволит увеличить количество заказов   \n",
       "3           Изменить структура категорий, что увеличит конверсию, т.к. пользователи быстрее найдут нужный товар   \n",
       "4                              Изменить цвет фона главной страницы, чтобы увеличить вовлеченность пользователей   \n",
       "\n",
       "   Reach  Impact  Confidence  Efforts        ICE  \n",
       "8      1       9           9        5  16.200000  \n",
       "0      3      10           8        6  13.333333  \n",
       "7     10       7           8        5  11.200000  \n",
       "6      5       3           8        3   8.000000  \n",
       "2      8       3           7        3   7.000000  \n",
       "1      2       5           4       10   2.000000  \n",
       "5      3       2           2        3   1.333333  \n",
       "3      8       3           3        8   1.125000  \n",
       "4      3       1           1        1   1.000000  "
      ]
     },
     "execution_count": 5,
     "metadata": {},
     "output_type": "execute_result"
    }
   ],
   "source": [
    "pd.options.display.max_colwidth = 210\n",
    "hypothesis['ICE'] = (hypothesis['Impact'] * hypothesis['Confidence']) / hypothesis['Efforts']\n",
    "hypothesis.sort_values(by='ICE', ascending=False)\n"
   ]
  },
  {
   "cell_type": "markdown",
   "metadata": {},
   "source": []
  },
  {
   "cell_type": "markdown",
   "metadata": {},
   "source": []
  },
  {
   "cell_type": "markdown",
   "metadata": {},
   "source": [
    "Лидирует гипотиза № 8 \"Запустить акцию, дающую скидку на товар в день рождения\", а в самых отстаюзих № 4 \"Изменить цвет фона главной страницы, чтобы увеличить вовлеченность пользователей\".\t"
   ]
  },
  {
   "cell_type": "markdown",
   "metadata": {},
   "source": [
    "\n",
    "## Примените фреймворк RICE для приоритизации гипотез. Отсортируйте их по убыванию приоритета."
   ]
  },
  {
   "cell_type": "code",
   "execution_count": 6,
   "metadata": {},
   "outputs": [
    {
     "data": {
      "text/html": [
       "<div>\n",
       "<style scoped>\n",
       "    .dataframe tbody tr th:only-of-type {\n",
       "        vertical-align: middle;\n",
       "    }\n",
       "\n",
       "    .dataframe tbody tr th {\n",
       "        vertical-align: top;\n",
       "    }\n",
       "\n",
       "    .dataframe thead th {\n",
       "        text-align: right;\n",
       "    }\n",
       "</style>\n",
       "<table border=\"1\" class=\"dataframe\">\n",
       "  <thead>\n",
       "    <tr style=\"text-align: right;\">\n",
       "      <th></th>\n",
       "      <th>Hypothesis</th>\n",
       "      <th>Reach</th>\n",
       "      <th>Impact</th>\n",
       "      <th>Confidence</th>\n",
       "      <th>Efforts</th>\n",
       "      <th>ICE</th>\n",
       "      <th>RICE</th>\n",
       "    </tr>\n",
       "  </thead>\n",
       "  <tbody>\n",
       "    <tr>\n",
       "      <th>7</th>\n",
       "      <td>Добавить форму подписки на все основные страницы, чтобы собрать базу клиентов для email-рассылок</td>\n",
       "      <td>10</td>\n",
       "      <td>7</td>\n",
       "      <td>8</td>\n",
       "      <td>5</td>\n",
       "      <td>11.200000</td>\n",
       "      <td>112.0</td>\n",
       "    </tr>\n",
       "    <tr>\n",
       "      <th>2</th>\n",
       "      <td>Добавить блоки рекомендаций товаров на сайт интернет магазина, чтобы повысить конверсию и средний чек заказа</td>\n",
       "      <td>8</td>\n",
       "      <td>3</td>\n",
       "      <td>7</td>\n",
       "      <td>3</td>\n",
       "      <td>7.000000</td>\n",
       "      <td>56.0</td>\n",
       "    </tr>\n",
       "    <tr>\n",
       "      <th>0</th>\n",
       "      <td>Добавить два новых канала привлечения трафика, что позволит привлекать на 30% больше пользователей</td>\n",
       "      <td>3</td>\n",
       "      <td>10</td>\n",
       "      <td>8</td>\n",
       "      <td>6</td>\n",
       "      <td>13.333333</td>\n",
       "      <td>40.0</td>\n",
       "    </tr>\n",
       "    <tr>\n",
       "      <th>6</th>\n",
       "      <td>Показать на главной странице баннеры с актуальными акциями и распродажами, чтобы увеличить конверсию</td>\n",
       "      <td>5</td>\n",
       "      <td>3</td>\n",
       "      <td>8</td>\n",
       "      <td>3</td>\n",
       "      <td>8.000000</td>\n",
       "      <td>40.0</td>\n",
       "    </tr>\n",
       "    <tr>\n",
       "      <th>8</th>\n",
       "      <td>Запустить акцию, дающую скидку на товар в день рождения</td>\n",
       "      <td>1</td>\n",
       "      <td>9</td>\n",
       "      <td>9</td>\n",
       "      <td>5</td>\n",
       "      <td>16.200000</td>\n",
       "      <td>16.2</td>\n",
       "    </tr>\n",
       "    <tr>\n",
       "      <th>3</th>\n",
       "      <td>Изменить структура категорий, что увеличит конверсию, т.к. пользователи быстрее найдут нужный товар</td>\n",
       "      <td>8</td>\n",
       "      <td>3</td>\n",
       "      <td>3</td>\n",
       "      <td>8</td>\n",
       "      <td>1.125000</td>\n",
       "      <td>9.0</td>\n",
       "    </tr>\n",
       "    <tr>\n",
       "      <th>1</th>\n",
       "      <td>Запустить собственную службу доставки, что сократит срок доставки заказов</td>\n",
       "      <td>2</td>\n",
       "      <td>5</td>\n",
       "      <td>4</td>\n",
       "      <td>10</td>\n",
       "      <td>2.000000</td>\n",
       "      <td>4.0</td>\n",
       "    </tr>\n",
       "    <tr>\n",
       "      <th>5</th>\n",
       "      <td>Добавить страницу отзывов клиентов о магазине, что позволит увеличить количество заказов</td>\n",
       "      <td>3</td>\n",
       "      <td>2</td>\n",
       "      <td>2</td>\n",
       "      <td>3</td>\n",
       "      <td>1.333333</td>\n",
       "      <td>4.0</td>\n",
       "    </tr>\n",
       "    <tr>\n",
       "      <th>4</th>\n",
       "      <td>Изменить цвет фона главной страницы, чтобы увеличить вовлеченность пользователей</td>\n",
       "      <td>3</td>\n",
       "      <td>1</td>\n",
       "      <td>1</td>\n",
       "      <td>1</td>\n",
       "      <td>1.000000</td>\n",
       "      <td>3.0</td>\n",
       "    </tr>\n",
       "  </tbody>\n",
       "</table>\n",
       "</div>"
      ],
      "text/plain": [
       "                                                                                                     Hypothesis  \\\n",
       "7              Добавить форму подписки на все основные страницы, чтобы собрать базу клиентов для email-рассылок   \n",
       "2  Добавить блоки рекомендаций товаров на сайт интернет магазина, чтобы повысить конверсию и средний чек заказа   \n",
       "0            Добавить два новых канала привлечения трафика, что позволит привлекать на 30% больше пользователей   \n",
       "6          Показать на главной странице баннеры с актуальными акциями и распродажами, чтобы увеличить конверсию   \n",
       "8                                                       Запустить акцию, дающую скидку на товар в день рождения   \n",
       "3           Изменить структура категорий, что увеличит конверсию, т.к. пользователи быстрее найдут нужный товар   \n",
       "1                                     Запустить собственную службу доставки, что сократит срок доставки заказов   \n",
       "5                      Добавить страницу отзывов клиентов о магазине, что позволит увеличить количество заказов   \n",
       "4                              Изменить цвет фона главной страницы, чтобы увеличить вовлеченность пользователей   \n",
       "\n",
       "   Reach  Impact  Confidence  Efforts        ICE   RICE  \n",
       "7     10       7           8        5  11.200000  112.0  \n",
       "2      8       3           7        3   7.000000   56.0  \n",
       "0      3      10           8        6  13.333333   40.0  \n",
       "6      5       3           8        3   8.000000   40.0  \n",
       "8      1       9           9        5  16.200000   16.2  \n",
       "3      8       3           3        8   1.125000    9.0  \n",
       "1      2       5           4       10   2.000000    4.0  \n",
       "5      3       2           2        3   1.333333    4.0  \n",
       "4      3       1           1        1   1.000000    3.0  "
      ]
     },
     "execution_count": 6,
     "metadata": {},
     "output_type": "execute_result"
    }
   ],
   "source": [
    "pd.options.display.max_colwidth = 210\n",
    "hypothesis['RICE'] = (hypothesis['Reach'] * hypothesis['Impact'] * hypothesis['Confidence']) / hypothesis['Efforts']\n",
    "hypothesis.sort_values(by='RICE', ascending=False)\n"
   ]
  },
  {
   "cell_type": "markdown",
   "metadata": {},
   "source": [
    "Тут лидирует гипотиза № 7 \"Добавить форму подписки на все основные страницы, чтобы собрать базу клиентов для email-рассылок\", а в самыйх отстаюзих по прежнему № 4 \"Изменить цвет фона главной страницы, чтобы увеличить вовлеченность пользователей\""
   ]
  },
  {
   "cell_type": "markdown",
   "metadata": {},
   "source": [
    "## Укажите, как изменилась приоритизация гипотез при применении RICE вместо ICE. Объясните, почему так произошло."
   ]
  },
  {
   "cell_type": "markdown",
   "metadata": {},
   "source": [
    "В ICE и\tRICE первые 5 индексов гипотиз совпадают, но их приоретизация разная. В ICE лидируют 8, 0, 7, 6, 2, а в RICE 7, 2, 0, 6, 8. Врзможно стоит рассмотреть эти 5 гипотиз в первую очедь. Так произошло, потому что в рассчтете RICE еше использовался параметр - охват пользователей(Reach). "
   ]
  },
  {
   "cell_type": "markdown",
   "metadata": {},
   "source": [
    " "
   ]
  },
  {
   "cell_type": "markdown",
   "metadata": {},
   "source": [
    "# Часть 2. Анализ A/B-теста"
   ]
  },
  {
   "cell_type": "markdown",
   "metadata": {},
   "source": [
    "Сделаем небольшую предобработку данных"
   ]
  },
  {
   "cell_type": "code",
   "execution_count": 7,
   "metadata": {},
   "outputs": [
    {
     "name": "stdout",
     "output_type": "stream",
     "text": [
      "<class 'pandas.core.frame.DataFrame'>\n",
      "RangeIndex: 62 entries, 0 to 61\n",
      "Data columns (total 3 columns):\n",
      " #   Column    Non-Null Count  Dtype \n",
      "---  ------    --------------  ----- \n",
      " 0   date      62 non-null     object\n",
      " 1   group     62 non-null     object\n",
      " 2   visitors  62 non-null     int64 \n",
      "dtypes: int64(1), object(2)\n",
      "memory usage: 1.6+ KB\n"
     ]
    }
   ],
   "source": [
    "visitors.info()"
   ]
  },
  {
   "cell_type": "code",
   "execution_count": 8,
   "metadata": {},
   "outputs": [
    {
     "name": "stdout",
     "output_type": "stream",
     "text": [
      "<class 'pandas.core.frame.DataFrame'>\n",
      "RangeIndex: 1197 entries, 0 to 1196\n",
      "Data columns (total 5 columns):\n",
      " #   Column         Non-Null Count  Dtype \n",
      "---  ------         --------------  ----- \n",
      " 0   transactionId  1197 non-null   int64 \n",
      " 1   visitorId      1197 non-null   int64 \n",
      " 2   date           1197 non-null   object\n",
      " 3   revenue        1197 non-null   int64 \n",
      " 4   group          1197 non-null   object\n",
      "dtypes: int64(3), object(2)\n",
      "memory usage: 46.9+ KB\n"
     ]
    }
   ],
   "source": [
    "orders.info()"
   ]
  },
  {
   "cell_type": "markdown",
   "metadata": {},
   "source": [
    "Проверим на наличие дубликатов"
   ]
  },
  {
   "cell_type": "code",
   "execution_count": 9,
   "metadata": {},
   "outputs": [
    {
     "data": {
      "text/plain": [
       "0"
      ]
     },
     "execution_count": 9,
     "metadata": {},
     "output_type": "execute_result"
    }
   ],
   "source": [
    "visitors.duplicated().sum()"
   ]
  },
  {
   "cell_type": "code",
   "execution_count": 10,
   "metadata": {},
   "outputs": [
    {
     "data": {
      "text/plain": [
       "0"
      ]
     },
     "execution_count": 10,
     "metadata": {},
     "output_type": "execute_result"
    }
   ],
   "source": [
    "orders.duplicated().sum()"
   ]
  },
  {
   "cell_type": "markdown",
   "metadata": {},
   "source": [
    "Изменим тип поля date с object на  datetime "
   ]
  },
  {
   "cell_type": "code",
   "execution_count": 11,
   "metadata": {},
   "outputs": [],
   "source": [
    "visitors['date'] = pd.to_datetime(visitors['date'], format='%Y-%m-%d')"
   ]
  },
  {
   "cell_type": "code",
   "execution_count": 12,
   "metadata": {},
   "outputs": [
    {
     "name": "stdout",
     "output_type": "stream",
     "text": [
      "<class 'pandas.core.frame.DataFrame'>\n",
      "RangeIndex: 62 entries, 0 to 61\n",
      "Data columns (total 3 columns):\n",
      " #   Column    Non-Null Count  Dtype         \n",
      "---  ------    --------------  -----         \n",
      " 0   date      62 non-null     datetime64[ns]\n",
      " 1   group     62 non-null     object        \n",
      " 2   visitors  62 non-null     int64         \n",
      "dtypes: datetime64[ns](1), int64(1), object(1)\n",
      "memory usage: 1.6+ KB\n"
     ]
    }
   ],
   "source": [
    "visitors.info()"
   ]
  },
  {
   "cell_type": "code",
   "execution_count": 13,
   "metadata": {},
   "outputs": [],
   "source": [
    "orders['date'] = pd.to_datetime(orders['date'], format='%Y-%m-%d')"
   ]
  },
  {
   "cell_type": "code",
   "execution_count": 14,
   "metadata": {},
   "outputs": [
    {
     "name": "stdout",
     "output_type": "stream",
     "text": [
      "<class 'pandas.core.frame.DataFrame'>\n",
      "RangeIndex: 1197 entries, 0 to 1196\n",
      "Data columns (total 5 columns):\n",
      " #   Column         Non-Null Count  Dtype         \n",
      "---  ------         --------------  -----         \n",
      " 0   transactionId  1197 non-null   int64         \n",
      " 1   visitorId      1197 non-null   int64         \n",
      " 2   date           1197 non-null   datetime64[ns]\n",
      " 3   revenue        1197 non-null   int64         \n",
      " 4   group          1197 non-null   object        \n",
      "dtypes: datetime64[ns](1), int64(3), object(1)\n",
      "memory usage: 46.9+ KB\n"
     ]
    }
   ],
   "source": [
    "orders.info()"
   ]
  },
  {
   "cell_type": "markdown",
   "metadata": {},
   "source": []
  },
  {
   "cell_type": "markdown",
   "metadata": {},
   "source": []
  },
  {
   "cell_type": "markdown",
   "metadata": {},
   "source": [
    "Определим, за какой период нам доступны данные "
   ]
  },
  {
   "cell_type": "code",
   "execution_count": 15,
   "metadata": {},
   "outputs": [
    {
     "name": "stdout",
     "output_type": "stream",
     "text": [
      "Дата начала теста 2019-08-01 00:00:00 , дата окончания теста 2019-08-31 00:00:00\n"
     ]
    }
   ],
   "source": [
    "min_date = min(orders['date'])\n",
    "max_date = max(orders['date'])\n",
    "print('Дата начала теста', min_date,',','дата окончания теста', max_date)\n"
   ]
  },
  {
   "cell_type": "markdown",
   "metadata": {},
   "source": [
    "Посмотреть на распределение количества пользователей в каждой группе."
   ]
  },
  {
   "cell_type": "code",
   "execution_count": 16,
   "metadata": {},
   "outputs": [
    {
     "name": "stdout",
     "output_type": "stream",
     "text": [
      "В группе А 557 пользователей , в группе В 640 пользователей\n"
     ]
    }
   ],
   "source": [
    "groupA = (orders[orders['group'] == 'A'])\n",
    "\n",
    "groupB = (orders[orders['group'] == 'B'])\n",
    "print('В группе А', len(groupA),'пользователей', ',', 'в группе В', len(groupB),'пользователей')"
   ]
  },
  {
   "cell_type": "code",
   "execution_count": null,
   "metadata": {},
   "outputs": [],
   "source": []
  },
  {
   "cell_type": "markdown",
   "metadata": {},
   "source": [
    "В группе В пользователей больше, чем в группе А, возможно потому, что пользователи из группы В совершали больше заказов."
   ]
  },
  {
   "cell_type": "markdown",
   "metadata": {},
   "source": [
    "Проверим, не попадают ли у нас пользователи в обе группы"
   ]
  },
  {
   "cell_type": "code",
   "execution_count": 63,
   "metadata": {},
   "outputs": [
    {
     "data": {
      "text/plain": [
       "58"
      ]
     },
     "execution_count": 63,
     "metadata": {},
     "output_type": "execute_result"
    }
   ],
   "source": [
    "users_group = orders.groupby('visitorId').agg({'group':['nunique']})\n",
    "users_group.columns = ['groups']\n",
    "users_group = len(users_group.query('groups > 1'))\n",
    "users_group"
   ]
  },
  {
   "cell_type": "markdown",
   "metadata": {},
   "source": [
    "В обе группы попадает всего 58 пользователей. Считаю, что можно не удалять их, они не особо влияют на рещультаты исследрвания. Так же, возможно, что по определенным критериям эти пользователи подходили и в группу А и в В."
   ]
  },
  {
   "cell_type": "markdown",
   "metadata": {},
   "source": []
  },
  {
   "cell_type": "markdown",
   "metadata": {},
   "source": [
    "# 1.Постройте график кумулятивной выручки по группам. Сделайте выводы и предположения."
   ]
  },
  {
   "cell_type": "markdown",
   "metadata": {},
   "source": [
    "Для того чтобы построить графмк, необходимо собрать кумулятивные данные."
   ]
  },
  {
   "cell_type": "markdown",
   "metadata": {},
   "source": [
    "Создаем массив уникальных пар значений дат и групп теста"
   ]
  },
  {
   "cell_type": "code",
   "execution_count": 18,
   "metadata": {},
   "outputs": [
    {
     "data": {
      "text/html": [
       "<div>\n",
       "<style scoped>\n",
       "    .dataframe tbody tr th:only-of-type {\n",
       "        vertical-align: middle;\n",
       "    }\n",
       "\n",
       "    .dataframe tbody tr th {\n",
       "        vertical-align: top;\n",
       "    }\n",
       "\n",
       "    .dataframe thead th {\n",
       "        text-align: right;\n",
       "    }\n",
       "</style>\n",
       "<table border=\"1\" class=\"dataframe\">\n",
       "  <thead>\n",
       "    <tr style=\"text-align: right;\">\n",
       "      <th></th>\n",
       "      <th>date</th>\n",
       "      <th>group</th>\n",
       "    </tr>\n",
       "  </thead>\n",
       "  <tbody>\n",
       "    <tr>\n",
       "      <th>0</th>\n",
       "      <td>2019-08-15</td>\n",
       "      <td>B</td>\n",
       "    </tr>\n",
       "    <tr>\n",
       "      <th>2</th>\n",
       "      <td>2019-08-15</td>\n",
       "      <td>A</td>\n",
       "    </tr>\n",
       "    <tr>\n",
       "      <th>45</th>\n",
       "      <td>2019-08-16</td>\n",
       "      <td>A</td>\n",
       "    </tr>\n",
       "    <tr>\n",
       "      <th>47</th>\n",
       "      <td>2019-08-16</td>\n",
       "      <td>B</td>\n",
       "    </tr>\n",
       "    <tr>\n",
       "      <th>55</th>\n",
       "      <td>2019-08-01</td>\n",
       "      <td>A</td>\n",
       "    </tr>\n",
       "  </tbody>\n",
       "</table>\n",
       "</div>"
      ],
      "text/plain": [
       "         date group\n",
       "0  2019-08-15     B\n",
       "2  2019-08-15     A\n",
       "45 2019-08-16     A\n",
       "47 2019-08-16     B\n",
       "55 2019-08-01     A"
      ]
     },
     "execution_count": 18,
     "metadata": {},
     "output_type": "execute_result"
    }
   ],
   "source": [
    "datesGroups = orders[['date','group']].drop_duplicates() \n",
    "datesGroups.head(5)"
   ]
  },
  {
   "cell_type": "markdown",
   "metadata": {},
   "source": [
    "Кумулятивные данные по дням о заказах"
   ]
  },
  {
   "cell_type": "code",
   "execution_count": 19,
   "metadata": {},
   "outputs": [
    {
     "data": {
      "text/html": [
       "<div>\n",
       "<style scoped>\n",
       "    .dataframe tbody tr th:only-of-type {\n",
       "        vertical-align: middle;\n",
       "    }\n",
       "\n",
       "    .dataframe tbody tr th {\n",
       "        vertical-align: top;\n",
       "    }\n",
       "\n",
       "    .dataframe thead th {\n",
       "        text-align: right;\n",
       "    }\n",
       "</style>\n",
       "<table border=\"1\" class=\"dataframe\">\n",
       "  <thead>\n",
       "    <tr style=\"text-align: right;\">\n",
       "      <th></th>\n",
       "      <th>date</th>\n",
       "      <th>group</th>\n",
       "      <th>transactionId</th>\n",
       "      <th>visitorId</th>\n",
       "      <th>revenue</th>\n",
       "    </tr>\n",
       "  </thead>\n",
       "  <tbody>\n",
       "    <tr>\n",
       "      <th>55</th>\n",
       "      <td>2019-08-01</td>\n",
       "      <td>A</td>\n",
       "      <td>24</td>\n",
       "      <td>20</td>\n",
       "      <td>148579</td>\n",
       "    </tr>\n",
       "    <tr>\n",
       "      <th>66</th>\n",
       "      <td>2019-08-01</td>\n",
       "      <td>B</td>\n",
       "      <td>21</td>\n",
       "      <td>20</td>\n",
       "      <td>101217</td>\n",
       "    </tr>\n",
       "    <tr>\n",
       "      <th>175</th>\n",
       "      <td>2019-08-02</td>\n",
       "      <td>A</td>\n",
       "      <td>44</td>\n",
       "      <td>38</td>\n",
       "      <td>242401</td>\n",
       "    </tr>\n",
       "    <tr>\n",
       "      <th>173</th>\n",
       "      <td>2019-08-02</td>\n",
       "      <td>B</td>\n",
       "      <td>45</td>\n",
       "      <td>43</td>\n",
       "      <td>266748</td>\n",
       "    </tr>\n",
       "    <tr>\n",
       "      <th>291</th>\n",
       "      <td>2019-08-03</td>\n",
       "      <td>A</td>\n",
       "      <td>68</td>\n",
       "      <td>62</td>\n",
       "      <td>354874</td>\n",
       "    </tr>\n",
       "  </tbody>\n",
       "</table>\n",
       "</div>"
      ],
      "text/plain": [
       "          date group  transactionId  visitorId  revenue\n",
       "55  2019-08-01     A             24         20   148579\n",
       "66  2019-08-01     B             21         20   101217\n",
       "175 2019-08-02     A             44         38   242401\n",
       "173 2019-08-02     B             45         43   266748\n",
       "291 2019-08-03     A             68         62   354874"
      ]
     },
     "execution_count": 19,
     "metadata": {},
     "output_type": "execute_result"
    }
   ],
   "source": [
    "ordersAggregated = datesGroups.apply(lambda x: orders[np.logical_and(orders['date'] <= x['date'], \\\n",
    "orders['group'] == x['group'])].agg({'date' : 'max', 'group' : 'max', 'transactionId' : pd.Series.nunique,\\\n",
    "'visitorId' : pd.Series.nunique,\n",
    "'revenue' : 'sum'}), axis=1).sort_values(by=['date','group']) \n",
    "ordersAggregated.head(5)"
   ]
  },
  {
   "cell_type": "markdown",
   "metadata": {},
   "source": [
    "Кумулятивные данные  по дням о посетителях"
   ]
  },
  {
   "cell_type": "code",
   "execution_count": 20,
   "metadata": {},
   "outputs": [
    {
     "data": {
      "text/html": [
       "<div>\n",
       "<style scoped>\n",
       "    .dataframe tbody tr th:only-of-type {\n",
       "        vertical-align: middle;\n",
       "    }\n",
       "\n",
       "    .dataframe tbody tr th {\n",
       "        vertical-align: top;\n",
       "    }\n",
       "\n",
       "    .dataframe thead th {\n",
       "        text-align: right;\n",
       "    }\n",
       "</style>\n",
       "<table border=\"1\" class=\"dataframe\">\n",
       "  <thead>\n",
       "    <tr style=\"text-align: right;\">\n",
       "      <th></th>\n",
       "      <th>date</th>\n",
       "      <th>group</th>\n",
       "      <th>visitors</th>\n",
       "    </tr>\n",
       "  </thead>\n",
       "  <tbody>\n",
       "    <tr>\n",
       "      <th>55</th>\n",
       "      <td>2019-08-01</td>\n",
       "      <td>A</td>\n",
       "      <td>719</td>\n",
       "    </tr>\n",
       "    <tr>\n",
       "      <th>66</th>\n",
       "      <td>2019-08-01</td>\n",
       "      <td>B</td>\n",
       "      <td>713</td>\n",
       "    </tr>\n",
       "    <tr>\n",
       "      <th>175</th>\n",
       "      <td>2019-08-02</td>\n",
       "      <td>A</td>\n",
       "      <td>1338</td>\n",
       "    </tr>\n",
       "    <tr>\n",
       "      <th>173</th>\n",
       "      <td>2019-08-02</td>\n",
       "      <td>B</td>\n",
       "      <td>1294</td>\n",
       "    </tr>\n",
       "    <tr>\n",
       "      <th>291</th>\n",
       "      <td>2019-08-03</td>\n",
       "      <td>A</td>\n",
       "      <td>1845</td>\n",
       "    </tr>\n",
       "  </tbody>\n",
       "</table>\n",
       "</div>"
      ],
      "text/plain": [
       "          date group  visitors\n",
       "55  2019-08-01     A       719\n",
       "66  2019-08-01     B       713\n",
       "175 2019-08-02     A      1338\n",
       "173 2019-08-02     B      1294\n",
       "291 2019-08-03     A      1845"
      ]
     },
     "execution_count": 20,
     "metadata": {},
     "output_type": "execute_result"
    }
   ],
   "source": [
    "visitorsAggregated = datesGroups.apply(lambda x: visitors[np.logical_and(visitors['date'] <= x['date'], \\\n",
    "visitors['group'] == x['group'])].agg({'date' : 'max', 'group' : 'max', 'visitors' : 'sum'}), axis=1)\\\n",
    ".sort_values(by=['date','group'])\n",
    "visitorsAggregated.head(5)"
   ]
  },
  {
   "cell_type": "code",
   "execution_count": 21,
   "metadata": {},
   "outputs": [
    {
     "data": {
      "text/html": [
       "<div>\n",
       "<style scoped>\n",
       "    .dataframe tbody tr th:only-of-type {\n",
       "        vertical-align: middle;\n",
       "    }\n",
       "\n",
       "    .dataframe tbody tr th {\n",
       "        vertical-align: top;\n",
       "    }\n",
       "\n",
       "    .dataframe thead th {\n",
       "        text-align: right;\n",
       "    }\n",
       "</style>\n",
       "<table border=\"1\" class=\"dataframe\">\n",
       "  <thead>\n",
       "    <tr style=\"text-align: right;\">\n",
       "      <th></th>\n",
       "      <th>date</th>\n",
       "      <th>group</th>\n",
       "      <th>transactionId</th>\n",
       "      <th>visitorId</th>\n",
       "      <th>revenue</th>\n",
       "      <th>visitors</th>\n",
       "    </tr>\n",
       "  </thead>\n",
       "  <tbody>\n",
       "    <tr>\n",
       "      <th>0</th>\n",
       "      <td>2019-08-01</td>\n",
       "      <td>A</td>\n",
       "      <td>24</td>\n",
       "      <td>20</td>\n",
       "      <td>148579</td>\n",
       "      <td>719</td>\n",
       "    </tr>\n",
       "    <tr>\n",
       "      <th>1</th>\n",
       "      <td>2019-08-01</td>\n",
       "      <td>B</td>\n",
       "      <td>21</td>\n",
       "      <td>20</td>\n",
       "      <td>101217</td>\n",
       "      <td>713</td>\n",
       "    </tr>\n",
       "    <tr>\n",
       "      <th>2</th>\n",
       "      <td>2019-08-02</td>\n",
       "      <td>A</td>\n",
       "      <td>44</td>\n",
       "      <td>38</td>\n",
       "      <td>242401</td>\n",
       "      <td>1338</td>\n",
       "    </tr>\n",
       "    <tr>\n",
       "      <th>3</th>\n",
       "      <td>2019-08-02</td>\n",
       "      <td>B</td>\n",
       "      <td>45</td>\n",
       "      <td>43</td>\n",
       "      <td>266748</td>\n",
       "      <td>1294</td>\n",
       "    </tr>\n",
       "    <tr>\n",
       "      <th>4</th>\n",
       "      <td>2019-08-03</td>\n",
       "      <td>A</td>\n",
       "      <td>68</td>\n",
       "      <td>62</td>\n",
       "      <td>354874</td>\n",
       "      <td>1845</td>\n",
       "    </tr>\n",
       "  </tbody>\n",
       "</table>\n",
       "</div>"
      ],
      "text/plain": [
       "        date group  transactionId  visitorId  revenue  visitors\n",
       "0 2019-08-01     A             24         20   148579       719\n",
       "1 2019-08-01     B             21         20   101217       713\n",
       "2 2019-08-02     A             44         38   242401      1338\n",
       "3 2019-08-02     B             45         43   266748      1294\n",
       "4 2019-08-03     A             68         62   354874      1845"
      ]
     },
     "execution_count": 21,
     "metadata": {},
     "output_type": "execute_result"
    }
   ],
   "source": [
    "cumulativeData = ordersAggregated.merge(visitorsAggregated, left_on=['date', 'group'], right_on=['date', 'group'])\n",
    "cumulativeData.head(5)"
   ]
  },
  {
   "cell_type": "markdown",
   "metadata": {},
   "source": [
    "Теперь можно строить графики кумулятивной выручки по дням и группам A/B-тестирования."
   ]
  },
  {
   "cell_type": "code",
   "execution_count": 22,
   "metadata": {},
   "outputs": [
    {
     "data": {
      "text/html": [
       "<div>\n",
       "<style scoped>\n",
       "    .dataframe tbody tr th:only-of-type {\n",
       "        vertical-align: middle;\n",
       "    }\n",
       "\n",
       "    .dataframe tbody tr th {\n",
       "        vertical-align: top;\n",
       "    }\n",
       "\n",
       "    .dataframe thead th {\n",
       "        text-align: right;\n",
       "    }\n",
       "</style>\n",
       "<table border=\"1\" class=\"dataframe\">\n",
       "  <thead>\n",
       "    <tr style=\"text-align: right;\">\n",
       "      <th></th>\n",
       "      <th>date</th>\n",
       "      <th>revenue</th>\n",
       "      <th>transactionId</th>\n",
       "    </tr>\n",
       "  </thead>\n",
       "  <tbody>\n",
       "    <tr>\n",
       "      <th>0</th>\n",
       "      <td>2019-08-01</td>\n",
       "      <td>148579</td>\n",
       "      <td>24</td>\n",
       "    </tr>\n",
       "    <tr>\n",
       "      <th>2</th>\n",
       "      <td>2019-08-02</td>\n",
       "      <td>242401</td>\n",
       "      <td>44</td>\n",
       "    </tr>\n",
       "    <tr>\n",
       "      <th>4</th>\n",
       "      <td>2019-08-03</td>\n",
       "      <td>354874</td>\n",
       "      <td>68</td>\n",
       "    </tr>\n",
       "    <tr>\n",
       "      <th>6</th>\n",
       "      <td>2019-08-04</td>\n",
       "      <td>425699</td>\n",
       "      <td>84</td>\n",
       "    </tr>\n",
       "    <tr>\n",
       "      <th>8</th>\n",
       "      <td>2019-08-05</td>\n",
       "      <td>549917</td>\n",
       "      <td>109</td>\n",
       "    </tr>\n",
       "  </tbody>\n",
       "</table>\n",
       "</div>"
      ],
      "text/plain": [
       "        date  revenue  transactionId\n",
       "0 2019-08-01   148579             24\n",
       "2 2019-08-02   242401             44\n",
       "4 2019-08-03   354874             68\n",
       "6 2019-08-04   425699             84\n",
       "8 2019-08-05   549917            109"
      ]
     },
     "execution_count": 22,
     "metadata": {},
     "output_type": "execute_result"
    }
   ],
   "source": [
    "cumulativeRevenueA = cumulativeData[cumulativeData['group']=='A'][['date','revenue', 'transactionId']]\n",
    "cumulativeRevenueA.head(5)"
   ]
  },
  {
   "cell_type": "code",
   "execution_count": 23,
   "metadata": {},
   "outputs": [
    {
     "data": {
      "text/html": [
       "<div>\n",
       "<style scoped>\n",
       "    .dataframe tbody tr th:only-of-type {\n",
       "        vertical-align: middle;\n",
       "    }\n",
       "\n",
       "    .dataframe tbody tr th {\n",
       "        vertical-align: top;\n",
       "    }\n",
       "\n",
       "    .dataframe thead th {\n",
       "        text-align: right;\n",
       "    }\n",
       "</style>\n",
       "<table border=\"1\" class=\"dataframe\">\n",
       "  <thead>\n",
       "    <tr style=\"text-align: right;\">\n",
       "      <th></th>\n",
       "      <th>date</th>\n",
       "      <th>revenue</th>\n",
       "      <th>transactionId</th>\n",
       "    </tr>\n",
       "  </thead>\n",
       "  <tbody>\n",
       "    <tr>\n",
       "      <th>1</th>\n",
       "      <td>2019-08-01</td>\n",
       "      <td>101217</td>\n",
       "      <td>21</td>\n",
       "    </tr>\n",
       "    <tr>\n",
       "      <th>3</th>\n",
       "      <td>2019-08-02</td>\n",
       "      <td>266748</td>\n",
       "      <td>45</td>\n",
       "    </tr>\n",
       "    <tr>\n",
       "      <th>5</th>\n",
       "      <td>2019-08-03</td>\n",
       "      <td>380996</td>\n",
       "      <td>61</td>\n",
       "    </tr>\n",
       "    <tr>\n",
       "      <th>7</th>\n",
       "      <td>2019-08-04</td>\n",
       "      <td>489567</td>\n",
       "      <td>78</td>\n",
       "    </tr>\n",
       "    <tr>\n",
       "      <th>9</th>\n",
       "      <td>2019-08-05</td>\n",
       "      <td>581995</td>\n",
       "      <td>101</td>\n",
       "    </tr>\n",
       "  </tbody>\n",
       "</table>\n",
       "</div>"
      ],
      "text/plain": [
       "        date  revenue  transactionId\n",
       "1 2019-08-01   101217             21\n",
       "3 2019-08-02   266748             45\n",
       "5 2019-08-03   380996             61\n",
       "7 2019-08-04   489567             78\n",
       "9 2019-08-05   581995            101"
      ]
     },
     "execution_count": 23,
     "metadata": {},
     "output_type": "execute_result"
    }
   ],
   "source": [
    "cumulativeRevenueB = cumulativeData[cumulativeData['group']=='B'][['date','revenue', 'transactionId']]\n",
    "cumulativeRevenueB.head(5)"
   ]
  },
  {
   "cell_type": "code",
   "execution_count": 24,
   "metadata": {},
   "outputs": [
    {
     "data": {
      "image/png": "[encoded data removed]",
      "text/plain": [
       "<Figure size 1080x720 with 1 Axes>"
      ]
     },
     "metadata": {
      "needs_background": "light"
     },
     "output_type": "display_data"
    }
   ],
   "source": [
    "plt.figure(figsize=(15,10)) \n",
    "plt.plot(cumulativeRevenueA['date'], cumulativeRevenueA['revenue'], label='A')\n",
    "plt.plot(cumulativeRevenueB['date'], cumulativeRevenueB['revenue'], label='B')\n",
    "plt.xlabel('Дата')\n",
    "plt.ylabel('Выручка') \n",
    "plt.title('Кумулятивная выручка по дням и группам')\n",
    "plt.legend(['Группа А', 'Группа B'])\n",
    "plt.grid()"
   ]
  },
  {
   "cell_type": "markdown",
   "metadata": {},
   "source": [
    "По графику видно, что исследование проходит в течении календаного месяца, с 01-08-2019 по 01-09-2019. Лилирует группа В, но по началу обе группы увеличивали выоучку примерно одинаково, стабильно. После 18 августа произошел резкий рост выручки. Этот выброс скорей всего мог произойти или из-за заказа на большую сумму, или из-за большого количества заказов. Необходимо проверить данные вопросы."
   ]
  },
  {
   "cell_type": "markdown",
   "metadata": {},
   "source": []
  },
  {
   "cell_type": "markdown",
   "metadata": {},
   "source": [
    "# 2. Постройте график кумулятивного среднего чека по группам. Сделайте выводы и предположения."
   ]
  },
  {
   "cell_type": "code",
   "execution_count": 25,
   "metadata": {},
   "outputs": [
    {
     "data": {
      "image/png": "[encoded data removed]",
      "text/plain": [
       "<Figure size 1080x720 with 1 Axes>"
      ]
     },
     "metadata": {
      "needs_background": "light"
     },
     "output_type": "display_data"
    }
   ],
   "source": [
    "plt.figure(figsize=(15,10)) \n",
    "plt.plot(cumulativeRevenueA['date'], cumulativeRevenueA['revenue']/cumulativeRevenueA['transactionId'], label='A')\n",
    "plt.plot(cumulativeRevenueB['date'], cumulativeRevenueB['revenue']/cumulativeRevenueB['transactionId'], label='B')\n",
    "plt.legend(['Группа А', 'Группа B'])\n",
    "plt.xlabel('Дата')\n",
    "plt.ylabel('Количество заказов') \n",
    "plt.title('Кумулятивный средний чек по группам')\n",
    "plt.grid()"
   ]
  },
  {
   "cell_type": "markdown",
   "metadata": {},
   "source": [
    "По графику кумулятивного среднего чека видно, что так же лидирует группа В. Все же аномальный выброс после 17 августа скорей всего зависит от большого колличесива заказов. "
   ]
  },
  {
   "cell_type": "markdown",
   "metadata": {},
   "source": []
  },
  {
   "cell_type": "markdown",
   "metadata": {},
   "source": [
    "# 3.Постройте график относительного изменения кумулятивного среднего чека группы B к группе A. Сделайте выводы и предположения."
   ]
  },
  {
   "cell_type": "code",
   "execution_count": 26,
   "metadata": {},
   "outputs": [
    {
     "data": {
      "text/html": [
       "<div>\n",
       "<style scoped>\n",
       "    .dataframe tbody tr th:only-of-type {\n",
       "        vertical-align: middle;\n",
       "    }\n",
       "\n",
       "    .dataframe tbody tr th {\n",
       "        vertical-align: top;\n",
       "    }\n",
       "\n",
       "    .dataframe thead th {\n",
       "        text-align: right;\n",
       "    }\n",
       "</style>\n",
       "<table border=\"1\" class=\"dataframe\">\n",
       "  <thead>\n",
       "    <tr style=\"text-align: right;\">\n",
       "      <th></th>\n",
       "      <th>date</th>\n",
       "      <th>revenueA</th>\n",
       "      <th>transactionIdA</th>\n",
       "      <th>revenueB</th>\n",
       "      <th>transactionIdB</th>\n",
       "    </tr>\n",
       "  </thead>\n",
       "  <tbody>\n",
       "    <tr>\n",
       "      <th>0</th>\n",
       "      <td>2019-08-01</td>\n",
       "      <td>148579</td>\n",
       "      <td>24</td>\n",
       "      <td>101217</td>\n",
       "      <td>21</td>\n",
       "    </tr>\n",
       "    <tr>\n",
       "      <th>1</th>\n",
       "      <td>2019-08-02</td>\n",
       "      <td>242401</td>\n",
       "      <td>44</td>\n",
       "      <td>266748</td>\n",
       "      <td>45</td>\n",
       "    </tr>\n",
       "    <tr>\n",
       "      <th>2</th>\n",
       "      <td>2019-08-03</td>\n",
       "      <td>354874</td>\n",
       "      <td>68</td>\n",
       "      <td>380996</td>\n",
       "      <td>61</td>\n",
       "    </tr>\n",
       "    <tr>\n",
       "      <th>3</th>\n",
       "      <td>2019-08-04</td>\n",
       "      <td>425699</td>\n",
       "      <td>84</td>\n",
       "      <td>489567</td>\n",
       "      <td>78</td>\n",
       "    </tr>\n",
       "    <tr>\n",
       "      <th>4</th>\n",
       "      <td>2019-08-05</td>\n",
       "      <td>549917</td>\n",
       "      <td>109</td>\n",
       "      <td>581995</td>\n",
       "      <td>101</td>\n",
       "    </tr>\n",
       "  </tbody>\n",
       "</table>\n",
       "</div>"
      ],
      "text/plain": [
       "        date  revenueA  transactionIdA  revenueB  transactionIdB\n",
       "0 2019-08-01    148579              24    101217              21\n",
       "1 2019-08-02    242401              44    266748              45\n",
       "2 2019-08-03    354874              68    380996              61\n",
       "3 2019-08-04    425699              84    489567              78\n",
       "4 2019-08-05    549917             109    581995             101"
      ]
     },
     "execution_count": 26,
     "metadata": {},
     "output_type": "execute_result"
    }
   ],
   "source": [
    "mergedCumulativeRevenue = cumulativeRevenueA.merge(cumulativeRevenueB, left_on='date', right_on='date', how='left', suffixes=['A', 'B'])\n",
    "mergedCumulativeRevenue.head(5) "
   ]
  },
  {
   "cell_type": "code",
   "execution_count": 27,
   "metadata": {},
   "outputs": [
    {
     "data": {
      "text/plain": [
       "Text(0, 0.5, 'Относительное изменение')"
      ]
     },
     "execution_count": 27,
     "metadata": {},
     "output_type": "execute_result"
    },
    {
     "data": {
      "image/png": "[encoded data removed]",
      "text/plain": [
       "<Figure size 1080x720 with 1 Axes>"
      ]
     },
     "metadata": {
      "needs_background": "light"
     },
     "output_type": "display_data"
    }
   ],
   "source": [
    "plt.figure(figsize=(15,10)) \n",
    "plt.plot(mergedCumulativeRevenue['date'], (mergedCumulativeRevenue['revenueB']/mergedCumulativeRevenue\\\n",
    "                                           ['transactionIdB'])/(mergedCumulativeRevenue['revenueA']\\\n",
    "                                                                /mergedCumulativeRevenue['transactionIdA'])-1)\n",
    "\n",
    "plt.axhline(y=0, color='black', linestyle='--') \n",
    "plt.xlabel('Дата')\n",
    "plt.grid()\n",
    "plt.title('График относительного изменения кумулятивного среднего чека группы B к группе A')\n",
    "plt.ylabel('Относительное изменение') "
   ]
  },
  {
   "cell_type": "markdown",
   "metadata": {},
   "source": [
    "По граффику видно, что у группы В есть несколько больших выбросов по отношению к группе А. Но так же есть и резкий спаз 13-08-2019. Возмодно это связано с большики или дорогими заказами."
   ]
  },
  {
   "cell_type": "markdown",
   "metadata": {},
   "source": []
  },
  {
   "cell_type": "markdown",
   "metadata": {},
   "source": [
    "# 4.Постройте график кумулятивного среднего количества заказов на посетителя по группам. Сделайте выводы и предположения."
   ]
  },
  {
   "cell_type": "markdown",
   "metadata": {},
   "source": [
    "Для начала необходимо посчитать кумулятивную конверсию "
   ]
  },
  {
   "cell_type": "code",
   "execution_count": 28,
   "metadata": {},
   "outputs": [
    {
     "data": {
      "text/html": [
       "<div>\n",
       "<style scoped>\n",
       "    .dataframe tbody tr th:only-of-type {\n",
       "        vertical-align: middle;\n",
       "    }\n",
       "\n",
       "    .dataframe tbody tr th {\n",
       "        vertical-align: top;\n",
       "    }\n",
       "\n",
       "    .dataframe thead th {\n",
       "        text-align: right;\n",
       "    }\n",
       "</style>\n",
       "<table border=\"1\" class=\"dataframe\">\n",
       "  <thead>\n",
       "    <tr style=\"text-align: right;\">\n",
       "      <th></th>\n",
       "      <th>date</th>\n",
       "      <th>group</th>\n",
       "      <th>transactionId</th>\n",
       "      <th>visitorId</th>\n",
       "      <th>revenue</th>\n",
       "      <th>visitors</th>\n",
       "      <th>conversion</th>\n",
       "    </tr>\n",
       "  </thead>\n",
       "  <tbody>\n",
       "    <tr>\n",
       "      <th>0</th>\n",
       "      <td>2019-08-01</td>\n",
       "      <td>A</td>\n",
       "      <td>24</td>\n",
       "      <td>20</td>\n",
       "      <td>148579</td>\n",
       "      <td>719</td>\n",
       "      <td>0.033380</td>\n",
       "    </tr>\n",
       "    <tr>\n",
       "      <th>1</th>\n",
       "      <td>2019-08-01</td>\n",
       "      <td>B</td>\n",
       "      <td>21</td>\n",
       "      <td>20</td>\n",
       "      <td>101217</td>\n",
       "      <td>713</td>\n",
       "      <td>0.029453</td>\n",
       "    </tr>\n",
       "    <tr>\n",
       "      <th>2</th>\n",
       "      <td>2019-08-02</td>\n",
       "      <td>A</td>\n",
       "      <td>44</td>\n",
       "      <td>38</td>\n",
       "      <td>242401</td>\n",
       "      <td>1338</td>\n",
       "      <td>0.032885</td>\n",
       "    </tr>\n",
       "    <tr>\n",
       "      <th>3</th>\n",
       "      <td>2019-08-02</td>\n",
       "      <td>B</td>\n",
       "      <td>45</td>\n",
       "      <td>43</td>\n",
       "      <td>266748</td>\n",
       "      <td>1294</td>\n",
       "      <td>0.034776</td>\n",
       "    </tr>\n",
       "    <tr>\n",
       "      <th>4</th>\n",
       "      <td>2019-08-03</td>\n",
       "      <td>A</td>\n",
       "      <td>68</td>\n",
       "      <td>62</td>\n",
       "      <td>354874</td>\n",
       "      <td>1845</td>\n",
       "      <td>0.036856</td>\n",
       "    </tr>\n",
       "  </tbody>\n",
       "</table>\n",
       "</div>"
      ],
      "text/plain": [
       "        date group  transactionId  visitorId  revenue  visitors  conversion\n",
       "0 2019-08-01     A             24         20   148579       719    0.033380\n",
       "1 2019-08-01     B             21         20   101217       713    0.029453\n",
       "2 2019-08-02     A             44         38   242401      1338    0.032885\n",
       "3 2019-08-02     B             45         43   266748      1294    0.034776\n",
       "4 2019-08-03     A             68         62   354874      1845    0.036856"
      ]
     },
     "execution_count": 28,
     "metadata": {},
     "output_type": "execute_result"
    }
   ],
   "source": [
    "cumulativeData['conversion'] = cumulativeData['transactionId']/cumulativeData['visitors']\n",
    "cumulativeData.head(5)"
   ]
  },
  {
   "cell_type": "code",
   "execution_count": 29,
   "metadata": {},
   "outputs": [],
   "source": [
    "cumulativeDataA = cumulativeData[cumulativeData['group']=='A']"
   ]
  },
  {
   "cell_type": "code",
   "execution_count": 30,
   "metadata": {},
   "outputs": [],
   "source": [
    "cumulativeDataB = cumulativeData[cumulativeData['group']=='B']"
   ]
  },
  {
   "cell_type": "code",
   "execution_count": 31,
   "metadata": {},
   "outputs": [
    {
     "data": {
      "text/plain": [
       "Text(0, 0.5, 'Конверсия')"
      ]
     },
     "execution_count": 31,
     "metadata": {},
     "output_type": "execute_result"
    },
    {
     "data": {
      "image/png": "[encoded data removed]",
      "text/plain": [
       "<Figure size 1080x720 with 1 Axes>"
      ]
     },
     "metadata": {
      "needs_background": "light"
     },
     "output_type": "display_data"
    }
   ],
   "source": [
    "plt.figure(figsize=(15,10))\n",
    "plt.plot(cumulativeDataA['date'], cumulativeDataA['conversion'], label='A')\n",
    "plt.plot(cumulativeDataB['date'], cumulativeDataB['conversion'], label='B')\n",
    "plt.legend(['Группа А', 'Группа B'])\n",
    "plt.xlabel('Дата')\n",
    "plt.grid()\n",
    "plt.title('График кумулятивного среднего количества заказов на посетителя по группам')\n",
    "plt.ylabel('Конверсия')"
   ]
  },
  {
   "cell_type": "markdown",
   "metadata": {},
   "source": [
    "В начале месяца конверсия у групп А и В растет, причем, у группы А коныерсия выше, чем у группы В. Но после 5 августа ситуация меняется: у А происходит резкий спад и она больше не восстанавливает свою сиду, находится в состоянии колебания от 0.029 до 0.031. У группы В обратная ситуация: конверсия до 17 августа в основном тольео растет с небольшими стпадами, а посде 17 августа происходит спад конверсии до конца месяца с небольшими колебаниями. "
   ]
  },
  {
   "cell_type": "markdown",
   "metadata": {},
   "source": []
  },
  {
   "cell_type": "markdown",
   "metadata": {},
   "source": [
    "# 5. Постройте график относительного изменения кумулятивного среднего количества заказов на посетителя группы B к группе A. Сделайте выводы и предположения."
   ]
  },
  {
   "cell_type": "code",
   "execution_count": 32,
   "metadata": {},
   "outputs": [
    {
     "data": {
      "text/html": [
       "<div>\n",
       "<style scoped>\n",
       "    .dataframe tbody tr th:only-of-type {\n",
       "        vertical-align: middle;\n",
       "    }\n",
       "\n",
       "    .dataframe tbody tr th {\n",
       "        vertical-align: top;\n",
       "    }\n",
       "\n",
       "    .dataframe thead th {\n",
       "        text-align: right;\n",
       "    }\n",
       "</style>\n",
       "<table border=\"1\" class=\"dataframe\">\n",
       "  <thead>\n",
       "    <tr style=\"text-align: right;\">\n",
       "      <th></th>\n",
       "      <th>date</th>\n",
       "      <th>conversionA</th>\n",
       "      <th>conversionB</th>\n",
       "    </tr>\n",
       "  </thead>\n",
       "  <tbody>\n",
       "    <tr>\n",
       "      <th>0</th>\n",
       "      <td>2019-08-01</td>\n",
       "      <td>0.033380</td>\n",
       "      <td>0.029453</td>\n",
       "    </tr>\n",
       "    <tr>\n",
       "      <th>1</th>\n",
       "      <td>2019-08-02</td>\n",
       "      <td>0.032885</td>\n",
       "      <td>0.034776</td>\n",
       "    </tr>\n",
       "    <tr>\n",
       "      <th>2</th>\n",
       "      <td>2019-08-03</td>\n",
       "      <td>0.036856</td>\n",
       "      <td>0.033833</td>\n",
       "    </tr>\n",
       "    <tr>\n",
       "      <th>3</th>\n",
       "      <td>2019-08-04</td>\n",
       "      <td>0.032787</td>\n",
       "      <td>0.030315</td>\n",
       "    </tr>\n",
       "    <tr>\n",
       "      <th>4</th>\n",
       "      <td>2019-08-05</td>\n",
       "      <td>0.032851</td>\n",
       "      <td>0.030793</td>\n",
       "    </tr>\n",
       "  </tbody>\n",
       "</table>\n",
       "</div>"
      ],
      "text/plain": [
       "        date  conversionA  conversionB\n",
       "0 2019-08-01     0.033380     0.029453\n",
       "1 2019-08-02     0.032885     0.034776\n",
       "2 2019-08-03     0.036856     0.033833\n",
       "3 2019-08-04     0.032787     0.030315\n",
       "4 2019-08-05     0.032851     0.030793"
      ]
     },
     "execution_count": 32,
     "metadata": {},
     "output_type": "execute_result"
    }
   ],
   "source": [
    "mergedCumulativeConversions = cumulativeDataA[['date','conversion']].merge(cumulativeDataB[['date','conversion']], left_on='date', right_on='date', how='left', suffixes=['A', 'B'])\n",
    "mergedCumulativeConversions.head(5)\n"
   ]
  },
  {
   "cell_type": "code",
   "execution_count": 33,
   "metadata": {},
   "outputs": [
    {
     "data": {
      "text/plain": [
       "Text(0.5, 1.0, 'График относительного изменения кумулятивного среднего количества заказов группы B к группе A')"
      ]
     },
     "execution_count": 33,
     "metadata": {},
     "output_type": "execute_result"
    },
    {
     "data": {
      "image/png": "[encoded data removed]",
      "text/plain": [
       "<Figure size 1080x720 with 1 Axes>"
      ]
     },
     "metadata": {
      "needs_background": "light"
     },
     "output_type": "display_data"
    }
   ],
   "source": [
    "plt.figure(figsize=(15,10))\n",
    "plt.plot(mergedCumulativeConversions['date'], mergedCumulativeConversions['conversionB']/mergedCumulativeConversions['conversionA']-1, label=\"Относительный прирост конверсии группы B относительно группы A\")\n",
    "plt.legend()\n",
    "\n",
    "plt.axhline(y=0, color='black', linestyle='--')\n",
    "plt.axhline(y=0.18, color='grey', linestyle='--')\n",
    "plt.grid()\n",
    "plt.ylabel('Относительное различие')\n",
    "plt.xlabel('Дата')\n",
    "plt.title('График относительного изменения кумулятивного среднего количества заказов группы B к группе A')\n"
   ]
  },
  {
   "cell_type": "markdown",
   "metadata": {},
   "source": [
    "В начале месяца был быстрый рост группы В, но затем и резкий спад. После 5 числа ситуация меняется и конверсия группы В стабильно растет. После  10 августа конверсия подвержена колебаниям - то растет, то падает, а после 17 августа колебдется и идет потихоньку на спад.В целом отношение конверсии ещё не установилось, и сейчас делать какие-либо выводы по тесту нельзя. Впрочем, сперва стоит проанализировать аномалии, возможно, они изменят картину."
   ]
  },
  {
   "cell_type": "markdown",
   "metadata": {},
   "source": [
    "\n",
    "    \n"
   ]
  },
  {
   "cell_type": "markdown",
   "metadata": {},
   "source": [
    "# 6. Постройте точечный график количества заказов по пользователям. Сделайте выводы и предположения."
   ]
  },
  {
   "cell_type": "markdown",
   "metadata": {},
   "source": [
    "Подсчитаем количество заказов по пользователям и посмотрим на результат:"
   ]
  },
  {
   "cell_type": "code",
   "execution_count": 34,
   "metadata": {},
   "outputs": [
    {
     "data": {
      "text/html": [
       "<div>\n",
       "<style scoped>\n",
       "    .dataframe tbody tr th:only-of-type {\n",
       "        vertical-align: middle;\n",
       "    }\n",
       "\n",
       "    .dataframe tbody tr th {\n",
       "        vertical-align: top;\n",
       "    }\n",
       "\n",
       "    .dataframe thead th {\n",
       "        text-align: right;\n",
       "    }\n",
       "</style>\n",
       "<table border=\"1\" class=\"dataframe\">\n",
       "  <thead>\n",
       "    <tr style=\"text-align: right;\">\n",
       "      <th></th>\n",
       "      <th>visitorId</th>\n",
       "      <th>transactionId</th>\n",
       "    </tr>\n",
       "  </thead>\n",
       "  <tbody>\n",
       "    <tr>\n",
       "      <th>1023</th>\n",
       "      <td>4256040402</td>\n",
       "      <td>11</td>\n",
       "    </tr>\n",
       "    <tr>\n",
       "      <th>591</th>\n",
       "      <td>2458001652</td>\n",
       "      <td>11</td>\n",
       "    </tr>\n",
       "    <tr>\n",
       "      <th>569</th>\n",
       "      <td>2378935119</td>\n",
       "      <td>9</td>\n",
       "    </tr>\n",
       "    <tr>\n",
       "      <th>487</th>\n",
       "      <td>2038680547</td>\n",
       "      <td>8</td>\n",
       "    </tr>\n",
       "    <tr>\n",
       "      <th>44</th>\n",
       "      <td>199603092</td>\n",
       "      <td>5</td>\n",
       "    </tr>\n",
       "    <tr>\n",
       "      <th>744</th>\n",
       "      <td>3062433592</td>\n",
       "      <td>5</td>\n",
       "    </tr>\n",
       "    <tr>\n",
       "      <th>55</th>\n",
       "      <td>237748145</td>\n",
       "      <td>5</td>\n",
       "    </tr>\n",
       "    <tr>\n",
       "      <th>917</th>\n",
       "      <td>3803269165</td>\n",
       "      <td>5</td>\n",
       "    </tr>\n",
       "    <tr>\n",
       "      <th>299</th>\n",
       "      <td>1230306981</td>\n",
       "      <td>5</td>\n",
       "    </tr>\n",
       "    <tr>\n",
       "      <th>897</th>\n",
       "      <td>3717692402</td>\n",
       "      <td>5</td>\n",
       "    </tr>\n",
       "  </tbody>\n",
       "</table>\n",
       "</div>"
      ],
      "text/plain": [
       "       visitorId  transactionId\n",
       "1023  4256040402             11\n",
       "591   2458001652             11\n",
       "569   2378935119              9\n",
       "487   2038680547              8\n",
       "44     199603092              5\n",
       "744   3062433592              5\n",
       "55     237748145              5\n",
       "917   3803269165              5\n",
       "299   1230306981              5\n",
       "897   3717692402              5"
      ]
     },
     "execution_count": 34,
     "metadata": {},
     "output_type": "execute_result"
    }
   ],
   "source": [
    "ordersByUsers = (orders.groupby('visitorId', as_index=False).agg({'transactionId': 'nunique'}))\n",
    "ordersByUsers.sort_values(by='transactionId', ascending=False).head(10)"
   ]
  },
  {
   "cell_type": "code",
   "execution_count": 35,
   "metadata": {},
   "outputs": [
    {
     "data": {
      "text/plain": [
       "Text(0.5, 0, 'Количество заказов')"
      ]
     },
     "execution_count": 35,
     "metadata": {},
     "output_type": "execute_result"
    },
    {
     "data": {
      "image/png": "[encoded data removed]",
      "text/plain": [
       "<Figure size 864x576 with 1 Axes>"
      ]
     },
     "metadata": {
      "needs_background": "light"
     },
     "output_type": "display_data"
    }
   ],
   "source": [
    "plt.figure(figsize=(12,8))\n",
    "plt.hist(ordersByUsers['transactionId'])\n",
    "plt.grid()\n",
    "plt.title('График количества заказов по пользователям')\n",
    "plt.ylabel('Количество пользователей')\n",
    "plt.xlabel('Количество заказов')"
   ]
  },
  {
   "cell_type": "code",
   "execution_count": 36,
   "metadata": {},
   "outputs": [],
   "source": [
    "x_values = pd.Series(range(0,len(ordersByUsers)))"
   ]
  },
  {
   "cell_type": "code",
   "execution_count": 37,
   "metadata": {},
   "outputs": [
    {
     "data": {
      "text/plain": [
       "Text(0.5, 0, 'Количество пользователей')"
      ]
     },
     "execution_count": 37,
     "metadata": {},
     "output_type": "execute_result"
    },
    {
     "data": {
      "image/png": "[encoded data removed]",
      "text/plain": [
       "<Figure size 864x720 with 1 Axes>"
      ]
     },
     "metadata": {
      "needs_background": "light"
     },
     "output_type": "display_data"
    }
   ],
   "source": [
    "plt.figure(figsize=(12,10))\n",
    "plt.scatter(x_values, ordersByUsers['transactionId']) \n",
    "plt.grid()\n",
    "plt.title('Точечный график количества заказов по пользователям')\n",
    "plt.ylabel('Количество заказов')\n",
    "plt.xlabel('Количество пользователей')"
   ]
  },
  {
   "cell_type": "markdown",
   "metadata": {},
   "source": [
    "Из графиков видно, что большинство пользователей совершило всего 1 покупку, чуть меньше людей купили товары 2-3 раза. Но есть несколько выбросов, где количество покупок от 8 до 11."
   ]
  },
  {
   "cell_type": "markdown",
   "metadata": {},
   "source": [
    "# 7.Посчитайте 95-й и 99-й перцентили количества заказов на пользователя. Выберите границу для определения аномальных пользователей."
   ]
  },
  {
   "cell_type": "code",
   "execution_count": 38,
   "metadata": {},
   "outputs": [
    {
     "data": {
      "text/plain": [
       "array([2., 4.])"
      ]
     },
     "execution_count": 38,
     "metadata": {},
     "output_type": "execute_result"
    }
   ],
   "source": [
    "np.percentile(ordersByUsers['transactionId'], [95, 99])"
   ]
  },
  {
   "cell_type": "markdown",
   "metadata": {},
   "source": [
    "По подсчету мы видим, что 5% пользователей совершили более 2х заказа и 1% пользователей совершили более 4х заказов. Считаю, что  граница для определения аномальных пользователей будет равна 4. Большее количество заказов очень в маленьких количествах, но дают сильные выбросы."
   ]
  },
  {
   "cell_type": "markdown",
   "metadata": {},
   "source": [
    "# 8. Постройте точечный график стоимостей заказов. Сделайте выводы и предположения."
   ]
  },
  {
   "cell_type": "markdown",
   "metadata": {},
   "source": [
    "Посмотрим как распределяется стоимоить заказов"
   ]
  },
  {
   "cell_type": "code",
   "execution_count": 39,
   "metadata": {},
   "outputs": [
    {
     "data": {
      "text/html": [
       "<div>\n",
       "<style scoped>\n",
       "    .dataframe tbody tr th:only-of-type {\n",
       "        vertical-align: middle;\n",
       "    }\n",
       "\n",
       "    .dataframe tbody tr th {\n",
       "        vertical-align: top;\n",
       "    }\n",
       "\n",
       "    .dataframe thead th {\n",
       "        text-align: right;\n",
       "    }\n",
       "</style>\n",
       "<table border=\"1\" class=\"dataframe\">\n",
       "  <thead>\n",
       "    <tr style=\"text-align: right;\">\n",
       "      <th></th>\n",
       "      <th>visitorId</th>\n",
       "      <th>revenue</th>\n",
       "    </tr>\n",
       "  </thead>\n",
       "  <tbody>\n",
       "    <tr>\n",
       "      <th>425</th>\n",
       "      <td>1920142716</td>\n",
       "      <td>1294500</td>\n",
       "    </tr>\n",
       "    <tr>\n",
       "      <th>1196</th>\n",
       "      <td>2108080724</td>\n",
       "      <td>202740</td>\n",
       "    </tr>\n",
       "    <tr>\n",
       "      <th>858</th>\n",
       "      <td>1316129916</td>\n",
       "      <td>93940</td>\n",
       "    </tr>\n",
       "    <tr>\n",
       "      <th>1136</th>\n",
       "      <td>1307669133</td>\n",
       "      <td>92550</td>\n",
       "    </tr>\n",
       "    <tr>\n",
       "      <th>744</th>\n",
       "      <td>888512513</td>\n",
       "      <td>86620</td>\n",
       "    </tr>\n",
       "    <tr>\n",
       "      <th>682</th>\n",
       "      <td>4266935830</td>\n",
       "      <td>78990</td>\n",
       "    </tr>\n",
       "    <tr>\n",
       "      <th>662</th>\n",
       "      <td>4266935830</td>\n",
       "      <td>78990</td>\n",
       "    </tr>\n",
       "    <tr>\n",
       "      <th>743</th>\n",
       "      <td>4133034833</td>\n",
       "      <td>67990</td>\n",
       "    </tr>\n",
       "    <tr>\n",
       "      <th>1103</th>\n",
       "      <td>1164614297</td>\n",
       "      <td>66350</td>\n",
       "    </tr>\n",
       "    <tr>\n",
       "      <th>1099</th>\n",
       "      <td>148427295</td>\n",
       "      <td>65710</td>\n",
       "    </tr>\n",
       "  </tbody>\n",
       "</table>\n",
       "</div>"
      ],
      "text/plain": [
       "       visitorId  revenue\n",
       "425   1920142716  1294500\n",
       "1196  2108080724   202740\n",
       "858   1316129916    93940\n",
       "1136  1307669133    92550\n",
       "744    888512513    86620\n",
       "682   4266935830    78990\n",
       "662   4266935830    78990\n",
       "743   4133034833    67990\n",
       "1103  1164614297    66350\n",
       "1099   148427295    65710"
      ]
     },
     "execution_count": 39,
     "metadata": {},
     "output_type": "execute_result"
    }
   ],
   "source": [
    "orders[['visitorId', 'revenue']].sort_values(by='revenue', ascending=False).head(10)"
   ]
  },
  {
   "cell_type": "code",
   "execution_count": 40,
   "metadata": {},
   "outputs": [
    {
     "data": {
      "text/plain": [
       "Text(0.5, 0, 'Стоимость заказов')"
      ]
     },
     "execution_count": 40,
     "metadata": {},
     "output_type": "execute_result"
    },
    {
     "data": {
      "image/png": "[encoded data removed]",
      "text/plain": [
       "<Figure size 864x720 with 1 Axes>"
      ]
     },
     "metadata": {
      "needs_background": "light"
     },
     "output_type": "display_data"
    }
   ],
   "source": [
    "plt.figure(figsize=(12,10))\n",
    "plt.hist(orders['revenue'])\n",
    "plt.grid()\n",
    "plt.title('График стоимости заказов')\n",
    "plt.ylabel('Количество заказов')\n",
    "plt.xlabel('Стоимость заказов')"
   ]
  },
  {
   "cell_type": "markdown",
   "metadata": {},
   "source": [
    "По графику видно, что большинство пользователей сделали заказы на сумму не больше 100 000, но есть анамалии, где суммы больше 200 000 и от 1 000 000 и выше. Думаю, стоит ограничить сумму покупки 100 000 и посмотреть точесное распредение."
   ]
  },
  {
   "cell_type": "code",
   "execution_count": 41,
   "metadata": {},
   "outputs": [],
   "source": [
    "x_values = pd.Series(range(0, len(orders[orders['revenue']<=100000]['revenue'])))"
   ]
  },
  {
   "cell_type": "code",
   "execution_count": 42,
   "metadata": {},
   "outputs": [
    {
     "data": {
      "text/plain": [
       "Text(0.5, 0, 'Количество пользователей')"
      ]
     },
     "execution_count": 42,
     "metadata": {},
     "output_type": "execute_result"
    },
    {
     "data": {
      "image/png": "[encoded data removed]",
      "text/plain": [
       "<Figure size 1080x720 with 1 Axes>"
      ]
     },
     "metadata": {
      "needs_background": "light"
     },
     "output_type": "display_data"
    }
   ],
   "source": [
    "plt.figure(figsize=(15,10))\n",
    "plt.scatter(x_values, orders[orders['revenue']<=100000]['revenue'])\n",
    "#plt.ylim(0, 100000) \n",
    "plt.grid()\n",
    "plt.title('Точечный график стоимостей заказов')\n",
    "plt.ylabel('Стоимость заказов')\n",
    "plt.xlabel('Количество пользователей')"
   ]
  },
  {
   "cell_type": "markdown",
   "metadata": {},
   "source": []
  },
  {
   "cell_type": "markdown",
   "metadata": {},
   "source": [
    "Большинство пользователей совершили покупки до 20 000, необходимо посчитать процентили, чтобы оценить границу больших заказов."
   ]
  },
  {
   "cell_type": "markdown",
   "metadata": {},
   "source": [
    "# 9. Посчитайте 95-й и 99-й перцентили стоимости заказов. Выберите границу для определения аномальных заказов."
   ]
  },
  {
   "cell_type": "code",
   "execution_count": 43,
   "metadata": {},
   "outputs": [
    {
     "data": {
      "text/plain": [
       "array([28000. , 58233.2])"
      ]
     },
     "execution_count": 43,
     "metadata": {},
     "output_type": "execute_result"
    }
   ],
   "source": [
    "np.percentile(orders['revenue'], [95, 99])"
   ]
  },
  {
   "cell_type": "markdown",
   "metadata": {},
   "source": [
    "5% заказов было совершено на сумму 28000, 1% заказов был совершен на сумму 58233.2. Полагаю, границей для определения аномальных заказов будет считаться сумма в 28 000, заказы на больше суммы очень редки."
   ]
  },
  {
   "cell_type": "markdown",
   "metadata": {},
   "source": [
    "<div class=\"alert alert-block alert-success\">\n",
    "<b>Комментарий ревьюера v1:</b>\n",
    "    \n",
    "Диаграммы рассеяния и выбросы по 95 и по 99 персентилю определены полностью верно."
   ]
  },
  {
   "cell_type": "markdown",
   "metadata": {},
   "source": [
    "# 10.Посчитайте статистическую значимость различий в среднем количестве заказов на посетителя между группами по «сырым» данным. Сделайте выводы и предположения."
   ]
  },
  {
   "cell_type": "markdown",
   "metadata": {},
   "source": [
    "Подготовим данные для подсчета статистической значимости. "
   ]
  },
  {
   "cell_type": "code",
   "execution_count": 44,
   "metadata": {},
   "outputs": [
    {
     "data": {
      "text/html": [
       "<div>\n",
       "<style scoped>\n",
       "    .dataframe tbody tr th:only-of-type {\n",
       "        vertical-align: middle;\n",
       "    }\n",
       "\n",
       "    .dataframe tbody tr th {\n",
       "        vertical-align: top;\n",
       "    }\n",
       "\n",
       "    .dataframe thead th {\n",
       "        text-align: right;\n",
       "    }\n",
       "</style>\n",
       "<table border=\"1\" class=\"dataframe\">\n",
       "  <thead>\n",
       "    <tr style=\"text-align: right;\">\n",
       "      <th></th>\n",
       "      <th>date</th>\n",
       "      <th>visitorsCummulativeA</th>\n",
       "    </tr>\n",
       "  </thead>\n",
       "  <tbody>\n",
       "    <tr>\n",
       "      <th>0</th>\n",
       "      <td>2019-08-01</td>\n",
       "      <td>719</td>\n",
       "    </tr>\n",
       "    <tr>\n",
       "      <th>1</th>\n",
       "      <td>2019-08-02</td>\n",
       "      <td>1338</td>\n",
       "    </tr>\n",
       "    <tr>\n",
       "      <th>2</th>\n",
       "      <td>2019-08-03</td>\n",
       "      <td>1845</td>\n",
       "    </tr>\n",
       "    <tr>\n",
       "      <th>3</th>\n",
       "      <td>2019-08-04</td>\n",
       "      <td>2562</td>\n",
       "    </tr>\n",
       "    <tr>\n",
       "      <th>4</th>\n",
       "      <td>2019-08-05</td>\n",
       "      <td>3318</td>\n",
       "    </tr>\n",
       "  </tbody>\n",
       "</table>\n",
       "</div>"
      ],
      "text/plain": [
       "        date  visitorsCummulativeA\n",
       "0 2019-08-01                   719\n",
       "1 2019-08-02                  1338\n",
       "2 2019-08-03                  1845\n",
       "3 2019-08-04                  2562\n",
       "4 2019-08-05                  3318"
      ]
     },
     "execution_count": 44,
     "metadata": {},
     "output_type": "execute_result"
    }
   ],
   "source": [
    "visitorsADaily = visitors[visitors['group'] == 'A'][['date', 'visitors']]\n",
    "visitorsADaily.columns = ['date', 'visitorsPerDateA']\n",
    "visitorsACummulative = visitorsADaily.apply(lambda x: visitorsADaily[visitorsADaily['date'] <= x['date']].agg(\n",
    "        {'date': 'max', 'visitorsPerDateA': 'sum'}),axis=1,)\n",
    "visitorsACummulative.columns = ['date', 'visitorsCummulativeA']\n",
    "visitorsACummulative.head(5)"
   ]
  },
  {
   "cell_type": "code",
   "execution_count": 45,
   "metadata": {},
   "outputs": [
    {
     "data": {
      "text/html": [
       "<div>\n",
       "<style scoped>\n",
       "    .dataframe tbody tr th:only-of-type {\n",
       "        vertical-align: middle;\n",
       "    }\n",
       "\n",
       "    .dataframe tbody tr th {\n",
       "        vertical-align: top;\n",
       "    }\n",
       "\n",
       "    .dataframe thead th {\n",
       "        text-align: right;\n",
       "    }\n",
       "</style>\n",
       "<table border=\"1\" class=\"dataframe\">\n",
       "  <thead>\n",
       "    <tr style=\"text-align: right;\">\n",
       "      <th></th>\n",
       "      <th>date</th>\n",
       "      <th>visitorsCummulativeB</th>\n",
       "    </tr>\n",
       "  </thead>\n",
       "  <tbody>\n",
       "    <tr>\n",
       "      <th>31</th>\n",
       "      <td>2019-08-01</td>\n",
       "      <td>713</td>\n",
       "    </tr>\n",
       "    <tr>\n",
       "      <th>32</th>\n",
       "      <td>2019-08-02</td>\n",
       "      <td>1294</td>\n",
       "    </tr>\n",
       "    <tr>\n",
       "      <th>33</th>\n",
       "      <td>2019-08-03</td>\n",
       "      <td>1803</td>\n",
       "    </tr>\n",
       "    <tr>\n",
       "      <th>34</th>\n",
       "      <td>2019-08-04</td>\n",
       "      <td>2573</td>\n",
       "    </tr>\n",
       "    <tr>\n",
       "      <th>35</th>\n",
       "      <td>2019-08-05</td>\n",
       "      <td>3280</td>\n",
       "    </tr>\n",
       "  </tbody>\n",
       "</table>\n",
       "</div>"
      ],
      "text/plain": [
       "         date  visitorsCummulativeB\n",
       "31 2019-08-01                   713\n",
       "32 2019-08-02                  1294\n",
       "33 2019-08-03                  1803\n",
       "34 2019-08-04                  2573\n",
       "35 2019-08-05                  3280"
      ]
     },
     "execution_count": 45,
     "metadata": {},
     "output_type": "execute_result"
    }
   ],
   "source": [
    "visitorsBDaily = visitors[visitors['group'] == 'B'][['date', 'visitors']]\n",
    "visitorsBDaily.columns = ['date', 'visitorsPerDateB']\n",
    "\n",
    "visitorsBCummulative = visitorsBDaily.apply(lambda x: visitorsBDaily[visitorsBDaily['date'] <= x['date']].agg(\n",
    "        {'date': 'max', 'visitorsPerDateB': 'sum'}),axis=1,)\n",
    "visitorsBCummulative.columns = ['date', 'visitorsCummulativeB']\n",
    "visitorsBCummulative.head(5)"
   ]
  },
  {
   "cell_type": "code",
   "execution_count": 46,
   "metadata": {},
   "outputs": [
    {
     "data": {
      "text/html": [
       "<div>\n",
       "<style scoped>\n",
       "    .dataframe tbody tr th:only-of-type {\n",
       "        vertical-align: middle;\n",
       "    }\n",
       "\n",
       "    .dataframe tbody tr th {\n",
       "        vertical-align: top;\n",
       "    }\n",
       "\n",
       "    .dataframe thead th {\n",
       "        text-align: right;\n",
       "    }\n",
       "</style>\n",
       "<table border=\"1\" class=\"dataframe\">\n",
       "  <thead>\n",
       "    <tr style=\"text-align: right;\">\n",
       "      <th></th>\n",
       "      <th>date</th>\n",
       "      <th>ordersCummulativeA</th>\n",
       "      <th>revenueCummulativeA</th>\n",
       "    </tr>\n",
       "  </thead>\n",
       "  <tbody>\n",
       "    <tr>\n",
       "      <th>0</th>\n",
       "      <td>2019-08-01</td>\n",
       "      <td>24</td>\n",
       "      <td>148579</td>\n",
       "    </tr>\n",
       "    <tr>\n",
       "      <th>1</th>\n",
       "      <td>2019-08-02</td>\n",
       "      <td>44</td>\n",
       "      <td>242401</td>\n",
       "    </tr>\n",
       "    <tr>\n",
       "      <th>2</th>\n",
       "      <td>2019-08-03</td>\n",
       "      <td>68</td>\n",
       "      <td>354874</td>\n",
       "    </tr>\n",
       "    <tr>\n",
       "      <th>3</th>\n",
       "      <td>2019-08-04</td>\n",
       "      <td>84</td>\n",
       "      <td>425699</td>\n",
       "    </tr>\n",
       "    <tr>\n",
       "      <th>4</th>\n",
       "      <td>2019-08-05</td>\n",
       "      <td>109</td>\n",
       "      <td>549917</td>\n",
       "    </tr>\n",
       "  </tbody>\n",
       "</table>\n",
       "</div>"
      ],
      "text/plain": [
       "        date  ordersCummulativeA  revenueCummulativeA\n",
       "0 2019-08-01                  24               148579\n",
       "1 2019-08-02                  44               242401\n",
       "2 2019-08-03                  68               354874\n",
       "3 2019-08-04                  84               425699\n",
       "4 2019-08-05                 109               549917"
      ]
     },
     "execution_count": 46,
     "metadata": {},
     "output_type": "execute_result"
    }
   ],
   "source": [
    "ordersADaily = (orders[orders['group'] == 'A'][['date', 'transactionId', 'visitorId', 'revenue']]\n",
    "    .groupby('date', as_index=False).agg({'transactionId': pd.Series.nunique, 'revenue': 'sum'}))\n",
    "ordersADaily.columns = ['date', 'ordersPerDateA', 'revenuePerDateA']\n",
    "\n",
    "ordersACummulative = ordersADaily.apply(lambda x: ordersADaily[ordersADaily['date'] <= x['date']].agg(\n",
    "        {'date': 'max', 'ordersPerDateA': 'sum', 'revenuePerDateA': 'sum'}), axis=1,).sort_values(by=['date'])\n",
    "ordersACummulative.columns = ['date', 'ordersCummulativeA', 'revenueCummulativeA']\n",
    "ordersACummulative.head(5)"
   ]
  },
  {
   "cell_type": "code",
   "execution_count": 47,
   "metadata": {},
   "outputs": [
    {
     "data": {
      "text/html": [
       "<div>\n",
       "<style scoped>\n",
       "    .dataframe tbody tr th:only-of-type {\n",
       "        vertical-align: middle;\n",
       "    }\n",
       "\n",
       "    .dataframe tbody tr th {\n",
       "        vertical-align: top;\n",
       "    }\n",
       "\n",
       "    .dataframe thead th {\n",
       "        text-align: right;\n",
       "    }\n",
       "</style>\n",
       "<table border=\"1\" class=\"dataframe\">\n",
       "  <thead>\n",
       "    <tr style=\"text-align: right;\">\n",
       "      <th></th>\n",
       "      <th>date</th>\n",
       "      <th>ordersCummulativeB</th>\n",
       "      <th>revenueCummulativeB</th>\n",
       "    </tr>\n",
       "  </thead>\n",
       "  <tbody>\n",
       "    <tr>\n",
       "      <th>0</th>\n",
       "      <td>2019-08-01</td>\n",
       "      <td>21</td>\n",
       "      <td>101217</td>\n",
       "    </tr>\n",
       "    <tr>\n",
       "      <th>1</th>\n",
       "      <td>2019-08-02</td>\n",
       "      <td>45</td>\n",
       "      <td>266748</td>\n",
       "    </tr>\n",
       "    <tr>\n",
       "      <th>2</th>\n",
       "      <td>2019-08-03</td>\n",
       "      <td>61</td>\n",
       "      <td>380996</td>\n",
       "    </tr>\n",
       "    <tr>\n",
       "      <th>3</th>\n",
       "      <td>2019-08-04</td>\n",
       "      <td>78</td>\n",
       "      <td>489567</td>\n",
       "    </tr>\n",
       "    <tr>\n",
       "      <th>4</th>\n",
       "      <td>2019-08-05</td>\n",
       "      <td>101</td>\n",
       "      <td>581995</td>\n",
       "    </tr>\n",
       "  </tbody>\n",
       "</table>\n",
       "</div>"
      ],
      "text/plain": [
       "        date  ordersCummulativeB  revenueCummulativeB\n",
       "0 2019-08-01                  21               101217\n",
       "1 2019-08-02                  45               266748\n",
       "2 2019-08-03                  61               380996\n",
       "3 2019-08-04                  78               489567\n",
       "4 2019-08-05                 101               581995"
      ]
     },
     "execution_count": 47,
     "metadata": {},
     "output_type": "execute_result"
    }
   ],
   "source": [
    "ordersBDaily = (orders[orders['group'] == 'B'][['date', 'transactionId', 'visitorId', 'revenue']]\n",
    "    .groupby('date', as_index=False).agg({'transactionId': pd.Series.nunique, 'revenue': 'sum'}))\n",
    "ordersBDaily.columns = ['date', 'ordersPerDateB', 'revenuePerDateB']\n",
    "\n",
    "ordersBCummulative = ordersBDaily.apply(lambda x: ordersBDaily[ordersBDaily['date'] <= x['date']].agg(\n",
    "        {'date': 'max', 'ordersPerDateB': 'sum', 'revenuePerDateB': 'sum'}), axis=1,).sort_values(by=['date'])\n",
    "ordersBCummulative.columns = ['date', 'ordersCummulativeB', 'revenueCummulativeB']\n",
    "ordersBCummulative.head(5)"
   ]
  },
  {
   "cell_type": "code",
   "execution_count": 48,
   "metadata": {},
   "outputs": [
    {
     "data": {
      "text/html": [
       "<div>\n",
       "<style scoped>\n",
       "    .dataframe tbody tr th:only-of-type {\n",
       "        vertical-align: middle;\n",
       "    }\n",
       "\n",
       "    .dataframe tbody tr th {\n",
       "        vertical-align: top;\n",
       "    }\n",
       "\n",
       "    .dataframe thead th {\n",
       "        text-align: right;\n",
       "    }\n",
       "</style>\n",
       "<table border=\"1\" class=\"dataframe\">\n",
       "  <thead>\n",
       "    <tr style=\"text-align: right;\">\n",
       "      <th></th>\n",
       "      <th>date</th>\n",
       "      <th>ordersPerDateA</th>\n",
       "      <th>revenuePerDateA</th>\n",
       "      <th>ordersPerDateB</th>\n",
       "      <th>revenuePerDateB</th>\n",
       "      <th>ordersCummulativeA</th>\n",
       "      <th>revenueCummulativeA</th>\n",
       "      <th>ordersCummulativeB</th>\n",
       "      <th>revenueCummulativeB</th>\n",
       "      <th>visitorsPerDateA</th>\n",
       "      <th>visitorsPerDateB</th>\n",
       "      <th>visitorsCummulativeA</th>\n",
       "      <th>visitorsCummulativeB</th>\n",
       "    </tr>\n",
       "  </thead>\n",
       "  <tbody>\n",
       "    <tr>\n",
       "      <th>0</th>\n",
       "      <td>2019-08-01</td>\n",
       "      <td>24</td>\n",
       "      <td>148579</td>\n",
       "      <td>21</td>\n",
       "      <td>101217</td>\n",
       "      <td>24</td>\n",
       "      <td>148579</td>\n",
       "      <td>21</td>\n",
       "      <td>101217</td>\n",
       "      <td>719</td>\n",
       "      <td>713</td>\n",
       "      <td>719</td>\n",
       "      <td>713</td>\n",
       "    </tr>\n",
       "    <tr>\n",
       "      <th>1</th>\n",
       "      <td>2019-08-02</td>\n",
       "      <td>20</td>\n",
       "      <td>93822</td>\n",
       "      <td>24</td>\n",
       "      <td>165531</td>\n",
       "      <td>44</td>\n",
       "      <td>242401</td>\n",
       "      <td>45</td>\n",
       "      <td>266748</td>\n",
       "      <td>619</td>\n",
       "      <td>581</td>\n",
       "      <td>1338</td>\n",
       "      <td>1294</td>\n",
       "    </tr>\n",
       "    <tr>\n",
       "      <th>2</th>\n",
       "      <td>2019-08-03</td>\n",
       "      <td>24</td>\n",
       "      <td>112473</td>\n",
       "      <td>16</td>\n",
       "      <td>114248</td>\n",
       "      <td>68</td>\n",
       "      <td>354874</td>\n",
       "      <td>61</td>\n",
       "      <td>380996</td>\n",
       "      <td>507</td>\n",
       "      <td>509</td>\n",
       "      <td>1845</td>\n",
       "      <td>1803</td>\n",
       "    </tr>\n",
       "    <tr>\n",
       "      <th>3</th>\n",
       "      <td>2019-08-04</td>\n",
       "      <td>16</td>\n",
       "      <td>70825</td>\n",
       "      <td>17</td>\n",
       "      <td>108571</td>\n",
       "      <td>84</td>\n",
       "      <td>425699</td>\n",
       "      <td>78</td>\n",
       "      <td>489567</td>\n",
       "      <td>717</td>\n",
       "      <td>770</td>\n",
       "      <td>2562</td>\n",
       "      <td>2573</td>\n",
       "    </tr>\n",
       "    <tr>\n",
       "      <th>4</th>\n",
       "      <td>2019-08-05</td>\n",
       "      <td>25</td>\n",
       "      <td>124218</td>\n",
       "      <td>23</td>\n",
       "      <td>92428</td>\n",
       "      <td>109</td>\n",
       "      <td>549917</td>\n",
       "      <td>101</td>\n",
       "      <td>581995</td>\n",
       "      <td>756</td>\n",
       "      <td>707</td>\n",
       "      <td>3318</td>\n",
       "      <td>3280</td>\n",
       "    </tr>\n",
       "  </tbody>\n",
       "</table>\n",
       "</div>"
      ],
      "text/plain": [
       "        date  ordersPerDateA  revenuePerDateA  ordersPerDateB  \\\n",
       "0 2019-08-01              24           148579              21   \n",
       "1 2019-08-02              20            93822              24   \n",
       "2 2019-08-03              24           112473              16   \n",
       "3 2019-08-04              16            70825              17   \n",
       "4 2019-08-05              25           124218              23   \n",
       "\n",
       "   revenuePerDateB  ordersCummulativeA  revenueCummulativeA  \\\n",
       "0           101217                  24               148579   \n",
       "1           165531                  44               242401   \n",
       "2           114248                  68               354874   \n",
       "3           108571                  84               425699   \n",
       "4            92428                 109               549917   \n",
       "\n",
       "   ordersCummulativeB  revenueCummulativeB  visitorsPerDateA  \\\n",
       "0                  21               101217               719   \n",
       "1                  45               266748               619   \n",
       "2                  61               380996               507   \n",
       "3                  78               489567               717   \n",
       "4                 101               581995               756   \n",
       "\n",
       "   visitorsPerDateB  visitorsCummulativeA  visitorsCummulativeB  \n",
       "0               713                   719                   713  \n",
       "1               581                  1338                  1294  \n",
       "2               509                  1845                  1803  \n",
       "3               770                  2562                  2573  \n",
       "4               707                  3318                  3280  "
      ]
     },
     "execution_count": 48,
     "metadata": {},
     "output_type": "execute_result"
    }
   ],
   "source": [
    "data = (\n",
    "    ordersADaily.merge(\n",
    "        ordersBDaily, left_on='date', right_on='date', how='left'\n",
    "    )\n",
    "    .merge(ordersACummulative, left_on='date', right_on='date', how='left')\n",
    "    .merge(ordersBCummulative, left_on='date', right_on='date', how='left')\n",
    "    .merge(visitorsADaily, left_on='date', right_on='date', how='left')\n",
    "    .merge(visitorsBDaily, left_on='date', right_on='date', how='left')\n",
    "    .merge(visitorsACummulative, left_on='date', right_on='date', how='left')\n",
    "    .merge(visitorsBCummulative, left_on='date', right_on='date', how='left')\n",
    ")\n",
    "data.head(5)"
   ]
  },
  {
   "cell_type": "markdown",
   "metadata": {},
   "source": [
    "Теперь посчитаем статистическую значимость различия в среднем количестве заказов между группами."
   ]
  },
  {
   "cell_type": "code",
   "execution_count": 49,
   "metadata": {},
   "outputs": [
    {
     "data": {
      "text/html": [
       "<div>\n",
       "<style scoped>\n",
       "    .dataframe tbody tr th:only-of-type {\n",
       "        vertical-align: middle;\n",
       "    }\n",
       "\n",
       "    .dataframe tbody tr th {\n",
       "        vertical-align: top;\n",
       "    }\n",
       "\n",
       "    .dataframe thead th {\n",
       "        text-align: right;\n",
       "    }\n",
       "</style>\n",
       "<table border=\"1\" class=\"dataframe\">\n",
       "  <thead>\n",
       "    <tr style=\"text-align: right;\">\n",
       "      <th></th>\n",
       "      <th>userId</th>\n",
       "      <th>orders</th>\n",
       "    </tr>\n",
       "  </thead>\n",
       "  <tbody>\n",
       "    <tr>\n",
       "      <th>0</th>\n",
       "      <td>8300375</td>\n",
       "      <td>1</td>\n",
       "    </tr>\n",
       "    <tr>\n",
       "      <th>1</th>\n",
       "      <td>11685486</td>\n",
       "      <td>1</td>\n",
       "    </tr>\n",
       "    <tr>\n",
       "      <th>2</th>\n",
       "      <td>54447517</td>\n",
       "      <td>1</td>\n",
       "    </tr>\n",
       "    <tr>\n",
       "      <th>3</th>\n",
       "      <td>66685450</td>\n",
       "      <td>1</td>\n",
       "    </tr>\n",
       "    <tr>\n",
       "      <th>4</th>\n",
       "      <td>78758296</td>\n",
       "      <td>1</td>\n",
       "    </tr>\n",
       "  </tbody>\n",
       "</table>\n",
       "</div>"
      ],
      "text/plain": [
       "     userId  orders\n",
       "0   8300375       1\n",
       "1  11685486       1\n",
       "2  54447517       1\n",
       "3  66685450       1\n",
       "4  78758296       1"
      ]
     },
     "execution_count": 49,
     "metadata": {},
     "output_type": "execute_result"
    }
   ],
   "source": [
    "ordersByUsersA = (orders[orders['group'] == 'A'].groupby('visitorId', as_index=False)\\\n",
    "                  .agg({'transactionId': pd.Series.nunique}))\n",
    "ordersByUsersA.columns = ['userId', 'orders']\n",
    "ordersByUsersA.head(5)"
   ]
  },
  {
   "cell_type": "code",
   "execution_count": 50,
   "metadata": {},
   "outputs": [
    {
     "data": {
      "text/html": [
       "<div>\n",
       "<style scoped>\n",
       "    .dataframe tbody tr th:only-of-type {\n",
       "        vertical-align: middle;\n",
       "    }\n",
       "\n",
       "    .dataframe tbody tr th {\n",
       "        vertical-align: top;\n",
       "    }\n",
       "\n",
       "    .dataframe thead th {\n",
       "        text-align: right;\n",
       "    }\n",
       "</style>\n",
       "<table border=\"1\" class=\"dataframe\">\n",
       "  <thead>\n",
       "    <tr style=\"text-align: right;\">\n",
       "      <th></th>\n",
       "      <th>userId</th>\n",
       "      <th>orders</th>\n",
       "    </tr>\n",
       "  </thead>\n",
       "  <tbody>\n",
       "    <tr>\n",
       "      <th>0</th>\n",
       "      <td>5114589</td>\n",
       "      <td>1</td>\n",
       "    </tr>\n",
       "    <tr>\n",
       "      <th>1</th>\n",
       "      <td>6958315</td>\n",
       "      <td>1</td>\n",
       "    </tr>\n",
       "    <tr>\n",
       "      <th>2</th>\n",
       "      <td>8300375</td>\n",
       "      <td>1</td>\n",
       "    </tr>\n",
       "    <tr>\n",
       "      <th>3</th>\n",
       "      <td>39475350</td>\n",
       "      <td>1</td>\n",
       "    </tr>\n",
       "    <tr>\n",
       "      <th>4</th>\n",
       "      <td>47206413</td>\n",
       "      <td>1</td>\n",
       "    </tr>\n",
       "  </tbody>\n",
       "</table>\n",
       "</div>"
      ],
      "text/plain": [
       "     userId  orders\n",
       "0   5114589       1\n",
       "1   6958315       1\n",
       "2   8300375       1\n",
       "3  39475350       1\n",
       "4  47206413       1"
      ]
     },
     "execution_count": 50,
     "metadata": {},
     "output_type": "execute_result"
    }
   ],
   "source": [
    "ordersByUsersB = (orders[orders['group'] == 'B'].groupby('visitorId', as_index=False)\\\n",
    "                  .agg({'transactionId': pd.Series.nunique}))\n",
    "ordersByUsersB.columns = ['userId', 'orders'] \n",
    "ordersByUsersB.head(5)"
   ]
  },
  {
   "cell_type": "markdown",
   "metadata": {},
   "source": [
    "Будем делать проверку критерием Манна-Уитни. Для этого создадим 2 переменные, где пользователям из разных групп будет соответствовать количество заказов. Тем, кто ничего не заказал, будут соответствовать нули. "
   ]
  },
  {
   "cell_type": "code",
   "execution_count": 51,
   "metadata": {},
   "outputs": [
    {
     "data": {
      "text/plain": [
       "0        0\n",
       "1        0\n",
       "2        0\n",
       "3        0\n",
       "4        0\n",
       "        ..\n",
       "18228    0\n",
       "18229    0\n",
       "18230    0\n",
       "18231    0\n",
       "18232    0\n",
       "Name: orders, Length: 18233, dtype: int64"
      ]
     },
     "execution_count": 51,
     "metadata": {},
     "output_type": "execute_result"
    }
   ],
   "source": [
    "pd.Series(0, index=np.arange(data['visitorsPerDateA'].sum() - len(ordersByUsersA['orders'])), name='orders')\n",
    " "
   ]
  },
  {
   "cell_type": "code",
   "execution_count": 52,
   "metadata": {},
   "outputs": [
    {
     "data": {
      "text/plain": [
       "[0      1\n",
       " 1      1\n",
       " 2      1\n",
       " 3      1\n",
       " 4      1\n",
       "       ..\n",
       " 498    1\n",
       " 499    7\n",
       " 500    1\n",
       " 501    1\n",
       " 502    1\n",
       " Name: orders, Length: 503, dtype: int64,\n",
       " 0        0\n",
       " 1        0\n",
       " 2        0\n",
       " 3        0\n",
       " 4        0\n",
       "         ..\n",
       " 18228    0\n",
       " 18229    0\n",
       " 18230    0\n",
       " 18231    0\n",
       " 18232    0\n",
       " Name: orders, Length: 18233, dtype: int64]"
      ]
     },
     "execution_count": 52,
     "metadata": {},
     "output_type": "execute_result"
    }
   ],
   "source": [
    "[ordersByUsersA['orders'],pd.Series(0, index=np.arange(data['visitorsPerDateA']\\\n",
    "                                                       .sum() - len(ordersByUsersA['orders'])), name='orders')]"
   ]
  },
  {
   "cell_type": "code",
   "execution_count": 53,
   "metadata": {},
   "outputs": [],
   "source": [
    "sampleA = pd.concat([ordersByUsersA['orders'],pd.Series(0, index=np.arange(data['visitorsPerDateA']\\\n",
    "                                                    .sum() - len(ordersByUsersA['orders'])), name='orders')],axis=0)\n",
    "\n",
    "sampleB = pd.concat([ordersByUsersB['orders'],pd.Series(0, index=np.arange(data['visitorsPerDateB']\\\n",
    "                                                    .sum() - len(ordersByUsersB['orders'])), name='orders')],axis=0)"
   ]
  },
  {
   "cell_type": "code",
   "execution_count": 54,
   "metadata": {},
   "outputs": [],
   "source": [
    "ordersByUsersA = (orders[orders['group'] == 'A'].groupby('visitorId', as_index=False)\\\n",
    "                  .agg({'transactionId': pd.Series.nunique}))\n",
    "ordersByUsersA.columns = ['userId', 'orders']\n",
    "\n",
    "ordersByUsersB = (orders[orders['group'] == 'B'].groupby('visitorId', as_index=False)\\\n",
    "                  .agg({'transactionId': pd.Series.nunique}))\n",
    "ordersByUsersB.columns = ['userId', 'orders']\n",
    "\n",
    "sampleA = pd.concat([ordersByUsersA['orders'],pd.Series(0,index=np.arange(data['visitorsPerDateA']\\\n",
    "                                        .sum() - len(ordersByUsersA['orders'])),name='orders')],axis=0)\n",
    "\n",
    "sampleB = pd.concat([ordersByUsersB['orders'],pd.Series(0,index=np.arange(data['visitorsPerDateB']\\\n",
    "                                            .sum() - len(ordersByUsersB['orders'])), name='orders')], axis=0)\n",
    "\n"
   ]
  },
  {
   "cell_type": "markdown",
   "metadata": {},
   "source": [
    "Мы закончили подготовку данных для теста Манна-Уитни. Теперь необходимо сформулировать нулевую и альтернативные гипотизы и проверить их."
   ]
  },
  {
   "cell_type": "markdown",
   "metadata": {},
   "source": [
    "Нулевая гипотиза: Различий в среднем количестве заказов нет\n",
    "\n",
    "Альтернативная гипотиза: Есть различия в среднем количестве заказов\n",
    "\n",
    "Критический уровень значимости (alpha) - 0.05."
   ]
  },
  {
   "cell_type": "markdown",
   "metadata": {},
   "source": []
  },
  {
   "cell_type": "code",
   "execution_count": 55,
   "metadata": {},
   "outputs": [
    {
     "name": "stdout",
     "output_type": "stream",
     "text": [
      "Отвергаем нулевую гипотезу\n"
     ]
    }
   ],
   "source": [
    "alpha = 0.05\n",
    "if stats.mannwhitneyu(sampleA, sampleB)[1] < alpha:\n",
    "    print(\"Отвергаем нулевую гипотезу\")\n",
    "else:\n",
    "    print(\"Не получилось отвергнуть нулевую гипотезу\") "
   ]
  },
  {
   "cell_type": "code",
   "execution_count": 56,
   "metadata": {},
   "outputs": [
    {
     "name": "stdout",
     "output_type": "stream",
     "text": [
      "p-value =  0.017\n",
      "Относительный прирост конверсии группы В к конверсии группы А: 0.138\n"
     ]
    }
   ],
   "source": [
    "print('p-value = ', \"{0:.3f}\".format(stats.mannwhitneyu(sampleA, sampleB)[1]))\n",
    "print(\"Относительный прирост конверсии группы В к конверсии группы А: {0:.3f}\"\\\n",
    "      .format(sampleB.mean() / sampleA.mean()-1))"
   ]
  },
  {
   "cell_type": "markdown",
   "metadata": {},
   "source": [
    "По итогам исследования можно сдеть вывод:\n",
    "\n",
    "Нулевую гипотезу мы отвергаем, сделовательно будем считать, что есть различия в среднем количестве заказов межлу группами А и В. Относительный прирост конверсии составляет 13,8%."
   ]
  },
  {
   "cell_type": "markdown",
   "metadata": {},
   "source": [
    "# 11. Посчитайте статистическую значимость различий в среднем чеке заказа между группами по «сырым» данным. Сделайте выводы и предположения."
   ]
  },
  {
   "cell_type": "markdown",
   "metadata": {},
   "source": [
    "Необходимо сформулировать гипотезы:\n",
    "\n",
    "Нулевая гипотеза: Различий в средних чеках между группами нет\n",
    "\n",
    "Альтернативная гипотеза: Есть различия в средних чеках между группами\n",
    "\n",
    "Коэффициент альфа: 0.05"
   ]
  },
  {
   "cell_type": "code",
   "execution_count": 57,
   "metadata": {},
   "outputs": [
    {
     "name": "stdout",
     "output_type": "stream",
     "text": [
      "P-value =  0.729\n",
      "Относительные различия в среднем чеке: 0.259\n"
     ]
    }
   ],
   "source": [
    "print('P-value = ', '{0:.3f}'.format(stats.mannwhitneyu(orders[orders['group']=='A']['revenue'],\\\n",
    "                                                        orders[orders['group']=='B']['revenue'])[1]))\n",
    "print('Относительные различия в среднем чеке:', '{0:.3f}'.format(orders[orders['group']=='B']['revenue']\\\n",
    "                                                        .mean()/orders[orders['group']=='A']['revenue'].mean()-1))"
   ]
  },
  {
   "cell_type": "code",
   "execution_count": 58,
   "metadata": {},
   "outputs": [
    {
     "name": "stdout",
     "output_type": "stream",
     "text": [
      "Не получилось отвергнуть нулевую гипотезу\n"
     ]
    }
   ],
   "source": [
    "alpha = 0.05\n",
    "if stats.mannwhitneyu(orders[orders['group']=='A']['revenue'],orders[orders['group']=='B']['revenue'])[1]< alpha:\n",
    "    print(\"Отвергаем нулевую гипотезу\")\n",
    "else:\n",
    "    print(\"Не получилось отвергнуть нулевую гипотезу\") "
   ]
  },
  {
   "cell_type": "markdown",
   "metadata": {},
   "source": [
    "По итогам исследования можно сдеть вывод:\n",
    "\n",
    "\n",
    "Не получилось отвергнуть нулевую гипотезу, значит будем считать верным, что различия в средних чеках между группами есть. Относительные различия в среднем чеке почти 26%.\n"
   ]
  },
  {
   "cell_type": "markdown",
   "metadata": {},
   "source": []
  },
  {
   "cell_type": "markdown",
   "metadata": {},
   "source": [
    "# 12. Посчитайте статистическую значимость различий в среднем количестве заказов на посетителя между группами по «очищенным» данным. Сделайте выводы и предположения."
   ]
  },
  {
   "cell_type": "markdown",
   "metadata": {},
   "source": [
    "Ранее в проекте мы выявили аномальные количества заказов их суммы. Итак, примем за аномальных пользователей тех, кто совершил от 4 заказов, а  аномальными заказами будут считаться сумма от 28 000.\n",
    "\n"
   ]
  },
  {
   "cell_type": "code",
   "execution_count": 59,
   "metadata": {},
   "outputs": [
    {
     "name": "stdout",
     "output_type": "stream",
     "text": [
      "227    2038680547\n",
      "278    2458001652\n",
      "499    4256040402\n",
      "326    2378935119\n",
      "340    2458001652\n",
      "Name: userId, dtype: int64\n",
      "Количество аномальных пользователей =  59\n"
     ]
    }
   ],
   "source": [
    "usersWithManyOrders = pd.concat([\n",
    "        ordersByUsersA[ordersByUsersA['orders'] > 4]['userId'],\n",
    "        ordersByUsersB[ordersByUsersB['orders'] > 4]['userId']],axis=0)\n",
    "usersWithExpensiveOrders = orders[orders['revenue'] > 28000]['visitorId']\n",
    "abnormalUsers = (pd.concat([usersWithManyOrders, usersWithExpensiveOrders], axis=0)\n",
    "    .drop_duplicates()\n",
    "    .sort_values())\n",
    "print(usersWithManyOrders.head(5))\n",
    "print('Количество аномальных пользователей = ', abnormalUsers.shape[0])"
   ]
  },
  {
   "cell_type": "markdown",
   "metadata": {},
   "source": []
  },
  {
   "cell_type": "markdown",
   "metadata": {},
   "source": [
    "Подготовим выборки количества заказов по пользователям по группам теста:"
   ]
  },
  {
   "cell_type": "code",
   "execution_count": 60,
   "metadata": {},
   "outputs": [],
   "source": [
    "sampleAFiltered = pd.concat([ordersByUsersA[np.logical_not(ordersByUsersA['userId'].isin(abnormalUsers))]['orders'],\\\n",
    "        pd.Series(0,index=np.arange(data['visitorsPerDateA'].sum() - len(ordersByUsersA['orders'])),name='orders')],\\\n",
    "        axis=0)\n",
    "\n",
    "sampleBFiltered = pd.concat([ordersByUsersB[np.logical_not(ordersByUsersB['userId'].isin(abnormalUsers))]['orders'],\\\n",
    "        pd.Series(0,index=np.arange(data['visitorsPerDateB'].sum() - len(ordersByUsersB['orders'])),name='orders')],\\\n",
    "       axis=0)"
   ]
  },
  {
   "cell_type": "markdown",
   "metadata": {},
   "source": [
    "Применим статистический критерий Манна-Уитни к полученным выборкам:"
   ]
  },
  {
   "cell_type": "code",
   "execution_count": 61,
   "metadata": {},
   "outputs": [
    {
     "name": "stdout",
     "output_type": "stream",
     "text": [
      "P-value = 0.018\n",
      "Относительный прирост конверсии группы В к конверсии группы А: 0.145\n"
     ]
    }
   ],
   "source": [
    "print('P-value =','{0:.3f}'.format(stats.mannwhitneyu(sampleAFiltered, sampleBFiltered)[1]))\n",
    "print('Относительный прирост конверсии группы В к конверсии группы А:','{0:.3f}'\\\n",
    "      .format(sampleBFiltered.mean()/sampleAFiltered.mean()-1))"
   ]
  },
  {
   "cell_type": "markdown",
   "metadata": {},
   "source": [
    "P-value по «сырым» данным было =  0.017, а по «очищенным» = 0.018. Относительный прирост конверсии группы В к конверсии группы по «сырым» данным было =  13.8%, а по «очищенным» = 14.5%. Разницы между данными почти нет. Таким образом, подтверждаем гипотезу о том, что есть статистически значимых различий в конверсии между группами."
   ]
  },
  {
   "cell_type": "markdown",
   "metadata": {},
   "source": [
    "# 13.Посчитайте статистическую значимость различий в среднем чеке заказа между группами по «очищенным» данным. Сделайте выводы и предположения."
   ]
  },
  {
   "cell_type": "code",
   "execution_count": 62,
   "metadata": {},
   "outputs": [
    {
     "name": "stdout",
     "output_type": "stream",
     "text": [
      "p-value = 0.961\n",
      "Относительные различия в среднем чеке: -0.014\n"
     ]
    }
   ],
   "source": [
    "print('p-value =','{0:.3f}'.format(stats.mannwhitneyu(orders[np.logical_and(orders['group'] == 'A',\\\n",
    "                    np.logical_not(orders['visitorId'].isin(abnormalUsers)))]['revenue'],orders[np.logical_and(\\\n",
    "                    orders['group'] == 'B', np.logical_not(orders['visitorId'].isin(abnormalUsers)))]['revenue'])[1]))\n",
    "\n",
    "print('Относительные различия в среднем чеке:', \"{0:.3f}\".format(orders\\\n",
    "                            [np.logical_and(orders['group'] == 'B',np.logical_not(orders['visitorId']\\\n",
    "                            .isin(abnormalUsers)))]['revenue'].mean() / orders[np.logical_and(orders['group'] == 'A',\\\n",
    "                np.logical_not(orders['visitorId'].isin(abnormalUsers)))]['revenue'].mean() - 1))"
   ]
  },
  {
   "cell_type": "markdown",
   "metadata": {},
   "source": [
    "P-value по «сырым» данным было =  0.729, а по «очищенным» = 0.961. Относительные различия в среднем чеке по «сырым» данным было почти 26%, а по «очищенным» данным показатели ушли в отрицательные значения = -0.14%.Таким образом, гипотезу о наличии различий в среднем чеке между группами подтвержаем. А после очистки данных средний чек группы А стал чуть больше среднего чека группы B.\n"
   ]
  },
  {
   "cell_type": "markdown",
   "metadata": {},
   "source": []
  },
  {
   "cell_type": "markdown",
   "metadata": {},
   "source": [
    "# 14.Примите решение по результатам теста и объясните его. Варианты решений:\n",
    "1. Остановить тест, зафиксировать победу одной из групп.\n",
    "2. Остановить тест, зафиксировать отсутствие различий между группами.\n",
    "3. Продолжить тест."
   ]
  },
  {
   "cell_type": "markdown",
   "metadata": {},
   "source": [
    "По имеющиеся фактам:\n",
    "\n",
    "\n",
    "- Есть небольшое статистически значимое различие по среднему количеству заказов между группами ни по «сырым», ни по данным после фильтрации аномалий. P-value по «сырым» данным было = 0.017, а по «очищенным» = 0.018. Относительный прирост конверсии группы В к конверсии группы по «сырым» и  «очищенным» данныи имеют разницу меньше 1%;\n",
    "- А вот статистически значимое различие по среднему чеку между группами по «сырым» данным отлтчается от «очищенным». P-value по «сырым» данным было = 0.729, а по «очищенным» = 0.961. Относительные различия в среднем чеке по «сырым» данным было почти 26%, а по «очищенным» данным показатели ушли в отрицательные значения = -0.14%.\n",
    "\n",
    "можно сделать выводы:\n",
    "\n",
    "Тест стоит остановить, зафиксировать победу группы В над А, т.к. конверсия группы В больше чем у группы А . "
   ]
  },
  {
   "cell_type": "markdown",
   "metadata": {},
   "source": [
    "# ВЫВОДЫ."
   ]
  },
  {
   "cell_type": "markdown",
   "metadata": {},
   "source": [
    "Мною была выполнена проектная работа по курсу \"Принятие решений в бизнесе\". Где вместе с отделом маркетинга мы подготовили список гипотез для увеличения выручки. Приоритизировали гипотезы, запустите A/B-тест и проанализируйте результаты. \n",
    "\n",
    "1. Был проведен анализ кумулятивных метрик:\n",
    "- Построила график кумулятивной выручки по группам\n",
    "- Построила график кумулятивного среднего чека по группам\n",
    "- Построила график относительного изменения кумулятивного среднего чека группы B к группе A. \n",
    "- Построила график кумулятивного среднего количества заказов на посетителя по группам\n",
    "- Построила график относительного изменения кумулятивного среднего количества заказов на посетителя группы B к группе A.\n",
    "2. Посчитала 95-й и 99-й перцентили количества заказов на пользователя и стоимости заказов\n",
    "3. Посчитала статистическую значимость различий в среднем количестве заказов на посетителя между группами по «сырым» и «очищенным» данным\n",
    "4. Посчитайте статистическую значимость различий в среднем чеке заказа между группами по «сырым» данным и «очищенным» данным "
   ]
  },
  {
   "cell_type": "markdown",
   "metadata": {},
   "source": [
    "В процессе выполнения проектной работы вместе подготовила список гипотез для увеличения выручки:\n",
    "1. Добавить форму подписки на все основные страницы, чтобы собрать базу клиентов для email-рассылок\t\n",
    "2.\tДобавить блоки рекомендаций товаров на сайт интернет магазина, чтобы повысить конверсию и средний чек заказа\n",
    "3.\tДобавить два новых канала привлечения трафика, что позволит привлекать на 30% больше пользователей\n",
    "4.\tПоказать на главной странице баннеры с актуальными акциями и распродажами, чтобы увеличить конверсию\n",
    "5.\tЗапустить акцию, дающую скидку на товар в день рождения\n",
    "7.\tИзменить структура категорий, что увеличит конверсию, т.к. пользователи быстрее найдут нужный товар\n",
    "8.\tЗапустить собственную службу доставки, что сократит срок доставки заказов\n",
    "9.\tДобавить страницу отзывов клиентов о магазине, что позволит увеличить количество заказов\n",
    "10.\tИзменить цвет фона главной страницы, чтобы увеличить вовлеченность пользователей"
   ]
  },
  {
   "cell_type": "markdown",
   "metadata": {},
   "source": [
    "По итогам статистического анализа сделала вывод по имеющимся фактам:\n",
    "\n",
    "Есть небольшое статистически значимое различие по среднему количеству заказов между группами ни по «сырым», ни по данным после фильтрации аномалий. P-value по «сырым» данным было = 0.017, а по «очищенным» = 0.018. Относительный прирост конверсии группы В к конверсии группы по «сырым» и  «очищенным» данныи имеют разницу меньше 1%;\n",
    "- А вот статистически значимое различие по среднему чеку между группами по «сырым» данным отлтчается от «очищенным». P-value по «сырым» данным было = 0.729, а по «очищенным» = 0.961. Относительные различия в среднем чеке по «сырым» данным было почти 26%, а по «очищенным» данным показатели ушли в отрицательные значения = -0.14%.\n",
    "\n",
    "можно сделать выводы:\n",
    "\n",
    "Тест стоит остановить, зафиксировать победу группы В над А, т.к. конверсия группы В больше чем у группы А . "
   ]
  },
  {
   "cell_type": "markdown",
   "metadata": {},
   "source": [
    "\n",
    "    "
   ]
  },
  {
   "cell_type": "markdown",
   "metadata": {},
   "source": []
  },
  {
   "cell_type": "markdown",
   "metadata": {},
   "source": []
  },
  {
   "cell_type": "code",
   "execution_count": null,
   "metadata": {},
   "outputs": [],
   "source": []
  }
 ],
 "metadata": {
  "ExecuteTimeLog": [
   {
    "duration": 1482,
    "start_time": "2023-06-02T16:12:41.781Z"
   },
   {
    "duration": 80,
    "start_time": "2023-06-02T16:15:01.849Z"
   },
   {
    "duration": 107,
    "start_time": "2023-06-02T16:16:22.996Z"
   },
   {
    "duration": 70,
    "start_time": "2023-06-02T16:18:20.473Z"
   },
   {
    "duration": 34,
    "start_time": "2023-06-02T16:25:47.607Z"
   },
   {
    "duration": 45,
    "start_time": "2023-06-03T10:13:52.824Z"
   },
   {
    "duration": 6,
    "start_time": "2023-06-03T10:14:02.092Z"
   },
   {
    "duration": 80,
    "start_time": "2023-06-03T10:14:17.445Z"
   },
   {
    "duration": 5,
    "start_time": "2023-06-03T10:14:23.893Z"
   },
   {
    "duration": 6,
    "start_time": "2023-06-03T10:16:00.592Z"
   },
   {
    "duration": 6,
    "start_time": "2023-06-03T10:17:29.104Z"
   },
   {
    "duration": 1410,
    "start_time": "2023-06-03T10:17:34.444Z"
   },
   {
    "duration": 70,
    "start_time": "2023-06-03T10:17:36.885Z"
   },
   {
    "duration": 160,
    "start_time": "2023-06-03T10:17:44.324Z"
   },
   {
    "duration": 32,
    "start_time": "2023-06-03T10:17:49.785Z"
   },
   {
    "duration": 30,
    "start_time": "2023-06-03T10:18:14.516Z"
   },
   {
    "duration": 1007,
    "start_time": "2023-06-03T10:19:16.244Z"
   },
   {
    "duration": 35,
    "start_time": "2023-06-03T10:19:17.252Z"
   },
   {
    "duration": 139,
    "start_time": "2023-06-03T10:19:17.289Z"
   },
   {
    "duration": 58,
    "start_time": "2023-06-03T10:19:17.429Z"
   },
   {
    "duration": 3,
    "start_time": "2023-06-03T10:20:24.963Z"
   },
   {
    "duration": 1056,
    "start_time": "2023-06-03T11:59:50.284Z"
   },
   {
    "duration": 37,
    "start_time": "2023-06-03T11:59:51.341Z"
   },
   {
    "duration": 45,
    "start_time": "2023-06-03T11:59:51.379Z"
   },
   {
    "duration": 20,
    "start_time": "2023-06-03T11:59:51.425Z"
   },
   {
    "duration": 97,
    "start_time": "2023-06-03T12:02:00.676Z"
   },
   {
    "duration": 7,
    "start_time": "2023-06-03T12:02:24.153Z"
   },
   {
    "duration": 4,
    "start_time": "2023-06-03T12:04:15.964Z"
   },
   {
    "duration": 15,
    "start_time": "2023-06-03T12:04:21.672Z"
   },
   {
    "duration": 1092,
    "start_time": "2023-06-03T12:06:25.664Z"
   },
   {
    "duration": 1215,
    "start_time": "2023-06-03T12:06:52.064Z"
   },
   {
    "duration": 12,
    "start_time": "2023-06-03T12:08:34.244Z"
   },
   {
    "duration": 37,
    "start_time": "2023-06-03T12:08:55.253Z"
   },
   {
    "duration": 12,
    "start_time": "2023-06-03T12:09:02.784Z"
   },
   {
    "duration": 13,
    "start_time": "2023-06-03T12:09:15.640Z"
   },
   {
    "duration": 1053,
    "start_time": "2023-06-03T12:09:36.186Z"
   },
   {
    "duration": 36,
    "start_time": "2023-06-03T12:09:37.240Z"
   },
   {
    "duration": 45,
    "start_time": "2023-06-03T12:09:37.278Z"
   },
   {
    "duration": 21,
    "start_time": "2023-06-03T12:09:37.325Z"
   },
   {
    "duration": 12,
    "start_time": "2023-06-03T12:09:37.348Z"
   },
   {
    "duration": 12,
    "start_time": "2023-06-03T12:09:37.362Z"
   },
   {
    "duration": 11,
    "start_time": "2023-06-03T12:09:46.478Z"
   },
   {
    "duration": 10,
    "start_time": "2023-06-03T12:18:29.785Z"
   },
   {
    "duration": 39,
    "start_time": "2023-06-03T12:18:51.685Z"
   },
   {
    "duration": 10,
    "start_time": "2023-06-03T12:18:58.553Z"
   },
   {
    "duration": 16,
    "start_time": "2023-06-03T12:19:07.713Z"
   },
   {
    "duration": 71,
    "start_time": "2023-06-03T12:19:55.012Z"
   },
   {
    "duration": 158,
    "start_time": "2023-06-03T12:20:04.285Z"
   },
   {
    "duration": 72,
    "start_time": "2023-06-03T12:20:16.605Z"
   },
   {
    "duration": 10,
    "start_time": "2023-06-03T12:20:40.364Z"
   },
   {
    "duration": 128,
    "start_time": "2023-06-03T12:21:00.265Z"
   },
   {
    "duration": 8,
    "start_time": "2023-06-03T12:22:07.848Z"
   },
   {
    "duration": 10,
    "start_time": "2023-06-03T12:22:11.625Z"
   },
   {
    "duration": 11,
    "start_time": "2023-06-03T12:22:18.957Z"
   },
   {
    "duration": 32,
    "start_time": "2023-06-03T12:26:32.305Z"
   },
   {
    "duration": 33,
    "start_time": "2023-06-03T12:26:52.850Z"
   },
   {
    "duration": 78,
    "start_time": "2023-06-03T12:27:23.740Z"
   },
   {
    "duration": 10,
    "start_time": "2023-06-03T12:27:31.019Z"
   },
   {
    "duration": 16,
    "start_time": "2023-06-03T12:27:58.926Z"
   },
   {
    "duration": 56,
    "start_time": "2023-06-03T12:37:11.524Z"
   },
   {
    "duration": 31,
    "start_time": "2023-06-03T12:37:33.697Z"
   },
   {
    "duration": 10,
    "start_time": "2023-06-03T13:16:19.441Z"
   },
   {
    "duration": 7,
    "start_time": "2023-06-03T13:17:33.581Z"
   },
   {
    "duration": 5,
    "start_time": "2023-06-03T13:19:30.810Z"
   },
   {
    "duration": 10,
    "start_time": "2023-06-03T13:19:39.520Z"
   },
   {
    "duration": 3,
    "start_time": "2023-06-03T13:20:08.981Z"
   },
   {
    "duration": 8,
    "start_time": "2023-06-03T13:20:11.793Z"
   },
   {
    "duration": 13,
    "start_time": "2023-06-03T13:21:03.131Z"
   },
   {
    "duration": 1057,
    "start_time": "2023-06-03T13:21:13.211Z"
   },
   {
    "duration": 100,
    "start_time": "2023-06-03T13:21:14.270Z"
   },
   {
    "duration": 0,
    "start_time": "2023-06-03T13:21:14.372Z"
   },
   {
    "duration": 0,
    "start_time": "2023-06-03T13:21:14.373Z"
   },
   {
    "duration": 0,
    "start_time": "2023-06-03T13:21:14.374Z"
   },
   {
    "duration": 0,
    "start_time": "2023-06-03T13:21:14.375Z"
   },
   {
    "duration": 0,
    "start_time": "2023-06-03T13:21:14.376Z"
   },
   {
    "duration": 0,
    "start_time": "2023-06-03T13:21:14.376Z"
   },
   {
    "duration": 0,
    "start_time": "2023-06-03T13:21:14.378Z"
   },
   {
    "duration": 0,
    "start_time": "2023-06-03T13:21:14.378Z"
   },
   {
    "duration": 0,
    "start_time": "2023-06-03T13:21:14.379Z"
   },
   {
    "duration": 1109,
    "start_time": "2023-06-03T13:21:37.501Z"
   },
   {
    "duration": 94,
    "start_time": "2023-06-03T13:21:38.611Z"
   },
   {
    "duration": 0,
    "start_time": "2023-06-03T13:21:38.707Z"
   },
   {
    "duration": 0,
    "start_time": "2023-06-03T13:21:38.716Z"
   },
   {
    "duration": 0,
    "start_time": "2023-06-03T13:21:38.717Z"
   },
   {
    "duration": 0,
    "start_time": "2023-06-03T13:21:38.718Z"
   },
   {
    "duration": 0,
    "start_time": "2023-06-03T13:21:38.720Z"
   },
   {
    "duration": 0,
    "start_time": "2023-06-03T13:21:38.721Z"
   },
   {
    "duration": 0,
    "start_time": "2023-06-03T13:21:38.722Z"
   },
   {
    "duration": 0,
    "start_time": "2023-06-03T13:21:38.723Z"
   },
   {
    "duration": 0,
    "start_time": "2023-06-03T13:21:38.725Z"
   },
   {
    "duration": 1024,
    "start_time": "2023-06-03T13:22:01.443Z"
   },
   {
    "duration": 39,
    "start_time": "2023-06-03T13:22:02.469Z"
   },
   {
    "duration": 45,
    "start_time": "2023-06-03T13:22:02.509Z"
   },
   {
    "duration": 21,
    "start_time": "2023-06-03T13:22:02.556Z"
   },
   {
    "duration": 16,
    "start_time": "2023-06-03T13:22:02.579Z"
   },
   {
    "duration": 30,
    "start_time": "2023-06-03T13:22:02.597Z"
   },
   {
    "duration": 27,
    "start_time": "2023-06-03T13:22:02.628Z"
   },
   {
    "duration": 22,
    "start_time": "2023-06-03T13:22:02.657Z"
   },
   {
    "duration": 29,
    "start_time": "2023-06-03T13:22:02.680Z"
   },
   {
    "duration": 30,
    "start_time": "2023-06-03T13:22:02.711Z"
   },
   {
    "duration": 23,
    "start_time": "2023-06-03T13:22:02.743Z"
   },
   {
    "duration": 12,
    "start_time": "2023-06-03T13:22:40.943Z"
   },
   {
    "duration": 9,
    "start_time": "2023-06-03T13:23:10.041Z"
   },
   {
    "duration": 5,
    "start_time": "2023-06-03T13:23:38.021Z"
   },
   {
    "duration": 15,
    "start_time": "2023-06-03T13:23:42.201Z"
   },
   {
    "duration": 6,
    "start_time": "2023-06-03T14:04:41.337Z"
   },
   {
    "duration": 14,
    "start_time": "2023-06-03T14:08:03.900Z"
   },
   {
    "duration": 10,
    "start_time": "2023-06-03T14:08:18.132Z"
   },
   {
    "duration": 109,
    "start_time": "2023-06-03T14:12:50.625Z"
   },
   {
    "duration": 198,
    "start_time": "2023-06-03T14:14:57.103Z"
   },
   {
    "duration": 162,
    "start_time": "2023-06-03T14:15:10.587Z"
   },
   {
    "duration": 172,
    "start_time": "2023-06-03T14:17:26.491Z"
   },
   {
    "duration": 202,
    "start_time": "2023-06-03T14:17:53.336Z"
   },
   {
    "duration": 137,
    "start_time": "2023-06-03T14:18:25.657Z"
   },
   {
    "duration": 119,
    "start_time": "2023-06-03T14:18:33.838Z"
   },
   {
    "duration": 123,
    "start_time": "2023-06-03T14:18:47.284Z"
   },
   {
    "duration": 6,
    "start_time": "2023-06-03T14:23:51.387Z"
   },
   {
    "duration": 15,
    "start_time": "2023-06-03T14:24:01.337Z"
   },
   {
    "duration": 11,
    "start_time": "2023-06-03T14:24:31.802Z"
   },
   {
    "duration": 17,
    "start_time": "2023-06-03T14:28:21.758Z"
   },
   {
    "duration": 7,
    "start_time": "2023-06-03T14:28:53.869Z"
   },
   {
    "duration": 4,
    "start_time": "2023-06-03T14:30:00.850Z"
   },
   {
    "duration": 15,
    "start_time": "2023-06-03T14:30:14.448Z"
   },
   {
    "duration": 11,
    "start_time": "2023-06-03T14:30:26.284Z"
   },
   {
    "duration": 8,
    "start_time": "2023-06-03T14:30:46.957Z"
   },
   {
    "duration": 268,
    "start_time": "2023-06-03T14:31:26.799Z"
   },
   {
    "duration": 192,
    "start_time": "2023-06-03T14:32:08.577Z"
   },
   {
    "duration": 245,
    "start_time": "2023-06-03T14:32:31.497Z"
   },
   {
    "duration": 186,
    "start_time": "2023-06-03T14:33:14.605Z"
   },
   {
    "duration": 215,
    "start_time": "2023-06-03T14:33:27.677Z"
   },
   {
    "duration": 214,
    "start_time": "2023-06-03T14:33:44.448Z"
   },
   {
    "duration": 239,
    "start_time": "2023-06-03T14:33:51.593Z"
   },
   {
    "duration": 218,
    "start_time": "2023-06-03T14:34:02.180Z"
   },
   {
    "duration": 290,
    "start_time": "2023-06-03T14:34:11.646Z"
   },
   {
    "duration": 267,
    "start_time": "2023-06-03T14:35:29.167Z"
   },
   {
    "duration": 150,
    "start_time": "2023-06-03T14:37:43.951Z"
   },
   {
    "duration": 223,
    "start_time": "2023-06-03T14:38:15.697Z"
   },
   {
    "duration": 206,
    "start_time": "2023-06-03T14:38:31.656Z"
   },
   {
    "duration": 237,
    "start_time": "2023-06-03T14:38:58.099Z"
   },
   {
    "duration": 262,
    "start_time": "2023-06-03T14:40:08.582Z"
   },
   {
    "duration": 258,
    "start_time": "2023-06-03T14:41:10.280Z"
   },
   {
    "duration": 246,
    "start_time": "2023-06-03T14:46:39.058Z"
   },
   {
    "duration": 230,
    "start_time": "2023-06-03T15:00:55.626Z"
   },
   {
    "duration": 5,
    "start_time": "2023-06-03T15:09:24.601Z"
   },
   {
    "duration": 12,
    "start_time": "2023-06-03T15:09:43.652Z"
   },
   {
    "duration": 10,
    "start_time": "2023-06-03T15:09:56.320Z"
   },
   {
    "duration": 1179,
    "start_time": "2023-06-03T15:10:34.937Z"
   },
   {
    "duration": 224,
    "start_time": "2023-06-03T15:15:02.344Z"
   },
   {
    "duration": 311,
    "start_time": "2023-06-03T15:15:19.496Z"
   },
   {
    "duration": 392,
    "start_time": "2023-06-03T15:15:50.644Z"
   },
   {
    "duration": 273,
    "start_time": "2023-06-03T15:16:34.656Z"
   },
   {
    "duration": 325,
    "start_time": "2023-06-03T15:16:53.737Z"
   },
   {
    "duration": 233,
    "start_time": "2023-06-03T15:17:15.436Z"
   },
   {
    "duration": 213,
    "start_time": "2023-06-03T15:17:20.886Z"
   },
   {
    "duration": 309,
    "start_time": "2023-06-03T15:18:17.641Z"
   },
   {
    "duration": 352,
    "start_time": "2023-06-03T15:22:09.696Z"
   },
   {
    "duration": 1565,
    "start_time": "2023-06-03T15:30:08.187Z"
   },
   {
    "duration": 13,
    "start_time": "2023-06-03T15:30:55.727Z"
   },
   {
    "duration": 12,
    "start_time": "2023-06-03T15:31:06.931Z"
   },
   {
    "duration": 4,
    "start_time": "2023-06-03T15:31:25.498Z"
   },
   {
    "duration": 3,
    "start_time": "2023-06-03T15:31:38.137Z"
   },
   {
    "duration": 205,
    "start_time": "2023-06-03T15:31:54.130Z"
   },
   {
    "duration": 175,
    "start_time": "2023-06-03T15:32:49.738Z"
   },
   {
    "duration": 237,
    "start_time": "2023-06-03T15:33:14.577Z"
   },
   {
    "duration": 239,
    "start_time": "2023-06-03T15:35:02.497Z"
   },
   {
    "duration": 274,
    "start_time": "2023-06-03T15:35:55.978Z"
   },
   {
    "duration": 7,
    "start_time": "2023-06-03T15:48:52.339Z"
   },
   {
    "duration": 12,
    "start_time": "2023-06-03T15:49:04.787Z"
   },
   {
    "duration": 272,
    "start_time": "2023-06-03T15:49:17.337Z"
   },
   {
    "duration": 277,
    "start_time": "2023-06-03T15:49:42.117Z"
   },
   {
    "duration": 421,
    "start_time": "2023-06-03T15:51:01.646Z"
   },
   {
    "duration": 409,
    "start_time": "2023-06-03T15:52:35.118Z"
   },
   {
    "duration": 376,
    "start_time": "2023-06-03T15:56:06.784Z"
   },
   {
    "duration": 346,
    "start_time": "2023-06-03T15:56:16.886Z"
   },
   {
    "duration": 1311,
    "start_time": "2023-06-04T14:46:04.489Z"
   },
   {
    "duration": 115,
    "start_time": "2023-06-04T14:46:05.802Z"
   },
   {
    "duration": 105,
    "start_time": "2023-06-04T14:46:05.918Z"
   },
   {
    "duration": 82,
    "start_time": "2023-06-04T14:46:06.030Z"
   },
   {
    "duration": 15,
    "start_time": "2023-06-04T14:46:06.114Z"
   },
   {
    "duration": 18,
    "start_time": "2023-06-04T14:46:06.131Z"
   },
   {
    "duration": 24,
    "start_time": "2023-06-04T14:46:06.152Z"
   },
   {
    "duration": 33,
    "start_time": "2023-06-04T14:46:06.179Z"
   },
   {
    "duration": 18,
    "start_time": "2023-06-04T14:46:06.214Z"
   },
   {
    "duration": 11,
    "start_time": "2023-06-04T14:46:06.236Z"
   },
   {
    "duration": 5,
    "start_time": "2023-06-04T14:46:06.250Z"
   },
   {
    "duration": 20,
    "start_time": "2023-06-04T14:46:06.257Z"
   },
   {
    "duration": 10,
    "start_time": "2023-06-04T14:46:06.279Z"
   },
   {
    "duration": 20,
    "start_time": "2023-06-04T14:46:06.291Z"
   },
   {
    "duration": 31,
    "start_time": "2023-06-04T14:46:06.313Z"
   },
   {
    "duration": 217,
    "start_time": "2023-06-04T14:46:06.346Z"
   },
   {
    "duration": 136,
    "start_time": "2023-06-04T14:46:06.567Z"
   },
   {
    "duration": 21,
    "start_time": "2023-06-04T14:46:06.705Z"
   },
   {
    "duration": 11,
    "start_time": "2023-06-04T14:46:06.727Z"
   },
   {
    "duration": 12,
    "start_time": "2023-06-04T14:46:06.740Z"
   },
   {
    "duration": 383,
    "start_time": "2023-06-04T14:46:06.754Z"
   },
   {
    "duration": 279,
    "start_time": "2023-06-04T14:46:07.139Z"
   },
   {
    "duration": 16,
    "start_time": "2023-06-04T14:46:07.420Z"
   },
   {
    "duration": 425,
    "start_time": "2023-06-04T14:46:07.441Z"
   },
   {
    "duration": 12,
    "start_time": "2023-06-04T14:46:07.868Z"
   },
   {
    "duration": 14,
    "start_time": "2023-06-04T14:46:07.882Z"
   },
   {
    "duration": 12,
    "start_time": "2023-06-04T14:46:07.897Z"
   },
   {
    "duration": 377,
    "start_time": "2023-06-04T14:46:07.911Z"
   },
   {
    "duration": 14,
    "start_time": "2023-06-04T14:46:08.290Z"
   },
   {
    "duration": 438,
    "start_time": "2023-06-04T14:46:08.305Z"
   },
   {
    "duration": 9,
    "start_time": "2023-06-04T14:53:33.653Z"
   },
   {
    "duration": 9,
    "start_time": "2023-06-04T14:54:12.120Z"
   },
   {
    "duration": 10,
    "start_time": "2023-06-04T14:54:28.747Z"
   },
   {
    "duration": 11,
    "start_time": "2023-06-04T14:54:49.613Z"
   },
   {
    "duration": 112,
    "start_time": "2023-06-04T14:55:25.348Z"
   },
   {
    "duration": 11,
    "start_time": "2023-06-04T14:55:35.553Z"
   },
   {
    "duration": 114,
    "start_time": "2023-06-04T14:56:40.776Z"
   },
   {
    "duration": 157,
    "start_time": "2023-06-04T14:57:28.888Z"
   },
   {
    "duration": 250,
    "start_time": "2023-06-04T14:57:43.295Z"
   },
   {
    "duration": 121,
    "start_time": "2023-06-04T14:58:46.392Z"
   },
   {
    "duration": 5,
    "start_time": "2023-06-04T14:58:58.512Z"
   },
   {
    "duration": 132,
    "start_time": "2023-06-04T14:59:02.616Z"
   },
   {
    "duration": 157,
    "start_time": "2023-06-04T14:59:20.554Z"
   },
   {
    "duration": 158,
    "start_time": "2023-06-04T14:59:29.266Z"
   },
   {
    "duration": 154,
    "start_time": "2023-06-04T15:00:54.621Z"
   },
   {
    "duration": 229,
    "start_time": "2023-06-04T15:02:17.471Z"
   },
   {
    "duration": 216,
    "start_time": "2023-06-04T15:04:39.964Z"
   },
   {
    "duration": 164,
    "start_time": "2023-06-04T15:07:21.854Z"
   },
   {
    "duration": 1159,
    "start_time": "2023-06-04T15:21:29.118Z"
   },
   {
    "duration": 5,
    "start_time": "2023-06-04T15:21:42.414Z"
   },
   {
    "duration": 6,
    "start_time": "2023-06-04T15:25:43.283Z"
   },
   {
    "duration": 193,
    "start_time": "2023-06-04T15:35:41.323Z"
   },
   {
    "duration": 214,
    "start_time": "2023-06-04T15:36:02.082Z"
   },
   {
    "duration": 14,
    "start_time": "2023-06-04T15:37:45.057Z"
   },
   {
    "duration": 177,
    "start_time": "2023-06-04T15:38:23.487Z"
   },
   {
    "duration": 9,
    "start_time": "2023-06-04T15:40:09.495Z"
   },
   {
    "duration": 186,
    "start_time": "2023-06-04T15:40:31.675Z"
   },
   {
    "duration": 270,
    "start_time": "2023-06-04T15:40:38.599Z"
   },
   {
    "duration": 198,
    "start_time": "2023-06-04T15:40:53.110Z"
   },
   {
    "duration": 3,
    "start_time": "2023-06-04T15:42:40.110Z"
   },
   {
    "duration": 256,
    "start_time": "2023-06-04T15:42:42.689Z"
   },
   {
    "duration": 221,
    "start_time": "2023-06-04T15:43:03.099Z"
   },
   {
    "duration": 10,
    "start_time": "2023-06-04T15:44:38.493Z"
   },
   {
    "duration": 219,
    "start_time": "2023-06-04T15:44:56.299Z"
   },
   {
    "duration": 31,
    "start_time": "2023-06-04T15:45:20.974Z"
   },
   {
    "duration": 201,
    "start_time": "2023-06-04T15:47:05.609Z"
   },
   {
    "duration": 6,
    "start_time": "2023-06-04T15:51:20.371Z"
   },
   {
    "duration": 206,
    "start_time": "2023-06-04T15:52:41.776Z"
   },
   {
    "duration": 6,
    "start_time": "2023-06-04T15:52:58.088Z"
   },
   {
    "duration": 135,
    "start_time": "2023-06-04T15:54:13.951Z"
   },
   {
    "duration": 211,
    "start_time": "2023-06-04T15:55:06.459Z"
   },
   {
    "duration": 217,
    "start_time": "2023-06-04T15:57:43.464Z"
   },
   {
    "duration": 198,
    "start_time": "2023-06-04T15:57:50.355Z"
   },
   {
    "duration": 8,
    "start_time": "2023-06-04T15:58:09.936Z"
   },
   {
    "duration": 197,
    "start_time": "2023-06-04T15:58:11.573Z"
   },
   {
    "duration": 245,
    "start_time": "2023-06-04T15:58:49.641Z"
   },
   {
    "duration": 194,
    "start_time": "2023-06-04T15:59:42.892Z"
   },
   {
    "duration": 185,
    "start_time": "2023-06-04T15:59:49.176Z"
   },
   {
    "duration": 5,
    "start_time": "2023-06-04T16:00:04.871Z"
   },
   {
    "duration": 337,
    "start_time": "2023-06-04T16:00:06.610Z"
   },
   {
    "duration": 155,
    "start_time": "2023-06-04T16:00:26.283Z"
   },
   {
    "duration": 198,
    "start_time": "2023-06-04T16:00:40.016Z"
   },
   {
    "duration": 5,
    "start_time": "2023-06-04T16:00:43.056Z"
   },
   {
    "duration": 3,
    "start_time": "2023-06-04T16:01:20.713Z"
   },
   {
    "duration": 145,
    "start_time": "2023-06-04T16:01:24.656Z"
   },
   {
    "duration": 249,
    "start_time": "2023-06-04T16:02:07.665Z"
   },
   {
    "duration": 184,
    "start_time": "2023-06-04T16:04:19.814Z"
   },
   {
    "duration": 197,
    "start_time": "2023-06-04T16:04:51.747Z"
   },
   {
    "duration": 8,
    "start_time": "2023-06-04T16:05:07.357Z"
   },
   {
    "duration": 239,
    "start_time": "2023-06-04T16:05:11.014Z"
   },
   {
    "duration": 3,
    "start_time": "2023-06-04T16:11:06.487Z"
   },
   {
    "duration": 4,
    "start_time": "2023-06-04T16:11:56.587Z"
   },
   {
    "duration": 6,
    "start_time": "2023-06-04T16:29:35.203Z"
   },
   {
    "duration": 43,
    "start_time": "2023-06-04T16:30:29.822Z"
   },
   {
    "duration": 66,
    "start_time": "2023-06-04T16:31:21.979Z"
   },
   {
    "duration": 50,
    "start_time": "2023-06-04T16:31:44.766Z"
   },
   {
    "duration": 67,
    "start_time": "2023-06-04T16:32:01.517Z"
   },
   {
    "duration": 51,
    "start_time": "2023-06-04T16:33:34.680Z"
   },
   {
    "duration": 56,
    "start_time": "2023-06-04T16:33:45.609Z"
   },
   {
    "duration": 50,
    "start_time": "2023-06-04T16:33:58.564Z"
   },
   {
    "duration": 19,
    "start_time": "2023-06-04T16:36:30.090Z"
   },
   {
    "duration": 12,
    "start_time": "2023-06-04T16:37:13.685Z"
   },
   {
    "duration": 22,
    "start_time": "2023-06-04T16:37:39.605Z"
   },
   {
    "duration": 113,
    "start_time": "2023-06-04T16:37:51.422Z"
   },
   {
    "duration": 85,
    "start_time": "2023-06-04T16:39:45.553Z"
   },
   {
    "duration": 66,
    "start_time": "2023-06-04T16:40:00.964Z"
   },
   {
    "duration": 67,
    "start_time": "2023-06-04T16:40:14.478Z"
   },
   {
    "duration": 45,
    "start_time": "2023-06-04T16:41:04.562Z"
   },
   {
    "duration": 2646,
    "start_time": "2023-06-04T16:41:27.563Z"
   },
   {
    "duration": 72,
    "start_time": "2023-06-04T16:41:30.212Z"
   },
   {
    "duration": 72,
    "start_time": "2023-06-04T16:41:30.286Z"
   },
   {
    "duration": 31,
    "start_time": "2023-06-04T16:41:30.359Z"
   },
   {
    "duration": 16,
    "start_time": "2023-06-04T16:41:30.392Z"
   },
   {
    "duration": 33,
    "start_time": "2023-06-04T16:41:30.409Z"
   },
   {
    "duration": 33,
    "start_time": "2023-06-04T16:41:30.444Z"
   },
   {
    "duration": 25,
    "start_time": "2023-06-04T16:41:30.478Z"
   },
   {
    "duration": 41,
    "start_time": "2023-06-04T16:41:30.504Z"
   },
   {
    "duration": 48,
    "start_time": "2023-06-04T16:41:30.547Z"
   },
   {
    "duration": 15,
    "start_time": "2023-06-04T16:41:30.597Z"
   },
   {
    "duration": 33,
    "start_time": "2023-06-04T16:41:30.614Z"
   },
   {
    "duration": 20,
    "start_time": "2023-06-04T16:41:30.649Z"
   },
   {
    "duration": 37,
    "start_time": "2023-06-04T16:41:30.675Z"
   },
   {
    "duration": 60,
    "start_time": "2023-06-04T16:41:30.714Z"
   },
   {
    "duration": 313,
    "start_time": "2023-06-04T16:41:30.776Z"
   },
   {
    "duration": 136,
    "start_time": "2023-06-04T16:41:31.091Z"
   },
   {
    "duration": 27,
    "start_time": "2023-06-04T16:41:31.228Z"
   },
   {
    "duration": 27,
    "start_time": "2023-06-04T16:41:31.257Z"
   },
   {
    "duration": 32,
    "start_time": "2023-06-04T16:41:31.286Z"
   },
   {
    "duration": 500,
    "start_time": "2023-06-04T16:41:31.320Z"
   },
   {
    "duration": 309,
    "start_time": "2023-06-04T16:41:31.821Z"
   },
   {
    "duration": 15,
    "start_time": "2023-06-04T16:41:32.137Z"
   },
   {
    "duration": 414,
    "start_time": "2023-06-04T16:41:32.154Z"
   },
   {
    "duration": 13,
    "start_time": "2023-06-04T16:41:32.579Z"
   },
   {
    "duration": 6,
    "start_time": "2023-06-04T16:41:32.593Z"
   },
   {
    "duration": 6,
    "start_time": "2023-06-04T16:41:32.600Z"
   },
   {
    "duration": 425,
    "start_time": "2023-06-04T16:41:32.607Z"
   },
   {
    "duration": 30,
    "start_time": "2023-06-04T16:41:33.034Z"
   },
   {
    "duration": 437,
    "start_time": "2023-06-04T16:41:33.073Z"
   },
   {
    "duration": 26,
    "start_time": "2023-06-04T16:41:33.512Z"
   },
   {
    "duration": 209,
    "start_time": "2023-06-04T16:41:33.541Z"
   },
   {
    "duration": 13,
    "start_time": "2023-06-04T16:41:33.754Z"
   },
   {
    "duration": 196,
    "start_time": "2023-06-04T16:41:33.770Z"
   },
   {
    "duration": 12,
    "start_time": "2023-06-04T16:41:33.968Z"
   },
   {
    "duration": 30,
    "start_time": "2023-06-04T16:41:33.982Z"
   },
   {
    "duration": 221,
    "start_time": "2023-06-04T16:41:34.014Z"
   },
   {
    "duration": 5,
    "start_time": "2023-06-04T16:41:34.236Z"
   },
   {
    "duration": 346,
    "start_time": "2023-06-04T16:41:34.243Z"
   },
   {
    "duration": 5,
    "start_time": "2023-06-04T16:41:34.591Z"
   },
   {
    "duration": 75,
    "start_time": "2023-06-04T16:41:34.599Z"
   },
   {
    "duration": 63,
    "start_time": "2023-06-04T16:41:34.675Z"
   },
   {
    "duration": 66,
    "start_time": "2023-06-04T16:41:34.744Z"
   },
   {
    "duration": 92,
    "start_time": "2023-06-04T16:41:34.812Z"
   },
   {
    "duration": 42,
    "start_time": "2023-06-04T16:41:34.906Z"
   },
   {
    "duration": 145,
    "start_time": "2023-06-04T16:43:45.809Z"
   },
   {
    "duration": 34,
    "start_time": "2023-06-04T16:44:09.022Z"
   },
   {
    "duration": 136,
    "start_time": "2023-06-04T16:44:33.149Z"
   },
   {
    "duration": 131,
    "start_time": "2023-06-04T16:44:50.990Z"
   },
   {
    "duration": 27,
    "start_time": "2023-06-04T16:45:29.943Z"
   },
   {
    "duration": 21,
    "start_time": "2023-06-04T16:45:48.549Z"
   },
   {
    "duration": 89,
    "start_time": "2023-06-04T16:45:53.112Z"
   },
   {
    "duration": 119,
    "start_time": "2023-06-04T16:46:05.282Z"
   },
   {
    "duration": 138,
    "start_time": "2023-06-04T16:46:17.867Z"
   },
   {
    "duration": 1249,
    "start_time": "2023-06-04T16:50:00.623Z"
   },
   {
    "duration": 38,
    "start_time": "2023-06-04T16:50:01.879Z"
   },
   {
    "duration": 79,
    "start_time": "2023-06-04T16:50:01.919Z"
   },
   {
    "duration": 31,
    "start_time": "2023-06-04T16:50:02.000Z"
   },
   {
    "duration": 18,
    "start_time": "2023-06-04T16:50:02.036Z"
   },
   {
    "duration": 35,
    "start_time": "2023-06-04T16:50:02.055Z"
   },
   {
    "duration": 27,
    "start_time": "2023-06-04T16:50:02.092Z"
   },
   {
    "duration": 63,
    "start_time": "2023-06-04T16:50:02.121Z"
   },
   {
    "duration": 30,
    "start_time": "2023-06-04T16:50:02.185Z"
   },
   {
    "duration": 19,
    "start_time": "2023-06-04T16:50:02.218Z"
   },
   {
    "duration": 11,
    "start_time": "2023-06-04T16:50:02.240Z"
   },
   {
    "duration": 30,
    "start_time": "2023-06-04T16:50:02.253Z"
   },
   {
    "duration": 52,
    "start_time": "2023-06-04T16:50:02.284Z"
   },
   {
    "duration": 37,
    "start_time": "2023-06-04T16:50:02.338Z"
   },
   {
    "duration": 81,
    "start_time": "2023-06-04T16:50:02.376Z"
   },
   {
    "duration": 230,
    "start_time": "2023-06-04T16:50:02.462Z"
   },
   {
    "duration": 128,
    "start_time": "2023-06-04T16:50:02.694Z"
   },
   {
    "duration": 27,
    "start_time": "2023-06-04T16:50:02.824Z"
   },
   {
    "duration": 33,
    "start_time": "2023-06-04T16:50:02.853Z"
   },
   {
    "duration": 14,
    "start_time": "2023-06-04T16:50:02.888Z"
   },
   {
    "duration": 410,
    "start_time": "2023-06-04T16:50:02.903Z"
   },
   {
    "duration": 305,
    "start_time": "2023-06-04T16:50:03.315Z"
   },
   {
    "duration": 26,
    "start_time": "2023-06-04T16:50:03.621Z"
   },
   {
    "duration": 353,
    "start_time": "2023-06-04T16:50:03.649Z"
   },
   {
    "duration": 11,
    "start_time": "2023-06-04T16:50:04.003Z"
   },
   {
    "duration": 14,
    "start_time": "2023-06-04T16:50:04.016Z"
   },
   {
    "duration": 12,
    "start_time": "2023-06-04T16:50:04.033Z"
   },
   {
    "duration": 400,
    "start_time": "2023-06-04T16:50:04.051Z"
   },
   {
    "duration": 22,
    "start_time": "2023-06-04T16:50:04.453Z"
   },
   {
    "duration": 405,
    "start_time": "2023-06-04T16:50:04.477Z"
   },
   {
    "duration": 11,
    "start_time": "2023-06-04T16:50:04.883Z"
   },
   {
    "duration": 190,
    "start_time": "2023-06-04T16:50:04.896Z"
   },
   {
    "duration": 3,
    "start_time": "2023-06-04T16:50:05.088Z"
   },
   {
    "duration": 212,
    "start_time": "2023-06-04T16:50:05.093Z"
   },
   {
    "duration": 5,
    "start_time": "2023-06-04T16:50:05.306Z"
   },
   {
    "duration": 22,
    "start_time": "2023-06-04T16:50:05.312Z"
   },
   {
    "duration": 238,
    "start_time": "2023-06-04T16:50:05.335Z"
   },
   {
    "duration": 5,
    "start_time": "2023-06-04T16:50:05.574Z"
   },
   {
    "duration": 356,
    "start_time": "2023-06-04T16:50:05.581Z"
   },
   {
    "duration": 14,
    "start_time": "2023-06-04T16:50:05.941Z"
   },
   {
    "duration": 55,
    "start_time": "2023-06-04T16:50:05.957Z"
   },
   {
    "duration": 69,
    "start_time": "2023-06-04T16:50:06.014Z"
   },
   {
    "duration": 91,
    "start_time": "2023-06-04T16:50:06.084Z"
   },
   {
    "duration": 88,
    "start_time": "2023-06-04T16:50:06.177Z"
   },
   {
    "duration": 32,
    "start_time": "2023-06-04T16:50:06.268Z"
   },
   {
    "duration": 101,
    "start_time": "2023-06-04T16:50:06.302Z"
   },
   {
    "duration": 113,
    "start_time": "2023-06-04T16:50:06.405Z"
   },
   {
    "duration": 11,
    "start_time": "2023-06-04T16:51:14.454Z"
   },
   {
    "duration": 9,
    "start_time": "2023-06-04T16:52:17.997Z"
   },
   {
    "duration": 6,
    "start_time": "2023-06-04T16:52:42.002Z"
   },
   {
    "duration": 9,
    "start_time": "2023-06-04T16:53:56.361Z"
   },
   {
    "duration": 8,
    "start_time": "2023-06-04T16:55:00.105Z"
   },
   {
    "duration": 150,
    "start_time": "2023-06-04T16:56:10.558Z"
   },
   {
    "duration": 90,
    "start_time": "2023-06-04T16:57:20.099Z"
   },
   {
    "duration": 192,
    "start_time": "2023-06-04T16:57:35.349Z"
   },
   {
    "duration": 169,
    "start_time": "2023-06-04T16:59:06.241Z"
   },
   {
    "duration": 1237,
    "start_time": "2023-06-04T17:01:26.848Z"
   },
   {
    "duration": 37,
    "start_time": "2023-06-04T17:01:28.086Z"
   },
   {
    "duration": 64,
    "start_time": "2023-06-04T17:01:28.126Z"
   },
   {
    "duration": 22,
    "start_time": "2023-06-04T17:01:28.192Z"
   },
   {
    "duration": 55,
    "start_time": "2023-06-04T17:01:28.216Z"
   },
   {
    "duration": 17,
    "start_time": "2023-06-04T17:01:28.273Z"
   },
   {
    "duration": 11,
    "start_time": "2023-06-04T17:01:28.292Z"
   },
   {
    "duration": 14,
    "start_time": "2023-06-04T17:01:28.304Z"
   },
   {
    "duration": 13,
    "start_time": "2023-06-04T17:01:28.320Z"
   },
   {
    "duration": 9,
    "start_time": "2023-06-04T17:01:28.335Z"
   },
   {
    "duration": 9,
    "start_time": "2023-06-04T17:01:28.347Z"
   },
   {
    "duration": 11,
    "start_time": "2023-06-04T17:01:28.365Z"
   },
   {
    "duration": 11,
    "start_time": "2023-06-04T17:01:28.377Z"
   },
   {
    "duration": 13,
    "start_time": "2023-06-04T17:01:28.392Z"
   },
   {
    "duration": 12,
    "start_time": "2023-06-04T17:01:28.407Z"
   },
   {
    "duration": 225,
    "start_time": "2023-06-04T17:01:28.420Z"
   },
   {
    "duration": 161,
    "start_time": "2023-06-04T17:01:28.647Z"
   },
   {
    "duration": 23,
    "start_time": "2023-06-04T17:01:28.810Z"
   },
   {
    "duration": 11,
    "start_time": "2023-06-04T17:01:28.835Z"
   },
   {
    "duration": 12,
    "start_time": "2023-06-04T17:01:28.848Z"
   },
   {
    "duration": 456,
    "start_time": "2023-06-04T17:01:28.864Z"
   },
   {
    "duration": 284,
    "start_time": "2023-06-04T17:01:29.322Z"
   },
   {
    "duration": 12,
    "start_time": "2023-06-04T17:01:29.608Z"
   },
   {
    "duration": 442,
    "start_time": "2023-06-04T17:01:29.636Z"
   },
   {
    "duration": 14,
    "start_time": "2023-06-04T17:01:30.083Z"
   },
   {
    "duration": 18,
    "start_time": "2023-06-04T17:01:30.099Z"
   },
   {
    "duration": 27,
    "start_time": "2023-06-04T17:01:30.119Z"
   },
   {
    "duration": 367,
    "start_time": "2023-06-04T17:01:30.148Z"
   },
   {
    "duration": 19,
    "start_time": "2023-06-04T17:01:30.517Z"
   },
   {
    "duration": 568,
    "start_time": "2023-06-04T17:01:30.538Z"
   },
   {
    "duration": 18,
    "start_time": "2023-06-04T17:01:31.107Z"
   },
   {
    "duration": 181,
    "start_time": "2023-06-04T17:01:31.127Z"
   },
   {
    "duration": 3,
    "start_time": "2023-06-04T17:01:31.310Z"
   },
   {
    "duration": 202,
    "start_time": "2023-06-04T17:01:31.315Z"
   },
   {
    "duration": 4,
    "start_time": "2023-06-04T17:01:31.519Z"
   },
   {
    "duration": 45,
    "start_time": "2023-06-04T17:01:31.527Z"
   },
   {
    "duration": 233,
    "start_time": "2023-06-04T17:01:31.574Z"
   },
   {
    "duration": 5,
    "start_time": "2023-06-04T17:01:31.808Z"
   },
   {
    "duration": 363,
    "start_time": "2023-06-04T17:01:31.814Z"
   },
   {
    "duration": 7,
    "start_time": "2023-06-04T17:01:32.179Z"
   },
   {
    "duration": 81,
    "start_time": "2023-06-04T17:01:32.189Z"
   },
   {
    "duration": 62,
    "start_time": "2023-06-04T17:01:32.273Z"
   },
   {
    "duration": 77,
    "start_time": "2023-06-04T17:01:32.336Z"
   },
   {
    "duration": 78,
    "start_time": "2023-06-04T17:01:32.414Z"
   },
   {
    "duration": 25,
    "start_time": "2023-06-04T17:01:32.493Z"
   },
   {
    "duration": 90,
    "start_time": "2023-06-04T17:01:32.519Z"
   },
   {
    "duration": 103,
    "start_time": "2023-06-04T17:01:32.611Z"
   },
   {
    "duration": 6,
    "start_time": "2023-06-04T17:01:32.715Z"
   },
   {
    "duration": 21,
    "start_time": "2023-06-04T17:01:32.722Z"
   },
   {
    "duration": 9,
    "start_time": "2023-06-04T17:01:32.744Z"
   },
   {
    "duration": 290,
    "start_time": "2023-06-04T17:01:32.754Z"
   },
   {
    "duration": 217,
    "start_time": "2023-06-04T17:02:09.541Z"
   },
   {
    "duration": 3,
    "start_time": "2023-06-04T18:04:15.271Z"
   },
   {
    "duration": 1128,
    "start_time": "2023-06-04T18:04:22.109Z"
   },
   {
    "duration": 40,
    "start_time": "2023-06-04T18:04:23.240Z"
   },
   {
    "duration": 53,
    "start_time": "2023-06-04T18:04:23.281Z"
   },
   {
    "duration": 26,
    "start_time": "2023-06-04T18:04:23.338Z"
   },
   {
    "duration": 13,
    "start_time": "2023-06-04T18:04:23.367Z"
   },
   {
    "duration": 13,
    "start_time": "2023-06-04T18:04:23.382Z"
   },
   {
    "duration": 13,
    "start_time": "2023-06-04T18:04:23.397Z"
   },
   {
    "duration": 15,
    "start_time": "2023-06-04T18:04:23.412Z"
   },
   {
    "duration": 17,
    "start_time": "2023-06-04T18:04:23.428Z"
   },
   {
    "duration": 5,
    "start_time": "2023-06-04T18:04:23.447Z"
   },
   {
    "duration": 7,
    "start_time": "2023-06-04T18:04:23.454Z"
   },
   {
    "duration": 16,
    "start_time": "2023-06-04T18:04:23.462Z"
   },
   {
    "duration": 8,
    "start_time": "2023-06-04T18:04:23.480Z"
   },
   {
    "duration": 10,
    "start_time": "2023-06-04T18:04:23.491Z"
   },
   {
    "duration": 40,
    "start_time": "2023-06-04T18:04:23.503Z"
   },
   {
    "duration": 192,
    "start_time": "2023-06-04T18:04:23.544Z"
   },
   {
    "duration": 158,
    "start_time": "2023-06-04T18:04:23.738Z"
   },
   {
    "duration": 11,
    "start_time": "2023-06-04T18:04:23.898Z"
   },
   {
    "duration": 18,
    "start_time": "2023-06-04T18:04:23.911Z"
   },
   {
    "duration": 16,
    "start_time": "2023-06-04T18:04:23.932Z"
   },
   {
    "duration": 396,
    "start_time": "2023-06-04T18:04:23.950Z"
   },
   {
    "duration": 252,
    "start_time": "2023-06-04T18:04:24.348Z"
   },
   {
    "duration": 10,
    "start_time": "2023-06-04T18:04:24.602Z"
   },
   {
    "duration": 382,
    "start_time": "2023-06-04T18:04:24.614Z"
   },
   {
    "duration": 16,
    "start_time": "2023-06-04T18:04:24.998Z"
   },
   {
    "duration": 12,
    "start_time": "2023-06-04T18:04:25.025Z"
   },
   {
    "duration": 25,
    "start_time": "2023-06-04T18:04:25.040Z"
   },
   {
    "duration": 322,
    "start_time": "2023-06-04T18:04:25.068Z"
   },
   {
    "duration": 13,
    "start_time": "2023-06-04T18:04:25.392Z"
   },
   {
    "duration": 396,
    "start_time": "2023-06-04T18:04:25.406Z"
   },
   {
    "duration": 27,
    "start_time": "2023-06-04T18:04:25.803Z"
   },
   {
    "duration": 161,
    "start_time": "2023-06-04T18:04:25.833Z"
   },
   {
    "duration": 3,
    "start_time": "2023-06-04T18:04:25.996Z"
   },
   {
    "duration": 177,
    "start_time": "2023-06-04T18:04:26.001Z"
   },
   {
    "duration": 5,
    "start_time": "2023-06-04T18:04:26.179Z"
   },
   {
    "duration": 24,
    "start_time": "2023-06-04T18:04:26.185Z"
   },
   {
    "duration": 181,
    "start_time": "2023-06-04T18:04:26.210Z"
   },
   {
    "duration": 4,
    "start_time": "2023-06-04T18:04:26.392Z"
   },
   {
    "duration": 268,
    "start_time": "2023-06-04T18:04:26.398Z"
   },
   {
    "duration": 5,
    "start_time": "2023-06-04T18:04:26.667Z"
   },
   {
    "duration": 66,
    "start_time": "2023-06-04T18:04:26.675Z"
   },
   {
    "duration": 53,
    "start_time": "2023-06-04T18:04:26.742Z"
   },
   {
    "duration": 90,
    "start_time": "2023-06-04T18:04:26.797Z"
   },
   {
    "duration": 73,
    "start_time": "2023-06-04T18:04:26.889Z"
   },
   {
    "duration": 27,
    "start_time": "2023-06-04T18:04:26.963Z"
   },
   {
    "duration": 86,
    "start_time": "2023-06-04T18:04:26.991Z"
   },
   {
    "duration": 92,
    "start_time": "2023-06-04T18:04:27.079Z"
   },
   {
    "duration": 9,
    "start_time": "2023-06-04T18:04:27.173Z"
   },
   {
    "duration": 31,
    "start_time": "2023-06-04T18:04:27.183Z"
   },
   {
    "duration": 33,
    "start_time": "2023-06-04T18:04:27.216Z"
   },
   {
    "duration": 259,
    "start_time": "2023-06-04T18:04:27.251Z"
   },
   {
    "duration": 22,
    "start_time": "2023-06-04T18:05:42.574Z"
   },
   {
    "duration": 8,
    "start_time": "2023-06-04T18:11:38.229Z"
   },
   {
    "duration": 4,
    "start_time": "2023-06-04T18:11:46.151Z"
   },
   {
    "duration": 5,
    "start_time": "2023-06-04T18:13:26.096Z"
   },
   {
    "duration": 1061,
    "start_time": "2023-06-04T18:16:13.948Z"
   },
   {
    "duration": 61,
    "start_time": "2023-06-04T18:16:15.011Z"
   },
   {
    "duration": 51,
    "start_time": "2023-06-04T18:16:15.074Z"
   },
   {
    "duration": 27,
    "start_time": "2023-06-04T18:16:15.127Z"
   },
   {
    "duration": 11,
    "start_time": "2023-06-04T18:16:15.156Z"
   },
   {
    "duration": 12,
    "start_time": "2023-06-04T18:16:15.168Z"
   },
   {
    "duration": 30,
    "start_time": "2023-06-04T18:16:15.182Z"
   },
   {
    "duration": 16,
    "start_time": "2023-06-04T18:16:15.214Z"
   },
   {
    "duration": 5,
    "start_time": "2023-06-04T18:16:15.238Z"
   },
   {
    "duration": 7,
    "start_time": "2023-06-04T18:16:15.245Z"
   },
   {
    "duration": 5,
    "start_time": "2023-06-04T18:16:15.253Z"
   },
   {
    "duration": 19,
    "start_time": "2023-06-04T18:16:15.259Z"
   },
   {
    "duration": 27,
    "start_time": "2023-06-04T18:16:15.280Z"
   },
   {
    "duration": 33,
    "start_time": "2023-06-04T18:16:15.310Z"
   },
   {
    "duration": 13,
    "start_time": "2023-06-04T18:16:15.344Z"
   },
   {
    "duration": 189,
    "start_time": "2023-06-04T18:16:15.359Z"
   },
   {
    "duration": 142,
    "start_time": "2023-06-04T18:16:15.549Z"
   },
   {
    "duration": 13,
    "start_time": "2023-06-04T18:16:15.693Z"
   },
   {
    "duration": 52,
    "start_time": "2023-06-04T18:16:15.708Z"
   },
   {
    "duration": 34,
    "start_time": "2023-06-04T18:16:15.762Z"
   },
   {
    "duration": 346,
    "start_time": "2023-06-04T18:16:15.798Z"
   },
   {
    "duration": 229,
    "start_time": "2023-06-04T18:16:16.146Z"
   },
   {
    "duration": 11,
    "start_time": "2023-06-04T18:16:16.376Z"
   },
   {
    "duration": 392,
    "start_time": "2023-06-04T18:16:16.389Z"
   },
   {
    "duration": 11,
    "start_time": "2023-06-04T18:16:16.783Z"
   },
   {
    "duration": 4,
    "start_time": "2023-06-04T18:16:16.795Z"
   },
   {
    "duration": 4,
    "start_time": "2023-06-04T18:16:16.801Z"
   },
   {
    "duration": 335,
    "start_time": "2023-06-04T18:16:16.807Z"
   },
   {
    "duration": 13,
    "start_time": "2023-06-04T18:16:17.144Z"
   },
   {
    "duration": 345,
    "start_time": "2023-06-04T18:16:17.158Z"
   },
   {
    "duration": 25,
    "start_time": "2023-06-04T18:16:17.504Z"
   },
   {
    "duration": 144,
    "start_time": "2023-06-04T18:16:17.538Z"
   },
   {
    "duration": 3,
    "start_time": "2023-06-04T18:16:17.684Z"
   },
   {
    "duration": 193,
    "start_time": "2023-06-04T18:16:17.689Z"
   },
   {
    "duration": 5,
    "start_time": "2023-06-04T18:16:17.883Z"
   },
   {
    "duration": 9,
    "start_time": "2023-06-04T18:16:17.890Z"
   },
   {
    "duration": 187,
    "start_time": "2023-06-04T18:16:17.900Z"
   },
   {
    "duration": 4,
    "start_time": "2023-06-04T18:16:18.089Z"
   },
   {
    "duration": 286,
    "start_time": "2023-06-04T18:16:18.095Z"
   },
   {
    "duration": 5,
    "start_time": "2023-06-04T18:16:18.383Z"
   },
   {
    "duration": 77,
    "start_time": "2023-06-04T18:16:18.392Z"
   },
   {
    "duration": 67,
    "start_time": "2023-06-04T18:16:18.472Z"
   },
   {
    "duration": 65,
    "start_time": "2023-06-04T18:16:18.542Z"
   },
   {
    "duration": 82,
    "start_time": "2023-06-04T18:16:18.608Z"
   },
   {
    "duration": 45,
    "start_time": "2023-06-04T18:16:18.692Z"
   },
   {
    "duration": 66,
    "start_time": "2023-06-04T18:16:18.739Z"
   },
   {
    "duration": 94,
    "start_time": "2023-06-04T18:16:18.807Z"
   },
   {
    "duration": 6,
    "start_time": "2023-06-04T18:16:18.903Z"
   },
   {
    "duration": 23,
    "start_time": "2023-06-04T18:16:18.910Z"
   },
   {
    "duration": 9,
    "start_time": "2023-06-04T18:16:18.936Z"
   },
   {
    "duration": 144,
    "start_time": "2023-06-04T18:16:18.947Z"
   },
   {
    "duration": 21,
    "start_time": "2023-06-04T18:16:19.093Z"
   },
   {
    "duration": 22,
    "start_time": "2023-06-04T18:16:19.128Z"
   },
   {
    "duration": 111,
    "start_time": "2023-06-04T18:19:57.005Z"
   },
   {
    "duration": 21,
    "start_time": "2023-06-04T18:20:33.197Z"
   },
   {
    "duration": 34,
    "start_time": "2023-06-04T18:21:20.655Z"
   },
   {
    "duration": 65,
    "start_time": "2023-06-04T18:25:21.081Z"
   },
   {
    "duration": 23,
    "start_time": "2023-06-04T18:25:26.165Z"
   },
   {
    "duration": 31,
    "start_time": "2023-06-04T18:38:18.110Z"
   },
   {
    "duration": 23,
    "start_time": "2023-06-04T18:39:41.952Z"
   },
   {
    "duration": 16,
    "start_time": "2023-06-04T18:46:19.120Z"
   },
   {
    "duration": 14,
    "start_time": "2023-06-04T18:47:06.016Z"
   },
   {
    "duration": 11,
    "start_time": "2023-06-04T18:48:36.243Z"
   },
   {
    "duration": 15,
    "start_time": "2023-06-04T18:49:28.460Z"
   },
   {
    "duration": 12,
    "start_time": "2023-06-04T18:51:20.283Z"
   },
   {
    "duration": 9,
    "start_time": "2023-06-04T18:52:06.400Z"
   },
   {
    "duration": 9,
    "start_time": "2023-06-04T18:52:49.503Z"
   },
   {
    "duration": 11,
    "start_time": "2023-06-04T18:53:24.515Z"
   },
   {
    "duration": 6,
    "start_time": "2023-06-04T18:58:45.942Z"
   },
   {
    "duration": 1086,
    "start_time": "2023-06-04T18:58:57.289Z"
   },
   {
    "duration": 37,
    "start_time": "2023-06-04T18:58:58.377Z"
   },
   {
    "duration": 59,
    "start_time": "2023-06-04T18:58:58.416Z"
   },
   {
    "duration": 27,
    "start_time": "2023-06-04T18:58:58.477Z"
   },
   {
    "duration": 22,
    "start_time": "2023-06-04T18:58:58.507Z"
   },
   {
    "duration": 18,
    "start_time": "2023-06-04T18:58:58.531Z"
   },
   {
    "duration": 14,
    "start_time": "2023-06-04T18:58:58.551Z"
   },
   {
    "duration": 16,
    "start_time": "2023-06-04T18:58:58.568Z"
   },
   {
    "duration": 7,
    "start_time": "2023-06-04T18:58:58.586Z"
   },
   {
    "duration": 35,
    "start_time": "2023-06-04T18:58:58.595Z"
   },
   {
    "duration": 6,
    "start_time": "2023-06-04T18:58:58.631Z"
   },
   {
    "duration": 16,
    "start_time": "2023-06-04T18:58:58.638Z"
   },
   {
    "duration": 7,
    "start_time": "2023-06-04T18:58:58.655Z"
   },
   {
    "duration": 13,
    "start_time": "2023-06-04T18:58:58.664Z"
   },
   {
    "duration": 13,
    "start_time": "2023-06-04T18:58:58.679Z"
   },
   {
    "duration": 252,
    "start_time": "2023-06-04T18:58:58.694Z"
   },
   {
    "duration": 152,
    "start_time": "2023-06-04T18:58:58.948Z"
   },
   {
    "duration": 31,
    "start_time": "2023-06-04T18:58:59.102Z"
   },
   {
    "duration": 13,
    "start_time": "2023-06-04T18:58:59.138Z"
   },
   {
    "duration": 10,
    "start_time": "2023-06-04T18:58:59.153Z"
   },
   {
    "duration": 325,
    "start_time": "2023-06-04T18:58:59.165Z"
   },
   {
    "duration": 368,
    "start_time": "2023-06-04T18:58:59.493Z"
   },
   {
    "duration": 16,
    "start_time": "2023-06-04T18:58:59.863Z"
   },
   {
    "duration": 379,
    "start_time": "2023-06-04T18:58:59.884Z"
   },
   {
    "duration": 11,
    "start_time": "2023-06-04T18:59:00.265Z"
   },
   {
    "duration": 36,
    "start_time": "2023-06-04T18:59:00.277Z"
   },
   {
    "duration": 16,
    "start_time": "2023-06-04T18:59:00.315Z"
   },
   {
    "duration": 360,
    "start_time": "2023-06-04T18:59:00.335Z"
   },
   {
    "duration": 14,
    "start_time": "2023-06-04T18:59:00.697Z"
   },
   {
    "duration": 393,
    "start_time": "2023-06-04T18:59:00.713Z"
   },
   {
    "duration": 31,
    "start_time": "2023-06-04T18:59:01.108Z"
   },
   {
    "duration": 232,
    "start_time": "2023-06-04T18:59:01.141Z"
   },
   {
    "duration": 3,
    "start_time": "2023-06-04T18:59:01.375Z"
   },
   {
    "duration": 184,
    "start_time": "2023-06-04T18:59:01.380Z"
   },
   {
    "duration": 5,
    "start_time": "2023-06-04T18:59:01.566Z"
   },
   {
    "duration": 39,
    "start_time": "2023-06-04T18:59:01.573Z"
   },
   {
    "duration": 220,
    "start_time": "2023-06-04T18:59:01.614Z"
   },
   {
    "duration": 9,
    "start_time": "2023-06-04T18:59:01.836Z"
   },
   {
    "duration": 363,
    "start_time": "2023-06-04T18:59:01.847Z"
   },
   {
    "duration": 23,
    "start_time": "2023-06-04T18:59:02.211Z"
   },
   {
    "duration": 59,
    "start_time": "2023-06-04T18:59:02.239Z"
   },
   {
    "duration": 72,
    "start_time": "2023-06-04T18:59:02.299Z"
   },
   {
    "duration": 74,
    "start_time": "2023-06-04T18:59:02.373Z"
   },
   {
    "duration": 104,
    "start_time": "2023-06-04T18:59:02.449Z"
   },
   {
    "duration": 27,
    "start_time": "2023-06-04T18:59:02.555Z"
   },
   {
    "duration": 101,
    "start_time": "2023-06-04T18:59:02.584Z"
   },
   {
    "duration": 85,
    "start_time": "2023-06-04T18:59:02.686Z"
   },
   {
    "duration": 5,
    "start_time": "2023-06-04T18:59:02.773Z"
   },
   {
    "duration": 21,
    "start_time": "2023-06-04T18:59:02.780Z"
   },
   {
    "duration": 16,
    "start_time": "2023-06-04T18:59:02.803Z"
   },
   {
    "duration": 146,
    "start_time": "2023-06-04T18:59:02.821Z"
   },
   {
    "duration": 21,
    "start_time": "2023-06-04T18:59:02.968Z"
   },
   {
    "duration": 47,
    "start_time": "2023-06-04T18:59:02.991Z"
   },
   {
    "duration": 12,
    "start_time": "2023-06-04T18:59:03.044Z"
   },
   {
    "duration": 8,
    "start_time": "2023-06-04T18:59:03.057Z"
   },
   {
    "duration": 6,
    "start_time": "2023-06-04T19:07:18.684Z"
   },
   {
    "duration": 11,
    "start_time": "2023-06-04T19:07:26.621Z"
   },
   {
    "duration": 901,
    "start_time": "2023-06-04T19:08:10.259Z"
   },
   {
    "duration": 10,
    "start_time": "2023-06-04T19:08:48.343Z"
   },
   {
    "duration": 805,
    "start_time": "2023-06-04T19:08:52.174Z"
   },
   {
    "duration": 12,
    "start_time": "2023-06-04T19:09:13.604Z"
   },
   {
    "duration": 5,
    "start_time": "2023-06-04T19:09:38.483Z"
   },
   {
    "duration": 12,
    "start_time": "2023-06-04T19:09:55.832Z"
   },
   {
    "duration": 9,
    "start_time": "2023-06-04T19:10:08.900Z"
   },
   {
    "duration": 8,
    "start_time": "2023-06-04T19:11:15.805Z"
   },
   {
    "duration": 9,
    "start_time": "2023-06-04T19:11:24.052Z"
   },
   {
    "duration": 5,
    "start_time": "2023-06-04T19:12:44.346Z"
   },
   {
    "duration": 7,
    "start_time": "2023-06-04T19:12:50.585Z"
   },
   {
    "duration": 9,
    "start_time": "2023-06-04T19:13:27.583Z"
   },
   {
    "duration": 9,
    "start_time": "2023-06-04T19:17:46.144Z"
   },
   {
    "duration": 9,
    "start_time": "2023-06-04T19:20:20.475Z"
   },
   {
    "duration": 9,
    "start_time": "2023-06-04T19:21:38.025Z"
   },
   {
    "duration": 23,
    "start_time": "2023-06-04T19:22:15.294Z"
   },
   {
    "duration": 27,
    "start_time": "2023-06-04T19:25:31.008Z"
   },
   {
    "duration": 33,
    "start_time": "2023-06-04T19:25:39.809Z"
   },
   {
    "duration": 23,
    "start_time": "2023-06-04T19:26:50.664Z"
   },
   {
    "duration": 30,
    "start_time": "2023-06-04T19:32:42.050Z"
   },
   {
    "duration": 1047,
    "start_time": "2023-06-04T19:39:27.452Z"
   },
   {
    "duration": 968,
    "start_time": "2023-06-04T19:41:13.136Z"
   },
   {
    "duration": 1061,
    "start_time": "2023-06-04T19:42:27.355Z"
   },
   {
    "duration": 18,
    "start_time": "2023-06-04T19:42:46.172Z"
   },
   {
    "duration": 1069,
    "start_time": "2023-06-04T19:43:01.735Z"
   },
   {
    "duration": 1034,
    "start_time": "2023-06-04T19:43:18.864Z"
   },
   {
    "duration": 17,
    "start_time": "2023-06-04T19:43:49.104Z"
   },
   {
    "duration": 15,
    "start_time": "2023-06-04T19:44:30.871Z"
   },
   {
    "duration": 19,
    "start_time": "2023-06-04T19:44:59.792Z"
   },
   {
    "duration": 16,
    "start_time": "2023-06-04T19:45:04.254Z"
   },
   {
    "duration": 15,
    "start_time": "2023-06-04T19:45:28.464Z"
   },
   {
    "duration": 3,
    "start_time": "2023-06-05T09:23:13.906Z"
   },
   {
    "duration": 1226,
    "start_time": "2023-06-05T09:49:35.981Z"
   },
   {
    "duration": 77,
    "start_time": "2023-06-05T09:49:37.209Z"
   },
   {
    "duration": 77,
    "start_time": "2023-06-05T09:49:37.288Z"
   },
   {
    "duration": 61,
    "start_time": "2023-06-05T09:49:37.367Z"
   },
   {
    "duration": 11,
    "start_time": "2023-06-05T09:49:37.429Z"
   },
   {
    "duration": 11,
    "start_time": "2023-06-05T09:49:37.442Z"
   },
   {
    "duration": 13,
    "start_time": "2023-06-05T09:49:37.454Z"
   },
   {
    "duration": 14,
    "start_time": "2023-06-05T09:49:37.468Z"
   },
   {
    "duration": 32,
    "start_time": "2023-06-05T09:49:37.483Z"
   },
   {
    "duration": 15,
    "start_time": "2023-06-05T09:49:37.517Z"
   },
   {
    "duration": 16,
    "start_time": "2023-06-05T09:49:37.533Z"
   },
   {
    "duration": 17,
    "start_time": "2023-06-05T09:49:37.551Z"
   },
   {
    "duration": 8,
    "start_time": "2023-06-05T09:49:37.569Z"
   },
   {
    "duration": 12,
    "start_time": "2023-06-05T09:49:37.578Z"
   },
   {
    "duration": 9,
    "start_time": "2023-06-05T09:49:37.592Z"
   },
   {
    "duration": 171,
    "start_time": "2023-06-05T09:49:37.603Z"
   },
   {
    "duration": 121,
    "start_time": "2023-06-05T09:49:37.776Z"
   },
   {
    "duration": 21,
    "start_time": "2023-06-05T09:49:37.906Z"
   },
   {
    "duration": 13,
    "start_time": "2023-06-05T09:49:37.928Z"
   },
   {
    "duration": 15,
    "start_time": "2023-06-05T09:49:37.942Z"
   },
   {
    "duration": 296,
    "start_time": "2023-06-05T09:49:37.959Z"
   },
   {
    "duration": 231,
    "start_time": "2023-06-05T09:49:38.257Z"
   },
   {
    "duration": 17,
    "start_time": "2023-06-05T09:49:38.490Z"
   },
   {
    "duration": 393,
    "start_time": "2023-06-05T09:49:38.509Z"
   },
   {
    "duration": 12,
    "start_time": "2023-06-05T09:49:38.903Z"
   },
   {
    "duration": 22,
    "start_time": "2023-06-05T09:49:38.916Z"
   },
   {
    "duration": 13,
    "start_time": "2023-06-05T09:49:38.939Z"
   },
   {
    "duration": 331,
    "start_time": "2023-06-05T09:49:38.958Z"
   },
   {
    "duration": 14,
    "start_time": "2023-06-05T09:49:39.292Z"
   },
   {
    "duration": 400,
    "start_time": "2023-06-05T09:49:39.308Z"
   },
   {
    "duration": 15,
    "start_time": "2023-06-05T09:49:39.710Z"
   },
   {
    "duration": 186,
    "start_time": "2023-06-05T09:49:39.727Z"
   },
   {
    "duration": 3,
    "start_time": "2023-06-05T09:49:39.915Z"
   },
   {
    "duration": 166,
    "start_time": "2023-06-05T09:49:39.920Z"
   },
   {
    "duration": 4,
    "start_time": "2023-06-05T09:49:40.088Z"
   },
   {
    "duration": 31,
    "start_time": "2023-06-05T09:49:40.093Z"
   },
   {
    "duration": 166,
    "start_time": "2023-06-05T09:49:40.125Z"
   },
   {
    "duration": 4,
    "start_time": "2023-06-05T09:49:40.292Z"
   },
   {
    "duration": 257,
    "start_time": "2023-06-05T09:49:40.297Z"
   },
   {
    "duration": 5,
    "start_time": "2023-06-05T09:49:40.555Z"
   },
   {
    "duration": 68,
    "start_time": "2023-06-05T09:49:40.561Z"
   },
   {
    "duration": 55,
    "start_time": "2023-06-05T09:49:40.631Z"
   },
   {
    "duration": 63,
    "start_time": "2023-06-05T09:49:40.687Z"
   },
   {
    "duration": 69,
    "start_time": "2023-06-05T09:49:40.752Z"
   },
   {
    "duration": 24,
    "start_time": "2023-06-05T09:49:40.822Z"
   },
   {
    "duration": 73,
    "start_time": "2023-06-05T09:49:40.848Z"
   },
   {
    "duration": 89,
    "start_time": "2023-06-05T09:49:40.922Z"
   },
   {
    "duration": 9,
    "start_time": "2023-06-05T09:49:41.021Z"
   },
   {
    "duration": 11,
    "start_time": "2023-06-05T09:49:41.031Z"
   },
   {
    "duration": 7,
    "start_time": "2023-06-05T09:49:41.043Z"
   },
   {
    "duration": 125,
    "start_time": "2023-06-05T09:49:41.052Z"
   },
   {
    "duration": 17,
    "start_time": "2023-06-05T09:49:41.179Z"
   },
   {
    "duration": 29,
    "start_time": "2023-06-05T09:49:41.198Z"
   },
   {
    "duration": 9,
    "start_time": "2023-06-05T09:49:41.229Z"
   },
   {
    "duration": 24,
    "start_time": "2023-06-05T09:49:41.240Z"
   },
   {
    "duration": 17,
    "start_time": "2023-06-05T09:49:41.265Z"
   },
   {
    "duration": 8,
    "start_time": "2023-06-05T09:49:41.283Z"
   },
   {
    "duration": 38,
    "start_time": "2023-06-05T09:49:41.292Z"
   },
   {
    "duration": 13,
    "start_time": "2023-06-05T09:49:41.331Z"
   },
   {
    "duration": 807,
    "start_time": "2023-06-05T10:52:10.882Z"
   },
   {
    "duration": 6,
    "start_time": "2023-06-05T10:53:11.335Z"
   },
   {
    "duration": 9,
    "start_time": "2023-06-05T10:55:29.020Z"
   },
   {
    "duration": 5,
    "start_time": "2023-06-05T10:55:48.608Z"
   },
   {
    "duration": 3,
    "start_time": "2023-06-05T10:56:09.793Z"
   },
   {
    "duration": 8,
    "start_time": "2023-06-05T10:56:16.576Z"
   },
   {
    "duration": 10,
    "start_time": "2023-06-05T10:59:12.618Z"
   },
   {
    "duration": 1363,
    "start_time": "2023-06-05T13:22:52.810Z"
   },
   {
    "duration": 68,
    "start_time": "2023-06-05T13:22:54.175Z"
   },
   {
    "duration": 93,
    "start_time": "2023-06-05T13:22:54.244Z"
   },
   {
    "duration": 68,
    "start_time": "2023-06-05T13:22:54.340Z"
   },
   {
    "duration": 19,
    "start_time": "2023-06-05T13:22:54.410Z"
   },
   {
    "duration": 16,
    "start_time": "2023-06-05T13:22:54.431Z"
   },
   {
    "duration": 23,
    "start_time": "2023-06-05T13:22:54.449Z"
   },
   {
    "duration": 20,
    "start_time": "2023-06-05T13:22:54.474Z"
   },
   {
    "duration": 10,
    "start_time": "2023-06-05T13:22:54.496Z"
   },
   {
    "duration": 20,
    "start_time": "2023-06-05T13:22:54.509Z"
   },
   {
    "duration": 5,
    "start_time": "2023-06-05T13:22:54.531Z"
   },
   {
    "duration": 16,
    "start_time": "2023-06-05T13:22:54.538Z"
   },
   {
    "duration": 12,
    "start_time": "2023-06-05T13:22:54.556Z"
   },
   {
    "duration": 20,
    "start_time": "2023-06-05T13:22:54.570Z"
   },
   {
    "duration": 37,
    "start_time": "2023-06-05T13:22:54.592Z"
   },
   {
    "duration": 259,
    "start_time": "2023-06-05T13:22:54.631Z"
   },
   {
    "duration": 172,
    "start_time": "2023-06-05T13:22:54.895Z"
   },
   {
    "duration": 16,
    "start_time": "2023-06-05T13:22:55.069Z"
   },
   {
    "duration": 31,
    "start_time": "2023-06-05T13:22:55.087Z"
   },
   {
    "duration": 44,
    "start_time": "2023-06-05T13:22:55.120Z"
   },
   {
    "duration": 453,
    "start_time": "2023-06-05T13:22:55.166Z"
   },
   {
    "duration": 267,
    "start_time": "2023-06-05T13:22:55.620Z"
   },
   {
    "duration": 13,
    "start_time": "2023-06-05T13:22:55.889Z"
   },
   {
    "duration": 486,
    "start_time": "2023-06-05T13:22:55.904Z"
   },
   {
    "duration": 13,
    "start_time": "2023-06-05T13:22:56.391Z"
   },
   {
    "duration": 19,
    "start_time": "2023-06-05T13:22:56.408Z"
   },
   {
    "duration": 14,
    "start_time": "2023-06-05T13:22:56.429Z"
   },
   {
    "duration": 414,
    "start_time": "2023-06-05T13:22:56.449Z"
   },
   {
    "duration": 18,
    "start_time": "2023-06-05T13:22:56.865Z"
   },
   {
    "duration": 475,
    "start_time": "2023-06-05T13:22:56.885Z"
   },
   {
    "duration": 13,
    "start_time": "2023-06-05T13:22:57.362Z"
   },
   {
    "duration": 243,
    "start_time": "2023-06-05T13:22:57.377Z"
   },
   {
    "duration": 4,
    "start_time": "2023-06-05T13:22:57.625Z"
   },
   {
    "duration": 248,
    "start_time": "2023-06-05T13:22:57.630Z"
   },
   {
    "duration": 6,
    "start_time": "2023-06-05T13:22:57.881Z"
   },
   {
    "duration": 29,
    "start_time": "2023-06-05T13:22:57.888Z"
   },
   {
    "duration": 232,
    "start_time": "2023-06-05T13:22:57.919Z"
   },
   {
    "duration": 6,
    "start_time": "2023-06-05T13:22:58.153Z"
   },
   {
    "duration": 287,
    "start_time": "2023-06-05T13:22:58.160Z"
   },
   {
    "duration": 5,
    "start_time": "2023-06-05T13:22:58.449Z"
   },
   {
    "duration": 72,
    "start_time": "2023-06-05T13:22:58.456Z"
   },
   {
    "duration": 82,
    "start_time": "2023-06-05T13:22:58.530Z"
   },
   {
    "duration": 76,
    "start_time": "2023-06-05T13:22:58.614Z"
   },
   {
    "duration": 93,
    "start_time": "2023-06-05T13:22:58.692Z"
   },
   {
    "duration": 42,
    "start_time": "2023-06-05T13:22:58.786Z"
   },
   {
    "duration": 132,
    "start_time": "2023-06-05T13:22:58.830Z"
   },
   {
    "duration": 94,
    "start_time": "2023-06-05T13:22:58.964Z"
   },
   {
    "duration": 13,
    "start_time": "2023-06-05T13:22:59.060Z"
   },
   {
    "duration": 32,
    "start_time": "2023-06-05T13:22:59.075Z"
   },
   {
    "duration": 54,
    "start_time": "2023-06-05T13:22:59.109Z"
   },
   {
    "duration": 154,
    "start_time": "2023-06-05T13:22:59.165Z"
   },
   {
    "duration": 37,
    "start_time": "2023-06-05T13:22:59.325Z"
   },
   {
    "duration": 25,
    "start_time": "2023-06-05T13:22:59.363Z"
   },
   {
    "duration": 35,
    "start_time": "2023-06-05T13:22:59.390Z"
   },
   {
    "duration": 11,
    "start_time": "2023-06-05T13:22:59.427Z"
   },
   {
    "duration": 59,
    "start_time": "2023-06-05T13:22:59.439Z"
   },
   {
    "duration": 29,
    "start_time": "2023-06-05T13:22:59.500Z"
   },
   {
    "duration": 61,
    "start_time": "2023-06-05T13:22:59.531Z"
   },
   {
    "duration": 16,
    "start_time": "2023-06-05T13:22:59.595Z"
   },
   {
    "duration": 10,
    "start_time": "2023-06-05T13:22:59.613Z"
   },
   {
    "duration": 1281,
    "start_time": "2023-06-06T09:07:11.158Z"
   },
   {
    "duration": 81,
    "start_time": "2023-06-06T09:07:12.442Z"
   },
   {
    "duration": 99,
    "start_time": "2023-06-06T09:07:12.524Z"
   },
   {
    "duration": 62,
    "start_time": "2023-06-06T09:07:12.625Z"
   },
   {
    "duration": 13,
    "start_time": "2023-06-06T09:07:12.689Z"
   },
   {
    "duration": 12,
    "start_time": "2023-06-06T09:07:12.703Z"
   },
   {
    "duration": 14,
    "start_time": "2023-06-06T09:07:12.717Z"
   },
   {
    "duration": 26,
    "start_time": "2023-06-06T09:07:12.734Z"
   },
   {
    "duration": 12,
    "start_time": "2023-06-06T09:07:12.762Z"
   },
   {
    "duration": 7,
    "start_time": "2023-06-06T09:07:12.777Z"
   },
   {
    "duration": 7,
    "start_time": "2023-06-06T09:07:12.786Z"
   },
   {
    "duration": 14,
    "start_time": "2023-06-06T09:07:12.795Z"
   },
   {
    "duration": 6,
    "start_time": "2023-06-06T09:07:12.811Z"
   },
   {
    "duration": 12,
    "start_time": "2023-06-06T09:07:12.856Z"
   },
   {
    "duration": 17,
    "start_time": "2023-06-06T09:07:12.870Z"
   },
   {
    "duration": 202,
    "start_time": "2023-06-06T09:07:12.889Z"
   },
   {
    "duration": 138,
    "start_time": "2023-06-06T09:07:13.093Z"
   },
   {
    "duration": 31,
    "start_time": "2023-06-06T09:07:13.233Z"
   },
   {
    "duration": 9,
    "start_time": "2023-06-06T09:07:13.268Z"
   },
   {
    "duration": 11,
    "start_time": "2023-06-06T09:07:13.278Z"
   },
   {
    "duration": 335,
    "start_time": "2023-06-06T09:07:13.291Z"
   },
   {
    "duration": 242,
    "start_time": "2023-06-06T09:07:13.627Z"
   },
   {
    "duration": 11,
    "start_time": "2023-06-06T09:07:13.870Z"
   },
   {
    "duration": 373,
    "start_time": "2023-06-06T09:07:13.883Z"
   },
   {
    "duration": 12,
    "start_time": "2023-06-06T09:07:14.258Z"
   },
   {
    "duration": 18,
    "start_time": "2023-06-06T09:07:14.271Z"
   },
   {
    "duration": 8,
    "start_time": "2023-06-06T09:07:14.291Z"
   },
   {
    "duration": 278,
    "start_time": "2023-06-06T09:07:14.303Z"
   },
   {
    "duration": 16,
    "start_time": "2023-06-06T09:07:14.583Z"
   },
   {
    "duration": 394,
    "start_time": "2023-06-06T09:07:14.601Z"
   },
   {
    "duration": 11,
    "start_time": "2023-06-06T09:07:14.997Z"
   },
   {
    "duration": 193,
    "start_time": "2023-06-06T09:07:15.010Z"
   },
   {
    "duration": 3,
    "start_time": "2023-06-06T09:07:15.205Z"
   },
   {
    "duration": 190,
    "start_time": "2023-06-06T09:07:15.210Z"
   },
   {
    "duration": 6,
    "start_time": "2023-06-06T09:07:15.401Z"
   },
   {
    "duration": 13,
    "start_time": "2023-06-06T09:07:15.408Z"
   },
   {
    "duration": 207,
    "start_time": "2023-06-06T09:07:15.423Z"
   },
   {
    "duration": 6,
    "start_time": "2023-06-06T09:07:15.632Z"
   },
   {
    "duration": 294,
    "start_time": "2023-06-06T09:07:15.639Z"
   },
   {
    "duration": 6,
    "start_time": "2023-06-06T09:07:15.935Z"
   },
   {
    "duration": 67,
    "start_time": "2023-06-06T09:07:15.942Z"
   },
   {
    "duration": 91,
    "start_time": "2023-06-06T09:07:16.011Z"
   },
   {
    "duration": 75,
    "start_time": "2023-06-06T09:07:16.104Z"
   },
   {
    "duration": 83,
    "start_time": "2023-06-06T09:07:16.181Z"
   },
   {
    "duration": 31,
    "start_time": "2023-06-06T09:07:16.265Z"
   },
   {
    "duration": 96,
    "start_time": "2023-06-06T09:07:16.298Z"
   },
   {
    "duration": 101,
    "start_time": "2023-06-06T09:07:16.396Z"
   },
   {
    "duration": 8,
    "start_time": "2023-06-06T09:07:16.498Z"
   },
   {
    "duration": 13,
    "start_time": "2023-06-06T09:07:16.507Z"
   },
   {
    "duration": 6,
    "start_time": "2023-06-06T09:07:16.522Z"
   },
   {
    "duration": 173,
    "start_time": "2023-06-06T09:07:16.530Z"
   },
   {
    "duration": 21,
    "start_time": "2023-06-06T09:07:16.705Z"
   },
   {
    "duration": 53,
    "start_time": "2023-06-06T09:07:16.728Z"
   },
   {
    "duration": 15,
    "start_time": "2023-06-06T09:07:16.783Z"
   },
   {
    "duration": 11,
    "start_time": "2023-06-06T09:07:16.801Z"
   },
   {
    "duration": 42,
    "start_time": "2023-06-06T09:07:16.815Z"
   },
   {
    "duration": 16,
    "start_time": "2023-06-06T09:07:16.858Z"
   },
   {
    "duration": 33,
    "start_time": "2023-06-06T09:07:16.876Z"
   },
   {
    "duration": 15,
    "start_time": "2023-06-06T09:07:16.911Z"
   },
   {
    "duration": 47,
    "start_time": "2023-06-06T09:59:50.798Z"
   },
   {
    "duration": 6,
    "start_time": "2023-06-06T10:00:08.500Z"
   },
   {
    "duration": 7,
    "start_time": "2023-06-06T10:00:11.705Z"
   },
   {
    "duration": 1226,
    "start_time": "2023-06-06T10:00:20.040Z"
   },
   {
    "duration": 68,
    "start_time": "2023-06-06T10:00:21.268Z"
   },
   {
    "duration": 139,
    "start_time": "2023-06-06T10:00:21.341Z"
   },
   {
    "duration": 57,
    "start_time": "2023-06-06T10:00:21.482Z"
   },
   {
    "duration": 11,
    "start_time": "2023-06-06T10:00:21.541Z"
   },
   {
    "duration": 21,
    "start_time": "2023-06-06T10:00:21.553Z"
   },
   {
    "duration": 17,
    "start_time": "2023-06-06T10:00:21.575Z"
   },
   {
    "duration": 34,
    "start_time": "2023-06-06T10:00:21.594Z"
   },
   {
    "duration": 5,
    "start_time": "2023-06-06T10:00:21.630Z"
   },
   {
    "duration": 8,
    "start_time": "2023-06-06T10:00:21.636Z"
   },
   {
    "duration": 4,
    "start_time": "2023-06-06T10:00:21.646Z"
   },
   {
    "duration": 13,
    "start_time": "2023-06-06T10:00:21.651Z"
   },
   {
    "duration": 8,
    "start_time": "2023-06-06T10:00:21.665Z"
   },
   {
    "duration": 12,
    "start_time": "2023-06-06T10:00:21.674Z"
   },
   {
    "duration": 9,
    "start_time": "2023-06-06T10:00:21.687Z"
   },
   {
    "duration": 182,
    "start_time": "2023-06-06T10:00:21.697Z"
   },
   {
    "duration": 117,
    "start_time": "2023-06-06T10:00:21.881Z"
   },
   {
    "duration": 23,
    "start_time": "2023-06-06T10:00:22.000Z"
   },
   {
    "duration": 11,
    "start_time": "2023-06-06T10:00:22.024Z"
   },
   {
    "duration": 10,
    "start_time": "2023-06-06T10:00:22.037Z"
   },
   {
    "duration": 307,
    "start_time": "2023-06-06T10:00:22.048Z"
   },
   {
    "duration": 224,
    "start_time": "2023-06-06T10:00:22.356Z"
   },
   {
    "duration": 11,
    "start_time": "2023-06-06T10:00:22.582Z"
   },
   {
    "duration": 401,
    "start_time": "2023-06-06T10:00:22.595Z"
   },
   {
    "duration": 10,
    "start_time": "2023-06-06T10:00:22.998Z"
   },
   {
    "duration": 10,
    "start_time": "2023-06-06T10:00:23.009Z"
   },
   {
    "duration": 5,
    "start_time": "2023-06-06T10:00:23.023Z"
   },
   {
    "duration": 273,
    "start_time": "2023-06-06T10:00:23.029Z"
   },
   {
    "duration": 13,
    "start_time": "2023-06-06T10:00:23.304Z"
   },
   {
    "duration": 350,
    "start_time": "2023-06-06T10:00:23.319Z"
   },
   {
    "duration": 10,
    "start_time": "2023-06-06T10:00:23.670Z"
   },
   {
    "duration": 157,
    "start_time": "2023-06-06T10:00:23.681Z"
   },
   {
    "duration": 3,
    "start_time": "2023-06-06T10:00:23.840Z"
   },
   {
    "duration": 174,
    "start_time": "2023-06-06T10:00:23.845Z"
   },
   {
    "duration": 5,
    "start_time": "2023-06-06T10:00:24.021Z"
   },
   {
    "duration": 28,
    "start_time": "2023-06-06T10:00:24.028Z"
   },
   {
    "duration": 176,
    "start_time": "2023-06-06T10:00:24.058Z"
   },
   {
    "duration": 5,
    "start_time": "2023-06-06T10:00:24.236Z"
   },
   {
    "duration": 254,
    "start_time": "2023-06-06T10:00:24.243Z"
   },
   {
    "duration": 11,
    "start_time": "2023-06-06T10:00:24.499Z"
   },
   {
    "duration": 67,
    "start_time": "2023-06-06T10:00:24.511Z"
   },
   {
    "duration": 76,
    "start_time": "2023-06-06T10:00:24.579Z"
   },
   {
    "duration": 79,
    "start_time": "2023-06-06T10:00:24.656Z"
   },
   {
    "duration": 54,
    "start_time": "2023-06-06T10:00:24.736Z"
   },
   {
    "duration": 37,
    "start_time": "2023-06-06T10:00:24.791Z"
   },
   {
    "duration": 65,
    "start_time": "2023-06-06T10:00:24.829Z"
   },
   {
    "duration": 98,
    "start_time": "2023-06-06T10:00:24.895Z"
   },
   {
    "duration": 6,
    "start_time": "2023-06-06T10:00:24.994Z"
   },
   {
    "duration": 31,
    "start_time": "2023-06-06T10:00:25.001Z"
   },
   {
    "duration": 24,
    "start_time": "2023-06-06T10:00:25.034Z"
   },
   {
    "duration": 197,
    "start_time": "2023-06-06T10:00:25.059Z"
   },
   {
    "duration": 21,
    "start_time": "2023-06-06T10:00:25.258Z"
   },
   {
    "duration": 26,
    "start_time": "2023-06-06T10:00:25.281Z"
   },
   {
    "duration": 30,
    "start_time": "2023-06-06T10:00:25.308Z"
   },
   {
    "duration": 69,
    "start_time": "2023-06-06T10:00:25.340Z"
   },
   {
    "duration": 33,
    "start_time": "2023-06-06T10:00:25.411Z"
   },
   {
    "duration": 38,
    "start_time": "2023-06-06T10:00:25.446Z"
   },
   {
    "duration": 63,
    "start_time": "2023-06-06T10:00:25.486Z"
   },
   {
    "duration": 16,
    "start_time": "2023-06-06T10:00:25.551Z"
   },
   {
    "duration": 4,
    "start_time": "2023-06-06T10:00:38.479Z"
   },
   {
    "duration": 4,
    "start_time": "2023-06-06T10:00:43.543Z"
   },
   {
    "duration": 13,
    "start_time": "2023-06-06T10:00:55.195Z"
   },
   {
    "duration": 3,
    "start_time": "2023-06-06T10:01:29.585Z"
   },
   {
    "duration": 11,
    "start_time": "2023-06-06T10:01:50.760Z"
   },
   {
    "duration": 1284,
    "start_time": "2023-06-06T15:08:00.266Z"
   },
   {
    "duration": 77,
    "start_time": "2023-06-06T15:08:01.552Z"
   },
   {
    "duration": 109,
    "start_time": "2023-06-06T15:08:01.631Z"
   },
   {
    "duration": 61,
    "start_time": "2023-06-06T15:08:01.742Z"
   },
   {
    "duration": 16,
    "start_time": "2023-06-06T15:08:01.805Z"
   },
   {
    "duration": 19,
    "start_time": "2023-06-06T15:08:01.822Z"
   },
   {
    "duration": 23,
    "start_time": "2023-06-06T15:08:01.843Z"
   },
   {
    "duration": 24,
    "start_time": "2023-06-06T15:08:01.868Z"
   },
   {
    "duration": 32,
    "start_time": "2023-06-06T15:08:01.894Z"
   },
   {
    "duration": 24,
    "start_time": "2023-06-06T15:08:01.928Z"
   },
   {
    "duration": 31,
    "start_time": "2023-06-06T15:08:01.954Z"
   },
   {
    "duration": 37,
    "start_time": "2023-06-06T15:08:01.986Z"
   },
   {
    "duration": 76,
    "start_time": "2023-06-06T15:08:02.024Z"
   },
   {
    "duration": 13,
    "start_time": "2023-06-06T15:08:02.102Z"
   },
   {
    "duration": 31,
    "start_time": "2023-06-06T15:08:02.116Z"
   },
   {
    "duration": 199,
    "start_time": "2023-06-06T15:08:02.148Z"
   },
   {
    "duration": 134,
    "start_time": "2023-06-06T15:08:02.349Z"
   },
   {
    "duration": 13,
    "start_time": "2023-06-06T15:08:02.484Z"
   },
   {
    "duration": 14,
    "start_time": "2023-06-06T15:08:02.499Z"
   },
   {
    "duration": 20,
    "start_time": "2023-06-06T15:08:02.515Z"
   },
   {
    "duration": 338,
    "start_time": "2023-06-06T15:08:02.537Z"
   },
   {
    "duration": 266,
    "start_time": "2023-06-06T15:08:02.876Z"
   },
   {
    "duration": 13,
    "start_time": "2023-06-06T15:08:03.144Z"
   },
   {
    "duration": 430,
    "start_time": "2023-06-06T15:08:03.159Z"
   },
   {
    "duration": 10,
    "start_time": "2023-06-06T15:08:03.591Z"
   },
   {
    "duration": 8,
    "start_time": "2023-06-06T15:08:03.602Z"
   },
   {
    "duration": 4,
    "start_time": "2023-06-06T15:08:03.612Z"
   },
   {
    "duration": 303,
    "start_time": "2023-06-06T15:08:03.620Z"
   },
   {
    "duration": 14,
    "start_time": "2023-06-06T15:08:03.924Z"
   },
   {
    "duration": 478,
    "start_time": "2023-06-06T15:08:03.940Z"
   },
   {
    "duration": 11,
    "start_time": "2023-06-06T15:08:04.419Z"
   },
   {
    "duration": 197,
    "start_time": "2023-06-06T15:08:04.432Z"
   },
   {
    "duration": 3,
    "start_time": "2023-06-06T15:08:04.630Z"
   },
   {
    "duration": 174,
    "start_time": "2023-06-06T15:08:04.635Z"
   },
   {
    "duration": 6,
    "start_time": "2023-06-06T15:08:04.811Z"
   },
   {
    "duration": 16,
    "start_time": "2023-06-06T15:08:04.819Z"
   },
   {
    "duration": 206,
    "start_time": "2023-06-06T15:08:04.836Z"
   },
   {
    "duration": 4,
    "start_time": "2023-06-06T15:08:05.044Z"
   },
   {
    "duration": 284,
    "start_time": "2023-06-06T15:08:05.050Z"
   },
   {
    "duration": 6,
    "start_time": "2023-06-06T15:08:05.336Z"
   },
   {
    "duration": 63,
    "start_time": "2023-06-06T15:08:05.344Z"
   },
   {
    "duration": 66,
    "start_time": "2023-06-06T15:08:05.409Z"
   },
   {
    "duration": 78,
    "start_time": "2023-06-06T15:08:05.477Z"
   },
   {
    "duration": 87,
    "start_time": "2023-06-06T15:08:05.557Z"
   },
   {
    "duration": 46,
    "start_time": "2023-06-06T15:08:05.645Z"
   },
   {
    "duration": 87,
    "start_time": "2023-06-06T15:08:05.693Z"
   },
   {
    "duration": 94,
    "start_time": "2023-06-06T15:08:05.782Z"
   },
   {
    "duration": 8,
    "start_time": "2023-06-06T15:08:05.878Z"
   },
   {
    "duration": 8,
    "start_time": "2023-06-06T15:08:05.888Z"
   },
   {
    "duration": 15,
    "start_time": "2023-06-06T15:08:05.897Z"
   },
   {
    "duration": 146,
    "start_time": "2023-06-06T15:08:05.914Z"
   },
   {
    "duration": 28,
    "start_time": "2023-06-06T15:08:06.062Z"
   },
   {
    "duration": 24,
    "start_time": "2023-06-06T15:08:06.091Z"
   },
   {
    "duration": 11,
    "start_time": "2023-06-06T15:08:06.117Z"
   },
   {
    "duration": 23,
    "start_time": "2023-06-06T15:08:06.130Z"
   },
   {
    "duration": 26,
    "start_time": "2023-06-06T15:08:06.155Z"
   },
   {
    "duration": 15,
    "start_time": "2023-06-06T15:08:06.183Z"
   },
   {
    "duration": 35,
    "start_time": "2023-06-06T15:08:06.199Z"
   },
   {
    "duration": 14,
    "start_time": "2023-06-06T15:08:06.236Z"
   },
   {
    "duration": 6,
    "start_time": "2023-06-06T15:43:33.980Z"
   },
   {
    "duration": 5,
    "start_time": "2023-06-06T15:43:41.840Z"
   },
   {
    "duration": 6,
    "start_time": "2023-06-06T15:44:28.863Z"
   },
   {
    "duration": 7,
    "start_time": "2023-06-06T15:44:41.761Z"
   },
   {
    "duration": 6,
    "start_time": "2023-06-06T15:44:47.404Z"
   },
   {
    "duration": 6,
    "start_time": "2023-06-06T15:44:54.636Z"
   },
   {
    "duration": 5,
    "start_time": "2023-06-06T15:46:42.670Z"
   },
   {
    "duration": 50,
    "start_time": "2023-06-06T15:47:47.816Z"
   },
   {
    "duration": 6,
    "start_time": "2023-06-06T16:24:39.464Z"
   },
   {
    "duration": 12,
    "start_time": "2023-06-06T16:24:46.775Z"
   },
   {
    "duration": 110,
    "start_time": "2023-06-06T16:26:09.250Z"
   },
   {
    "duration": 13,
    "start_time": "2023-06-06T16:26:39.140Z"
   },
   {
    "duration": 27,
    "start_time": "2023-06-06T16:26:50.686Z"
   },
   {
    "duration": 11,
    "start_time": "2023-06-06T16:27:05.500Z"
   },
   {
    "duration": 29,
    "start_time": "2023-06-06T16:27:30.138Z"
   },
   {
    "duration": 14,
    "start_time": "2023-06-06T16:27:42.606Z"
   },
   {
    "duration": 12,
    "start_time": "2023-06-06T16:28:12.960Z"
   },
   {
    "duration": 13,
    "start_time": "2023-06-06T16:28:28.878Z"
   },
   {
    "duration": 29,
    "start_time": "2023-06-06T16:28:46.214Z"
   },
   {
    "duration": 32,
    "start_time": "2023-06-06T16:29:12.082Z"
   },
   {
    "duration": 29,
    "start_time": "2023-06-06T16:29:21.442Z"
   },
   {
    "duration": 12,
    "start_time": "2023-06-06T16:29:30.896Z"
   },
   {
    "duration": 10,
    "start_time": "2023-06-06T16:30:00.052Z"
   },
   {
    "duration": 13,
    "start_time": "2023-06-06T16:32:16.255Z"
   },
   {
    "duration": 10,
    "start_time": "2023-06-06T16:32:24.494Z"
   },
   {
    "duration": 22,
    "start_time": "2023-06-06T16:37:31.802Z"
   },
   {
    "duration": 52,
    "start_time": "2023-06-06T16:39:29.132Z"
   },
   {
    "duration": 44,
    "start_time": "2023-06-06T16:39:42.604Z"
   },
   {
    "duration": 49,
    "start_time": "2023-06-06T16:39:53.315Z"
   },
   {
    "duration": 4,
    "start_time": "2023-06-06T16:39:58.076Z"
   },
   {
    "duration": 13,
    "start_time": "2023-06-06T16:40:06.615Z"
   },
   {
    "duration": 5,
    "start_time": "2023-06-06T16:40:42.245Z"
   },
   {
    "duration": 5,
    "start_time": "2023-06-06T16:41:04.062Z"
   },
   {
    "duration": 14,
    "start_time": "2023-06-06T16:41:10.372Z"
   },
   {
    "duration": 6,
    "start_time": "2023-06-06T16:41:29.255Z"
   },
   {
    "duration": 6,
    "start_time": "2023-06-06T16:43:30.577Z"
   },
   {
    "duration": 8,
    "start_time": "2023-06-06T16:43:45.041Z"
   },
   {
    "duration": 6,
    "start_time": "2023-06-06T16:46:09.404Z"
   },
   {
    "duration": 8,
    "start_time": "2023-06-06T16:47:47.723Z"
   },
   {
    "duration": 8,
    "start_time": "2023-06-06T16:47:58.881Z"
   },
   {
    "duration": 19,
    "start_time": "2023-06-06T16:50:08.615Z"
   },
   {
    "duration": 5,
    "start_time": "2023-06-06T16:50:52.527Z"
   },
   {
    "duration": 5,
    "start_time": "2023-06-06T16:51:02.115Z"
   },
   {
    "duration": 1189,
    "start_time": "2023-06-06T20:47:25.878Z"
   },
   {
    "duration": 38,
    "start_time": "2023-06-06T20:47:27.070Z"
   },
   {
    "duration": 46,
    "start_time": "2023-06-06T20:47:27.109Z"
   },
   {
    "duration": 32,
    "start_time": "2023-06-06T20:47:27.157Z"
   },
   {
    "duration": 20,
    "start_time": "2023-06-06T20:47:27.192Z"
   },
   {
    "duration": 14,
    "start_time": "2023-06-06T20:47:27.213Z"
   },
   {
    "duration": 43,
    "start_time": "2023-06-06T20:47:27.229Z"
   },
   {
    "duration": 21,
    "start_time": "2023-06-06T20:47:27.279Z"
   },
   {
    "duration": 8,
    "start_time": "2023-06-06T20:47:27.302Z"
   },
   {
    "duration": 7,
    "start_time": "2023-06-06T20:47:27.311Z"
   },
   {
    "duration": 4,
    "start_time": "2023-06-06T20:47:27.320Z"
   },
   {
    "duration": 43,
    "start_time": "2023-06-06T20:47:27.327Z"
   },
   {
    "duration": 7,
    "start_time": "2023-06-06T20:47:27.373Z"
   },
   {
    "duration": 21,
    "start_time": "2023-06-06T20:47:27.383Z"
   },
   {
    "duration": 19,
    "start_time": "2023-06-06T20:47:27.406Z"
   },
   {
    "duration": 12,
    "start_time": "2023-06-06T20:47:27.427Z"
   },
   {
    "duration": 145,
    "start_time": "2023-06-06T20:47:27.457Z"
   },
   {
    "duration": 0,
    "start_time": "2023-06-06T20:47:27.604Z"
   },
   {
    "duration": 0,
    "start_time": "2023-06-06T20:47:27.605Z"
   },
   {
    "duration": 0,
    "start_time": "2023-06-06T20:47:27.606Z"
   },
   {
    "duration": 0,
    "start_time": "2023-06-06T20:47:27.608Z"
   },
   {
    "duration": 0,
    "start_time": "2023-06-06T20:47:27.609Z"
   },
   {
    "duration": 0,
    "start_time": "2023-06-06T20:47:27.610Z"
   },
   {
    "duration": 0,
    "start_time": "2023-06-06T20:47:27.611Z"
   },
   {
    "duration": 0,
    "start_time": "2023-06-06T20:47:27.612Z"
   },
   {
    "duration": 0,
    "start_time": "2023-06-06T20:47:27.613Z"
   },
   {
    "duration": 0,
    "start_time": "2023-06-06T20:47:27.614Z"
   },
   {
    "duration": 0,
    "start_time": "2023-06-06T20:47:27.615Z"
   },
   {
    "duration": 0,
    "start_time": "2023-06-06T20:47:27.616Z"
   },
   {
    "duration": 0,
    "start_time": "2023-06-06T20:47:27.617Z"
   },
   {
    "duration": 0,
    "start_time": "2023-06-06T20:47:27.618Z"
   },
   {
    "duration": 0,
    "start_time": "2023-06-06T20:47:27.620Z"
   },
   {
    "duration": 0,
    "start_time": "2023-06-06T20:47:27.621Z"
   },
   {
    "duration": 0,
    "start_time": "2023-06-06T20:47:27.622Z"
   },
   {
    "duration": 0,
    "start_time": "2023-06-06T20:47:27.623Z"
   },
   {
    "duration": 0,
    "start_time": "2023-06-06T20:47:27.662Z"
   },
   {
    "duration": 0,
    "start_time": "2023-06-06T20:47:27.664Z"
   },
   {
    "duration": 0,
    "start_time": "2023-06-06T20:47:27.666Z"
   },
   {
    "duration": 0,
    "start_time": "2023-06-06T20:47:27.667Z"
   },
   {
    "duration": 0,
    "start_time": "2023-06-06T20:47:27.669Z"
   },
   {
    "duration": 0,
    "start_time": "2023-06-06T20:47:27.671Z"
   },
   {
    "duration": 0,
    "start_time": "2023-06-06T20:47:27.672Z"
   },
   {
    "duration": 0,
    "start_time": "2023-06-06T20:47:27.673Z"
   },
   {
    "duration": 0,
    "start_time": "2023-06-06T20:47:27.674Z"
   },
   {
    "duration": 0,
    "start_time": "2023-06-06T20:47:27.675Z"
   },
   {
    "duration": 0,
    "start_time": "2023-06-06T20:47:27.681Z"
   },
   {
    "duration": 0,
    "start_time": "2023-06-06T20:47:27.682Z"
   },
   {
    "duration": 0,
    "start_time": "2023-06-06T20:47:27.683Z"
   },
   {
    "duration": 0,
    "start_time": "2023-06-06T20:47:27.684Z"
   },
   {
    "duration": 0,
    "start_time": "2023-06-06T20:47:27.685Z"
   },
   {
    "duration": 0,
    "start_time": "2023-06-06T20:47:27.686Z"
   },
   {
    "duration": 0,
    "start_time": "2023-06-06T20:47:27.687Z"
   },
   {
    "duration": 0,
    "start_time": "2023-06-06T20:47:27.688Z"
   },
   {
    "duration": 0,
    "start_time": "2023-06-06T20:47:27.689Z"
   },
   {
    "duration": 0,
    "start_time": "2023-06-06T20:47:27.690Z"
   },
   {
    "duration": 0,
    "start_time": "2023-06-06T20:47:27.691Z"
   },
   {
    "duration": 0,
    "start_time": "2023-06-06T20:47:27.692Z"
   },
   {
    "duration": 0,
    "start_time": "2023-06-06T20:47:27.693Z"
   },
   {
    "duration": 0,
    "start_time": "2023-06-06T20:47:27.694Z"
   },
   {
    "duration": 1,
    "start_time": "2023-06-06T20:47:27.694Z"
   },
   {
    "duration": 0,
    "start_time": "2023-06-06T20:47:27.695Z"
   },
   {
    "duration": 0,
    "start_time": "2023-06-06T20:47:27.697Z"
   },
   {
    "duration": 51,
    "start_time": "2023-06-14T12:04:13.436Z"
   },
   {
    "duration": 1260,
    "start_time": "2023-06-14T12:04:27.611Z"
   },
   {
    "duration": 105,
    "start_time": "2023-06-14T12:04:28.874Z"
   },
   {
    "duration": 112,
    "start_time": "2023-06-14T12:04:28.981Z"
   },
   {
    "duration": 95,
    "start_time": "2023-06-14T12:04:29.095Z"
   },
   {
    "duration": 76,
    "start_time": "2023-06-14T12:04:29.192Z"
   },
   {
    "duration": 110,
    "start_time": "2023-06-14T12:04:29.271Z"
   },
   {
    "duration": 56,
    "start_time": "2023-06-14T12:04:29.383Z"
   },
   {
    "duration": 43,
    "start_time": "2023-06-14T12:04:29.442Z"
   },
   {
    "duration": 55,
    "start_time": "2023-06-14T12:04:29.487Z"
   },
   {
    "duration": 23,
    "start_time": "2023-06-14T12:04:29.545Z"
   },
   {
    "duration": 14,
    "start_time": "2023-06-14T12:04:29.570Z"
   },
   {
    "duration": 30,
    "start_time": "2023-06-14T12:04:29.586Z"
   },
   {
    "duration": 5,
    "start_time": "2023-06-14T12:04:29.625Z"
   },
   {
    "duration": 33,
    "start_time": "2023-06-14T12:04:29.639Z"
   },
   {
    "duration": 23,
    "start_time": "2023-06-14T12:04:29.675Z"
   },
   {
    "duration": 27,
    "start_time": "2023-06-14T12:04:29.701Z"
   },
   {
    "duration": 31,
    "start_time": "2023-06-14T12:04:29.730Z"
   },
   {
    "duration": 13,
    "start_time": "2023-06-14T12:04:29.764Z"
   },
   {
    "duration": 283,
    "start_time": "2023-06-14T12:04:29.780Z"
   },
   {
    "duration": 210,
    "start_time": "2023-06-14T12:04:30.065Z"
   },
   {
    "duration": 18,
    "start_time": "2023-06-14T12:04:30.278Z"
   },
   {
    "duration": 88,
    "start_time": "2023-06-14T12:04:30.299Z"
   },
   {
    "duration": 406,
    "start_time": "2023-06-14T12:04:30.389Z"
   },
   {
    "duration": 597,
    "start_time": "2023-06-14T12:04:30.797Z"
   },
   {
    "duration": 510,
    "start_time": "2023-06-14T12:04:31.396Z"
   },
   {
    "duration": 193,
    "start_time": "2023-06-14T12:04:31.908Z"
   },
   {
    "duration": 1199,
    "start_time": "2023-06-14T12:04:32.103Z"
   },
   {
    "duration": 28,
    "start_time": "2023-06-14T12:04:33.314Z"
   },
   {
    "duration": 18,
    "start_time": "2023-06-14T12:04:33.345Z"
   },
   {
    "duration": 40,
    "start_time": "2023-06-14T12:04:33.365Z"
   },
   {
    "duration": 372,
    "start_time": "2023-06-14T12:04:33.407Z"
   },
   {
    "duration": 22,
    "start_time": "2023-06-14T12:04:33.781Z"
   },
   {
    "duration": 504,
    "start_time": "2023-06-14T12:04:33.805Z"
   },
   {
    "duration": 18,
    "start_time": "2023-06-14T12:04:34.321Z"
   },
   {
    "duration": 658,
    "start_time": "2023-06-14T12:04:34.341Z"
   },
   {
    "duration": 3,
    "start_time": "2023-06-14T12:04:35.002Z"
   },
   {
    "duration": 208,
    "start_time": "2023-06-14T12:04:35.016Z"
   },
   {
    "duration": 5,
    "start_time": "2023-06-14T12:04:35.226Z"
   },
   {
    "duration": 57,
    "start_time": "2023-06-14T12:04:35.233Z"
   },
   {
    "duration": 249,
    "start_time": "2023-06-14T12:04:35.292Z"
   },
   {
    "duration": 6,
    "start_time": "2023-06-14T12:04:35.543Z"
   },
   {
    "duration": 363,
    "start_time": "2023-06-14T12:04:35.554Z"
   },
   {
    "duration": 13,
    "start_time": "2023-06-14T12:04:35.920Z"
   },
   {
    "duration": 58,
    "start_time": "2023-06-14T12:04:35.939Z"
   },
   {
    "duration": 86,
    "start_time": "2023-06-14T12:04:36.000Z"
   },
   {
    "duration": 105,
    "start_time": "2023-06-14T12:04:36.088Z"
   },
   {
    "duration": 84,
    "start_time": "2023-06-14T12:04:36.195Z"
   },
   {
    "duration": 72,
    "start_time": "2023-06-14T12:04:36.281Z"
   },
   {
    "duration": 87,
    "start_time": "2023-06-14T12:04:36.355Z"
   },
   {
    "duration": 158,
    "start_time": "2023-06-14T12:04:36.444Z"
   },
   {
    "duration": 19,
    "start_time": "2023-06-14T12:04:36.604Z"
   },
   {
    "duration": 33,
    "start_time": "2023-06-14T12:04:36.625Z"
   },
   {
    "duration": 26,
    "start_time": "2023-06-14T12:04:36.660Z"
   },
   {
    "duration": 198,
    "start_time": "2023-06-14T12:04:36.688Z"
   },
   {
    "duration": 39,
    "start_time": "2023-06-14T12:04:36.888Z"
   },
   {
    "duration": 32,
    "start_time": "2023-06-14T12:04:36.929Z"
   },
   {
    "duration": 15,
    "start_time": "2023-06-14T12:04:36.963Z"
   },
   {
    "duration": 9,
    "start_time": "2023-06-14T12:04:36.980Z"
   },
   {
    "duration": 32,
    "start_time": "2023-06-14T12:04:36.991Z"
   },
   {
    "duration": 10,
    "start_time": "2023-06-14T12:04:37.025Z"
   },
   {
    "duration": 32,
    "start_time": "2023-06-14T12:04:37.038Z"
   },
   {
    "duration": 18,
    "start_time": "2023-06-14T12:04:37.072Z"
   },
   {
    "duration": 14,
    "start_time": "2023-06-14T12:07:24.212Z"
   }
  ],
  "kernelspec": {
   "display_name": "Python 3 (ipykernel)",
   "language": "python",
   "name": "python3"
  },
  "language_info": {
   "codemirror_mode": {
    "name": "ipython",
    "version": 3
   },
   "file_extension": ".py",
   "mimetype": "text/x-python",
   "name": "python",
   "nbconvert_exporter": "python",
   "pygments_lexer": "ipython3",
   "version": "3.10.9"
  },
  "toc": {
   "base_numbering": 1,
   "nav_menu": {},
   "number_sections": true,
   "sideBar": true,
   "skip_h1_title": true,
   "title_cell": "Table of Contents",
   "title_sidebar": "Contents",
   "toc_cell": false,
   "toc_position": {},
   "toc_section_display": true,
   "toc_window_display": false
  }
 },
 "nbformat": 4,
 "nbformat_minor": 2
}
