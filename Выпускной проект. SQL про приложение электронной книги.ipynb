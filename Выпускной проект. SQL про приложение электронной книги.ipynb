{
 "cells": [
  {
   "cell_type": "markdown",
   "metadata": {},
   "source": []
  },
  {
   "cell_type": "markdown",
   "metadata": {},
   "source": [
    "# Проект по SQL про книги"
   ]
  },
  {
   "cell_type": "markdown",
   "metadata": {},
   "source": [
    "Коронавирус застал мир врасплох, изменив привычный порядок вещей. В свободное время жители городов больше не выходят на улицу, не посещают кафе и торговые центры. Зато стало больше времени для книг. Это заметили стартаперы — и бросились создавать приложения для тех, кто любит читать.\n",
    "\n",
    "\n",
    "Ваша компания решила быть на волне и купила крупный сервис для чтения книг по подписке. Ваша первая задача как аналитика — проанализировать базу данных.\n",
    "В ней — информация о книгах, издательствах, авторах, а также пользовательские обзоры книг. Эти данные помогут сформулировать ценностное предложение для нового продукта."
   ]
  },
  {
   "cell_type": "markdown",
   "metadata": {},
   "source": [
    "**Цель**\n",
    "\n",
    "Анализ базы данных сервиса для чтения книг\n",
    "\n",
    "**Задачи**\n",
    "\n",
    "- Посчитайте, сколько книг вышло после 1 января 2000 года;\n",
    "- Для каждой книги посчитайте количество обзоров и среднюю оценку;\n",
    "- Определите издательство, которое выпустило наибольшее число книг толще50 страниц — так вы исключите из анализа брошюры;\n",
    "- Определите автора с самой высокой средней оценкой книг — учитывайте только книги с 50 и более оценками;\n",
    "- Посчитайте среднее количество обзоров от пользователей, которые поставили больше 48 оценок.\n",
    "\n",
    "\n",
    "**Содержании базы данных**\n",
    "\n",
    "Таблица **books**\n",
    "\n",
    "\n",
    "Содержит данные о книгах:\n",
    "- book_id — идентификатор книги;\n",
    "- author_id — идентификатор автора;\n",
    "- title — название книги;\n",
    "- num_pages — количество страниц;\n",
    "- publication_date — дата публикации книги;\n",
    "- publisher_id — идентификатор издателя.\n",
    "\n",
    "Таблица **authors**\n",
    "\n",
    "\n",
    "Содержит данные об авторах:\n",
    "- author_id — идентификатор автора;\n",
    "- author — имя автора.\n",
    "\n",
    "\n",
    "Таблица **publishers**\n",
    "\n",
    "\n",
    "Содержит данные об издательствах:\n",
    "- publisher_id — идентификатор издательства;\n",
    "- publisher — название издательства;\n",
    "\n",
    "\n",
    "Таблица **ratings**\n",
    "\n",
    "\n",
    "Содержит данные о пользовательских оценках книг:\n",
    "- rating_id — идентификатор оценки;\n",
    "- book_id — идентификатор книги;\n",
    "- username — имя пользователя, оставившего оценку;\n",
    "- rating — оценка книги.\n",
    "\n",
    "\n",
    "Таблица **reviews**\n",
    "\n",
    "\n",
    "Содержит данные о пользовательских обзорах на книги:\n",
    "- review_id — идентификатор обзора;\n",
    "- book_id — идентификатор книги;\n",
    "- username — имя пользователя, написавшего обзор;\n",
    "- text — текст обзора."
   ]
  },
  {
   "cell_type": "markdown",
   "metadata": {},
   "source": [
    "# Импортируем библиотеки и устанавливаем параметры подключения к базе данных"
   ]
  },
  {
   "cell_type": "code",
   "execution_count": 1,
   "metadata": {},
   "outputs": [],
   "source": [
    "import pandas as pd\n",
    "import sqlalchemy as sa"
   ]
  },
  {
   "cell_type": "code",
   "execution_count": 2,
   "metadata": {},
   "outputs": [],
   "source": [
    "db_config = {\n",
    "'user': 'praktikum_student', # имя пользователя\n",
    "'pwd': 'Sdf4$2;d-d30pp', # пароль\n",
    "'host': 'rc1b-wcoijxj3yxfsf3fs.mdb.yandexcloud.net',\n",
    "'port': 6432, # порт подключения\n",
    "'db': 'data-analyst-final-project-db' # название базы данных\n",
    "}\n",
    "connection_string = 'postgresql://{user}:{pwd}@{host}:{port}/{db}'.format(**db_config)\n",
    "# сохраняем коннектор\n",
    "engine = sa.create_engine(connection_string, connect_args={'sslmode':'require'})"
   ]
  },
  {
   "cell_type": "markdown",
   "metadata": {},
   "source": [
    "Откроем все таблицы базы данных и посчитаем количество строк в таблицах\n",
    "\n",
    "Таблица **books**"
   ]
  },
  {
   "cell_type": "code",
   "execution_count": 3,
   "metadata": {},
   "outputs": [
    {
     "data": {
      "text/html": [
       "<div>\n",
       "<style scoped>\n",
       "    .dataframe tbody tr th:only-of-type {\n",
       "        vertical-align: middle;\n",
       "    }\n",
       "\n",
       "    .dataframe tbody tr th {\n",
       "        vertical-align: top;\n",
       "    }\n",
       "\n",
       "    .dataframe thead th {\n",
       "        text-align: right;\n",
       "    }\n",
       "</style>\n",
       "<table border=\"1\" class=\"dataframe\">\n",
       "  <thead>\n",
       "    <tr style=\"text-align: right;\">\n",
       "      <th></th>\n",
       "      <th>book_id</th>\n",
       "      <th>author_id</th>\n",
       "      <th>title</th>\n",
       "      <th>num_pages</th>\n",
       "      <th>publication_date</th>\n",
       "      <th>publisher_id</th>\n",
       "    </tr>\n",
       "  </thead>\n",
       "  <tbody>\n",
       "    <tr>\n",
       "      <th>0</th>\n",
       "      <td>1</td>\n",
       "      <td>546</td>\n",
       "      <td>'Salem's Lot</td>\n",
       "      <td>594</td>\n",
       "      <td>2005-11-01</td>\n",
       "      <td>93</td>\n",
       "    </tr>\n",
       "    <tr>\n",
       "      <th>1</th>\n",
       "      <td>2</td>\n",
       "      <td>465</td>\n",
       "      <td>1 000 Places to See Before You Die</td>\n",
       "      <td>992</td>\n",
       "      <td>2003-05-22</td>\n",
       "      <td>336</td>\n",
       "    </tr>\n",
       "    <tr>\n",
       "      <th>2</th>\n",
       "      <td>3</td>\n",
       "      <td>407</td>\n",
       "      <td>13 Little Blue Envelopes (Little Blue Envelope...</td>\n",
       "      <td>322</td>\n",
       "      <td>2010-12-21</td>\n",
       "      <td>135</td>\n",
       "    </tr>\n",
       "    <tr>\n",
       "      <th>3</th>\n",
       "      <td>4</td>\n",
       "      <td>82</td>\n",
       "      <td>1491: New Revelations of the Americas Before C...</td>\n",
       "      <td>541</td>\n",
       "      <td>2006-10-10</td>\n",
       "      <td>309</td>\n",
       "    </tr>\n",
       "    <tr>\n",
       "      <th>4</th>\n",
       "      <td>5</td>\n",
       "      <td>125</td>\n",
       "      <td>1776</td>\n",
       "      <td>386</td>\n",
       "      <td>2006-07-04</td>\n",
       "      <td>268</td>\n",
       "    </tr>\n",
       "  </tbody>\n",
       "</table>\n",
       "</div>"
      ],
      "text/plain": [
       "   book_id  author_id                                              title  \\\n",
       "0        1        546                                       'Salem's Lot   \n",
       "1        2        465                 1 000 Places to See Before You Die   \n",
       "2        3        407  13 Little Blue Envelopes (Little Blue Envelope...   \n",
       "3        4         82  1491: New Revelations of the Americas Before C...   \n",
       "4        5        125                                               1776   \n",
       "\n",
       "   num_pages publication_date  publisher_id  \n",
       "0        594       2005-11-01            93  \n",
       "1        992       2003-05-22           336  \n",
       "2        322       2010-12-21           135  \n",
       "3        541       2006-10-10           309  \n",
       "4        386       2006-07-04           268  "
      ]
     },
     "execution_count": 3,
     "metadata": {},
     "output_type": "execute_result"
    }
   ],
   "source": [
    "query = '''SELECT *\n",
    "FROM books \n",
    "LIMIT 5;'''\n",
    "con = engine.connect()\n",
    "pd.read_sql(sql=sa.text(query), con = con)"
   ]
  },
  {
   "cell_type": "code",
   "execution_count": 4,
   "metadata": {},
   "outputs": [
    {
     "data": {
      "text/html": [
       "<div>\n",
       "<style scoped>\n",
       "    .dataframe tbody tr th:only-of-type {\n",
       "        vertical-align: middle;\n",
       "    }\n",
       "\n",
       "    .dataframe tbody tr th {\n",
       "        vertical-align: top;\n",
       "    }\n",
       "\n",
       "    .dataframe thead th {\n",
       "        text-align: right;\n",
       "    }\n",
       "</style>\n",
       "<table border=\"1\" class=\"dataframe\">\n",
       "  <thead>\n",
       "    <tr style=\"text-align: right;\">\n",
       "      <th></th>\n",
       "      <th>count</th>\n",
       "    </tr>\n",
       "  </thead>\n",
       "  <tbody>\n",
       "    <tr>\n",
       "      <th>0</th>\n",
       "      <td>1000</td>\n",
       "    </tr>\n",
       "  </tbody>\n",
       "</table>\n",
       "</div>"
      ],
      "text/plain": [
       "   count\n",
       "0   1000"
      ]
     },
     "execution_count": 4,
     "metadata": {},
     "output_type": "execute_result"
    }
   ],
   "source": [
    "query = '''SELECT COUNT(*)\n",
    "FROM books;'''\n",
    "con = engine.connect()\n",
    "pd.read_sql(sql=sa.text(query), con = con)"
   ]
  },
  {
   "cell_type": "markdown",
   "metadata": {},
   "source": [
    "Таблица **authors**"
   ]
  },
  {
   "cell_type": "code",
   "execution_count": 5,
   "metadata": {},
   "outputs": [
    {
     "data": {
      "text/html": [
       "<div>\n",
       "<style scoped>\n",
       "    .dataframe tbody tr th:only-of-type {\n",
       "        vertical-align: middle;\n",
       "    }\n",
       "\n",
       "    .dataframe tbody tr th {\n",
       "        vertical-align: top;\n",
       "    }\n",
       "\n",
       "    .dataframe thead th {\n",
       "        text-align: right;\n",
       "    }\n",
       "</style>\n",
       "<table border=\"1\" class=\"dataframe\">\n",
       "  <thead>\n",
       "    <tr style=\"text-align: right;\">\n",
       "      <th></th>\n",
       "      <th>author_id</th>\n",
       "      <th>author</th>\n",
       "    </tr>\n",
       "  </thead>\n",
       "  <tbody>\n",
       "    <tr>\n",
       "      <th>0</th>\n",
       "      <td>1</td>\n",
       "      <td>A.S. Byatt</td>\n",
       "    </tr>\n",
       "    <tr>\n",
       "      <th>1</th>\n",
       "      <td>2</td>\n",
       "      <td>Aesop/Laura Harris/Laura Gibbs</td>\n",
       "    </tr>\n",
       "    <tr>\n",
       "      <th>2</th>\n",
       "      <td>3</td>\n",
       "      <td>Agatha Christie</td>\n",
       "    </tr>\n",
       "    <tr>\n",
       "      <th>3</th>\n",
       "      <td>4</td>\n",
       "      <td>Alan Brennert</td>\n",
       "    </tr>\n",
       "    <tr>\n",
       "      <th>4</th>\n",
       "      <td>5</td>\n",
       "      <td>Alan Moore/David   Lloyd</td>\n",
       "    </tr>\n",
       "  </tbody>\n",
       "</table>\n",
       "</div>"
      ],
      "text/plain": [
       "   author_id                          author\n",
       "0          1                      A.S. Byatt\n",
       "1          2  Aesop/Laura Harris/Laura Gibbs\n",
       "2          3                 Agatha Christie\n",
       "3          4                   Alan Brennert\n",
       "4          5        Alan Moore/David   Lloyd"
      ]
     },
     "execution_count": 5,
     "metadata": {},
     "output_type": "execute_result"
    }
   ],
   "source": [
    "query = '''SELECT *\n",
    "FROM authors\n",
    "LIMIT 5;'''\n",
    "con = engine.connect()\n",
    "pd.read_sql(sql=sa.text(query), con = con)"
   ]
  },
  {
   "cell_type": "code",
   "execution_count": 6,
   "metadata": {},
   "outputs": [
    {
     "data": {
      "text/html": [
       "<div>\n",
       "<style scoped>\n",
       "    .dataframe tbody tr th:only-of-type {\n",
       "        vertical-align: middle;\n",
       "    }\n",
       "\n",
       "    .dataframe tbody tr th {\n",
       "        vertical-align: top;\n",
       "    }\n",
       "\n",
       "    .dataframe thead th {\n",
       "        text-align: right;\n",
       "    }\n",
       "</style>\n",
       "<table border=\"1\" class=\"dataframe\">\n",
       "  <thead>\n",
       "    <tr style=\"text-align: right;\">\n",
       "      <th></th>\n",
       "      <th>count</th>\n",
       "    </tr>\n",
       "  </thead>\n",
       "  <tbody>\n",
       "    <tr>\n",
       "      <th>0</th>\n",
       "      <td>636</td>\n",
       "    </tr>\n",
       "  </tbody>\n",
       "</table>\n",
       "</div>"
      ],
      "text/plain": [
       "   count\n",
       "0    636"
      ]
     },
     "execution_count": 6,
     "metadata": {},
     "output_type": "execute_result"
    }
   ],
   "source": [
    "query = '''SELECT COUNT(*)\n",
    "FROM authors;'''\n",
    "con = engine.connect()\n",
    "pd.read_sql(sql=sa.text(query), con = con)"
   ]
  },
  {
   "cell_type": "markdown",
   "metadata": {},
   "source": [
    "Таблица **publishers**"
   ]
  },
  {
   "cell_type": "code",
   "execution_count": 7,
   "metadata": {},
   "outputs": [
    {
     "data": {
      "text/html": [
       "<div>\n",
       "<style scoped>\n",
       "    .dataframe tbody tr th:only-of-type {\n",
       "        vertical-align: middle;\n",
       "    }\n",
       "\n",
       "    .dataframe tbody tr th {\n",
       "        vertical-align: top;\n",
       "    }\n",
       "\n",
       "    .dataframe thead th {\n",
       "        text-align: right;\n",
       "    }\n",
       "</style>\n",
       "<table border=\"1\" class=\"dataframe\">\n",
       "  <thead>\n",
       "    <tr style=\"text-align: right;\">\n",
       "      <th></th>\n",
       "      <th>publisher_id</th>\n",
       "      <th>publisher</th>\n",
       "    </tr>\n",
       "  </thead>\n",
       "  <tbody>\n",
       "    <tr>\n",
       "      <th>0</th>\n",
       "      <td>1</td>\n",
       "      <td>Ace</td>\n",
       "    </tr>\n",
       "    <tr>\n",
       "      <th>1</th>\n",
       "      <td>2</td>\n",
       "      <td>Ace Book</td>\n",
       "    </tr>\n",
       "    <tr>\n",
       "      <th>2</th>\n",
       "      <td>3</td>\n",
       "      <td>Ace Books</td>\n",
       "    </tr>\n",
       "    <tr>\n",
       "      <th>3</th>\n",
       "      <td>4</td>\n",
       "      <td>Ace Hardcover</td>\n",
       "    </tr>\n",
       "    <tr>\n",
       "      <th>4</th>\n",
       "      <td>5</td>\n",
       "      <td>Addison Wesley Publishing Company</td>\n",
       "    </tr>\n",
       "  </tbody>\n",
       "</table>\n",
       "</div>"
      ],
      "text/plain": [
       "   publisher_id                          publisher\n",
       "0             1                                Ace\n",
       "1             2                           Ace Book\n",
       "2             3                          Ace Books\n",
       "3             4                      Ace Hardcover\n",
       "4             5  Addison Wesley Publishing Company"
      ]
     },
     "execution_count": 7,
     "metadata": {},
     "output_type": "execute_result"
    }
   ],
   "source": [
    "query = '''SELECT *\n",
    "FROM publishers\n",
    "LIMIT 5;'''\n",
    "con = engine.connect()\n",
    "pd.read_sql(sql=sa.text(query), con = con)"
   ]
  },
  {
   "cell_type": "code",
   "execution_count": 8,
   "metadata": {},
   "outputs": [
    {
     "data": {
      "text/html": [
       "<div>\n",
       "<style scoped>\n",
       "    .dataframe tbody tr th:only-of-type {\n",
       "        vertical-align: middle;\n",
       "    }\n",
       "\n",
       "    .dataframe tbody tr th {\n",
       "        vertical-align: top;\n",
       "    }\n",
       "\n",
       "    .dataframe thead th {\n",
       "        text-align: right;\n",
       "    }\n",
       "</style>\n",
       "<table border=\"1\" class=\"dataframe\">\n",
       "  <thead>\n",
       "    <tr style=\"text-align: right;\">\n",
       "      <th></th>\n",
       "      <th>count</th>\n",
       "    </tr>\n",
       "  </thead>\n",
       "  <tbody>\n",
       "    <tr>\n",
       "      <th>0</th>\n",
       "      <td>340</td>\n",
       "    </tr>\n",
       "  </tbody>\n",
       "</table>\n",
       "</div>"
      ],
      "text/plain": [
       "   count\n",
       "0    340"
      ]
     },
     "execution_count": 8,
     "metadata": {},
     "output_type": "execute_result"
    }
   ],
   "source": [
    "query = '''SELECT COUNT(*)\n",
    "FROM publishers;'''\n",
    "con = engine.connect()\n",
    "pd.read_sql(sql=sa.text(query), con = con)"
   ]
  },
  {
   "cell_type": "markdown",
   "metadata": {},
   "source": [
    "Таблица **ratings**"
   ]
  },
  {
   "cell_type": "code",
   "execution_count": 9,
   "metadata": {},
   "outputs": [
    {
     "data": {
      "text/html": [
       "<div>\n",
       "<style scoped>\n",
       "    .dataframe tbody tr th:only-of-type {\n",
       "        vertical-align: middle;\n",
       "    }\n",
       "\n",
       "    .dataframe tbody tr th {\n",
       "        vertical-align: top;\n",
       "    }\n",
       "\n",
       "    .dataframe thead th {\n",
       "        text-align: right;\n",
       "    }\n",
       "</style>\n",
       "<table border=\"1\" class=\"dataframe\">\n",
       "  <thead>\n",
       "    <tr style=\"text-align: right;\">\n",
       "      <th></th>\n",
       "      <th>rating_id</th>\n",
       "      <th>book_id</th>\n",
       "      <th>username</th>\n",
       "      <th>rating</th>\n",
       "    </tr>\n",
       "  </thead>\n",
       "  <tbody>\n",
       "    <tr>\n",
       "      <th>0</th>\n",
       "      <td>1</td>\n",
       "      <td>1</td>\n",
       "      <td>ryanfranco</td>\n",
       "      <td>4</td>\n",
       "    </tr>\n",
       "    <tr>\n",
       "      <th>1</th>\n",
       "      <td>2</td>\n",
       "      <td>1</td>\n",
       "      <td>grantpatricia</td>\n",
       "      <td>2</td>\n",
       "    </tr>\n",
       "    <tr>\n",
       "      <th>2</th>\n",
       "      <td>3</td>\n",
       "      <td>1</td>\n",
       "      <td>brandtandrea</td>\n",
       "      <td>5</td>\n",
       "    </tr>\n",
       "    <tr>\n",
       "      <th>3</th>\n",
       "      <td>4</td>\n",
       "      <td>2</td>\n",
       "      <td>lorichen</td>\n",
       "      <td>3</td>\n",
       "    </tr>\n",
       "    <tr>\n",
       "      <th>4</th>\n",
       "      <td>5</td>\n",
       "      <td>2</td>\n",
       "      <td>mariokeller</td>\n",
       "      <td>2</td>\n",
       "    </tr>\n",
       "  </tbody>\n",
       "</table>\n",
       "</div>"
      ],
      "text/plain": [
       "   rating_id  book_id       username  rating\n",
       "0          1        1     ryanfranco       4\n",
       "1          2        1  grantpatricia       2\n",
       "2          3        1   brandtandrea       5\n",
       "3          4        2       lorichen       3\n",
       "4          5        2    mariokeller       2"
      ]
     },
     "execution_count": 9,
     "metadata": {},
     "output_type": "execute_result"
    }
   ],
   "source": [
    "query = '''SELECT *\n",
    "FROM ratings\n",
    "LIMIT 5;'''\n",
    "con = engine.connect()\n",
    "pd.read_sql(sql=sa.text(query), con = con)"
   ]
  },
  {
   "cell_type": "code",
   "execution_count": 10,
   "metadata": {},
   "outputs": [
    {
     "data": {
      "text/html": [
       "<div>\n",
       "<style scoped>\n",
       "    .dataframe tbody tr th:only-of-type {\n",
       "        vertical-align: middle;\n",
       "    }\n",
       "\n",
       "    .dataframe tbody tr th {\n",
       "        vertical-align: top;\n",
       "    }\n",
       "\n",
       "    .dataframe thead th {\n",
       "        text-align: right;\n",
       "    }\n",
       "</style>\n",
       "<table border=\"1\" class=\"dataframe\">\n",
       "  <thead>\n",
       "    <tr style=\"text-align: right;\">\n",
       "      <th></th>\n",
       "      <th>count</th>\n",
       "    </tr>\n",
       "  </thead>\n",
       "  <tbody>\n",
       "    <tr>\n",
       "      <th>0</th>\n",
       "      <td>6456</td>\n",
       "    </tr>\n",
       "  </tbody>\n",
       "</table>\n",
       "</div>"
      ],
      "text/plain": [
       "   count\n",
       "0   6456"
      ]
     },
     "execution_count": 10,
     "metadata": {},
     "output_type": "execute_result"
    }
   ],
   "source": [
    "query = '''SELECT COUNT(*)\n",
    "FROM ratings;'''\n",
    "con = engine.connect()\n",
    "pd.read_sql(sql=sa.text(query), con = con)"
   ]
  },
  {
   "cell_type": "markdown",
   "metadata": {},
   "source": [
    "Таблица **reviews**"
   ]
  },
  {
   "cell_type": "code",
   "execution_count": 11,
   "metadata": {},
   "outputs": [
    {
     "data": {
      "text/html": [
       "<div>\n",
       "<style scoped>\n",
       "    .dataframe tbody tr th:only-of-type {\n",
       "        vertical-align: middle;\n",
       "    }\n",
       "\n",
       "    .dataframe tbody tr th {\n",
       "        vertical-align: top;\n",
       "    }\n",
       "\n",
       "    .dataframe thead th {\n",
       "        text-align: right;\n",
       "    }\n",
       "</style>\n",
       "<table border=\"1\" class=\"dataframe\">\n",
       "  <thead>\n",
       "    <tr style=\"text-align: right;\">\n",
       "      <th></th>\n",
       "      <th>review_id</th>\n",
       "      <th>book_id</th>\n",
       "      <th>username</th>\n",
       "      <th>text</th>\n",
       "    </tr>\n",
       "  </thead>\n",
       "  <tbody>\n",
       "    <tr>\n",
       "      <th>0</th>\n",
       "      <td>1</td>\n",
       "      <td>1</td>\n",
       "      <td>brandtandrea</td>\n",
       "      <td>Mention society tell send professor analysis. ...</td>\n",
       "    </tr>\n",
       "    <tr>\n",
       "      <th>1</th>\n",
       "      <td>2</td>\n",
       "      <td>1</td>\n",
       "      <td>ryanfranco</td>\n",
       "      <td>Foot glass pretty audience hit themselves. Amo...</td>\n",
       "    </tr>\n",
       "    <tr>\n",
       "      <th>2</th>\n",
       "      <td>3</td>\n",
       "      <td>2</td>\n",
       "      <td>lorichen</td>\n",
       "      <td>Listen treat keep worry. Miss husband tax but ...</td>\n",
       "    </tr>\n",
       "    <tr>\n",
       "      <th>3</th>\n",
       "      <td>4</td>\n",
       "      <td>3</td>\n",
       "      <td>johnsonamanda</td>\n",
       "      <td>Finally month interesting blue could nature cu...</td>\n",
       "    </tr>\n",
       "    <tr>\n",
       "      <th>4</th>\n",
       "      <td>5</td>\n",
       "      <td>3</td>\n",
       "      <td>scotttamara</td>\n",
       "      <td>Nation purpose heavy give wait song will. List...</td>\n",
       "    </tr>\n",
       "  </tbody>\n",
       "</table>\n",
       "</div>"
      ],
      "text/plain": [
       "   review_id  book_id       username  \\\n",
       "0          1        1   brandtandrea   \n",
       "1          2        1     ryanfranco   \n",
       "2          3        2       lorichen   \n",
       "3          4        3  johnsonamanda   \n",
       "4          5        3    scotttamara   \n",
       "\n",
       "                                                text  \n",
       "0  Mention society tell send professor analysis. ...  \n",
       "1  Foot glass pretty audience hit themselves. Amo...  \n",
       "2  Listen treat keep worry. Miss husband tax but ...  \n",
       "3  Finally month interesting blue could nature cu...  \n",
       "4  Nation purpose heavy give wait song will. List...  "
      ]
     },
     "execution_count": 11,
     "metadata": {},
     "output_type": "execute_result"
    }
   ],
   "source": [
    "query = '''SELECT *\n",
    "FROM reviews\n",
    "LIMIT 5;'''\n",
    "con = engine.connect()\n",
    "pd.read_sql(sql=sa.text(query), con = con)"
   ]
  },
  {
   "cell_type": "code",
   "execution_count": 12,
   "metadata": {},
   "outputs": [
    {
     "data": {
      "text/html": [
       "<div>\n",
       "<style scoped>\n",
       "    .dataframe tbody tr th:only-of-type {\n",
       "        vertical-align: middle;\n",
       "    }\n",
       "\n",
       "    .dataframe tbody tr th {\n",
       "        vertical-align: top;\n",
       "    }\n",
       "\n",
       "    .dataframe thead th {\n",
       "        text-align: right;\n",
       "    }\n",
       "</style>\n",
       "<table border=\"1\" class=\"dataframe\">\n",
       "  <thead>\n",
       "    <tr style=\"text-align: right;\">\n",
       "      <th></th>\n",
       "      <th>count</th>\n",
       "    </tr>\n",
       "  </thead>\n",
       "  <tbody>\n",
       "    <tr>\n",
       "      <th>0</th>\n",
       "      <td>2793</td>\n",
       "    </tr>\n",
       "  </tbody>\n",
       "</table>\n",
       "</div>"
      ],
      "text/plain": [
       "   count\n",
       "0   2793"
      ]
     },
     "execution_count": 12,
     "metadata": {},
     "output_type": "execute_result"
    }
   ],
   "source": [
    "query = '''SELECT COUNT(*)\n",
    "FROM reviews;'''\n",
    "con = engine.connect()\n",
    "pd.read_sql(sql=sa.text(query), con = con)"
   ]
  },
  {
   "cell_type": "markdown",
   "metadata": {},
   "source": [
    "Вывела на экран первые 5 строк всех таблиц и посчитала количество строк в кадой:\n",
    "1. Таблица books - 1000 строк\n",
    "2. Таблица authors - 636 строк\n",
    "3. Таблица publishers - 340 строк \n",
    "4. Таблица ratings - 6456 строк\n",
    "5. Таблица reviews - 2793 строк"
   ]
  },
  {
   "cell_type": "markdown",
   "metadata": {},
   "source": [
    " "
   ]
  },
  {
   "cell_type": "markdown",
   "metadata": {},
   "source": [
    "## Посчитайте, сколько книг вышло после 1 января 2000 года"
   ]
  },
  {
   "cell_type": "code",
   "execution_count": 13,
   "metadata": {},
   "outputs": [
    {
     "data": {
      "text/html": [
       "<div>\n",
       "<style scoped>\n",
       "    .dataframe tbody tr th:only-of-type {\n",
       "        vertical-align: middle;\n",
       "    }\n",
       "\n",
       "    .dataframe tbody tr th {\n",
       "        vertical-align: top;\n",
       "    }\n",
       "\n",
       "    .dataframe thead th {\n",
       "        text-align: right;\n",
       "    }\n",
       "</style>\n",
       "<table border=\"1\" class=\"dataframe\">\n",
       "  <thead>\n",
       "    <tr style=\"text-align: right;\">\n",
       "      <th></th>\n",
       "      <th>count</th>\n",
       "    </tr>\n",
       "  </thead>\n",
       "  <tbody>\n",
       "    <tr>\n",
       "      <th>0</th>\n",
       "      <td>819</td>\n",
       "    </tr>\n",
       "  </tbody>\n",
       "</table>\n",
       "</div>"
      ],
      "text/plain": [
       "   count\n",
       "0    819"
      ]
     },
     "execution_count": 13,
     "metadata": {},
     "output_type": "execute_result"
    }
   ],
   "source": [
    "query = '''SELECT COUNT(book_id)\n",
    "FROM books \n",
    "WHERE publication_date > '2000-01-01';'''\n",
    "con = engine.connect()\n",
    "pd.read_sql(sql=sa.text(query), con = con)"
   ]
  },
  {
   "cell_type": "markdown",
   "metadata": {},
   "source": [
    "819 книг вышло после 1 января 2000 года"
   ]
  },
  {
   "cell_type": "markdown",
   "metadata": {},
   "source": []
  },
  {
   "cell_type": "markdown",
   "metadata": {},
   "source": [
    "## Для каждой книги посчитайте количество обзоров и среднюю оценку"
   ]
  },
  {
   "cell_type": "code",
   "execution_count": 14,
   "metadata": {},
   "outputs": [
    {
     "data": {
      "text/html": [
       "<div>\n",
       "<style scoped>\n",
       "    .dataframe tbody tr th:only-of-type {\n",
       "        vertical-align: middle;\n",
       "    }\n",
       "\n",
       "    .dataframe tbody tr th {\n",
       "        vertical-align: top;\n",
       "    }\n",
       "\n",
       "    .dataframe thead th {\n",
       "        text-align: right;\n",
       "    }\n",
       "</style>\n",
       "<table border=\"1\" class=\"dataframe\">\n",
       "  <thead>\n",
       "    <tr style=\"text-align: right;\">\n",
       "      <th></th>\n",
       "      <th>book_id</th>\n",
       "      <th>title</th>\n",
       "      <th>reviews_count</th>\n",
       "      <th>avg_rating</th>\n",
       "    </tr>\n",
       "  </thead>\n",
       "  <tbody>\n",
       "    <tr>\n",
       "      <th>0</th>\n",
       "      <td>948</td>\n",
       "      <td>Twilight (Twilight  #1)</td>\n",
       "      <td>7</td>\n",
       "      <td>3.662500</td>\n",
       "    </tr>\n",
       "    <tr>\n",
       "      <th>1</th>\n",
       "      <td>302</td>\n",
       "      <td>Harry Potter and the Prisoner of Azkaban (Harr...</td>\n",
       "      <td>6</td>\n",
       "      <td>4.414634</td>\n",
       "    </tr>\n",
       "    <tr>\n",
       "      <th>2</th>\n",
       "      <td>299</td>\n",
       "      <td>Harry Potter and the Chamber of Secrets (Harry...</td>\n",
       "      <td>6</td>\n",
       "      <td>4.287500</td>\n",
       "    </tr>\n",
       "    <tr>\n",
       "      <th>3</th>\n",
       "      <td>656</td>\n",
       "      <td>The Book Thief</td>\n",
       "      <td>6</td>\n",
       "      <td>4.264151</td>\n",
       "    </tr>\n",
       "    <tr>\n",
       "      <th>4</th>\n",
       "      <td>734</td>\n",
       "      <td>The Glass Castle</td>\n",
       "      <td>6</td>\n",
       "      <td>4.206897</td>\n",
       "    </tr>\n",
       "    <tr>\n",
       "      <th>...</th>\n",
       "      <td>...</td>\n",
       "      <td>...</td>\n",
       "      <td>...</td>\n",
       "      <td>...</td>\n",
       "    </tr>\n",
       "    <tr>\n",
       "      <th>995</th>\n",
       "      <td>191</td>\n",
       "      <td>Disney's Beauty and the Beast (A Little Golden...</td>\n",
       "      <td>0</td>\n",
       "      <td>4.000000</td>\n",
       "    </tr>\n",
       "    <tr>\n",
       "      <th>996</th>\n",
       "      <td>387</td>\n",
       "      <td>Leonardo's Notebooks</td>\n",
       "      <td>0</td>\n",
       "      <td>4.000000</td>\n",
       "    </tr>\n",
       "    <tr>\n",
       "      <th>997</th>\n",
       "      <td>221</td>\n",
       "      <td>Essential Tales and Poems</td>\n",
       "      <td>0</td>\n",
       "      <td>4.000000</td>\n",
       "    </tr>\n",
       "    <tr>\n",
       "      <th>998</th>\n",
       "      <td>83</td>\n",
       "      <td>Anne Rice's The Vampire Lestat: A Graphic Novel</td>\n",
       "      <td>0</td>\n",
       "      <td>3.666667</td>\n",
       "    </tr>\n",
       "    <tr>\n",
       "      <th>999</th>\n",
       "      <td>808</td>\n",
       "      <td>The Natural Way to Draw</td>\n",
       "      <td>0</td>\n",
       "      <td>3.000000</td>\n",
       "    </tr>\n",
       "  </tbody>\n",
       "</table>\n",
       "<p>1000 rows × 4 columns</p>\n",
       "</div>"
      ],
      "text/plain": [
       "     book_id                                              title  \\\n",
       "0        948                            Twilight (Twilight  #1)   \n",
       "1        302  Harry Potter and the Prisoner of Azkaban (Harr...   \n",
       "2        299  Harry Potter and the Chamber of Secrets (Harry...   \n",
       "3        656                                     The Book Thief   \n",
       "4        734                                   The Glass Castle   \n",
       "..       ...                                                ...   \n",
       "995      191  Disney's Beauty and the Beast (A Little Golden...   \n",
       "996      387                               Leonardo's Notebooks   \n",
       "997      221                          Essential Tales and Poems   \n",
       "998       83    Anne Rice's The Vampire Lestat: A Graphic Novel   \n",
       "999      808                            The Natural Way to Draw   \n",
       "\n",
       "     reviews_count  avg_rating  \n",
       "0                7    3.662500  \n",
       "1                6    4.414634  \n",
       "2                6    4.287500  \n",
       "3                6    4.264151  \n",
       "4                6    4.206897  \n",
       "..             ...         ...  \n",
       "995              0    4.000000  \n",
       "996              0    4.000000  \n",
       "997              0    4.000000  \n",
       "998              0    3.666667  \n",
       "999              0    3.000000  \n",
       "\n",
       "[1000 rows x 4 columns]"
      ]
     },
     "execution_count": 14,
     "metadata": {},
     "output_type": "execute_result"
    }
   ],
   "source": [
    "query ='''\n",
    "SELECT b.book_id,\n",
    "       b.title,\n",
    "       COUNT(DISTINCT rev.review_id) AS reviews_count,\n",
    "       AVG(rat.rating) AS avg_rating\n",
    "FROM books as b\n",
    "  LEFT JOIN reviews AS rev ON b.book_id = rev.book_id\n",
    "  LEFT JOIN ratings AS rat ON b.book_id = rat.book_id\n",
    "GROUP BY\n",
    "  b.book_id\n",
    "ORDER BY\n",
    "  reviews_count DESC, avg_rating DESC;'''\n",
    "\n",
    "    \n",
    "con = engine.connect()\n",
    "pd.read_sql(sql=sa.text(query), con = con)"
   ]
  },
  {
   "cell_type": "markdown",
   "metadata": {},
   "source": [
    "Есть книги, у которых нет оценок, но есть рейтинг. Максимальная оценка 7 у книги Twilight (Twilight #1)."
   ]
  },
  {
   "cell_type": "markdown",
   "metadata": {},
   "source": []
  },
  {
   "cell_type": "markdown",
   "metadata": {},
   "source": [
    "## Определите издательство, которое выпустило наибольшее число книг толще 50 страниц — так вы исключите из анализа брошюры"
   ]
  },
  {
   "cell_type": "code",
   "execution_count": 15,
   "metadata": {},
   "outputs": [
    {
     "data": {
      "text/html": [
       "<div>\n",
       "<style scoped>\n",
       "    .dataframe tbody tr th:only-of-type {\n",
       "        vertical-align: middle;\n",
       "    }\n",
       "\n",
       "    .dataframe tbody tr th {\n",
       "        vertical-align: top;\n",
       "    }\n",
       "\n",
       "    .dataframe thead th {\n",
       "        text-align: right;\n",
       "    }\n",
       "</style>\n",
       "<table border=\"1\" class=\"dataframe\">\n",
       "  <thead>\n",
       "    <tr style=\"text-align: right;\">\n",
       "      <th></th>\n",
       "      <th>publisher</th>\n",
       "      <th>count_books</th>\n",
       "    </tr>\n",
       "  </thead>\n",
       "  <tbody>\n",
       "    <tr>\n",
       "      <th>0</th>\n",
       "      <td>Penguin Books</td>\n",
       "      <td>42</td>\n",
       "    </tr>\n",
       "  </tbody>\n",
       "</table>\n",
       "</div>"
      ],
      "text/plain": [
       "       publisher  count_books\n",
       "0  Penguin Books           42"
      ]
     },
     "execution_count": 15,
     "metadata": {},
     "output_type": "execute_result"
    }
   ],
   "source": [
    "query ='''\n",
    "SELECT publisher,\n",
    "    COUNT(b.book_id) AS count_books\n",
    "FROM publishers as p\n",
    "  JOIN books AS b ON p.publisher_id = b.publisher_id\n",
    "WHERE b.num_pages > 50\n",
    "GROUP BY p.publisher\n",
    "ORDER BY count_books DESC\n",
    "LIMIT 1;'''\n",
    "\n",
    "    \n",
    "con = engine.connect()\n",
    "pd.read_sql(sql=sa.text(query), con = con)"
   ]
  },
  {
   "cell_type": "markdown",
   "metadata": {},
   "source": [
    "Издательство, которое выпустило больше всего книг толще 50 страниц - Penguin Books"
   ]
  },
  {
   "cell_type": "markdown",
   "metadata": {},
   "source": []
  },
  {
   "cell_type": "markdown",
   "metadata": {},
   "source": [
    "## Определите автора с самой высокой средней оценкой книг — учитывайте только книги с 50 и более оценками"
   ]
  },
  {
   "cell_type": "code",
   "execution_count": 16,
   "metadata": {},
   "outputs": [
    {
     "data": {
      "text/html": [
       "<div>\n",
       "<style scoped>\n",
       "    .dataframe tbody tr th:only-of-type {\n",
       "        vertical-align: middle;\n",
       "    }\n",
       "\n",
       "    .dataframe tbody tr th {\n",
       "        vertical-align: top;\n",
       "    }\n",
       "\n",
       "    .dataframe thead th {\n",
       "        text-align: right;\n",
       "    }\n",
       "</style>\n",
       "<table border=\"1\" class=\"dataframe\">\n",
       "  <thead>\n",
       "    <tr style=\"text-align: right;\">\n",
       "      <th></th>\n",
       "      <th>author</th>\n",
       "      <th>rating_avg</th>\n",
       "    </tr>\n",
       "  </thead>\n",
       "  <tbody>\n",
       "    <tr>\n",
       "      <th>0</th>\n",
       "      <td>J.K. Rowling/Mary GrandPré</td>\n",
       "      <td>4.28</td>\n",
       "    </tr>\n",
       "  </tbody>\n",
       "</table>\n",
       "</div>"
      ],
      "text/plain": [
       "                       author  rating_avg\n",
       "0  J.K. Rowling/Mary GrandPré        4.28"
      ]
     },
     "execution_count": 16,
     "metadata": {},
     "output_type": "execute_result"
    }
   ],
   "source": [
    "query ='''\n",
    "WITH temp AS (SELECT a.author,\n",
    "              AVG(r.rating) AS avg_rating\n",
    "FROM author as a\n",
    "  JOIN books AS b ON b.author_id = a.author_id\n",
    "  JOIN ratings AS r ON b.book_id = r.book_id\n",
    "GROUP BY b.book_id, a.author\n",
    "HAVING COUNT(r.rating_id)>=50 \n",
    "ORDER BY avg_rating DESC)\n",
    "SELECT author,\n",
    "       ROUND(AVG(avg_rating),2) AS rating_avg\n",
    "FROM temp\n",
    "GROUP BY author\n",
    "ORDER BY rating_avg DESC\n",
    "LIMIT 1;'''\n",
    "\n",
    "    \n",
    "con = engine.connect()\n",
    "pd.read_sql(sql=sa.text(query), con = con)"
   ]
  },
  {
   "cell_type": "markdown",
   "metadata": {},
   "source": [
    "Автора с самой высокой средней оценкой книг — J.K. Rowling/Mary GrandPré"
   ]
  },
  {
   "cell_type": "markdown",
   "metadata": {},
   "source": []
  },
  {
   "cell_type": "markdown",
   "metadata": {},
   "source": [
    "## Посчитайте среднее количество обзоров от пользователей, которые поставили больше 48 оценок"
   ]
  },
  {
   "cell_type": "code",
   "execution_count": 17,
   "metadata": {},
   "outputs": [
    {
     "data": {
      "text/html": [
       "<div>\n",
       "<style scoped>\n",
       "    .dataframe tbody tr th:only-of-type {\n",
       "        vertical-align: middle;\n",
       "    }\n",
       "\n",
       "    .dataframe tbody tr th {\n",
       "        vertical-align: top;\n",
       "    }\n",
       "\n",
       "    .dataframe thead th {\n",
       "        text-align: right;\n",
       "    }\n",
       "</style>\n",
       "<table border=\"1\" class=\"dataframe\">\n",
       "  <thead>\n",
       "    <tr style=\"text-align: right;\">\n",
       "      <th></th>\n",
       "      <th>avg_rev</th>\n",
       "    </tr>\n",
       "  </thead>\n",
       "  <tbody>\n",
       "    <tr>\n",
       "      <th>0</th>\n",
       "      <td>24.0</td>\n",
       "    </tr>\n",
       "  </tbody>\n",
       "</table>\n",
       "</div>"
      ],
      "text/plain": [
       "   avg_rev\n",
       "0     24.0"
      ]
     },
     "execution_count": 17,
     "metadata": {},
     "output_type": "execute_result"
    }
   ],
   "source": [
    "query ='''\n",
    "WITH rating AS (SELECT rat.username,\n",
    "                        COUNT(rating_id) AS rat_count\n",
    "                FROM ratings AS rat\n",
    "                GROUP BY rat.username\n",
    "                HAVING COUNT(rating_id) > 48),\n",
    "    review AS (SELECT rev.username,\n",
    "                      COUNT(review_id) AS rev_count\n",
    "               FROM reviews rev\n",
    "               GROUP BY rev.username)\n",
    "SELECT\n",
    "    AVG(rev_count) as avg_rev\n",
    "FROM rating\n",
    "    JOIN review ON review.username = rating.username '''\n",
    "\n",
    "    \n",
    "con = engine.connect()\n",
    "pd.read_sql(sql=sa.text(query), con = con)"
   ]
  },
  {
   "cell_type": "markdown",
   "metadata": {},
   "source": [
    "Cреднее количество обзоров от пользователей - 24"
   ]
  },
  {
   "cell_type": "markdown",
   "metadata": {},
   "source": []
  },
  {
   "cell_type": "markdown",
   "metadata": {},
   "source": [
    "**Вывод:**\n",
    "\n",
    "В приложении загруженно больше 819 книг, которые имеют оценки и рейтинги. Есть книги, у которых нет оценок, но есть рейтинг, можно подобрать для себя чтиво основываяст на любой из показателей. Максимальная оценка 7 у книги Twilight (Twilight #1). Есть книги крупных издательств, которые выпускают большое количество книг всего книг толщиной в 50 страниц и больше. Например, лидирующее издательство - Penguin Books, количество их толстых книг в приложении - 42. Также есть и популярные писатели с лучшими рейтингами, например, J.K. Rowling/Mary GrandPré. Еще в приложении можно написать или прочитать обзоры, они помогут выбрать интереную книгу. Cреднее количество обзоров от пользователей - 24"
   ]
  },
  {
   "cell_type": "markdown",
   "metadata": {},
   "source": []
  },
  {
   "cell_type": "code",
   "execution_count": null,
   "metadata": {},
   "outputs": [],
   "source": []
  }
 ],
 "metadata": {
  "ExecuteTimeLog": [
   {
    "duration": 577,
    "start_time": "2023-09-02T11:23:41.637Z"
   },
   {
    "duration": 12910,
    "start_time": "2023-09-02T11:24:03.083Z"
   },
   {
    "duration": 247,
    "start_time": "2023-09-02T11:24:29.903Z"
   },
   {
    "duration": 96,
    "start_time": "2023-09-02T11:30:17.908Z"
   },
   {
    "duration": 144,
    "start_time": "2023-09-02T11:30:51.052Z"
   },
   {
    "duration": 63,
    "start_time": "2023-09-02T11:31:09.073Z"
   },
   {
    "duration": 72,
    "start_time": "2023-09-02T11:31:27.563Z"
   },
   {
    "duration": 71,
    "start_time": "2023-09-02T11:42:08.253Z"
   },
   {
    "duration": 78,
    "start_time": "2023-09-02T11:42:24.783Z"
   },
   {
    "duration": 53,
    "start_time": "2023-09-02T11:42:44.021Z"
   },
   {
    "duration": 50,
    "start_time": "2023-09-02T11:43:05.104Z"
   },
   {
    "duration": 51,
    "start_time": "2023-09-02T11:43:08.813Z"
   },
   {
    "duration": 662,
    "start_time": "2023-09-02T11:43:16.078Z"
   },
   {
    "duration": 12603,
    "start_time": "2023-09-02T11:43:16.743Z"
   },
   {
    "duration": 290,
    "start_time": "2023-09-02T11:43:29.348Z"
   },
   {
    "duration": 183,
    "start_time": "2023-09-02T11:43:29.640Z"
   },
   {
    "duration": 52,
    "start_time": "2023-09-02T11:43:29.826Z"
   },
   {
    "duration": 79,
    "start_time": "2023-09-02T11:43:29.879Z"
   },
   {
    "duration": 90,
    "start_time": "2023-09-02T11:43:29.962Z"
   },
   {
    "duration": 58,
    "start_time": "2023-09-02T11:43:40.808Z"
   },
   {
    "duration": 56,
    "start_time": "2023-09-02T11:43:53.033Z"
   },
   {
    "duration": 76,
    "start_time": "2023-09-02T11:44:04.763Z"
   },
   {
    "duration": 272,
    "start_time": "2023-09-02T11:45:02.573Z"
   },
   {
    "duration": 78,
    "start_time": "2023-09-02T11:45:30.182Z"
   },
   {
    "duration": 66,
    "start_time": "2023-09-02T11:46:06.667Z"
   },
   {
    "duration": 63,
    "start_time": "2023-09-02T11:46:49.200Z"
   },
   {
    "duration": 73,
    "start_time": "2023-09-02T11:47:28.932Z"
   },
   {
    "duration": 178,
    "start_time": "2023-09-02T11:48:45.069Z"
   },
   {
    "duration": 77,
    "start_time": "2023-09-02T11:48:54.766Z"
   },
   {
    "duration": 66,
    "start_time": "2023-09-02T11:49:12.594Z"
   },
   {
    "duration": 76,
    "start_time": "2023-09-02T11:51:34.101Z"
   },
   {
    "duration": 61,
    "start_time": "2023-09-02T11:51:54.209Z"
   },
   {
    "duration": 74,
    "start_time": "2023-09-02T11:51:56.737Z"
   },
   {
    "duration": 61,
    "start_time": "2023-09-02T11:52:02.803Z"
   },
   {
    "duration": 76,
    "start_time": "2023-09-02T11:52:10.468Z"
   },
   {
    "duration": 99,
    "start_time": "2023-09-02T11:52:17.169Z"
   },
   {
    "duration": 55,
    "start_time": "2023-09-02T11:52:26.417Z"
   },
   {
    "duration": 60,
    "start_time": "2023-09-02T11:59:24.827Z"
   },
   {
    "duration": 98,
    "start_time": "2023-09-02T12:24:22.519Z"
   },
   {
    "duration": 569,
    "start_time": "2023-09-02T12:24:30.965Z"
   },
   {
    "duration": 10239,
    "start_time": "2023-09-02T12:24:31.536Z"
   },
   {
    "duration": 246,
    "start_time": "2023-09-02T12:24:41.777Z"
   },
   {
    "duration": 143,
    "start_time": "2023-09-02T12:24:42.024Z"
   },
   {
    "duration": 58,
    "start_time": "2023-09-02T12:24:42.169Z"
   },
   {
    "duration": 50,
    "start_time": "2023-09-02T12:24:42.229Z"
   },
   {
    "duration": 55,
    "start_time": "2023-09-02T12:24:42.280Z"
   },
   {
    "duration": 60,
    "start_time": "2023-09-02T12:24:42.337Z"
   },
   {
    "duration": 54,
    "start_time": "2023-09-02T12:24:42.399Z"
   },
   {
    "duration": 56,
    "start_time": "2023-09-02T12:24:42.454Z"
   },
   {
    "duration": 53,
    "start_time": "2023-09-02T12:24:42.512Z"
   },
   {
    "duration": 54,
    "start_time": "2023-09-02T12:24:42.567Z"
   },
   {
    "duration": 147,
    "start_time": "2023-09-02T12:24:42.622Z"
   },
   {
    "duration": 42,
    "start_time": "2023-09-02T12:25:31.194Z"
   },
   {
    "duration": 147,
    "start_time": "2023-09-02T12:26:50.662Z"
   },
   {
    "duration": 79,
    "start_time": "2023-09-02T12:36:51.173Z"
   },
   {
    "duration": 74,
    "start_time": "2023-09-02T12:41:27.294Z"
   },
   {
    "duration": 551,
    "start_time": "2023-09-02T12:41:33.820Z"
   },
   {
    "duration": 9512,
    "start_time": "2023-09-02T12:41:34.375Z"
   },
   {
    "duration": 230,
    "start_time": "2023-09-02T12:41:43.889Z"
   },
   {
    "duration": 120,
    "start_time": "2023-09-02T12:41:44.121Z"
   },
   {
    "duration": 53,
    "start_time": "2023-09-02T12:41:44.243Z"
   },
   {
    "duration": 51,
    "start_time": "2023-09-02T12:41:44.297Z"
   },
   {
    "duration": 52,
    "start_time": "2023-09-02T12:41:44.350Z"
   },
   {
    "duration": 52,
    "start_time": "2023-09-02T12:41:44.404Z"
   },
   {
    "duration": 57,
    "start_time": "2023-09-02T12:41:44.458Z"
   },
   {
    "duration": 55,
    "start_time": "2023-09-02T12:41:44.518Z"
   },
   {
    "duration": 53,
    "start_time": "2023-09-02T12:41:44.575Z"
   },
   {
    "duration": 52,
    "start_time": "2023-09-02T12:41:44.630Z"
   },
   {
    "duration": 53,
    "start_time": "2023-09-02T12:41:44.683Z"
   },
   {
    "duration": 144,
    "start_time": "2023-09-02T12:41:44.738Z"
   },
   {
    "duration": 77,
    "start_time": "2023-09-02T12:43:16.441Z"
   },
   {
    "duration": 177,
    "start_time": "2023-09-02T12:44:19.045Z"
   },
   {
    "duration": 79,
    "start_time": "2023-09-02T12:45:54.872Z"
   },
   {
    "duration": 98,
    "start_time": "2023-09-02T12:46:35.086Z"
   },
   {
    "duration": 85,
    "start_time": "2023-09-02T12:48:23.169Z"
   },
   {
    "duration": 64,
    "start_time": "2023-09-02T12:48:42.383Z"
   },
   {
    "duration": 99,
    "start_time": "2023-09-02T12:54:23.538Z"
   },
   {
    "duration": 74,
    "start_time": "2023-09-02T13:06:32.766Z"
   },
   {
    "duration": 66,
    "start_time": "2023-09-02T13:06:42.201Z"
   },
   {
    "duration": 152,
    "start_time": "2023-09-02T13:07:46.897Z"
   },
   {
    "duration": 152,
    "start_time": "2023-09-02T13:13:18.032Z"
   },
   {
    "duration": 181,
    "start_time": "2023-09-02T13:13:40.449Z"
   },
   {
    "duration": 163,
    "start_time": "2023-09-02T13:14:13.945Z"
   },
   {
    "duration": 72,
    "start_time": "2023-09-02T13:14:37.122Z"
   },
   {
    "duration": 62,
    "start_time": "2023-09-02T13:14:57.700Z"
   },
   {
    "duration": 551,
    "start_time": "2023-09-02T13:16:03.901Z"
   },
   {
    "duration": 9361,
    "start_time": "2023-09-02T13:16:04.455Z"
   },
   {
    "duration": 234,
    "start_time": "2023-09-02T13:16:13.818Z"
   },
   {
    "duration": 156,
    "start_time": "2023-09-02T13:16:14.054Z"
   },
   {
    "duration": 52,
    "start_time": "2023-09-02T13:16:14.213Z"
   },
   {
    "duration": 63,
    "start_time": "2023-09-02T13:16:14.267Z"
   },
   {
    "duration": 59,
    "start_time": "2023-09-02T13:16:14.332Z"
   },
   {
    "duration": 52,
    "start_time": "2023-09-02T13:16:14.393Z"
   },
   {
    "duration": 63,
    "start_time": "2023-09-02T13:16:14.447Z"
   },
   {
    "duration": 53,
    "start_time": "2023-09-02T13:16:14.512Z"
   },
   {
    "duration": 59,
    "start_time": "2023-09-02T13:16:14.567Z"
   },
   {
    "duration": 52,
    "start_time": "2023-09-02T13:16:14.628Z"
   },
   {
    "duration": 54,
    "start_time": "2023-09-02T13:16:14.688Z"
   },
   {
    "duration": 102,
    "start_time": "2023-09-02T13:16:14.745Z"
   },
   {
    "duration": 148,
    "start_time": "2023-09-02T13:16:14.849Z"
   },
   {
    "duration": 62,
    "start_time": "2023-09-02T13:16:50.514Z"
   },
   {
    "duration": 152,
    "start_time": "2023-09-02T13:29:35.510Z"
   },
   {
    "duration": 157,
    "start_time": "2023-09-02T13:30:05.534Z"
   },
   {
    "duration": 171,
    "start_time": "2023-09-02T13:30:30.842Z"
   },
   {
    "duration": 575,
    "start_time": "2023-09-02T13:30:48.173Z"
   },
   {
    "duration": 10071,
    "start_time": "2023-09-02T13:30:48.750Z"
   },
   {
    "duration": 270,
    "start_time": "2023-09-02T13:30:58.823Z"
   },
   {
    "duration": 125,
    "start_time": "2023-09-02T13:30:59.095Z"
   },
   {
    "duration": 52,
    "start_time": "2023-09-02T13:30:59.223Z"
   },
   {
    "duration": 54,
    "start_time": "2023-09-02T13:30:59.277Z"
   },
   {
    "duration": 53,
    "start_time": "2023-09-02T13:30:59.333Z"
   },
   {
    "duration": 57,
    "start_time": "2023-09-02T13:30:59.388Z"
   },
   {
    "duration": 65,
    "start_time": "2023-09-02T13:30:59.446Z"
   },
   {
    "duration": 52,
    "start_time": "2023-09-02T13:30:59.513Z"
   },
   {
    "duration": 55,
    "start_time": "2023-09-02T13:30:59.567Z"
   },
   {
    "duration": 52,
    "start_time": "2023-09-02T13:30:59.624Z"
   },
   {
    "duration": 54,
    "start_time": "2023-09-02T13:30:59.678Z"
   },
   {
    "duration": 92,
    "start_time": "2023-09-02T13:30:59.735Z"
   },
   {
    "duration": 144,
    "start_time": "2023-09-02T13:30:59.829Z"
   },
   {
    "duration": 66,
    "start_time": "2023-09-02T13:31:44.034Z"
   },
   {
    "duration": 147,
    "start_time": "2023-09-02T13:32:21.496Z"
   },
   {
    "duration": 54,
    "start_time": "2023-09-02T13:33:17.117Z"
   },
   {
    "duration": 60,
    "start_time": "2023-09-02T13:42:15.031Z"
   },
   {
    "duration": 58,
    "start_time": "2023-09-02T13:42:25.850Z"
   },
   {
    "duration": 103,
    "start_time": "2023-09-02T13:46:03.503Z"
   },
   {
    "duration": 59,
    "start_time": "2023-09-02T13:46:10.628Z"
   },
   {
    "duration": 75,
    "start_time": "2023-09-02T13:51:21.181Z"
   },
   {
    "duration": 60,
    "start_time": "2023-09-02T13:51:32.498Z"
   },
   {
    "duration": 552,
    "start_time": "2023-09-02T13:51:50.173Z"
   },
   {
    "duration": 9078,
    "start_time": "2023-09-02T13:51:50.727Z"
   },
   {
    "duration": 219,
    "start_time": "2023-09-02T13:51:59.807Z"
   },
   {
    "duration": 148,
    "start_time": "2023-09-02T13:52:00.029Z"
   },
   {
    "duration": 53,
    "start_time": "2023-09-02T13:52:00.178Z"
   },
   {
    "duration": 55,
    "start_time": "2023-09-02T13:52:00.233Z"
   },
   {
    "duration": 54,
    "start_time": "2023-09-02T13:52:00.290Z"
   },
   {
    "duration": 54,
    "start_time": "2023-09-02T13:52:00.346Z"
   },
   {
    "duration": 90,
    "start_time": "2023-09-02T13:52:00.402Z"
   },
   {
    "duration": 53,
    "start_time": "2023-09-02T13:52:00.494Z"
   },
   {
    "duration": 54,
    "start_time": "2023-09-02T13:52:00.548Z"
   },
   {
    "duration": 168,
    "start_time": "2023-09-02T13:52:00.603Z"
   },
   {
    "duration": 76,
    "start_time": "2023-09-02T13:52:00.773Z"
   },
   {
    "duration": 163,
    "start_time": "2023-09-02T13:52:00.851Z"
   },
   {
    "duration": 0,
    "start_time": "2023-09-02T13:52:01.016Z"
   },
   {
    "duration": 0,
    "start_time": "2023-09-02T13:52:01.018Z"
   },
   {
    "duration": 80,
    "start_time": "2023-09-02T13:52:10.373Z"
   },
   {
    "duration": 153,
    "start_time": "2023-09-02T13:52:22.926Z"
   },
   {
    "duration": 75,
    "start_time": "2023-09-02T13:54:51.018Z"
   },
   {
    "duration": 71,
    "start_time": "2023-09-02T13:55:53.683Z"
   },
   {
    "duration": 151,
    "start_time": "2023-09-02T13:56:18.275Z"
   },
   {
    "duration": 147,
    "start_time": "2023-09-02T13:58:26.278Z"
   },
   {
    "duration": 634,
    "start_time": "2023-09-02T13:58:39.357Z"
   },
   {
    "duration": 11526,
    "start_time": "2023-09-02T13:58:39.994Z"
   },
   {
    "duration": 261,
    "start_time": "2023-09-02T13:58:51.522Z"
   },
   {
    "duration": 143,
    "start_time": "2023-09-02T13:58:51.785Z"
   },
   {
    "duration": 57,
    "start_time": "2023-09-02T13:58:51.931Z"
   },
   {
    "duration": 63,
    "start_time": "2023-09-02T13:58:51.990Z"
   },
   {
    "duration": 59,
    "start_time": "2023-09-02T13:58:52.055Z"
   },
   {
    "duration": 119,
    "start_time": "2023-09-02T13:58:52.116Z"
   },
   {
    "duration": 66,
    "start_time": "2023-09-02T13:58:52.237Z"
   },
   {
    "duration": 110,
    "start_time": "2023-09-02T13:58:52.305Z"
   },
   {
    "duration": 58,
    "start_time": "2023-09-02T13:58:52.418Z"
   },
   {
    "duration": 71,
    "start_time": "2023-09-02T13:58:52.478Z"
   },
   {
    "duration": 61,
    "start_time": "2023-09-02T13:58:52.552Z"
   },
   {
    "duration": 106,
    "start_time": "2023-09-02T13:58:52.616Z"
   },
   {
    "duration": 55,
    "start_time": "2023-09-02T13:58:52.724Z"
   },
   {
    "duration": 172,
    "start_time": "2023-09-02T13:58:52.784Z"
   },
   {
    "duration": 74,
    "start_time": "2023-09-02T14:00:48.742Z"
   },
   {
    "duration": 141,
    "start_time": "2023-09-02T14:00:55.863Z"
   },
   {
    "duration": 154,
    "start_time": "2023-09-02T14:01:43.105Z"
   },
   {
    "duration": 135,
    "start_time": "2023-09-02T14:02:13.037Z"
   },
   {
    "duration": 62,
    "start_time": "2023-09-02T14:02:54.145Z"
   },
   {
    "duration": 62,
    "start_time": "2023-09-02T14:03:18.865Z"
   },
   {
    "duration": 63,
    "start_time": "2023-09-02T14:14:22.528Z"
   },
   {
    "duration": 153,
    "start_time": "2023-09-02T14:16:15.043Z"
   },
   {
    "duration": 149,
    "start_time": "2023-09-02T14:17:28.506Z"
   },
   {
    "duration": 157,
    "start_time": "2023-09-02T14:19:00.068Z"
   },
   {
    "duration": 62,
    "start_time": "2023-09-02T14:19:22.608Z"
   },
   {
    "duration": 61,
    "start_time": "2023-09-02T14:19:55.787Z"
   },
   {
    "duration": 65,
    "start_time": "2023-09-02T14:20:57.281Z"
   },
   {
    "duration": 50,
    "start_time": "2023-09-02T14:21:07.284Z"
   },
   {
    "duration": 129,
    "start_time": "2023-09-02T14:21:32.087Z"
   },
   {
    "duration": 58,
    "start_time": "2023-09-02T14:23:57.770Z"
   },
   {
    "duration": 105,
    "start_time": "2023-09-02T14:26:46.749Z"
   },
   {
    "duration": 71,
    "start_time": "2023-09-02T14:33:36.460Z"
   },
   {
    "duration": 48,
    "start_time": "2023-09-02T14:34:27.880Z"
   },
   {
    "duration": 77,
    "start_time": "2023-09-02T14:40:31.781Z"
   },
   {
    "duration": 72,
    "start_time": "2023-09-02T14:44:04.918Z"
   },
   {
    "duration": 62,
    "start_time": "2023-09-02T14:44:23.598Z"
   },
   {
    "duration": 60,
    "start_time": "2023-09-02T14:44:44.650Z"
   },
   {
    "duration": 135,
    "start_time": "2023-09-02T14:46:42.408Z"
   },
   {
    "duration": 61,
    "start_time": "2023-09-02T14:47:27.863Z"
   },
   {
    "duration": 61,
    "start_time": "2023-09-02T14:47:40.123Z"
   },
   {
    "duration": 62,
    "start_time": "2023-09-02T14:48:08.370Z"
   },
   {
    "duration": 557,
    "start_time": "2023-09-02T14:52:37.675Z"
   },
   {
    "duration": 10908,
    "start_time": "2023-09-02T14:52:38.234Z"
   },
   {
    "duration": 233,
    "start_time": "2023-09-02T14:52:49.144Z"
   },
   {
    "duration": 144,
    "start_time": "2023-09-02T14:52:49.378Z"
   },
   {
    "duration": 52,
    "start_time": "2023-09-02T14:52:49.524Z"
   },
   {
    "duration": 52,
    "start_time": "2023-09-02T14:52:49.578Z"
   },
   {
    "duration": 52,
    "start_time": "2023-09-02T14:52:49.632Z"
   },
   {
    "duration": 52,
    "start_time": "2023-09-02T14:52:49.685Z"
   },
   {
    "duration": 52,
    "start_time": "2023-09-02T14:52:49.738Z"
   },
   {
    "duration": 52,
    "start_time": "2023-09-02T14:52:49.792Z"
   },
   {
    "duration": 53,
    "start_time": "2023-09-02T14:52:49.845Z"
   },
   {
    "duration": 52,
    "start_time": "2023-09-02T14:52:49.900Z"
   },
   {
    "duration": 52,
    "start_time": "2023-09-02T14:52:49.953Z"
   },
   {
    "duration": 91,
    "start_time": "2023-09-02T14:52:50.007Z"
   },
   {
    "duration": 53,
    "start_time": "2023-09-02T14:52:50.099Z"
   },
   {
    "duration": 57,
    "start_time": "2023-09-02T14:52:50.154Z"
   },
   {
    "duration": 136,
    "start_time": "2023-09-02T14:52:50.213Z"
   },
   {
    "duration": 575,
    "start_time": "2023-09-02T18:21:40.052Z"
   },
   {
    "duration": 9268,
    "start_time": "2023-09-02T18:21:40.629Z"
   },
   {
    "duration": 253,
    "start_time": "2023-09-02T18:21:49.898Z"
   },
   {
    "duration": 140,
    "start_time": "2023-09-02T18:21:50.153Z"
   },
   {
    "duration": 53,
    "start_time": "2023-09-02T18:21:50.294Z"
   },
   {
    "duration": 51,
    "start_time": "2023-09-02T18:21:50.348Z"
   },
   {
    "duration": 52,
    "start_time": "2023-09-02T18:21:50.401Z"
   },
   {
    "duration": 51,
    "start_time": "2023-09-02T18:21:50.455Z"
   },
   {
    "duration": 54,
    "start_time": "2023-09-02T18:21:50.508Z"
   },
   {
    "duration": 52,
    "start_time": "2023-09-02T18:21:50.565Z"
   },
   {
    "duration": 54,
    "start_time": "2023-09-02T18:21:50.619Z"
   },
   {
    "duration": 52,
    "start_time": "2023-09-02T18:21:50.675Z"
   },
   {
    "duration": 52,
    "start_time": "2023-09-02T18:21:50.728Z"
   },
   {
    "duration": 92,
    "start_time": "2023-09-02T18:21:50.781Z"
   },
   {
    "duration": 56,
    "start_time": "2023-09-02T18:21:50.875Z"
   },
   {
    "duration": 60,
    "start_time": "2023-09-02T18:21:50.933Z"
   },
   {
    "duration": 136,
    "start_time": "2023-09-02T18:21:50.995Z"
   },
   {
    "duration": 44,
    "start_time": "2023-09-02T18:23:28.962Z"
   },
   {
    "duration": 198,
    "start_time": "2023-09-02T18:29:01.536Z"
   },
   {
    "duration": 45,
    "start_time": "2023-09-02T18:29:11.693Z"
   },
   {
    "duration": 142,
    "start_time": "2023-09-02T18:31:09.775Z"
   },
   {
    "duration": 58,
    "start_time": "2023-09-02T18:38:26.525Z"
   },
   {
    "duration": 51,
    "start_time": "2023-09-02T18:38:33.932Z"
   },
   {
    "duration": 74,
    "start_time": "2023-09-02T18:38:41.320Z"
   },
   {
    "duration": 61,
    "start_time": "2023-09-02T18:38:47.713Z"
   },
   {
    "duration": 41,
    "start_time": "2023-09-02T18:38:59.227Z"
   },
   {
    "duration": 132,
    "start_time": "2023-09-02T18:39:14.169Z"
   },
   {
    "duration": 52,
    "start_time": "2023-09-02T18:39:19.228Z"
   },
   {
    "duration": 612,
    "start_time": "2023-09-02T23:50:17.539Z"
   },
   {
    "duration": 9064,
    "start_time": "2023-09-02T23:50:18.155Z"
   },
   {
    "duration": 336,
    "start_time": "2023-09-02T23:50:27.225Z"
   },
   {
    "duration": 180,
    "start_time": "2023-09-02T23:50:27.563Z"
   },
   {
    "duration": 56,
    "start_time": "2023-09-02T23:50:27.746Z"
   },
   {
    "duration": 69,
    "start_time": "2023-09-02T23:50:27.804Z"
   },
   {
    "duration": 69,
    "start_time": "2023-09-02T23:50:27.875Z"
   },
   {
    "duration": 58,
    "start_time": "2023-09-02T23:50:27.946Z"
   },
   {
    "duration": 86,
    "start_time": "2023-09-02T23:50:28.006Z"
   },
   {
    "duration": 87,
    "start_time": "2023-09-02T23:50:28.095Z"
   },
   {
    "duration": 82,
    "start_time": "2023-09-02T23:50:28.184Z"
   },
   {
    "duration": 77,
    "start_time": "2023-09-02T23:50:28.268Z"
   },
   {
    "duration": 59,
    "start_time": "2023-09-02T23:50:28.346Z"
   },
   {
    "duration": 139,
    "start_time": "2023-09-02T23:50:28.407Z"
   },
   {
    "duration": 56,
    "start_time": "2023-09-02T23:50:28.549Z"
   },
   {
    "duration": 67,
    "start_time": "2023-09-02T23:50:28.607Z"
   },
   {
    "duration": 86,
    "start_time": "2023-09-02T23:50:28.675Z"
   }
  ],
  "kernelspec": {
   "display_name": "Python 3 (ipykernel)",
   "language": "python",
   "name": "python3"
  },
  "language_info": {
   "codemirror_mode": {
    "name": "ipython",
    "version": 3
   },
   "file_extension": ".py",
   "mimetype": "text/x-python",
   "name": "python",
   "nbconvert_exporter": "python",
   "pygments_lexer": "ipython3",
   "version": "3.10.9"
  },
  "toc": {
   "base_numbering": 1,
   "nav_menu": {},
   "number_sections": true,
   "sideBar": true,
   "skip_h1_title": true,
   "title_cell": "Table of Contents",
   "title_sidebar": "Contents",
   "toc_cell": false,
   "toc_position": {},
   "toc_section_display": true,
   "toc_window_display": false
  }
 },
 "nbformat": 4,
 "nbformat_minor": 2
}
