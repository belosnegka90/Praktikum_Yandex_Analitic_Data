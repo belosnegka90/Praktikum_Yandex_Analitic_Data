{
 "cells": [
  {
   "cell_type": "markdown",
   "id": "466113a6",
   "metadata": {},
   "source": [
    "Юлия, привет!\n",
    "\n",
    "Меня зовут Щетинина Софья, я буду проверять твой проект :)\n",
    "\n",
    "Мы в Практикуме общаемся на \"ты\", но если тебе некомфортно - дай знать, и мы перейдем на \"вы\".\n",
    "\n",
    "Моя цель - не критиковать твою работу, а помогать тебе на пути освоения новой профессии.\n",
    "\n",
    "Я буду помечать свои комментарии разными цветами:\n",
    "\n",
    "<div class=\"alert alert-block alert-success\">\n",
    "<b> ✔️ Комментарий ревьюера:</b> Здесь все сделано хорошо. </div>\n",
    "\n",
    "<div class=\"alert alert-block alert-warning\">\n",
    "<b>⚠️ Комментарий ревьюера:</b> Некритичное замечание или рекомендация: исправлять это не обязательно, но будет полезно для твоего развития. </div>\n",
    "\n",
    "<div class=\"alert alert-block alert-danger\">\n",
    "<b>❌ Комментарий ревьюера:</b> Ошибка. Это нужно исправить, иначе проект не будет принят.\n",
    "</div>\n",
    "\n",
    "Пожалуйста, помечай тоже цветом свои исправления и ответы на мои комментарии.\n",
    "\n",
    "Это поможет мне быстрее сделать ревью твоего проекта.\n",
    "\n",
    "<div class=\"alert alert-block alert-info\">\n",
    "<b>Комментарий студента:</b> \n",
    "Например, так.\n",
    "\n",
    "</div>\n"
   ]
  },
  {
   "cell_type": "markdown",
   "id": "386f2ae7",
   "metadata": {
    "deletable": false,
    "editable": false,
    "id": "386f2ae7"
   },
   "source": [
    "# Исследование надежности заемщиков\n"
   ]
  },
  {
   "cell_type": "markdown",
   "id": "5dca6f5f",
   "metadata": {},
   "source": [
    "<div class=\"alert alert-block alert-warning\">\n",
    "<b>⚠️ Комментарий ревьюера:</b> Хоть проект и начинается с заданий с автоматической проверкой, рекомендую делать небольшое вступление с описанием данных, целей и планов исследования. Это поможет собрать все воедино и облегчит твою работу над выводами в конце. </div>"
   ]
  },
  {
   "cell_type": "markdown",
   "id": "ffe86f65",
   "metadata": {
    "deletable": false,
    "editable": false,
    "id": "ffe86f65"
   },
   "source": [
    "Во второй части проекта вы выполните шаги 3 и 4. Их вручную проверит ревьюер.\n",
    "Чтобы вам не пришлось писать код заново для шагов 1 и 2, мы добавили авторские решения в ячейки с кодом. \n",
    "\n"
   ]
  },
  {
   "cell_type": "markdown",
   "id": "26613308",
   "metadata": {
    "deletable": false,
    "editable": false,
    "id": "26613308"
   },
   "source": [
    "## Откройте таблицу и изучите общую информацию о данных"
   ]
  },
  {
   "cell_type": "markdown",
   "id": "3c9f838e",
   "metadata": {
    "deletable": false,
    "editable": false,
    "id": "3c9f838e"
   },
   "source": [
    "**Задание 1. Импортируйте библиотеку pandas. Считайте данные из csv-файла в датафрейм и сохраните в переменную `data`. Путь к файлу:**\n",
    "\n",
    "`/datasets/data.csv`"
   ]
  },
  {
   "cell_type": "code",
   "execution_count": 1,
   "id": "77a68a90",
   "metadata": {
    "deletable": false,
    "id": "77a68a90"
   },
   "outputs": [],
   "source": [
    "import pandas as pd\n",
    "\n",
    "try:\n",
    "    data = pd.read_csv('/datasets/data.csv')\n",
    "except:\n",
    "    data = pd.read_csv('https://code.s3.yandex.net/datasets/data.csv')"
   ]
  },
  {
   "cell_type": "markdown",
   "id": "45365635",
   "metadata": {
    "deletable": false,
    "editable": false,
    "id": "45365635"
   },
   "source": [
    "**Задание 2. Выведите первые 20 строчек датафрейма `data` на экран.**"
   ]
  },
  {
   "cell_type": "code",
   "execution_count": 2,
   "id": "b0451a9a",
   "metadata": {
    "deletable": false,
    "id": "b0451a9a",
    "outputId": "1a8f3ef2-d323-4ec2-ddf7-89670b5944c4"
   },
   "outputs": [
    {
     "data": {
      "text/html": [
       "<div>\n",
       "<style scoped>\n",
       "    .dataframe tbody tr th:only-of-type {\n",
       "        vertical-align: middle;\n",
       "    }\n",
       "\n",
       "    .dataframe tbody tr th {\n",
       "        vertical-align: top;\n",
       "    }\n",
       "\n",
       "    .dataframe thead th {\n",
       "        text-align: right;\n",
       "    }\n",
       "</style>\n",
       "<table border=\"1\" class=\"dataframe\">\n",
       "  <thead>\n",
       "    <tr style=\"text-align: right;\">\n",
       "      <th></th>\n",
       "      <th>children</th>\n",
       "      <th>days_employed</th>\n",
       "      <th>dob_years</th>\n",
       "      <th>education</th>\n",
       "      <th>education_id</th>\n",
       "      <th>family_status</th>\n",
       "      <th>family_status_id</th>\n",
       "      <th>gender</th>\n",
       "      <th>income_type</th>\n",
       "      <th>debt</th>\n",
       "      <th>total_income</th>\n",
       "      <th>purpose</th>\n",
       "    </tr>\n",
       "  </thead>\n",
       "  <tbody>\n",
       "    <tr>\n",
       "      <th>0</th>\n",
       "      <td>1</td>\n",
       "      <td>-8437.673028</td>\n",
       "      <td>42</td>\n",
       "      <td>высшее</td>\n",
       "      <td>0</td>\n",
       "      <td>женат / замужем</td>\n",
       "      <td>0</td>\n",
       "      <td>F</td>\n",
       "      <td>сотрудник</td>\n",
       "      <td>0</td>\n",
       "      <td>253875.639453</td>\n",
       "      <td>покупка жилья</td>\n",
       "    </tr>\n",
       "    <tr>\n",
       "      <th>1</th>\n",
       "      <td>1</td>\n",
       "      <td>-4024.803754</td>\n",
       "      <td>36</td>\n",
       "      <td>среднее</td>\n",
       "      <td>1</td>\n",
       "      <td>женат / замужем</td>\n",
       "      <td>0</td>\n",
       "      <td>F</td>\n",
       "      <td>сотрудник</td>\n",
       "      <td>0</td>\n",
       "      <td>112080.014102</td>\n",
       "      <td>приобретение автомобиля</td>\n",
       "    </tr>\n",
       "    <tr>\n",
       "      <th>2</th>\n",
       "      <td>0</td>\n",
       "      <td>-5623.422610</td>\n",
       "      <td>33</td>\n",
       "      <td>Среднее</td>\n",
       "      <td>1</td>\n",
       "      <td>женат / замужем</td>\n",
       "      <td>0</td>\n",
       "      <td>M</td>\n",
       "      <td>сотрудник</td>\n",
       "      <td>0</td>\n",
       "      <td>145885.952297</td>\n",
       "      <td>покупка жилья</td>\n",
       "    </tr>\n",
       "    <tr>\n",
       "      <th>3</th>\n",
       "      <td>3</td>\n",
       "      <td>-4124.747207</td>\n",
       "      <td>32</td>\n",
       "      <td>среднее</td>\n",
       "      <td>1</td>\n",
       "      <td>женат / замужем</td>\n",
       "      <td>0</td>\n",
       "      <td>M</td>\n",
       "      <td>сотрудник</td>\n",
       "      <td>0</td>\n",
       "      <td>267628.550329</td>\n",
       "      <td>дополнительное образование</td>\n",
       "    </tr>\n",
       "    <tr>\n",
       "      <th>4</th>\n",
       "      <td>0</td>\n",
       "      <td>340266.072047</td>\n",
       "      <td>53</td>\n",
       "      <td>среднее</td>\n",
       "      <td>1</td>\n",
       "      <td>гражданский брак</td>\n",
       "      <td>1</td>\n",
       "      <td>F</td>\n",
       "      <td>пенсионер</td>\n",
       "      <td>0</td>\n",
       "      <td>158616.077870</td>\n",
       "      <td>сыграть свадьбу</td>\n",
       "    </tr>\n",
       "    <tr>\n",
       "      <th>5</th>\n",
       "      <td>0</td>\n",
       "      <td>-926.185831</td>\n",
       "      <td>27</td>\n",
       "      <td>высшее</td>\n",
       "      <td>0</td>\n",
       "      <td>гражданский брак</td>\n",
       "      <td>1</td>\n",
       "      <td>M</td>\n",
       "      <td>компаньон</td>\n",
       "      <td>0</td>\n",
       "      <td>255763.565419</td>\n",
       "      <td>покупка жилья</td>\n",
       "    </tr>\n",
       "    <tr>\n",
       "      <th>6</th>\n",
       "      <td>0</td>\n",
       "      <td>-2879.202052</td>\n",
       "      <td>43</td>\n",
       "      <td>высшее</td>\n",
       "      <td>0</td>\n",
       "      <td>женат / замужем</td>\n",
       "      <td>0</td>\n",
       "      <td>F</td>\n",
       "      <td>компаньон</td>\n",
       "      <td>0</td>\n",
       "      <td>240525.971920</td>\n",
       "      <td>операции с жильем</td>\n",
       "    </tr>\n",
       "    <tr>\n",
       "      <th>7</th>\n",
       "      <td>0</td>\n",
       "      <td>-152.779569</td>\n",
       "      <td>50</td>\n",
       "      <td>СРЕДНЕЕ</td>\n",
       "      <td>1</td>\n",
       "      <td>женат / замужем</td>\n",
       "      <td>0</td>\n",
       "      <td>M</td>\n",
       "      <td>сотрудник</td>\n",
       "      <td>0</td>\n",
       "      <td>135823.934197</td>\n",
       "      <td>образование</td>\n",
       "    </tr>\n",
       "    <tr>\n",
       "      <th>8</th>\n",
       "      <td>2</td>\n",
       "      <td>-6929.865299</td>\n",
       "      <td>35</td>\n",
       "      <td>ВЫСШЕЕ</td>\n",
       "      <td>0</td>\n",
       "      <td>гражданский брак</td>\n",
       "      <td>1</td>\n",
       "      <td>F</td>\n",
       "      <td>сотрудник</td>\n",
       "      <td>0</td>\n",
       "      <td>95856.832424</td>\n",
       "      <td>на проведение свадьбы</td>\n",
       "    </tr>\n",
       "    <tr>\n",
       "      <th>9</th>\n",
       "      <td>0</td>\n",
       "      <td>-2188.756445</td>\n",
       "      <td>41</td>\n",
       "      <td>среднее</td>\n",
       "      <td>1</td>\n",
       "      <td>женат / замужем</td>\n",
       "      <td>0</td>\n",
       "      <td>M</td>\n",
       "      <td>сотрудник</td>\n",
       "      <td>0</td>\n",
       "      <td>144425.938277</td>\n",
       "      <td>покупка жилья для семьи</td>\n",
       "    </tr>\n",
       "    <tr>\n",
       "      <th>10</th>\n",
       "      <td>2</td>\n",
       "      <td>-4171.483647</td>\n",
       "      <td>36</td>\n",
       "      <td>высшее</td>\n",
       "      <td>0</td>\n",
       "      <td>женат / замужем</td>\n",
       "      <td>0</td>\n",
       "      <td>M</td>\n",
       "      <td>компаньон</td>\n",
       "      <td>0</td>\n",
       "      <td>113943.491460</td>\n",
       "      <td>покупка недвижимости</td>\n",
       "    </tr>\n",
       "    <tr>\n",
       "      <th>11</th>\n",
       "      <td>0</td>\n",
       "      <td>-792.701887</td>\n",
       "      <td>40</td>\n",
       "      <td>среднее</td>\n",
       "      <td>1</td>\n",
       "      <td>женат / замужем</td>\n",
       "      <td>0</td>\n",
       "      <td>F</td>\n",
       "      <td>сотрудник</td>\n",
       "      <td>0</td>\n",
       "      <td>77069.234271</td>\n",
       "      <td>покупка коммерческой недвижимости</td>\n",
       "    </tr>\n",
       "    <tr>\n",
       "      <th>12</th>\n",
       "      <td>0</td>\n",
       "      <td>NaN</td>\n",
       "      <td>65</td>\n",
       "      <td>среднее</td>\n",
       "      <td>1</td>\n",
       "      <td>гражданский брак</td>\n",
       "      <td>1</td>\n",
       "      <td>M</td>\n",
       "      <td>пенсионер</td>\n",
       "      <td>0</td>\n",
       "      <td>NaN</td>\n",
       "      <td>сыграть свадьбу</td>\n",
       "    </tr>\n",
       "    <tr>\n",
       "      <th>13</th>\n",
       "      <td>0</td>\n",
       "      <td>-1846.641941</td>\n",
       "      <td>54</td>\n",
       "      <td>неоконченное высшее</td>\n",
       "      <td>2</td>\n",
       "      <td>женат / замужем</td>\n",
       "      <td>0</td>\n",
       "      <td>F</td>\n",
       "      <td>сотрудник</td>\n",
       "      <td>0</td>\n",
       "      <td>130458.228857</td>\n",
       "      <td>приобретение автомобиля</td>\n",
       "    </tr>\n",
       "    <tr>\n",
       "      <th>14</th>\n",
       "      <td>0</td>\n",
       "      <td>-1844.956182</td>\n",
       "      <td>56</td>\n",
       "      <td>высшее</td>\n",
       "      <td>0</td>\n",
       "      <td>гражданский брак</td>\n",
       "      <td>1</td>\n",
       "      <td>F</td>\n",
       "      <td>компаньон</td>\n",
       "      <td>1</td>\n",
       "      <td>165127.911772</td>\n",
       "      <td>покупка жилой недвижимости</td>\n",
       "    </tr>\n",
       "    <tr>\n",
       "      <th>15</th>\n",
       "      <td>1</td>\n",
       "      <td>-972.364419</td>\n",
       "      <td>26</td>\n",
       "      <td>среднее</td>\n",
       "      <td>1</td>\n",
       "      <td>женат / замужем</td>\n",
       "      <td>0</td>\n",
       "      <td>F</td>\n",
       "      <td>сотрудник</td>\n",
       "      <td>0</td>\n",
       "      <td>116820.904450</td>\n",
       "      <td>строительство собственной недвижимости</td>\n",
       "    </tr>\n",
       "    <tr>\n",
       "      <th>16</th>\n",
       "      <td>0</td>\n",
       "      <td>-1719.934226</td>\n",
       "      <td>35</td>\n",
       "      <td>среднее</td>\n",
       "      <td>1</td>\n",
       "      <td>женат / замужем</td>\n",
       "      <td>0</td>\n",
       "      <td>F</td>\n",
       "      <td>сотрудник</td>\n",
       "      <td>0</td>\n",
       "      <td>289202.704229</td>\n",
       "      <td>недвижимость</td>\n",
       "    </tr>\n",
       "    <tr>\n",
       "      <th>17</th>\n",
       "      <td>0</td>\n",
       "      <td>-2369.999720</td>\n",
       "      <td>33</td>\n",
       "      <td>высшее</td>\n",
       "      <td>0</td>\n",
       "      <td>гражданский брак</td>\n",
       "      <td>1</td>\n",
       "      <td>M</td>\n",
       "      <td>сотрудник</td>\n",
       "      <td>0</td>\n",
       "      <td>90410.586745</td>\n",
       "      <td>строительство недвижимости</td>\n",
       "    </tr>\n",
       "    <tr>\n",
       "      <th>18</th>\n",
       "      <td>0</td>\n",
       "      <td>400281.136913</td>\n",
       "      <td>53</td>\n",
       "      <td>среднее</td>\n",
       "      <td>1</td>\n",
       "      <td>вдовец / вдова</td>\n",
       "      <td>2</td>\n",
       "      <td>F</td>\n",
       "      <td>пенсионер</td>\n",
       "      <td>0</td>\n",
       "      <td>56823.777243</td>\n",
       "      <td>на покупку подержанного автомобиля</td>\n",
       "    </tr>\n",
       "    <tr>\n",
       "      <th>19</th>\n",
       "      <td>0</td>\n",
       "      <td>-10038.818549</td>\n",
       "      <td>48</td>\n",
       "      <td>СРЕДНЕЕ</td>\n",
       "      <td>1</td>\n",
       "      <td>в разводе</td>\n",
       "      <td>3</td>\n",
       "      <td>F</td>\n",
       "      <td>сотрудник</td>\n",
       "      <td>0</td>\n",
       "      <td>242831.107982</td>\n",
       "      <td>на покупку своего автомобиля</td>\n",
       "    </tr>\n",
       "  </tbody>\n",
       "</table>\n",
       "</div>"
      ],
      "text/plain": [
       "    children  days_employed  dob_years            education  education_id  \\\n",
       "0          1   -8437.673028         42               высшее             0   \n",
       "1          1   -4024.803754         36              среднее             1   \n",
       "2          0   -5623.422610         33              Среднее             1   \n",
       "3          3   -4124.747207         32              среднее             1   \n",
       "4          0  340266.072047         53              среднее             1   \n",
       "5          0    -926.185831         27               высшее             0   \n",
       "6          0   -2879.202052         43               высшее             0   \n",
       "7          0    -152.779569         50              СРЕДНЕЕ             1   \n",
       "8          2   -6929.865299         35               ВЫСШЕЕ             0   \n",
       "9          0   -2188.756445         41              среднее             1   \n",
       "10         2   -4171.483647         36               высшее             0   \n",
       "11         0    -792.701887         40              среднее             1   \n",
       "12         0            NaN         65              среднее             1   \n",
       "13         0   -1846.641941         54  неоконченное высшее             2   \n",
       "14         0   -1844.956182         56               высшее             0   \n",
       "15         1    -972.364419         26              среднее             1   \n",
       "16         0   -1719.934226         35              среднее             1   \n",
       "17         0   -2369.999720         33               высшее             0   \n",
       "18         0  400281.136913         53              среднее             1   \n",
       "19         0  -10038.818549         48              СРЕДНЕЕ             1   \n",
       "\n",
       "       family_status  family_status_id gender income_type  debt  \\\n",
       "0    женат / замужем                 0      F   сотрудник     0   \n",
       "1    женат / замужем                 0      F   сотрудник     0   \n",
       "2    женат / замужем                 0      M   сотрудник     0   \n",
       "3    женат / замужем                 0      M   сотрудник     0   \n",
       "4   гражданский брак                 1      F   пенсионер     0   \n",
       "5   гражданский брак                 1      M   компаньон     0   \n",
       "6    женат / замужем                 0      F   компаньон     0   \n",
       "7    женат / замужем                 0      M   сотрудник     0   \n",
       "8   гражданский брак                 1      F   сотрудник     0   \n",
       "9    женат / замужем                 0      M   сотрудник     0   \n",
       "10   женат / замужем                 0      M   компаньон     0   \n",
       "11   женат / замужем                 0      F   сотрудник     0   \n",
       "12  гражданский брак                 1      M   пенсионер     0   \n",
       "13   женат / замужем                 0      F   сотрудник     0   \n",
       "14  гражданский брак                 1      F   компаньон     1   \n",
       "15   женат / замужем                 0      F   сотрудник     0   \n",
       "16   женат / замужем                 0      F   сотрудник     0   \n",
       "17  гражданский брак                 1      M   сотрудник     0   \n",
       "18    вдовец / вдова                 2      F   пенсионер     0   \n",
       "19         в разводе                 3      F   сотрудник     0   \n",
       "\n",
       "     total_income                                 purpose  \n",
       "0   253875.639453                           покупка жилья  \n",
       "1   112080.014102                 приобретение автомобиля  \n",
       "2   145885.952297                           покупка жилья  \n",
       "3   267628.550329              дополнительное образование  \n",
       "4   158616.077870                         сыграть свадьбу  \n",
       "5   255763.565419                           покупка жилья  \n",
       "6   240525.971920                       операции с жильем  \n",
       "7   135823.934197                             образование  \n",
       "8    95856.832424                   на проведение свадьбы  \n",
       "9   144425.938277                 покупка жилья для семьи  \n",
       "10  113943.491460                    покупка недвижимости  \n",
       "11   77069.234271       покупка коммерческой недвижимости  \n",
       "12            NaN                         сыграть свадьбу  \n",
       "13  130458.228857                 приобретение автомобиля  \n",
       "14  165127.911772              покупка жилой недвижимости  \n",
       "15  116820.904450  строительство собственной недвижимости  \n",
       "16  289202.704229                            недвижимость  \n",
       "17   90410.586745              строительство недвижимости  \n",
       "18   56823.777243      на покупку подержанного автомобиля  \n",
       "19  242831.107982            на покупку своего автомобиля  "
      ]
     },
     "execution_count": 2,
     "metadata": {},
     "output_type": "execute_result"
    }
   ],
   "source": [
    "data.head(20)"
   ]
  },
  {
   "cell_type": "markdown",
   "id": "0ed8f27f",
   "metadata": {
    "deletable": false,
    "editable": false,
    "id": "0ed8f27f"
   },
   "source": [
    "**Задание 3. Выведите основную информацию о датафрейме с помощью метода `info()`.**"
   ]
  },
  {
   "cell_type": "code",
   "execution_count": 3,
   "id": "ab3f863b",
   "metadata": {
    "deletable": false,
    "id": "ab3f863b",
    "outputId": "15376089-8dad-46c9-b520-c05248d43158"
   },
   "outputs": [
    {
     "name": "stdout",
     "output_type": "stream",
     "text": [
      "<class 'pandas.core.frame.DataFrame'>\n",
      "RangeIndex: 21525 entries, 0 to 21524\n",
      "Data columns (total 12 columns):\n",
      " #   Column            Non-Null Count  Dtype  \n",
      "---  ------            --------------  -----  \n",
      " 0   children          21525 non-null  int64  \n",
      " 1   days_employed     19351 non-null  float64\n",
      " 2   dob_years         21525 non-null  int64  \n",
      " 3   education         21525 non-null  object \n",
      " 4   education_id      21525 non-null  int64  \n",
      " 5   family_status     21525 non-null  object \n",
      " 6   family_status_id  21525 non-null  int64  \n",
      " 7   gender            21525 non-null  object \n",
      " 8   income_type       21525 non-null  object \n",
      " 9   debt              21525 non-null  int64  \n",
      " 10  total_income      19351 non-null  float64\n",
      " 11  purpose           21525 non-null  object \n",
      "dtypes: float64(2), int64(5), object(5)\n",
      "memory usage: 2.0+ MB\n"
     ]
    }
   ],
   "source": [
    "data.info()"
   ]
  },
  {
   "cell_type": "markdown",
   "id": "60e3e22d",
   "metadata": {
    "deletable": false,
    "editable": false,
    "id": "60e3e22d"
   },
   "source": [
    "## Предобработка данных"
   ]
  },
  {
   "cell_type": "markdown",
   "id": "03dc170c",
   "metadata": {
    "deletable": false,
    "editable": false,
    "id": "03dc170c"
   },
   "source": [
    "### Удаление пропусков"
   ]
  },
  {
   "cell_type": "markdown",
   "id": "a4f54eef",
   "metadata": {
    "deletable": false,
    "editable": false,
    "id": "a4f54eef"
   },
   "source": [
    "**Задание 4. Выведите количество пропущенных значений для каждого столбца. Используйте комбинацию двух методов.**"
   ]
  },
  {
   "cell_type": "code",
   "execution_count": 4,
   "id": "2dc372b2",
   "metadata": {
    "deletable": false,
    "id": "2dc372b2",
    "outputId": "81f4d817-781c-465c-ed15-91ce4446810d"
   },
   "outputs": [
    {
     "data": {
      "text/plain": [
       "children               0\n",
       "days_employed       2174\n",
       "dob_years              0\n",
       "education              0\n",
       "education_id           0\n",
       "family_status          0\n",
       "family_status_id       0\n",
       "gender                 0\n",
       "income_type            0\n",
       "debt                   0\n",
       "total_income        2174\n",
       "purpose                0\n",
       "dtype: int64"
      ]
     },
     "execution_count": 4,
     "metadata": {},
     "output_type": "execute_result"
    }
   ],
   "source": [
    "data.isna().sum()"
   ]
  },
  {
   "cell_type": "markdown",
   "id": "14f011b1",
   "metadata": {
    "deletable": false,
    "editable": false,
    "id": "14f011b1"
   },
   "source": [
    "**Задание 5. В двух столбцах есть пропущенные значения. Один из них — `days_employed`. Пропуски в этом столбце вы обработаете на следующем этапе. Другой столбец с пропущенными значениями — `total_income` — хранит данные о доходах. На сумму дохода сильнее всего влияет тип занятости, поэтому заполнить пропуски в этом столбце нужно медианным значением по каждому типу из столбца `income_type`. Например, у человека с типом занятости `сотрудник` пропуск в столбце `total_income` должен быть заполнен медианным доходом среди всех записей с тем же типом.**"
   ]
  },
  {
   "cell_type": "code",
   "execution_count": 5,
   "id": "bdabfb6e",
   "metadata": {
    "deletable": false,
    "id": "bdabfb6e"
   },
   "outputs": [],
   "source": [
    "for t in data['income_type'].unique():\n",
    "    data.loc[(data['income_type'] == t) & (data['total_income'].isna()), 'total_income'] = \\\n",
    "    data.loc[(data['income_type'] == t), 'total_income'].median()"
   ]
  },
  {
   "cell_type": "markdown",
   "id": "5be34059",
   "metadata": {
    "deletable": false,
    "editable": false,
    "id": "5be34059"
   },
   "source": [
    "### Обработка аномальных значений"
   ]
  },
  {
   "cell_type": "markdown",
   "id": "a87606cb",
   "metadata": {
    "deletable": false,
    "editable": false,
    "id": "a87606cb"
   },
   "source": [
    "**Задание 6. В данных могут встречаться артефакты (аномалии) — значения, которые не отражают действительность и появились по какой-то ошибке. таким артефактом будет отрицательное количество дней трудового стажа в столбце `days_employed`. Для реальных данных это нормально. Обработайте значения в этом столбце: замените все отрицательные значения положительными с помощью метода `abs()`.**"
   ]
  },
  {
   "cell_type": "code",
   "execution_count": 6,
   "id": "020c46cc",
   "metadata": {
    "deletable": false,
    "id": "020c46cc"
   },
   "outputs": [],
   "source": [
    "data['days_employed'] = data['days_employed'].abs()"
   ]
  },
  {
   "cell_type": "markdown",
   "id": "45538a3a",
   "metadata": {
    "deletable": false,
    "editable": false,
    "id": "45538a3a"
   },
   "source": [
    "**Задание 7. Для каждого типа занятости выведите медианное значение трудового стажа `days_employed` в днях.**"
   ]
  },
  {
   "cell_type": "code",
   "execution_count": 7,
   "id": "cd3e6328",
   "metadata": {
    "deletable": false,
    "id": "cd3e6328",
    "outputId": "801ef80e-522b-4668-f34e-565af7432bcf"
   },
   "outputs": [
    {
     "data": {
      "text/plain": [
       "income_type\n",
       "безработный        366413.652744\n",
       "в декрете            3296.759962\n",
       "госслужащий          2689.368353\n",
       "компаньон            1547.382223\n",
       "пенсионер          365213.306266\n",
       "предприниматель       520.848083\n",
       "сотрудник            1574.202821\n",
       "студент               578.751554\n",
       "Name: days_employed, dtype: float64"
      ]
     },
     "execution_count": 7,
     "metadata": {},
     "output_type": "execute_result"
    }
   ],
   "source": [
    "data.groupby('income_type')['days_employed'].agg('median')"
   ]
  },
  {
   "cell_type": "markdown",
   "id": "90c5f058",
   "metadata": {
    "deletable": false,
    "editable": false,
    "id": "90c5f058"
   },
   "source": [
    "У двух типов (безработные и пенсионеры) получатся аномально большие значения. Исправить такие значения сложно, поэтому оставьте их как есть."
   ]
  },
  {
   "cell_type": "markdown",
   "id": "9652e50d",
   "metadata": {
    "deletable": false,
    "editable": false,
    "id": "9652e50d"
   },
   "source": [
    "**Задание 8. Выведите перечень уникальных значений столбца `children`.**"
   ]
  },
  {
   "cell_type": "code",
   "execution_count": 8,
   "id": "dbb37b8e",
   "metadata": {
    "deletable": false,
    "id": "dbb37b8e",
    "outputId": "6975b15c-7f95-4697-d16d-a0c79b657b03"
   },
   "outputs": [
    {
     "data": {
      "text/plain": [
       "array([ 1,  0,  3,  2, -1,  4, 20,  5])"
      ]
     },
     "execution_count": 8,
     "metadata": {},
     "output_type": "execute_result"
    }
   ],
   "source": [
    "data['children'].unique()"
   ]
  },
  {
   "cell_type": "markdown",
   "id": "2b8b0715",
   "metadata": {
    "deletable": false,
    "editable": false,
    "id": "2b8b0715"
   },
   "source": [
    "**Задание 9. В столбце `children` есть два аномальных значения. Удалите строки, в которых встречаются такие аномальные значения из датафрейма `data`.**"
   ]
  },
  {
   "cell_type": "code",
   "execution_count": 9,
   "id": "20009df8",
   "metadata": {
    "deletable": false,
    "id": "20009df8"
   },
   "outputs": [],
   "source": [
    "data = data[(data['children'] != -1) & (data['children'] != 20)]"
   ]
  },
  {
   "cell_type": "markdown",
   "id": "8c6ac9f1",
   "metadata": {
    "deletable": false,
    "editable": false,
    "id": "8c6ac9f1"
   },
   "source": [
    "**Задание 10. Ещё раз выведите перечень уникальных значений столбца `children`, чтобы убедиться, что артефакты удалены.**"
   ]
  },
  {
   "cell_type": "code",
   "execution_count": 10,
   "id": "07337b81",
   "metadata": {
    "deletable": false,
    "id": "07337b81",
    "outputId": "b2097101-d49d-44d9-901b-32a65c9463d1"
   },
   "outputs": [
    {
     "data": {
      "text/plain": [
       "array([1, 0, 3, 2, 4, 5])"
      ]
     },
     "execution_count": 10,
     "metadata": {},
     "output_type": "execute_result"
    }
   ],
   "source": [
    "data['children'].unique()"
   ]
  },
  {
   "cell_type": "markdown",
   "id": "ee3f52d4",
   "metadata": {
    "deletable": false,
    "editable": false,
    "id": "ee3f52d4"
   },
   "source": [
    "### Удаление пропусков (продолжение)"
   ]
  },
  {
   "cell_type": "markdown",
   "id": "a700b0e4",
   "metadata": {
    "deletable": false,
    "editable": false,
    "id": "a700b0e4"
   },
   "source": [
    "**Задание 11. Заполните пропуски в столбце `days_employed` медианными значениями по каждого типа занятости `income_type`.**"
   ]
  },
  {
   "cell_type": "code",
   "execution_count": 11,
   "id": "61946b83",
   "metadata": {
    "deletable": false,
    "id": "61946b83"
   },
   "outputs": [],
   "source": [
    "for t in data['income_type'].unique():\n",
    "    data.loc[(data['income_type'] == t) & (data['days_employed'].isna()), 'days_employed'] = \\\n",
    "    data.loc[(data['income_type'] == t), 'days_employed'].median()"
   ]
  },
  {
   "cell_type": "markdown",
   "id": "550dcd9b",
   "metadata": {
    "deletable": false,
    "editable": false,
    "id": "550dcd9b"
   },
   "source": [
    "**Задание 12. Убедитесь, что все пропуски заполнены. Проверьте себя и ещё раз выведите количество пропущенных значений для каждого столбца с помощью двух методов.**"
   ]
  },
  {
   "cell_type": "code",
   "execution_count": 12,
   "id": "937c7014",
   "metadata": {
    "deletable": false,
    "id": "937c7014",
    "outputId": "8da1e4e1-358e-4e87-98c9-f261bce0a7b2"
   },
   "outputs": [
    {
     "data": {
      "text/plain": [
       "children            0\n",
       "days_employed       0\n",
       "dob_years           0\n",
       "education           0\n",
       "education_id        0\n",
       "family_status       0\n",
       "family_status_id    0\n",
       "gender              0\n",
       "income_type         0\n",
       "debt                0\n",
       "total_income        0\n",
       "purpose             0\n",
       "dtype: int64"
      ]
     },
     "execution_count": 12,
     "metadata": {},
     "output_type": "execute_result"
    }
   ],
   "source": [
    "data.isna().sum()"
   ]
  },
  {
   "cell_type": "markdown",
   "id": "d522e295",
   "metadata": {
    "deletable": false,
    "editable": false,
    "id": "d522e295"
   },
   "source": [
    "### Изменение типов данных"
   ]
  },
  {
   "cell_type": "markdown",
   "id": "c229c581",
   "metadata": {
    "deletable": false,
    "editable": false,
    "id": "c229c581"
   },
   "source": [
    "**Задание 13. Замените вещественный тип данных в столбце `total_income` на целочисленный с помощью метода `astype()`.**"
   ]
  },
  {
   "cell_type": "code",
   "execution_count": 13,
   "id": "31036462",
   "metadata": {
    "deletable": false,
    "id": "31036462"
   },
   "outputs": [],
   "source": [
    "data['total_income'] = data['total_income'].astype(int)"
   ]
  },
  {
   "cell_type": "markdown",
   "id": "b8e3d1d9",
   "metadata": {
    "deletable": false,
    "editable": false,
    "id": "b8e3d1d9"
   },
   "source": [
    "### Обработка дубликатов"
   ]
  },
  {
   "cell_type": "markdown",
   "id": "9be53c49",
   "metadata": {
    "deletable": false,
    "editable": false,
    "id": "9be53c49"
   },
   "source": [
    "**Задание 14. Обработайте неявные дубликаты в столбце `education`. В этом столбце есть одни и те же значения, но записанные по-разному: с использованием заглавных и строчных букв. Приведите их к нижнему регистру.**"
   ]
  },
  {
   "cell_type": "code",
   "execution_count": 14,
   "id": "d89e73e1",
   "metadata": {
    "deletable": false,
    "id": "d89e73e1"
   },
   "outputs": [],
   "source": [
    "data['education'] = data['education'].str.lower()"
   ]
  },
  {
   "cell_type": "markdown",
   "id": "01d4500e",
   "metadata": {
    "deletable": false,
    "editable": false,
    "id": "01d4500e"
   },
   "source": [
    "**Задание 15. Выведите на экран количество строк-дубликатов в данных. Если такие строки присутствуют, удалите их.**"
   ]
  },
  {
   "cell_type": "code",
   "execution_count": 15,
   "id": "e10efb23",
   "metadata": {
    "deletable": false,
    "id": "e10efb23",
    "outputId": "9684deba-1934-42d1-99e1-cda61740f822"
   },
   "outputs": [
    {
     "data": {
      "text/plain": [
       "71"
      ]
     },
     "execution_count": 15,
     "metadata": {},
     "output_type": "execute_result"
    }
   ],
   "source": [
    "data.duplicated().sum()"
   ]
  },
  {
   "cell_type": "code",
   "execution_count": 16,
   "id": "df853f20",
   "metadata": {
    "deletable": false,
    "id": "df853f20"
   },
   "outputs": [],
   "source": [
    "data = data.drop_duplicates()"
   ]
  },
  {
   "cell_type": "markdown",
   "id": "627be38f",
   "metadata": {
    "deletable": false,
    "editable": false,
    "id": "627be38f"
   },
   "source": [
    "### Категоризация данных"
   ]
  },
  {
   "cell_type": "markdown",
   "id": "4684c3e0",
   "metadata": {
    "deletable": false,
    "editable": false,
    "id": "4684c3e0"
   },
   "source": [
    "**Задание 16. На основании диапазонов, указанных ниже, создайте в датафрейме `data` столбец `total_income_category` с категориями:**\n",
    "\n",
    "- 0–30000 — `'E'`;\n",
    "- 30001–50000 — `'D'`;\n",
    "- 50001–200000 — `'C'`;\n",
    "- 200001–1000000 — `'B'`;\n",
    "- 1000001 и выше — `'A'`.\n",
    "\n",
    "\n",
    "**Например, кредитополучателю с доходом 25000 нужно назначить категорию `'E'`, а клиенту, получающему 235000, — `'B'`. Используйте собственную функцию с именем `categorize_income()` и метод `apply()`.**"
   ]
  },
  {
   "cell_type": "code",
   "execution_count": 17,
   "id": "78965238",
   "metadata": {
    "deletable": false,
    "id": "78965238"
   },
   "outputs": [],
   "source": [
    "def categorize_income(income):\n",
    "    try:\n",
    "        if 0 <= income <= 30000:\n",
    "            return 'E'\n",
    "        elif 30001 <= income <= 50000:\n",
    "            return 'D'\n",
    "        elif 50001 <= income <= 200000:\n",
    "            return 'C'\n",
    "        elif 200001 <= income <= 1000000:\n",
    "            return 'B'\n",
    "        elif income >= 1000001:\n",
    "            return 'A'\n",
    "    except:\n",
    "        pass"
   ]
  },
  {
   "cell_type": "code",
   "execution_count": 18,
   "id": "0980ada1",
   "metadata": {
    "deletable": false,
    "id": "0980ada1"
   },
   "outputs": [],
   "source": [
    "data['total_income_category'] = data['total_income'].apply(categorize_income)"
   ]
  },
  {
   "cell_type": "markdown",
   "id": "9917bba0",
   "metadata": {
    "deletable": false,
    "editable": false,
    "id": "9917bba0"
   },
   "source": [
    "**Задание 17. Выведите на экран перечень уникальных целей взятия кредита из столбца `purpose`.**"
   ]
  },
  {
   "cell_type": "code",
   "execution_count": 19,
   "id": "ee07b65e",
   "metadata": {
    "deletable": false,
    "id": "ee07b65e",
    "outputId": "673c12d9-7d7e-4ae0-9812-c622c89dd244"
   },
   "outputs": [
    {
     "data": {
      "text/plain": [
       "array(['покупка жилья', 'приобретение автомобиля',\n",
       "       'дополнительное образование', 'сыграть свадьбу',\n",
       "       'операции с жильем', 'образование', 'на проведение свадьбы',\n",
       "       'покупка жилья для семьи', 'покупка недвижимости',\n",
       "       'покупка коммерческой недвижимости', 'покупка жилой недвижимости',\n",
       "       'строительство собственной недвижимости', 'недвижимость',\n",
       "       'строительство недвижимости', 'на покупку подержанного автомобиля',\n",
       "       'на покупку своего автомобиля',\n",
       "       'операции с коммерческой недвижимостью',\n",
       "       'строительство жилой недвижимости', 'жилье',\n",
       "       'операции со своей недвижимостью', 'автомобили',\n",
       "       'заняться образованием', 'сделка с подержанным автомобилем',\n",
       "       'получение образования', 'автомобиль', 'свадьба',\n",
       "       'получение дополнительного образования', 'покупка своего жилья',\n",
       "       'операции с недвижимостью', 'получение высшего образования',\n",
       "       'свой автомобиль', 'сделка с автомобилем',\n",
       "       'профильное образование', 'высшее образование',\n",
       "       'покупка жилья для сдачи', 'на покупку автомобиля', 'ремонт жилью',\n",
       "       'заняться высшим образованием'], dtype=object)"
      ]
     },
     "execution_count": 19,
     "metadata": {},
     "output_type": "execute_result"
    }
   ],
   "source": [
    "data['purpose'].unique()"
   ]
  },
  {
   "cell_type": "markdown",
   "id": "52b79d56",
   "metadata": {
    "deletable": false,
    "editable": false,
    "id": "52b79d56"
   },
   "source": [
    "**Задание 18. Создайте функцию, которая на основании данных из столбца `purpose` сформирует новый столбец `purpose_category`, в который войдут следующие категории:**\n",
    "\n",
    "- `'операции с автомобилем'`,\n",
    "- `'операции с недвижимостью'`,\n",
    "- `'проведение свадьбы'`,\n",
    "- `'получение образования'`.\n",
    "\n",
    "**Например, если в столбце `purpose` находится подстрока `'на покупку автомобиля'`, то в столбце `purpose_category` должна появиться строка `'операции с автомобилем'`.**\n",
    "\n",
    "**Используйте собственную функцию с именем `categorize_purpose()` и метод `apply()`. Изучите данные в столбце `purpose` и определите, какие подстроки помогут вам правильно определить категорию.**"
   ]
  },
  {
   "cell_type": "code",
   "execution_count": 2,
   "id": "be41da5d",
   "metadata": {
    "deletable": false,
    "id": "be41da5d"
   },
   "outputs": [],
   "source": [
    "def categorize_purpose(row):\n",
    "    try:\n",
    "        if 'автом' in row:\n",
    "            return 'операции с автомобилем'\n",
    "        elif 'жил' in row or 'недвиж' in row:\n",
    "            return 'операции с недвижимостью'\n",
    "        elif 'свад' in row:\n",
    "            return 'проведение свадьбы'\n",
    "        elif 'образов' in row:\n",
    "            return 'получение образования'\n",
    "    except:\n",
    "        return 'нет категории'"
   ]
  },
  {
   "cell_type": "code",
   "execution_count": 3,
   "id": "94c4a19a",
   "metadata": {
    "deletable": false,
    "id": "94c4a19a"
   },
   "outputs": [
    {
     "ename": "NameError",
     "evalue": "name 'data' is not defined",
     "output_type": "error",
     "traceback": [
      "\u001b[0;31m---------------------------------------------------------------------------\u001b[0m",
      "\u001b[0;31mNameError\u001b[0m                                 Traceback (most recent call last)",
      "\u001b[0;32m/tmp/ipykernel_75/1505626498.py\u001b[0m in \u001b[0;36m<module>\u001b[0;34m\u001b[0m\n\u001b[0;32m----> 1\u001b[0;31m \u001b[0mdata\u001b[0m\u001b[0;34m[\u001b[0m\u001b[0;34m'purpose_category'\u001b[0m\u001b[0;34m]\u001b[0m \u001b[0;34m=\u001b[0m \u001b[0mdata\u001b[0m\u001b[0;34m[\u001b[0m\u001b[0;34m'purpose'\u001b[0m\u001b[0;34m]\u001b[0m\u001b[0;34m.\u001b[0m\u001b[0mapply\u001b[0m\u001b[0;34m(\u001b[0m\u001b[0mcategorize_purpose\u001b[0m\u001b[0;34m)\u001b[0m\u001b[0;34m\u001b[0m\u001b[0;34m\u001b[0m\u001b[0m\n\u001b[0m",
      "\u001b[0;31mNameError\u001b[0m: name 'data' is not defined"
     ]
    }
   ],
   "source": [
    "data['purpose_category'] = data['purpose'].apply(categorize_purpose)"
   ]
  },
  {
   "cell_type": "markdown",
   "id": "3d596c34",
   "metadata": {
    "deletable": false,
    "editable": false,
    "id": "3d596c34"
   },
   "source": [
    "### Шаг 3. Исследуйте данные и ответьте на вопросы"
   ]
  },
  {
   "cell_type": "markdown",
   "id": "648db036",
   "metadata": {
    "deletable": false,
    "editable": false,
    "id": "648db036"
   },
   "source": [
    "#### 3.1 Есть ли зависимость между количеством детей и возвратом кредита в срок?"
   ]
  },
  {
   "cell_type": "code",
   "execution_count": 26,
   "id": "7fcff25e",
   "metadata": {
    "deletable": false,
    "id": "7fcff25e"
   },
   "outputs": [
    {
     "data": {
      "text/html": [
       "<div>\n",
       "<style scoped>\n",
       "    .dataframe tbody tr th:only-of-type {\n",
       "        vertical-align: middle;\n",
       "    }\n",
       "\n",
       "    .dataframe tbody tr th {\n",
       "        vertical-align: top;\n",
       "    }\n",
       "\n",
       "    .dataframe thead th {\n",
       "        text-align: right;\n",
       "    }\n",
       "</style>\n",
       "<table border=\"1\" class=\"dataframe\">\n",
       "  <thead>\n",
       "    <tr style=\"text-align: right;\">\n",
       "      <th></th>\n",
       "      <th>count</th>\n",
       "      <th>debt</th>\n",
       "      <th>mean</th>\n",
       "    </tr>\n",
       "    <tr>\n",
       "      <th>family</th>\n",
       "      <th></th>\n",
       "      <th></th>\n",
       "      <th></th>\n",
       "    </tr>\n",
       "  </thead>\n",
       "  <tbody>\n",
       "    <tr>\n",
       "      <th>малодетные</th>\n",
       "      <td>6222</td>\n",
       "      <td>638</td>\n",
       "      <td>0.093003</td>\n",
       "    </tr>\n",
       "    <tr>\n",
       "      <th>многодетные</th>\n",
       "      <td>349</td>\n",
       "      <td>31</td>\n",
       "      <td>0.081579</td>\n",
       "    </tr>\n",
       "    <tr>\n",
       "      <th>бездетные</th>\n",
       "      <td>13028</td>\n",
       "      <td>1063</td>\n",
       "      <td>0.075438</td>\n",
       "    </tr>\n",
       "  </tbody>\n",
       "</table>\n",
       "</div>"
      ],
      "text/plain": [
       "             count  debt      mean\n",
       "family                            \n",
       "малодетные    6222   638  0.093003\n",
       "многодетные    349    31  0.081579\n",
       "бездетные    13028  1063  0.075438"
      ]
     },
     "execution_count": 26,
     "metadata": {},
     "output_type": "execute_result"
    }
   ],
   "source": [
    "def fam (children):\n",
    "    if children == 0:\n",
    "        return 'бездетные'\n",
    "    elif 1 <= children <= 2:\n",
    "        return 'малодетные'\n",
    "    elif children >= 3:\n",
    "        return 'многодетные'\n",
    "data['family'] = data['children'].apply(fam)\n",
    "children_cred = data.pivot_table(index= ['family'], columns='debt',values='gender', aggfunc='count')\n",
    "children_cred.columns = ['count', 'debt']\n",
    "children_cred['mean'] = children_cred['debt'] / (children_cred['count'] + children_cred['debt'])\n",
    "\n",
    "\n",
    "children_cred.sort_values(by='mean', ascending = False)"
   ]
  },
  {
   "cell_type": "markdown",
   "id": "dc4d57d6",
   "metadata": {},
   "source": [
    "<div class=\"alert alert-block alert-warning\">\n",
    "<b>⚠️ Комментарий ревьюера:</b> Вот здесь есть сложность с метрикой. Нам нужна доля должников, она получается из деления должников на всех заемщиков и чем доля меньше - тем лучше возвращается кредит. Здесь деление почему-то наоборот - всех на должников, получается неудобно (или нужно объяснение в выводе, что значит столбец и как его интерпретировать) </div>"
   ]
  },
  {
   "cell_type": "markdown",
   "id": "03fd31fb",
   "metadata": {},
   "source": [
    "<div class=\"alert alert-block alert-warning\">\n",
    "<b>⚠️ Комментарий ревьюера v.2:</b> Нужно исправить это </div>"
   ]
  },
  {
   "cell_type": "markdown",
   "id": "366237ef",
   "metadata": {},
   "source": [
    "<div class=\"alert alert-block alert-success\">\n",
    "<b> ✔️ Комментарий ревьюера v.3:</b> Все супер, проценты посчитаны правильно </div>"
   ]
  },
  {
   "cell_type": "markdown",
   "id": "8616494d",
   "metadata": {
    "deletable": false,
    "id": "2eb9088e"
   },
   "source": [
    "Вывод: Лучше всего отдают кредиты те, у кого нет детей. На 2м месте многодетные семьи, но их в разы меньше по численности, чем остальных категорий.\n",
    "Хуже всех справляются семьи, где 1 или 2 ребенка.        \n",
    "        \n",
    "        "
   ]
  },
  {
   "cell_type": "markdown",
   "id": "74c9b3a7",
   "metadata": {
    "deletable": false,
    "editable": false,
    "id": "74c9b3a7"
   },
   "source": [
    "#### 3.2 Есть ли зависимость между семейным положением и возвратом кредита в срок?"
   ]
  },
  {
   "cell_type": "code",
   "execution_count": 27,
   "id": "8098ab3b",
   "metadata": {
    "deletable": false,
    "id": "8098ab3b"
   },
   "outputs": [
    {
     "data": {
      "text/html": [
       "<div>\n",
       "<style scoped>\n",
       "    .dataframe tbody tr th:only-of-type {\n",
       "        vertical-align: middle;\n",
       "    }\n",
       "\n",
       "    .dataframe tbody tr th {\n",
       "        vertical-align: top;\n",
       "    }\n",
       "\n",
       "    .dataframe thead th {\n",
       "        text-align: right;\n",
       "    }\n",
       "</style>\n",
       "<table border=\"1\" class=\"dataframe\">\n",
       "  <thead>\n",
       "    <tr style=\"text-align: right;\">\n",
       "      <th></th>\n",
       "      <th>count</th>\n",
       "      <th>debt</th>\n",
       "      <th>mean</th>\n",
       "    </tr>\n",
       "    <tr>\n",
       "      <th>family_status</th>\n",
       "      <th></th>\n",
       "      <th></th>\n",
       "      <th></th>\n",
       "    </tr>\n",
       "  </thead>\n",
       "  <tbody>\n",
       "    <tr>\n",
       "      <th>Не женат / не замужем</th>\n",
       "      <td>2523</td>\n",
       "      <td>273</td>\n",
       "      <td>0.097639</td>\n",
       "    </tr>\n",
       "    <tr>\n",
       "      <th>гражданский брак</th>\n",
       "      <td>3749</td>\n",
       "      <td>385</td>\n",
       "      <td>0.093130</td>\n",
       "    </tr>\n",
       "    <tr>\n",
       "      <th>женат / замужем</th>\n",
       "      <td>11334</td>\n",
       "      <td>927</td>\n",
       "      <td>0.075606</td>\n",
       "    </tr>\n",
       "    <tr>\n",
       "      <th>в разводе</th>\n",
       "      <td>1105</td>\n",
       "      <td>84</td>\n",
       "      <td>0.070648</td>\n",
       "    </tr>\n",
       "    <tr>\n",
       "      <th>вдовец / вдова</th>\n",
       "      <td>888</td>\n",
       "      <td>63</td>\n",
       "      <td>0.066246</td>\n",
       "    </tr>\n",
       "  </tbody>\n",
       "</table>\n",
       "</div>"
      ],
      "text/plain": [
       "                       count  debt      mean\n",
       "family_status                               \n",
       "Не женат / не замужем   2523   273  0.097639\n",
       "гражданский брак        3749   385  0.093130\n",
       "женат / замужем        11334   927  0.075606\n",
       "в разводе               1105    84  0.070648\n",
       "вдовец / вдова           888    63  0.066246"
      ]
     },
     "execution_count": 27,
     "metadata": {},
     "output_type": "execute_result"
    }
   ],
   "source": [
    "family_cred = data.pivot_table(index= ['family_status'], columns='debt', values='gender', aggfunc='count')\n",
    "family_cred.columns = ['count', 'debt']\n",
    "family_cred['mean'] = family_cred['debt'] / (family_cred['debt'] + family_cred['count'])\n",
    "family_cred.sort_values(by='mean', ascending=False)"
   ]
  },
  {
   "cell_type": "markdown",
   "id": "edd31767",
   "metadata": {
    "deletable": false,
    "id": "c389ca63"
   },
   "source": [
    "Вывод: Лучще всех отдают кредиты люди, которые вдовствуют или находятся в разводе. Хуже всех выплачивают долги (с небольшой разницей)дюли,\n",
    "свободные от юрилических уз, т.е. не женатые или живущие в гражданском браке. Официвльно оформившие свои отношения, находятся на\n",
    "средних позициях."
   ]
  },
  {
   "cell_type": "markdown",
   "id": "160609ba",
   "metadata": {},
   "source": [
    "<div class=\"alert alert-block alert-success\">\n",
    "<b> ✔️ Комментарий ревьюера:</b> Вывод верный, но опять метрика непонятная. </div>"
   ]
  },
  {
   "cell_type": "markdown",
   "id": "9529de68",
   "metadata": {
    "deletable": false,
    "editable": false,
    "id": "9529de68"
   },
   "source": [
    "#### 3.3 Есть ли зависимость между уровнем дохода и возвратом кредита в срок?"
   ]
  },
  {
   "cell_type": "code",
   "execution_count": 24,
   "id": "8787f44a",
   "metadata": {
    "deletable": false,
    "id": "8787f44a"
   },
   "outputs": [
    {
     "data": {
      "text/html": [
       "<div>\n",
       "<style scoped>\n",
       "    .dataframe tbody tr th:only-of-type {\n",
       "        vertical-align: middle;\n",
       "    }\n",
       "\n",
       "    .dataframe tbody tr th {\n",
       "        vertical-align: top;\n",
       "    }\n",
       "\n",
       "    .dataframe thead th {\n",
       "        text-align: right;\n",
       "    }\n",
       "</style>\n",
       "<table border=\"1\" class=\"dataframe\">\n",
       "  <thead>\n",
       "    <tr style=\"text-align: right;\">\n",
       "      <th></th>\n",
       "      <th>count</th>\n",
       "      <th>debt</th>\n",
       "      <th>mean</th>\n",
       "    </tr>\n",
       "    <tr>\n",
       "      <th>total_income_category</th>\n",
       "      <th></th>\n",
       "      <th></th>\n",
       "      <th></th>\n",
       "    </tr>\n",
       "  </thead>\n",
       "  <tbody>\n",
       "    <tr>\n",
       "      <th>D</th>\n",
       "      <td>328</td>\n",
       "      <td>21</td>\n",
       "      <td>16.619048</td>\n",
       "    </tr>\n",
       "    <tr>\n",
       "      <th>B</th>\n",
       "      <td>4660</td>\n",
       "      <td>354</td>\n",
       "      <td>14.163842</td>\n",
       "    </tr>\n",
       "    <tr>\n",
       "      <th>A</th>\n",
       "      <td>23</td>\n",
       "      <td>2</td>\n",
       "      <td>12.500000</td>\n",
       "    </tr>\n",
       "    <tr>\n",
       "      <th>C</th>\n",
       "      <td>14568</td>\n",
       "      <td>1353</td>\n",
       "      <td>11.767184</td>\n",
       "    </tr>\n",
       "    <tr>\n",
       "      <th>E</th>\n",
       "      <td>20</td>\n",
       "      <td>2</td>\n",
       "      <td>11.000000</td>\n",
       "    </tr>\n",
       "  </tbody>\n",
       "</table>\n",
       "</div>"
      ],
      "text/plain": [
       "                       count  debt       mean\n",
       "total_income_category                        \n",
       "D                        328    21  16.619048\n",
       "B                       4660   354  14.163842\n",
       "A                         23     2  12.500000\n",
       "C                      14568  1353  11.767184\n",
       "E                         20     2  11.000000"
      ]
     },
     "execution_count": 24,
     "metadata": {},
     "output_type": "execute_result"
    }
   ],
   "source": [
    "total_income_cred = data.pivot_table(index= ['total_income_category'], columns='debt', values='gender', aggfunc='count')\n",
    "total_income_cred.columns = ['count', 'debt']\n",
    "total_income_cred['mean'] = (total_income_cred['debt'] + total_income_cred['count']) / total_income_cred['debt']\n",
    "total_income_cred.sort_values(by='mean', ascending=False)"
   ]
  },
  {
   "cell_type": "markdown",
   "id": "afe2a606",
   "metadata": {
    "deletable": false,
    "id": "6dd14b57"
   },
   "source": [
    "Вывод: Хуже всех возвращают кредиты заемшики, имеющие самый низкий доход - 0–30000, а самыми отвественными те,\n",
    "чей доход не на много превышает его - 30001 - 50000. Удивительно, что заемщики из \"среднего класса\", с доходом 50001–200000,\n",
    "вкдут себя так же безответсвенно, как и те, кто зарабатывает меньше всех, хотя и самое большое колличество звемшиков срели них. \n",
    "Люди с высоким уровнем дохода(200001–1000000 и от 1000000 и выше) нахолятся на 2 и 3 местах.\n",
    "\n"
   ]
  },
  {
   "cell_type": "markdown",
   "id": "29671888",
   "metadata": {},
   "source": [
    "<div class=\"alert alert-block alert-success\">\n",
    "<b> ✔️ Комментарий ревьюера:</b> По выводам все верно + еще хорошо бы добавить комментарий о размерах выборок, тут есть очень маленькие, т.е. ненадежные для оценки. </div>"
   ]
  },
  {
   "cell_type": "markdown",
   "id": "1dcc9b12",
   "metadata": {
    "deletable": false,
    "editable": false,
    "id": "1dcc9b12"
   },
   "source": [
    "#### 3.4 Как разные цели кредита влияют на его возврат в срок?"
   ]
  },
  {
   "cell_type": "code",
   "execution_count": 25,
   "id": "c602bc8b",
   "metadata": {
    "deletable": false,
    "id": "c602bc8b"
   },
   "outputs": [
    {
     "data": {
      "text/html": [
       "<div>\n",
       "<style scoped>\n",
       "    .dataframe tbody tr th:only-of-type {\n",
       "        vertical-align: middle;\n",
       "    }\n",
       "\n",
       "    .dataframe tbody tr th {\n",
       "        vertical-align: top;\n",
       "    }\n",
       "\n",
       "    .dataframe thead th {\n",
       "        text-align: right;\n",
       "    }\n",
       "</style>\n",
       "<table border=\"1\" class=\"dataframe\">\n",
       "  <thead>\n",
       "    <tr style=\"text-align: right;\">\n",
       "      <th></th>\n",
       "      <th>count</th>\n",
       "      <th>debt</th>\n",
       "      <th>mean</th>\n",
       "    </tr>\n",
       "    <tr>\n",
       "      <th>purpose_category</th>\n",
       "      <th></th>\n",
       "      <th></th>\n",
       "      <th></th>\n",
       "    </tr>\n",
       "  </thead>\n",
       "  <tbody>\n",
       "    <tr>\n",
       "      <th>операции с недвижимостью</th>\n",
       "      <td>9971</td>\n",
       "      <td>780</td>\n",
       "      <td>13.783333</td>\n",
       "    </tr>\n",
       "    <tr>\n",
       "      <th>проведение свадьбы</th>\n",
       "      <td>2130</td>\n",
       "      <td>183</td>\n",
       "      <td>12.639344</td>\n",
       "    </tr>\n",
       "    <tr>\n",
       "      <th>получение образования</th>\n",
       "      <td>3619</td>\n",
       "      <td>369</td>\n",
       "      <td>10.807588</td>\n",
       "    </tr>\n",
       "    <tr>\n",
       "      <th>операции с автомобилем</th>\n",
       "      <td>3879</td>\n",
       "      <td>400</td>\n",
       "      <td>10.697500</td>\n",
       "    </tr>\n",
       "  </tbody>\n",
       "</table>\n",
       "</div>"
      ],
      "text/plain": [
       "                          count  debt       mean\n",
       "purpose_category                                \n",
       "операции с недвижимостью   9971   780  13.783333\n",
       "проведение свадьбы         2130   183  12.639344\n",
       "получение образования      3619   369  10.807588\n",
       "операции с автомобилем     3879   400  10.697500"
      ]
     },
     "execution_count": 25,
     "metadata": {},
     "output_type": "execute_result"
    }
   ],
   "source": [
    "categorize_purpose_cred = data.pivot_table(index= ['purpose_category'], columns='debt', values='gender', aggfunc='count')\n",
    "categorize_purpose_cred.columns = ['count', 'debt']\n",
    "categorize_purpose_cred['mean'] = (categorize_purpose_cred['debt'] + categorize_purpose_cred['count']) / categorize_purpose_cred['debt']\n",
    "categorize_purpose_cred.sort_values(by='mean', ascending=False)"
   ]
  },
  {
   "cell_type": "markdown",
   "id": "662069f9",
   "metadata": {
    "deletable": false,
    "id": "cf05ed63"
   },
   "source": [
    "Вывод: Заемшики, получающие кредиты на покупку недвижимости, ведут себя очень ответственно и большинво возврашают кредит в срок.\n",
    "Что не сказать про тех, кто получают образование и покупают мащины. За проведение свадьбы, многие заемшики так же пытаюся полностью расплатиться.\n",
    "    \n",
    "    "
   ]
  },
  {
   "cell_type": "markdown",
   "id": "c864ea61",
   "metadata": {},
   "source": [
    "<div class=\"alert alert-block alert-success\">\n",
    "<b> ✔️ Комментарий ревьюера:</b> Все правильно </div>"
   ]
  },
  {
   "cell_type": "markdown",
   "id": "46c1f10b",
   "metadata": {
    "deletable": false,
    "editable": false,
    "id": "46c1f10b"
   },
   "source": [
    "#### 3.5 Приведите возможные причины появления пропусков в исходных данных."
   ]
  },
  {
   "cell_type": "markdown",
   "id": "5f850b6a",
   "metadata": {
    "deletable": false,
    "id": "3697d2a9"
   },
   "source": [
    "Ответ: по моему мнению, много пропусков в связи с человеческим фактором: ошибками сотрудников, либо нежеланием респондентов \n",
    "предоставлять более подробную информацию. Так же много ошибок несут технические особенности программного обеспечения (сбои и \n",
    "и отсутсивие возможности выбирать значения по жестким кластерам).\n",
    "                                                                                                                      \n",
    "                                                                                                                      "
   ]
  },
  {
   "cell_type": "markdown",
   "id": "bcb8e79c",
   "metadata": {},
   "source": [
    "<div class=\"alert alert-block alert-success\">\n",
    "<b> ✔️ Комментарий ревьюера:</b> 👍 </div>"
   ]
  },
  {
   "cell_type": "markdown",
   "id": "3137d257",
   "metadata": {
    "deletable": false,
    "editable": false,
    "id": "3137d257"
   },
   "source": [
    "#### 3.6 Объясните, почему заполнить пропуски медианным значением — лучшее решение для количественных переменных."
   ]
  },
  {
   "cell_type": "markdown",
   "id": "b25b37bf",
   "metadata": {
    "deletable": false,
    "id": "cf40012a"
   },
   "source": [
    "Ответ: Не всегла среднее арифметическое значение является актуальным для проведения анализа, это значение не всегда показывает правильную картину исследования,т.к. является очень чувствительным параметром. Например, зароботная плата по стране, сложно принимать среднее арифметическое значение в этои случае для оченки. В данном случае удобней работать с  \n",
    "медианным значением. Медиана - число, которое находится в середине этого набора, если его упорядочить по возрастанию, то есть такое число, что половина из элементов набора не меньше него, а другая половина не больше.     \n",
    "  \n",
    "    "
   ]
  },
  {
   "cell_type": "markdown",
   "id": "1531fa3e",
   "metadata": {},
   "source": [
    "<div class=\"alert alert-block alert-warning\">\n",
    "<b>⚠️ Комментарий ревьюера:</b> А почему? Не хватает объяснения чем медиана лучше и в каких случаях это так. </div>"
   ]
  },
  {
   "cell_type": "markdown",
   "id": "e0ce5dfe",
   "metadata": {},
   "source": [
    "<div class=\"alert alert-block alert-success\">\n",
    "<b> ✔️ Комментарий ревьюера v.2:</b> Верно </div>"
   ]
  },
  {
   "cell_type": "markdown",
   "id": "57bc304e",
   "metadata": {
    "deletable": false,
    "editable": false,
    "id": "57bc304e"
   },
   "source": [
    "### Шаг 4: общий вывод."
   ]
  },
  {
   "cell_type": "markdown",
   "id": "1ab75d1c",
   "metadata": {
    "deletable": false,
    "id": "1ab75d1c"
   },
   "source": [
    "Напишите ваш общий вывод."
   ]
  },
  {
   "cell_type": "markdown",
   "id": "29f9aed0",
   "metadata": {},
   "source": [
    "Чаще всего должниками являются заемшики:\n",
    "1. получающие кредиты на образрвание\n",
    "2. получающие кредиты покупку машины\n",
    "3. чей уровень дохола очень низкий 0–30000, либо средний 50001–200000,\n",
    "4. кто не состоит в официаольном браке и никогда не состоял\n",
    "Чаще всего возврашают кредиты:\n",
    "1. те у кого нет детей\n",
    "2. заемщики, состоящие в официальных отношениях, либо когда то сосяли в них\n",
    "3. те кто покуает недвижимость\n",
    "4. на удивление, те кто имеет не очень высокий доход 30001 - 50000"
   ]
  },
  {
   "cell_type": "markdown",
   "id": "f532cafb",
   "metadata": {},
   "source": [
    "<div class=\"alert alert-block alert-success\">\n",
    "<b> ✔️ Комментарий ревьюера:</b> Общее впечатление:\n",
    "очень хорошая работа получилась - сводные таблицы сделаны хорошо, выводы расписаны верно, молодец!\n",
    "    \n",
    "Осталось разобраться с метрикой возвратности, или поменяй ее на долю должников в группах, или опиши что она у тебя показывает.    \n",
    "\n",
    "Исправь, пожалуйста, желтые комментарии и присылай на повторное ревью) Если есть вопросы - буду рада ответить в комментариях!</div>"
   ]
  },
  {
   "cell_type": "markdown",
   "id": "68079531",
   "metadata": {},
   "source": [
    "<div class=\"alert alert-block alert-warning\">\n",
    "<b>⚠️ Комментарий ревьюера v.2:</b> Не исправлен момент с долями, то что я написала в общем впечатлении и в желтом выше. Разберись, пожалуйста </div>"
   ]
  },
  {
   "cell_type": "markdown",
   "id": "d54feeb2",
   "metadata": {},
   "source": [
    "Добрый день)) перелелала код - разделила должников на всех заемщиков. В принципе итог тот же)))"
   ]
  },
  {
   "cell_type": "markdown",
   "id": "6e7f9a6b",
   "metadata": {},
   "source": [
    "<div class=\"alert alert-block alert-success\">\n",
    "<b> ✔️ Комментарий ревьюера v.3:</b> Принято 👍</div>"
   ]
  },
  {
   "cell_type": "code",
   "execution_count": null,
   "id": "c24f5d5e",
   "metadata": {},
   "outputs": [],
   "source": []
  }
 ],
 "metadata": {
  "ExecuteTimeLog": [
   {
    "duration": 65,
    "start_time": "2023-02-20T13:00:44.592Z"
   },
   {
    "duration": 9,
    "start_time": "2023-02-20T13:00:55.853Z"
   },
   {
    "duration": 7,
    "start_time": "2023-02-20T13:01:32.047Z"
   },
   {
    "duration": 1137,
    "start_time": "2023-02-20T13:01:45.963Z"
   },
   {
    "duration": 23,
    "start_time": "2023-02-20T13:01:49.349Z"
   },
   {
    "duration": 20,
    "start_time": "2023-02-20T13:01:54.346Z"
   },
   {
    "duration": 10,
    "start_time": "2023-02-20T13:01:57.956Z"
   },
   {
    "duration": 41,
    "start_time": "2023-02-20T13:02:01.691Z"
   },
   {
    "duration": 3,
    "start_time": "2023-02-20T13:02:06.503Z"
   },
   {
    "duration": 4,
    "start_time": "2023-02-20T13:02:08.805Z"
   },
   {
    "duration": 8,
    "start_time": "2023-02-20T13:02:10.803Z"
   },
   {
    "duration": 5,
    "start_time": "2023-02-20T13:02:15.365Z"
   },
   {
    "duration": 7,
    "start_time": "2023-02-20T13:02:19.902Z"
   },
   {
    "duration": 9,
    "start_time": "2023-02-20T13:02:23.622Z"
   },
   {
    "duration": 42,
    "start_time": "2023-02-20T13:02:29.095Z"
   },
   {
    "duration": 17,
    "start_time": "2023-02-20T13:02:31.673Z"
   },
   {
    "duration": 5,
    "start_time": "2023-02-20T13:02:34.585Z"
   },
   {
    "duration": 19,
    "start_time": "2023-02-20T13:02:37.620Z"
   },
   {
    "duration": 10,
    "start_time": "2023-02-20T13:02:43.630Z"
   },
   {
    "duration": 8,
    "start_time": "2023-02-20T13:02:46.967Z"
   },
   {
    "duration": 27,
    "start_time": "2023-02-20T13:02:54.253Z"
   },
   {
    "duration": 28,
    "start_time": "2023-02-20T13:03:20.278Z"
   },
   {
    "duration": 43,
    "start_time": "2023-02-20T13:41:26.605Z"
   },
   {
    "duration": 42,
    "start_time": "2023-02-20T13:42:31.744Z"
   },
   {
    "duration": 24,
    "start_time": "2023-02-20T13:46:19.293Z"
   },
   {
    "duration": 949,
    "start_time": "2023-02-20T13:47:15.207Z"
   },
   {
    "duration": 1057,
    "start_time": "2023-02-20T13:47:31.400Z"
   },
   {
    "duration": 1002,
    "start_time": "2023-02-20T13:50:13.107Z"
   },
   {
    "duration": 1073,
    "start_time": "2023-02-20T13:52:22.763Z"
   },
   {
    "duration": 19,
    "start_time": "2023-02-20T14:11:56.777Z"
   },
   {
    "duration": 21,
    "start_time": "2023-02-20T14:12:07.364Z"
   },
   {
    "duration": 20,
    "start_time": "2023-02-20T14:12:20.693Z"
   },
   {
    "duration": 25,
    "start_time": "2023-02-20T14:12:32.737Z"
   },
   {
    "duration": 21,
    "start_time": "2023-02-20T14:13:32.050Z"
   },
   {
    "duration": 29,
    "start_time": "2023-02-20T14:13:37.708Z"
   },
   {
    "duration": 24,
    "start_time": "2023-02-20T14:13:44.438Z"
   },
   {
    "duration": 4,
    "start_time": "2023-02-20T14:13:48.668Z"
   },
   {
    "duration": 13,
    "start_time": "2023-02-20T14:13:52.212Z"
   },
   {
    "duration": 23,
    "start_time": "2023-02-20T14:13:54.051Z"
   },
   {
    "duration": 478,
    "start_time": "2023-02-20T14:14:02.362Z"
   },
   {
    "duration": 26,
    "start_time": "2023-02-20T14:14:02.842Z"
   },
   {
    "duration": 15,
    "start_time": "2023-02-20T14:14:02.870Z"
   },
   {
    "duration": 11,
    "start_time": "2023-02-20T14:14:02.887Z"
   },
   {
    "duration": 44,
    "start_time": "2023-02-20T14:14:02.922Z"
   },
   {
    "duration": 4,
    "start_time": "2023-02-20T14:14:02.968Z"
   },
   {
    "duration": 13,
    "start_time": "2023-02-20T14:14:02.974Z"
   },
   {
    "duration": 5,
    "start_time": "2023-02-20T14:14:02.989Z"
   },
   {
    "duration": 37,
    "start_time": "2023-02-20T14:14:02.996Z"
   },
   {
    "duration": 7,
    "start_time": "2023-02-20T14:14:03.035Z"
   },
   {
    "duration": 37,
    "start_time": "2023-02-20T14:14:03.043Z"
   },
   {
    "duration": 11,
    "start_time": "2023-02-20T14:14:03.082Z"
   },
   {
    "duration": 9,
    "start_time": "2023-02-20T14:14:03.095Z"
   },
   {
    "duration": 32,
    "start_time": "2023-02-20T14:14:03.106Z"
   },
   {
    "duration": 22,
    "start_time": "2023-02-20T14:14:03.140Z"
   },
   {
    "duration": 17,
    "start_time": "2023-02-20T14:14:03.163Z"
   },
   {
    "duration": 4,
    "start_time": "2023-02-20T14:14:03.182Z"
   },
   {
    "duration": 45,
    "start_time": "2023-02-20T14:14:03.187Z"
   },
   {
    "duration": 14,
    "start_time": "2023-02-20T14:14:03.234Z"
   },
   {
    "duration": 8,
    "start_time": "2023-02-20T14:14:03.250Z"
   },
   {
    "duration": 13,
    "start_time": "2023-02-20T14:14:03.259Z"
   },
   {
    "duration": 95,
    "start_time": "2023-02-20T14:14:03.273Z"
   },
   {
    "duration": 0,
    "start_time": "2023-02-20T14:14:03.370Z"
   },
   {
    "duration": 0,
    "start_time": "2023-02-20T14:14:03.371Z"
   },
   {
    "duration": 0,
    "start_time": "2023-02-20T14:14:03.372Z"
   },
   {
    "duration": 0,
    "start_time": "2023-02-20T14:14:03.373Z"
   },
   {
    "duration": 18,
    "start_time": "2023-02-20T14:14:54.869Z"
   },
   {
    "duration": 22,
    "start_time": "2023-02-20T14:15:06.682Z"
   },
   {
    "duration": 28,
    "start_time": "2023-02-20T14:19:55.844Z"
   },
   {
    "duration": 28,
    "start_time": "2023-02-20T14:20:10.442Z"
   },
   {
    "duration": 6,
    "start_time": "2023-02-20T14:25:11.998Z"
   },
   {
    "duration": 5,
    "start_time": "2023-02-20T14:25:27.150Z"
   },
   {
    "duration": 4,
    "start_time": "2023-02-20T14:25:56.877Z"
   },
   {
    "duration": 4,
    "start_time": "2023-02-20T14:26:07.850Z"
   },
   {
    "duration": 5,
    "start_time": "2023-02-20T14:26:18.150Z"
   },
   {
    "duration": 5,
    "start_time": "2023-02-20T14:26:27.008Z"
   },
   {
    "duration": 103,
    "start_time": "2023-02-20T14:27:35.494Z"
   },
   {
    "duration": 38,
    "start_time": "2023-02-20T14:27:44.451Z"
   },
   {
    "duration": 44,
    "start_time": "2023-02-20T14:27:56.294Z"
   },
   {
    "duration": 27,
    "start_time": "2023-02-20T14:31:50.403Z"
   },
   {
    "duration": 77,
    "start_time": "2023-02-20T14:31:52.802Z"
   },
   {
    "duration": 28,
    "start_time": "2023-02-20T14:32:06.173Z"
   },
   {
    "duration": 35,
    "start_time": "2023-02-20T14:33:48.004Z"
   },
   {
    "duration": 1561,
    "start_time": "2023-02-20T14:34:11.000Z"
   },
   {
    "duration": 1771,
    "start_time": "2023-02-20T14:34:16.089Z"
   },
   {
    "duration": 1454,
    "start_time": "2023-02-20T14:34:19.748Z"
   },
   {
    "duration": 1451,
    "start_time": "2023-02-20T14:34:31.053Z"
   },
   {
    "duration": 1532,
    "start_time": "2023-02-20T14:34:42.673Z"
   },
   {
    "duration": 2416,
    "start_time": "2023-02-20T14:35:01.148Z"
   },
   {
    "duration": 518,
    "start_time": "2023-02-20T14:35:12.448Z"
   },
   {
    "duration": 22,
    "start_time": "2023-02-20T14:35:12.968Z"
   },
   {
    "duration": 15,
    "start_time": "2023-02-20T14:35:12.991Z"
   },
   {
    "duration": 30,
    "start_time": "2023-02-20T14:35:13.008Z"
   },
   {
    "duration": 48,
    "start_time": "2023-02-20T14:35:13.040Z"
   },
   {
    "duration": 4,
    "start_time": "2023-02-20T14:35:13.089Z"
   },
   {
    "duration": 11,
    "start_time": "2023-02-20T14:35:13.094Z"
   },
   {
    "duration": 6,
    "start_time": "2023-02-20T14:35:13.106Z"
   },
   {
    "duration": 13,
    "start_time": "2023-02-20T14:35:13.114Z"
   },
   {
    "duration": 21,
    "start_time": "2023-02-20T14:35:13.139Z"
   },
   {
    "duration": 35,
    "start_time": "2023-02-20T14:35:13.161Z"
   },
   {
    "duration": 11,
    "start_time": "2023-02-20T14:35:13.198Z"
   },
   {
    "duration": 5,
    "start_time": "2023-02-20T14:35:13.211Z"
   },
   {
    "duration": 25,
    "start_time": "2023-02-20T14:35:13.227Z"
   },
   {
    "duration": 22,
    "start_time": "2023-02-20T14:35:13.255Z"
   },
   {
    "duration": 18,
    "start_time": "2023-02-20T14:35:13.279Z"
   },
   {
    "duration": 4,
    "start_time": "2023-02-20T14:35:13.298Z"
   },
   {
    "duration": 35,
    "start_time": "2023-02-20T14:35:13.304Z"
   },
   {
    "duration": 14,
    "start_time": "2023-02-20T14:35:13.340Z"
   },
   {
    "duration": 4,
    "start_time": "2023-02-20T14:35:13.356Z"
   },
   {
    "duration": 12,
    "start_time": "2023-02-20T14:35:13.361Z"
   },
   {
    "duration": 1678,
    "start_time": "2023-02-20T14:35:13.375Z"
   },
   {
    "duration": 0,
    "start_time": "2023-02-20T14:35:15.055Z"
   },
   {
    "duration": 0,
    "start_time": "2023-02-20T14:35:15.058Z"
   },
   {
    "duration": 0,
    "start_time": "2023-02-20T14:35:15.060Z"
   },
   {
    "duration": 0,
    "start_time": "2023-02-20T14:35:15.061Z"
   },
   {
    "duration": 34,
    "start_time": "2023-02-20T14:35:43.111Z"
   },
   {
    "duration": 394,
    "start_time": "2023-02-20T14:39:55.908Z"
   },
   {
    "duration": 474,
    "start_time": "2023-02-20T14:41:03.514Z"
   },
   {
    "duration": 538,
    "start_time": "2023-02-20T14:41:16.905Z"
   },
   {
    "duration": 24,
    "start_time": "2023-02-20T14:41:17.447Z"
   },
   {
    "duration": 16,
    "start_time": "2023-02-20T14:41:17.473Z"
   },
   {
    "duration": 10,
    "start_time": "2023-02-20T14:41:17.491Z"
   },
   {
    "duration": 59,
    "start_time": "2023-02-20T14:41:17.504Z"
   },
   {
    "duration": 4,
    "start_time": "2023-02-20T14:41:17.565Z"
   },
   {
    "duration": 13,
    "start_time": "2023-02-20T14:41:17.571Z"
   },
   {
    "duration": 8,
    "start_time": "2023-02-20T14:41:17.586Z"
   },
   {
    "duration": 34,
    "start_time": "2023-02-20T14:41:17.596Z"
   },
   {
    "duration": 6,
    "start_time": "2023-02-20T14:41:17.632Z"
   },
   {
    "duration": 42,
    "start_time": "2023-02-20T14:41:17.643Z"
   },
   {
    "duration": 10,
    "start_time": "2023-02-20T14:41:17.687Z"
   },
   {
    "duration": 7,
    "start_time": "2023-02-20T14:41:17.699Z"
   },
   {
    "duration": 19,
    "start_time": "2023-02-20T14:41:17.708Z"
   },
   {
    "duration": 37,
    "start_time": "2023-02-20T14:41:17.728Z"
   },
   {
    "duration": 17,
    "start_time": "2023-02-20T14:41:17.767Z"
   },
   {
    "duration": 4,
    "start_time": "2023-02-20T14:41:17.785Z"
   },
   {
    "duration": 16,
    "start_time": "2023-02-20T14:41:17.791Z"
   },
   {
    "duration": 10,
    "start_time": "2023-02-20T14:41:17.808Z"
   },
   {
    "duration": 19,
    "start_time": "2023-02-20T14:41:17.822Z"
   },
   {
    "duration": 21,
    "start_time": "2023-02-20T14:41:17.842Z"
   },
   {
    "duration": 442,
    "start_time": "2023-02-20T14:41:17.864Z"
   },
   {
    "duration": 0,
    "start_time": "2023-02-20T14:41:18.308Z"
   },
   {
    "duration": 0,
    "start_time": "2023-02-20T14:41:18.310Z"
   },
   {
    "duration": 0,
    "start_time": "2023-02-20T14:41:18.311Z"
   },
   {
    "duration": 0,
    "start_time": "2023-02-20T14:41:18.312Z"
   },
   {
    "duration": 372,
    "start_time": "2023-02-20T14:41:21.046Z"
   },
   {
    "duration": 364,
    "start_time": "2023-02-20T14:41:56.821Z"
   },
   {
    "duration": 424,
    "start_time": "2023-02-20T14:42:14.398Z"
   },
   {
    "duration": 460,
    "start_time": "2023-02-20T14:42:57.850Z"
   },
   {
    "duration": 343,
    "start_time": "2023-02-20T14:43:04.248Z"
   },
   {
    "duration": 25,
    "start_time": "2023-02-20T14:43:28.859Z"
   },
   {
    "duration": 39,
    "start_time": "2023-02-20T14:48:57.698Z"
   },
   {
    "duration": 4,
    "start_time": "2023-02-20T14:57:16.021Z"
   },
   {
    "duration": 23,
    "start_time": "2023-02-20T15:32:37.967Z"
   },
   {
    "duration": 17,
    "start_time": "2023-02-20T15:33:03.569Z"
   },
   {
    "duration": 17,
    "start_time": "2023-02-20T15:33:15.631Z"
   },
   {
    "duration": 26,
    "start_time": "2023-02-20T15:34:29.615Z"
   },
   {
    "duration": 15,
    "start_time": "2023-02-20T15:35:28.284Z"
   },
   {
    "duration": 548,
    "start_time": "2023-02-20T15:35:37.142Z"
   },
   {
    "duration": 40,
    "start_time": "2023-02-20T15:35:37.692Z"
   },
   {
    "duration": 27,
    "start_time": "2023-02-20T15:35:37.733Z"
   },
   {
    "duration": 18,
    "start_time": "2023-02-20T15:35:37.763Z"
   },
   {
    "duration": 84,
    "start_time": "2023-02-20T15:35:37.785Z"
   },
   {
    "duration": 4,
    "start_time": "2023-02-20T15:35:37.871Z"
   },
   {
    "duration": 15,
    "start_time": "2023-02-20T15:35:37.877Z"
   },
   {
    "duration": 5,
    "start_time": "2023-02-20T15:35:37.893Z"
   },
   {
    "duration": 31,
    "start_time": "2023-02-20T15:35:37.899Z"
   },
   {
    "duration": 22,
    "start_time": "2023-02-20T15:35:37.932Z"
   },
   {
    "duration": 39,
    "start_time": "2023-02-20T15:35:37.956Z"
   },
   {
    "duration": 16,
    "start_time": "2023-02-20T15:35:37.997Z"
   },
   {
    "duration": 12,
    "start_time": "2023-02-20T15:35:38.025Z"
   },
   {
    "duration": 20,
    "start_time": "2023-02-20T15:35:38.041Z"
   },
   {
    "duration": 25,
    "start_time": "2023-02-20T15:35:38.064Z"
   },
   {
    "duration": 21,
    "start_time": "2023-02-20T15:35:38.091Z"
   },
   {
    "duration": 5,
    "start_time": "2023-02-20T15:35:38.124Z"
   },
   {
    "duration": 24,
    "start_time": "2023-02-20T15:35:38.133Z"
   },
   {
    "duration": 7,
    "start_time": "2023-02-20T15:35:38.159Z"
   },
   {
    "duration": 5,
    "start_time": "2023-02-20T15:35:38.169Z"
   },
   {
    "duration": 12,
    "start_time": "2023-02-20T15:35:38.176Z"
   },
   {
    "duration": 60,
    "start_time": "2023-02-20T15:35:38.190Z"
   },
   {
    "duration": 120,
    "start_time": "2023-02-20T15:35:38.253Z"
   },
   {
    "duration": 0,
    "start_time": "2023-02-20T15:35:38.376Z"
   },
   {
    "duration": 0,
    "start_time": "2023-02-20T15:35:38.378Z"
   },
   {
    "duration": 18,
    "start_time": "2023-02-20T15:35:43.452Z"
   },
   {
    "duration": 17,
    "start_time": "2023-02-20T15:35:48.157Z"
   },
   {
    "duration": 25,
    "start_time": "2023-02-20T15:37:14.366Z"
   },
   {
    "duration": 27,
    "start_time": "2023-02-20T15:38:48.519Z"
   },
   {
    "duration": 19,
    "start_time": "2023-02-20T15:40:44.300Z"
   },
   {
    "duration": 15,
    "start_time": "2023-02-20T15:41:13.780Z"
   },
   {
    "duration": 22,
    "start_time": "2023-02-20T15:41:38.434Z"
   },
   {
    "duration": 16,
    "start_time": "2023-02-20T15:42:08.459Z"
   },
   {
    "duration": 21,
    "start_time": "2023-02-20T15:42:46.868Z"
   },
   {
    "duration": 1504,
    "start_time": "2023-02-20T15:43:41.648Z"
   },
   {
    "duration": 28,
    "start_time": "2023-02-20T15:44:36.750Z"
   },
   {
    "duration": 23,
    "start_time": "2023-02-20T15:45:03.493Z"
   },
   {
    "duration": 21,
    "start_time": "2023-02-20T15:45:31.787Z"
   },
   {
    "duration": 29,
    "start_time": "2023-02-20T15:45:34.654Z"
   },
   {
    "duration": 30,
    "start_time": "2023-02-20T15:45:53.325Z"
   },
   {
    "duration": 24,
    "start_time": "2023-02-20T15:46:05.250Z"
   },
   {
    "duration": 22,
    "start_time": "2023-02-20T15:46:09.668Z"
   },
   {
    "duration": 30,
    "start_time": "2023-02-20T15:46:35.612Z"
   },
   {
    "duration": 99,
    "start_time": "2023-02-20T16:10:08.652Z"
   },
   {
    "duration": 93,
    "start_time": "2023-02-20T16:10:33.796Z"
   },
   {
    "duration": 21,
    "start_time": "2023-02-20T16:12:06.874Z"
   },
   {
    "duration": 26,
    "start_time": "2023-02-20T16:12:23.030Z"
   },
   {
    "duration": 21,
    "start_time": "2023-02-20T16:12:45.593Z"
   },
   {
    "duration": 29,
    "start_time": "2023-02-20T16:15:53.141Z"
   },
   {
    "duration": 28,
    "start_time": "2023-02-20T16:16:57.156Z"
   },
   {
    "duration": 19,
    "start_time": "2023-02-20T16:18:30.367Z"
   },
   {
    "duration": 17,
    "start_time": "2023-02-20T16:19:57.956Z"
   },
   {
    "duration": 33,
    "start_time": "2023-02-20T16:20:34.220Z"
   },
   {
    "duration": 14,
    "start_time": "2023-02-20T16:20:43.560Z"
   },
   {
    "duration": 15,
    "start_time": "2023-02-20T16:20:47.286Z"
   },
   {
    "duration": 16,
    "start_time": "2023-02-20T16:20:53.183Z"
   },
   {
    "duration": 40,
    "start_time": "2023-02-20T16:21:02.007Z"
   },
   {
    "duration": 21,
    "start_time": "2023-02-20T16:21:19.173Z"
   },
   {
    "duration": 24,
    "start_time": "2023-02-20T16:21:29.611Z"
   },
   {
    "duration": 23,
    "start_time": "2023-02-20T16:21:40.817Z"
   },
   {
    "duration": 15,
    "start_time": "2023-02-20T16:21:53.979Z"
   },
   {
    "duration": 23,
    "start_time": "2023-02-20T16:22:14.499Z"
   },
   {
    "duration": 491,
    "start_time": "2023-02-20T16:22:26.592Z"
   },
   {
    "duration": 22,
    "start_time": "2023-02-20T16:22:27.085Z"
   },
   {
    "duration": 38,
    "start_time": "2023-02-20T16:22:27.109Z"
   },
   {
    "duration": 24,
    "start_time": "2023-02-20T16:22:27.152Z"
   },
   {
    "duration": 41,
    "start_time": "2023-02-20T16:22:27.178Z"
   },
   {
    "duration": 10,
    "start_time": "2023-02-20T16:22:27.220Z"
   },
   {
    "duration": 36,
    "start_time": "2023-02-20T16:22:27.235Z"
   },
   {
    "duration": 8,
    "start_time": "2023-02-20T16:22:27.273Z"
   },
   {
    "duration": 10,
    "start_time": "2023-02-20T16:22:27.283Z"
   },
   {
    "duration": 4,
    "start_time": "2023-02-20T16:22:27.296Z"
   },
   {
    "duration": 63,
    "start_time": "2023-02-20T16:22:27.301Z"
   },
   {
    "duration": 10,
    "start_time": "2023-02-20T16:22:27.366Z"
   },
   {
    "duration": 7,
    "start_time": "2023-02-20T16:22:27.378Z"
   },
   {
    "duration": 12,
    "start_time": "2023-02-20T16:22:27.387Z"
   },
   {
    "duration": 52,
    "start_time": "2023-02-20T16:22:27.401Z"
   },
   {
    "duration": 26,
    "start_time": "2023-02-20T16:22:27.455Z"
   },
   {
    "duration": 3,
    "start_time": "2023-02-20T16:22:27.483Z"
   },
   {
    "duration": 17,
    "start_time": "2023-02-20T16:22:27.487Z"
   },
   {
    "duration": 28,
    "start_time": "2023-02-20T16:22:27.506Z"
   },
   {
    "duration": 39,
    "start_time": "2023-02-20T16:22:27.536Z"
   },
   {
    "duration": 12,
    "start_time": "2023-02-20T16:22:27.577Z"
   },
   {
    "duration": 29,
    "start_time": "2023-02-20T16:22:27.590Z"
   },
   {
    "duration": 38,
    "start_time": "2023-02-20T16:22:27.620Z"
   },
   {
    "duration": 28,
    "start_time": "2023-02-20T16:22:27.660Z"
   },
   {
    "duration": 7,
    "start_time": "2023-02-20T16:22:27.690Z"
   },
   {
    "duration": 16,
    "start_time": "2023-02-20T16:22:32.467Z"
   },
   {
    "duration": 23,
    "start_time": "2023-02-20T16:22:41.147Z"
   },
   {
    "duration": 15,
    "start_time": "2023-02-20T16:22:46.491Z"
   },
   {
    "duration": 18,
    "start_time": "2023-02-20T16:22:59.866Z"
   },
   {
    "duration": 4,
    "start_time": "2023-02-20T16:23:38.663Z"
   },
   {
    "duration": 12,
    "start_time": "2023-02-20T16:23:40.858Z"
   },
   {
    "duration": 28,
    "start_time": "2023-02-20T16:23:47.863Z"
   },
   {
    "duration": 15,
    "start_time": "2023-02-20T16:23:52.870Z"
   },
   {
    "duration": 99,
    "start_time": "2023-02-20T16:24:14.070Z"
   },
   {
    "duration": 24,
    "start_time": "2023-02-20T16:24:48.052Z"
   },
   {
    "duration": 26,
    "start_time": "2023-02-20T16:25:02.785Z"
   },
   {
    "duration": 20,
    "start_time": "2023-02-20T16:25:25.190Z"
   },
   {
    "duration": 20,
    "start_time": "2023-02-20T16:25:36.450Z"
   },
   {
    "duration": 23,
    "start_time": "2023-02-20T16:25:45.089Z"
   },
   {
    "duration": 46,
    "start_time": "2023-02-20T16:51:41.613Z"
   },
   {
    "duration": 8,
    "start_time": "2023-02-20T16:52:27.644Z"
   },
   {
    "duration": 18,
    "start_time": "2023-02-20T16:52:30.224Z"
   },
   {
    "duration": 20,
    "start_time": "2023-02-20T16:53:41.311Z"
   },
   {
    "duration": 41,
    "start_time": "2023-02-20T16:54:28.850Z"
   },
   {
    "duration": 105,
    "start_time": "2023-02-20T17:04:22.192Z"
   },
   {
    "duration": 50,
    "start_time": "2023-02-21T14:11:00.081Z"
   },
   {
    "duration": 508,
    "start_time": "2023-02-21T14:11:09.711Z"
   },
   {
    "duration": 22,
    "start_time": "2023-02-21T14:11:10.221Z"
   },
   {
    "duration": 14,
    "start_time": "2023-02-21T14:11:10.245Z"
   },
   {
    "duration": 8,
    "start_time": "2023-02-21T14:11:10.261Z"
   },
   {
    "duration": 44,
    "start_time": "2023-02-21T14:11:10.270Z"
   },
   {
    "duration": 3,
    "start_time": "2023-02-21T14:11:10.315Z"
   },
   {
    "duration": 13,
    "start_time": "2023-02-21T14:11:10.320Z"
   },
   {
    "duration": 3,
    "start_time": "2023-02-21T14:11:10.334Z"
   },
   {
    "duration": 7,
    "start_time": "2023-02-21T14:11:10.339Z"
   },
   {
    "duration": 4,
    "start_time": "2023-02-21T14:11:10.349Z"
   },
   {
    "duration": 32,
    "start_time": "2023-02-21T14:11:10.354Z"
   },
   {
    "duration": 9,
    "start_time": "2023-02-21T14:11:10.410Z"
   },
   {
    "duration": 4,
    "start_time": "2023-02-21T14:11:10.420Z"
   },
   {
    "duration": 12,
    "start_time": "2023-02-21T14:11:10.425Z"
   },
   {
    "duration": 18,
    "start_time": "2023-02-21T14:11:10.439Z"
   },
   {
    "duration": 16,
    "start_time": "2023-02-21T14:11:10.458Z"
   },
   {
    "duration": 4,
    "start_time": "2023-02-21T14:11:10.475Z"
   },
   {
    "duration": 9,
    "start_time": "2023-02-21T14:11:10.510Z"
   },
   {
    "duration": 10,
    "start_time": "2023-02-21T14:11:10.521Z"
   },
   {
    "duration": 3,
    "start_time": "2023-02-21T14:11:10.532Z"
   },
   {
    "duration": 12,
    "start_time": "2023-02-21T14:11:10.536Z"
   },
   {
    "duration": 28,
    "start_time": "2023-02-21T14:11:10.549Z"
   },
   {
    "duration": 35,
    "start_time": "2023-02-21T14:11:10.579Z"
   },
   {
    "duration": 72,
    "start_time": "2023-02-21T14:11:10.616Z"
   },
   {
    "duration": 0,
    "start_time": "2023-02-21T14:11:10.690Z"
   },
   {
    "duration": 0,
    "start_time": "2023-02-21T14:11:10.691Z"
   },
   {
    "duration": 0,
    "start_time": "2023-02-21T14:11:10.692Z"
   },
   {
    "duration": 0,
    "start_time": "2023-02-21T14:11:10.693Z"
   },
   {
    "duration": 0,
    "start_time": "2023-02-21T14:11:10.694Z"
   },
   {
    "duration": 6,
    "start_time": "2023-02-21T14:11:28.490Z"
   },
   {
    "duration": 88,
    "start_time": "2023-02-21T14:14:22.258Z"
   },
   {
    "duration": 24,
    "start_time": "2023-02-21T14:14:27.316Z"
   },
   {
    "duration": 29,
    "start_time": "2023-02-21T14:15:11.990Z"
   },
   {
    "duration": 21,
    "start_time": "2023-02-21T14:16:21.976Z"
   },
   {
    "duration": 70,
    "start_time": "2023-02-21T19:03:05.923Z"
   },
   {
    "duration": 47,
    "start_time": "2023-02-22T16:49:15.092Z"
   },
   {
    "duration": 10,
    "start_time": "2023-02-22T16:49:32.444Z"
   },
   {
    "duration": 486,
    "start_time": "2023-02-22T16:49:54.929Z"
   },
   {
    "duration": 22,
    "start_time": "2023-02-22T16:49:55.417Z"
   },
   {
    "duration": 38,
    "start_time": "2023-02-22T16:49:55.443Z"
   },
   {
    "duration": 48,
    "start_time": "2023-02-22T16:49:55.483Z"
   },
   {
    "duration": 66,
    "start_time": "2023-02-22T16:49:55.533Z"
   },
   {
    "duration": 4,
    "start_time": "2023-02-22T16:49:55.601Z"
   },
   {
    "duration": 40,
    "start_time": "2023-02-22T16:49:55.607Z"
   },
   {
    "duration": 13,
    "start_time": "2023-02-22T16:49:55.649Z"
   },
   {
    "duration": 36,
    "start_time": "2023-02-22T16:49:55.665Z"
   },
   {
    "duration": 21,
    "start_time": "2023-02-22T16:49:55.702Z"
   },
   {
    "duration": 48,
    "start_time": "2023-02-22T16:49:55.725Z"
   },
   {
    "duration": 11,
    "start_time": "2023-02-22T16:49:55.777Z"
   },
   {
    "duration": 20,
    "start_time": "2023-02-22T16:49:55.790Z"
   },
   {
    "duration": 56,
    "start_time": "2023-02-22T16:49:55.812Z"
   },
   {
    "duration": 48,
    "start_time": "2023-02-22T16:49:55.870Z"
   },
   {
    "duration": 19,
    "start_time": "2023-02-22T16:49:55.920Z"
   },
   {
    "duration": 4,
    "start_time": "2023-02-22T16:49:55.940Z"
   },
   {
    "duration": 28,
    "start_time": "2023-02-22T16:49:55.945Z"
   },
   {
    "duration": 12,
    "start_time": "2023-02-22T16:49:55.974Z"
   },
   {
    "duration": 26,
    "start_time": "2023-02-22T16:49:55.988Z"
   },
   {
    "duration": 22,
    "start_time": "2023-02-22T16:49:56.015Z"
   },
   {
    "duration": 45,
    "start_time": "2023-02-22T16:49:56.038Z"
   },
   {
    "duration": 25,
    "start_time": "2023-02-22T16:49:56.084Z"
   },
   {
    "duration": 22,
    "start_time": "2023-02-22T16:49:56.110Z"
   },
   {
    "duration": 20,
    "start_time": "2023-02-22T16:49:56.133Z"
   },
   {
    "duration": 23,
    "start_time": "2023-02-22T16:50:01.882Z"
   },
   {
    "duration": 19,
    "start_time": "2023-02-22T16:51:14.458Z"
   },
   {
    "duration": 47,
    "start_time": "2023-03-10T12:40:38.461Z"
   },
   {
    "duration": 3,
    "start_time": "2023-03-10T12:40:40.747Z"
   },
   {
    "duration": 6,
    "start_time": "2023-03-10T12:40:43.324Z"
   }
  ],
  "colab": {
   "provenance": []
  },
  "kernelspec": {
   "display_name": "Python 3 (ipykernel)",
   "language": "python",
   "name": "python3"
  },
  "language_info": {
   "codemirror_mode": {
    "name": "ipython",
    "version": 3
   },
   "file_extension": ".py",
   "mimetype": "text/x-python",
   "name": "python",
   "nbconvert_exporter": "python",
   "pygments_lexer": "ipython3",
   "version": "3.9.5"
  },
  "toc": {
   "base_numbering": 1,
   "nav_menu": {},
   "number_sections": true,
   "sideBar": true,
   "skip_h1_title": true,
   "title_cell": "Table of Contents",
   "title_sidebar": "Contents",
   "toc_cell": false,
   "toc_position": {},
   "toc_section_display": true,
   "toc_window_display": false
  }
 },
 "nbformat": 4,
 "nbformat_minor": 5
}
