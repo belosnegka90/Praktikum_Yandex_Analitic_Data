{
 "cells": [
  {
   "cell_type": "markdown",
   "metadata": {},
   "source": []
  },
  {
   "cell_type": "markdown",
   "metadata": {},
   "source": [
    "# Исследование объявлений о продаже квартир\n",
    "\n",
    "В вашем распоряжении данные сервиса Яндекс.Недвижимость — архив объявлений о продаже квартир в Санкт-Петербурге и соседних населённых пунктов за несколько лет. Нужно научиться определять рыночную стоимость объектов недвижимости. Ваша задача — установить параметры. Это позволит построить автоматизированную систему: она отследит аномалии и мошенническую деятельность. \n",
    "\n",
    "По каждой квартире на продажу доступны два вида данных. Первые вписаны пользователем, вторые — получены автоматически на основе картографических данных. Например, расстояние до центра, аэропорта, ближайшего парка и водоёма. "
   ]
  },
  {
   "attachments": {},
   "cell_type": "markdown",
   "metadata": {},
   "source": []
  },
  {
   "cell_type": "markdown",
   "metadata": {},
   "source": []
  },
  {
   "cell_type": "markdown",
   "metadata": {},
   "source": [
    "### Откройте файл с данными и изучите общую информацию. "
   ]
  },
  {
   "cell_type": "markdown",
   "metadata": {},
   "source": [
    "### Предобработка данных"
   ]
  },
  {
   "cell_type": "code",
   "execution_count": 8,
   "metadata": {},
   "outputs": [],
   "source": [
    "import pandas as pd\n",
    "import matplotlib.pyplot as plt\n",
    "data = pd.read_csv('/datasets/real_estate_data.csv', sep='\\t')\n",
    "# открыла датафрейм"
   ]
  },
  {
   "cell_type": "code",
   "execution_count": 2,
   "metadata": {},
   "outputs": [
    {
     "name": "stdout",
     "output_type": "stream",
     "text": [
      "   total_images  last_price  total_area first_day_exposition  rooms  \\\n",
      "0            20  13000000.0      108.00  2019-03-07T00:00:00      3   \n",
      "1             7   3350000.0       40.40  2018-12-04T00:00:00      1   \n",
      "2            10   5196000.0       56.00  2015-08-20T00:00:00      2   \n",
      "3             0  64900000.0      159.00  2015-07-24T00:00:00      3   \n",
      "4             2  10000000.0      100.00  2018-06-19T00:00:00      2   \n",
      "5            10   2890000.0       30.40  2018-09-10T00:00:00      1   \n",
      "6             6   3700000.0       37.30  2017-11-02T00:00:00      1   \n",
      "7             5   7915000.0       71.60  2019-04-18T00:00:00      2   \n",
      "8            20   2900000.0       33.16  2018-05-23T00:00:00      1   \n",
      "9            18   5400000.0       61.00  2017-02-26T00:00:00      3   \n",
      "\n",
      "   ceiling_height  floors_total  living_area  floor is_apartment  ...  \\\n",
      "0            2.70          16.0        51.00      8          NaN  ...   \n",
      "1             NaN          11.0        18.60      1          NaN  ...   \n",
      "2             NaN           5.0        34.30      4          NaN  ...   \n",
      "3             NaN          14.0          NaN      9          NaN  ...   \n",
      "4            3.03          14.0        32.00     13          NaN  ...   \n",
      "5             NaN          12.0        14.40      5          NaN  ...   \n",
      "6             NaN          26.0        10.60      6          NaN  ...   \n",
      "7             NaN          24.0          NaN     22          NaN  ...   \n",
      "8             NaN          27.0        15.43     26          NaN  ...   \n",
      "9            2.50           9.0        43.60      7          NaN  ...   \n",
      "\n",
      "   kitchen_area  balcony              locality_name  airports_nearest  \\\n",
      "0         25.00      NaN            Санкт-Петербург           18863.0   \n",
      "1         11.00      2.0             посёлок Шушары           12817.0   \n",
      "2          8.30      0.0            Санкт-Петербург           21741.0   \n",
      "3           NaN      0.0            Санкт-Петербург           28098.0   \n",
      "4         41.00      NaN            Санкт-Петербург           31856.0   \n",
      "5          9.10      NaN  городской посёлок Янино-1               NaN   \n",
      "6         14.40      1.0          посёлок Парголово           52996.0   \n",
      "7         18.90      2.0            Санкт-Петербург           23982.0   \n",
      "8          8.81      NaN             посёлок Мурино               NaN   \n",
      "9          6.50      2.0            Санкт-Петербург           50898.0   \n",
      "\n",
      "  cityCenters_nearest  parks_around3000  parks_nearest  ponds_around3000  \\\n",
      "0             16028.0               1.0          482.0               2.0   \n",
      "1             18603.0               0.0            NaN               0.0   \n",
      "2             13933.0               1.0           90.0               2.0   \n",
      "3              6800.0               2.0           84.0               3.0   \n",
      "4              8098.0               2.0          112.0               1.0   \n",
      "5                 NaN               NaN            NaN               NaN   \n",
      "6             19143.0               0.0            NaN               0.0   \n",
      "7             11634.0               0.0            NaN               0.0   \n",
      "8                 NaN               NaN            NaN               NaN   \n",
      "9             15008.0               0.0            NaN               0.0   \n",
      "\n",
      "   ponds_nearest  days_exposition  \n",
      "0          755.0              NaN  \n",
      "1            NaN             81.0  \n",
      "2          574.0            558.0  \n",
      "3          234.0            424.0  \n",
      "4           48.0            121.0  \n",
      "5            NaN             55.0  \n",
      "6            NaN            155.0  \n",
      "7            NaN              NaN  \n",
      "8            NaN            189.0  \n",
      "9            NaN            289.0  \n",
      "\n",
      "[10 rows x 22 columns]\n"
     ]
    }
   ],
   "source": [
    "print(data.head(10)) #  открыла первые 10 строк всех столбцов датафрейма"
   ]
  },
  {
   "cell_type": "code",
   "execution_count": 3,
   "metadata": {},
   "outputs": [],
   "source": [
    "data.rename(columns={'cityCenters_nearest' : 'city_centers_nearest'}, inplace=True)"
   ]
  },
  {
   "cell_type": "markdown",
   "metadata": {},
   "source": [
    "Переименовала название столба на более читабельное"
   ]
  },
  {
   "cell_type": "code",
   "execution_count": 4,
   "metadata": {},
   "outputs": [
    {
     "name": "stdout",
     "output_type": "stream",
     "text": [
      "<class 'pandas.core.frame.DataFrame'>\n",
      "RangeIndex: 23699 entries, 0 to 23698\n",
      "Data columns (total 22 columns):\n",
      " #   Column                Non-Null Count  Dtype  \n",
      "---  ------                --------------  -----  \n",
      " 0   total_images          23699 non-null  int64  \n",
      " 1   last_price            23699 non-null  float64\n",
      " 2   total_area            23699 non-null  float64\n",
      " 3   first_day_exposition  23699 non-null  object \n",
      " 4   rooms                 23699 non-null  int64  \n",
      " 5   ceiling_height        14504 non-null  float64\n",
      " 6   floors_total          23613 non-null  float64\n",
      " 7   living_area           21796 non-null  float64\n",
      " 8   floor                 23699 non-null  int64  \n",
      " 9   is_apartment          2775 non-null   object \n",
      " 10  studio                23699 non-null  bool   \n",
      " 11  open_plan             23699 non-null  bool   \n",
      " 12  kitchen_area          21421 non-null  float64\n",
      " 13  balcony               12180 non-null  float64\n",
      " 14  locality_name         23650 non-null  object \n",
      " 15  airports_nearest      18157 non-null  float64\n",
      " 16  city_centers_nearest  18180 non-null  float64\n",
      " 17  parks_around3000      18181 non-null  float64\n",
      " 18  parks_nearest         8079 non-null   float64\n",
      " 19  ponds_around3000      18181 non-null  float64\n",
      " 20  ponds_nearest         9110 non-null   float64\n",
      " 21  days_exposition       20518 non-null  float64\n",
      "dtypes: bool(2), float64(14), int64(3), object(3)\n",
      "memory usage: 3.7+ MB\n"
     ]
    }
   ],
   "source": [
    "data.info()"
   ]
  },
  {
   "cell_type": "code",
   "execution_count": 5,
   "metadata": {},
   "outputs": [
    {
     "data": {
      "text/plain": [
       "total_images                0\n",
       "last_price                  0\n",
       "total_area                  0\n",
       "first_day_exposition        0\n",
       "rooms                       0\n",
       "ceiling_height           9195\n",
       "floors_total               86\n",
       "living_area              1903\n",
       "floor                       0\n",
       "is_apartment            20924\n",
       "studio                      0\n",
       "open_plan                   0\n",
       "kitchen_area             2278\n",
       "balcony                 11519\n",
       "locality_name              49\n",
       "airports_nearest         5542\n",
       "city_centers_nearest     5519\n",
       "parks_around3000         5518\n",
       "parks_nearest           15620\n",
       "ponds_around3000         5518\n",
       "ponds_nearest           14589\n",
       "days_exposition          3181\n",
       "dtype: int64"
      ]
     },
     "execution_count": 5,
     "metadata": {},
     "output_type": "execute_result"
    }
   ],
   "source": [
    "data.isnull().sum()# посчитала колличество пропущенных значений в каждом столбц"
   ]
  },
  {
   "cell_type": "markdown",
   "metadata": {},
   "source": []
  },
  {
   "cell_type": "code",
   "execution_count": 9,
   "metadata": {},
   "outputs": [
    {
     "data": {
      "image/png": "[encoded data removed]",
      "text/plain": [
       "<Figure size 1080x1440 with 20 Axes>"
      ]
     },
     "metadata": {
      "needs_background": "light"
     },
     "output_type": "display_data"
    }
   ],
   "source": [
    "data.hist(bins=30,figsize=(15, 20))\n",
    "plt.show()"
   ]
  },
  {
   "attachments": {},
   "cell_type": "markdown",
   "id": "bbe059e7",
   "metadata": {},
   "source": []
  },
  {
   "cell_type": "markdown",
   "metadata": {},
   "source": []
  },
  {
   "cell_type": "code",
   "execution_count": null,
   "metadata": {},
   "outputs": [],
   "source": [
    "data['balcony'] = data['balcony'].fillna(0)\n",
    "data.isnull().sum()"
   ]
  },
  {
   "cell_type": "markdown",
   "metadata": {},
   "source": []
  },
  {
   "cell_type": "markdown",
   "metadata": {},
   "source": []
  },
  {
   "cell_type": "code",
   "execution_count": null,
   "metadata": {},
   "outputs": [],
   "source": [
    "data['balcony'] = data['balcony'].astype('int64') # изменяю на верный тип данных"
   ]
  },
  {
   "cell_type": "code",
   "execution_count": null,
   "metadata": {},
   "outputs": [],
   "source": [
    "data['balcony'].value_counts()"
   ]
  },
  {
   "cell_type": "markdown",
   "metadata": {},
   "source": [
    " заменила все NaN в столбце 'balcony' на 0, т.к. если количесво балконов не указано, то скорей всего их нет в квартире"
   ]
  },
  {
   "cell_type": "code",
   "execution_count": null,
   "metadata": {},
   "outputs": [],
   "source": [
    "data['is_apartment'].head(10)"
   ]
  },
  {
   "cell_type": "code",
   "execution_count": null,
   "metadata": {},
   "outputs": [],
   "source": [
    "data['is_apartment'] = data['is_apartment'].fillna(False)"
   ]
  },
  {
   "cell_type": "code",
   "execution_count": null,
   "metadata": {},
   "outputs": [],
   "source": []
  },
  {
   "cell_type": "markdown",
   "metadata": {},
   "source": []
  },
  {
   "cell_type": "code",
   "execution_count": null,
   "metadata": {},
   "outputs": [],
   "source": [
    "data.isnull().sum()"
   ]
  },
  {
   "cell_type": "code",
   "execution_count": null,
   "metadata": {},
   "outputs": [],
   "source": [
    "data['is_apartment'].value_counts()\n"
   ]
  },
  {
   "cell_type": "markdown",
   "metadata": {},
   "source": [
    "Т.к. апартаменты - это нежилая коммерческая недвижимость, которая внешне ничем не отличаются от квартиры, поэтому помещение либо является апартаментами, либо нет."
   ]
  },
  {
   "cell_type": "code",
   "execution_count": null,
   "metadata": {},
   "outputs": [],
   "source": [
    "data['is_apartment'] = data['is_apartment'].astype('bool') # изменяю на верный тип данных"
   ]
  },
  {
   "cell_type": "code",
   "execution_count": null,
   "metadata": {},
   "outputs": [],
   "source": [
    "data['is_apartment'].head(10)"
   ]
  },
  {
   "cell_type": "code",
   "execution_count": null,
   "metadata": {},
   "outputs": [],
   "source": [
    "data.dropna(subset = ['locality_name'], inplace = True)\n"
   ]
  },
  {
   "cell_type": "code",
   "execution_count": null,
   "metadata": {},
   "outputs": [],
   "source": [
    "data.isnull().sum()"
   ]
  },
  {
   "cell_type": "code",
   "execution_count": null,
   "metadata": {},
   "outputs": [],
   "source": [
    "data['locality_name'].value_counts()"
   ]
  },
  {
   "cell_type": "markdown",
   "metadata": {},
   "source": [
    "Удалила пропуски в название населённого пункта, потому что их меньше 5%"
   ]
  },
  {
   "cell_type": "code",
   "execution_count": null,
   "metadata": {},
   "outputs": [],
   "source": [
    "data['locality_name'] = data['locality_name'].str.lower()\n",
    "data['locality_name'].unique()"
   ]
  },
  {
   "cell_type": "markdown",
   "metadata": {},
   "source": [
    "Исправила ошибки в наименованиях городов"
   ]
  },
  {
   "cell_type": "code",
   "execution_count": null,
   "metadata": {},
   "outputs": [],
   "source": [
    "data['locality_name'] = data['locality_name'].str.replace('ё', 'е')\n",
    "data['locality_name'] = data['locality_name'].str.replace('городской поселок', 'поселок городского типа')\n",
    "data['locality_name'] = data['locality_name'].str.replace('поселок мурино', 'мурино')\n",
    "data['locality_name'].unique()\n",
    "    \n",
    "   \n",
    "        \n"
   ]
  },
  {
   "cell_type": "code",
   "execution_count": null,
   "metadata": {},
   "outputs": [],
   "source": [
    "data['locality_name'].value_counts().head(20)"
   ]
  },
  {
   "cell_type": "markdown",
   "metadata": {},
   "source": []
  },
  {
   "cell_type": "code",
   "execution_count": null,
   "metadata": {},
   "outputs": [],
   "source": [
    "data.dropna(subset = ['floors_total'], inplace = True)\n",
    "data.isnull().sum()"
   ]
  },
  {
   "cell_type": "code",
   "execution_count": null,
   "metadata": {},
   "outputs": [],
   "source": [
    "data['floors_total'].value_counts()"
   ]
  },
  {
   "cell_type": "markdown",
   "metadata": {},
   "source": [
    "Удалила пропуски в колличестве этажей в доме, потому что их меньше 5%"
   ]
  },
  {
   "cell_type": "markdown",
   "metadata": {},
   "source": []
  },
  {
   "cell_type": "code",
   "execution_count": null,
   "metadata": {},
   "outputs": [],
   "source": [
    "data['floors_total'] =  data['floors_total'].astype('Int64') # изменяю на верный тип данных"
   ]
  },
  {
   "cell_type": "code",
   "execution_count": null,
   "metadata": {},
   "outputs": [],
   "source": [
    "data['floors_total'].value_counts()"
   ]
  },
  {
   "cell_type": "code",
   "execution_count": null,
   "metadata": {},
   "outputs": [],
   "source": [
    "data['first_day_exposition'] = pd.to_datetime(data['first_day_exposition'],format='%Y-%m-%dT%H:%M:%S')# изменяю формат времени на более удобный"
   ]
  },
  {
   "cell_type": "code",
   "execution_count": null,
   "metadata": {},
   "outputs": [],
   "source": [
    "data['first_day_exposition'].value_counts()"
   ]
  },
  {
   "cell_type": "code",
   "execution_count": null,
   "metadata": {},
   "outputs": [],
   "source": [
    "data['last_price'] = data['last_price'].astype('int64')# изменяю на верный тип данных"
   ]
  },
  {
   "cell_type": "code",
   "execution_count": null,
   "metadata": {},
   "outputs": [],
   "source": [
    "data['last_price'].value_counts()"
   ]
  },
  {
   "cell_type": "code",
   "execution_count": null,
   "metadata": {},
   "outputs": [],
   "source": [
    "data.info()"
   ]
  },
  {
   "cell_type": "markdown",
   "metadata": {},
   "source": [
    "Изменила типы данных, потому что в этих стобцах было несоотвие типа данных и значиний в стобцах"
   ]
  },
  {
   "cell_type": "markdown",
   "metadata": {},
   "source": [
    "Необходимо проверить выбросы и разобрать каждый столбец:"
   ]
  },
  {
   "cell_type": "code",
   "execution_count": null,
   "metadata": {},
   "outputs": [],
   "source": [
    "data.describe()"
   ]
  },
  {
   "cell_type": "markdown",
   "metadata": {},
   "source": [
    "Проверка столбца ceiling_height:"
   ]
  },
  {
   "cell_type": "code",
   "execution_count": null,
   "metadata": {},
   "outputs": [],
   "source": [
    "data.hist('ceiling_height',bins=30,range=(0,7))"
   ]
  },
  {
   "cell_type": "code",
   "execution_count": null,
   "metadata": {},
   "outputs": [],
   "source": [
    "data.query('ceiling_height > 0 and ceiling_height <= 2.5')['ceiling_height'].count()\n",
    "data.query('ceiling_height > 2.5 and ceiling_height <= 7')['ceiling_height'].count()\n",
    "data.query('ceiling_height > 8 and ceiling_height <= 24')['ceiling_height'].count()\n",
    "data.query('ceiling_height > 25 and ceiling_height <= 32')['ceiling_height'].count()"
   ]
  },
  {
   "cell_type": "markdown",
   "metadata": {},
   "source": [
    "Проверила высоту потолков в квартирах. До 2,5 м думаю, что не стоит рассматривать и стоит удалить, они не подходят под норму, так же как и потолки выше 7 м (бывают 2х этажные квартиры). Высоты потолков от 25 до 32, скорей всего опечатка и их значение 2.5 м и 3.2 м, необходимо заменить на верные значения. "
   ]
  },
  {
   "cell_type": "code",
   "execution_count": null,
   "metadata": {},
   "outputs": [],
   "source": [
    "data.update(data[(data['ceiling_height'] >= 25) & (data['ceiling_height'] <= 32)]['ceiling_height']/10)\n",
    "data.query('ceiling_height > 25 and ceiling_height <= 32')['ceiling_height'].count()"
   ]
  },
  {
   "cell_type": "code",
   "execution_count": null,
   "metadata": {},
   "outputs": [],
   "source": [
    "data['ceiling_height'].value_counts()"
   ]
  },
  {
   "cell_type": "markdown",
   "metadata": {},
   "source": []
  },
  {
   "cell_type": "code",
   "execution_count": null,
   "metadata": {},
   "outputs": [],
   "source": [
    "data.drop(index=data.query('ceiling_height < 2.5').index,inplace=True)\n",
    "data.drop(index=data.query('ceiling_height > 7').index,inplace=True)\n"
   ]
  },
  {
   "cell_type": "code",
   "execution_count": null,
   "metadata": {},
   "outputs": [],
   "source": [
    "data.hist('ceiling_height',bins=30,range=(2.5,7))"
   ]
  },
  {
   "cell_type": "markdown",
   "metadata": {},
   "source": [
    "total_images - выглядит вполне правдоподобным\n"
   ]
  },
  {
   "cell_type": "markdown",
   "metadata": {},
   "source": [
    "Столбец last_price: "
   ]
  },
  {
   "cell_type": "code",
   "execution_count": null,
   "metadata": {},
   "outputs": [],
   "source": [
    "data.query('last_price == 0')['last_price'].count() # 0 квартир по стоимости 0\n",
    "data.query('last_price < 100000')['last_price'].count() # есть 1 квартира по стоимости до 100 000, в дальнейшем ее учитывать не буду и удалю\n",
    "data.query('last_price >= 100000 and last_price <= 1000000')['last_price'].count() # 224 квартиры в градации до 1 000 000, с них можно начинать анализ\n",
    "data.query('last_price >= 1000001 and last_price <= 10000000')['last_price'].count() # 20541 квартира по стоимости от 1 000 001 до 10 000 000\n",
    "data.query('last_price >= 10000001 and last_price <= 100000000')['last_price'].count() # 2659 элитных квартира \n",
    "data.query('last_price > 100000000')['last_price'].count() # 37 элитных квартира стоимостью выше 100 000 000, их учитывать не буду и сделаю фильтр на суммы от 100 001 до 100 000 000"
   ]
  },
  {
   "cell_type": "markdown",
   "metadata": {},
   "source": []
  },
  {
   "cell_type": "code",
   "execution_count": null,
   "metadata": {},
   "outputs": [],
   "source": [
    "data.drop(index=data.query('last_price < 100000').index,inplace=True)\n",
    "data.drop(index=data.query('last_price > 100000000').index,inplace=True)\n"
   ]
  },
  {
   "cell_type": "code",
   "execution_count": null,
   "metadata": {},
   "outputs": [],
   "source": [
    "data.hist('last_price', bins=50, range=(100000, 100000000))"
   ]
  },
  {
   "cell_type": "code",
   "execution_count": null,
   "metadata": {},
   "outputs": [],
   "source": [
    "data['last_price'].value_counts()"
   ]
  },
  {
   "cell_type": "markdown",
   "metadata": {},
   "source": [
    "Столбец total_area:"
   ]
  },
  {
   "cell_type": "markdown",
   "metadata": {},
   "source": [
    "Необходимо проверить наличие квартир от 15 кв.м (нормальная студия, приспособленная для жизни от 15 кв.м), и свыше 500 кв.м т.к. является слишкой редкой даже для элитной недвидимости  "
   ]
  },
  {
   "cell_type": "code",
   "execution_count": null,
   "metadata": {},
   "outputs": [],
   "source": [
    "data.query('total_area < 15')['total_area'].count() # всего 6 квартир до 15 кв.м их можно удалить\n",
    "data.query('total_area >= 15 and total_area <= 100')['total_area'].count() # 21656 квартир с площадью до 100 кв.м\n",
    "data.query('total_area >= 100 and total_area <= 500')['total_area'].count() # 1850 квартиры с площадью до 500 кв.м\n",
    "data.query('total_area > 500')['total_area'].count() # 3 квартиры с площадью больше 500 кв.м, их можно не учитывать и удалить"
   ]
  },
  {
   "cell_type": "code",
   "execution_count": null,
   "metadata": {},
   "outputs": [],
   "source": [
    "data.drop(index=data.query('total_area < 15').index,inplace=True)\n",
    "data.drop(index=data.query('total_area > 500').index,inplace=True)\n"
   ]
  },
  {
   "cell_type": "code",
   "execution_count": null,
   "metadata": {},
   "outputs": [],
   "source": [
    "data.hist('total_area', bins=50, range=(0,500))"
   ]
  },
  {
   "cell_type": "code",
   "execution_count": null,
   "metadata": {},
   "outputs": [],
   "source": [
    "data['total_area'].value_counts()"
   ]
  },
  {
   "cell_type": "markdown",
   "metadata": {},
   "source": [
    "Столбец rooms:"
   ]
  },
  {
   "cell_type": "markdown",
   "metadata": {},
   "source": [
    "194 квартиры с колличествои комнат 0. По моему мнению - это не выброс, т.к. есть квартиры студии и открытая планиовка, где изначально нет комнат или помещение пока не распределено на комнаты. Максимальное значение 19 комнат, мне кажется, что такое значение реально, учитывая что плошадь квартиры может быть больше 500 кв.м, но такое колличесво очень редкое, потому удалю все значения, где больше 6 комнат \n"
   ]
  },
  {
   "cell_type": "code",
   "execution_count": null,
   "metadata": {},
   "outputs": [],
   "source": [
    "data.query('rooms == 0')['rooms'].count() # 194 квартиры с колличествои комнат 0. Необходимо проверить выброс это или нет\n",
    "data.query('rooms == 0 and studio')['rooms'].count() # 135 квартир студий\n",
    "data.query('rooms == 0 and open_plan')['rooms'].count() # 59 квартир свободной планировки\n",
    "data.query('rooms > 6')['rooms'].count() # 80 квартир, где больше 6 комнат"
   ]
  },
  {
   "cell_type": "code",
   "execution_count": null,
   "metadata": {},
   "outputs": [],
   "source": [
    "data.drop(index=data.query('rooms > 6')['rooms'].index,inplace=True)"
   ]
  },
  {
   "cell_type": "code",
   "execution_count": null,
   "metadata": {},
   "outputs": [],
   "source": [
    "data.hist('rooms', bins=50, range=(0,7));"
   ]
  },
  {
   "cell_type": "code",
   "execution_count": null,
   "metadata": {},
   "outputs": [],
   "source": [
    "data['rooms'].value_counts()"
   ]
  },
  {
   "cell_type": "markdown",
   "metadata": {},
   "source": [
    "Столбец floors_total:"
   ]
  },
  {
   "cell_type": "markdown",
   "metadata": {},
   "source": [
    " Одноэтажные дома не являются аномалией и имеют место быть. Так же как и небоскребы, которых очень мало и могут помешать определять среднее значение."
   ]
  },
  {
   "cell_type": "code",
   "execution_count": null,
   "metadata": {},
   "outputs": [],
   "source": [
    "data.query('floors_total == 1')['floors_total'].count() # 23 одноэтажных дома\n",
    "data.query('floors_total > 1 and floors_total <= 35')['floors_total'].count() #23327 домой до 35 этажей\n",
    "data.query('floors_total > 35')['floors_total'].count() # 5 небоскребов, можно удалить)"
   ]
  },
  {
   "cell_type": "code",
   "execution_count": null,
   "metadata": {},
   "outputs": [],
   "source": [
    "data.drop(index=data.query('floors_total > 35').index,inplace=True)"
   ]
  },
  {
   "cell_type": "code",
   "execution_count": null,
   "metadata": {},
   "outputs": [],
   "source": [
    "data.hist('floors_total', bins=30)"
   ]
  },
  {
   "cell_type": "code",
   "execution_count": null,
   "metadata": {},
   "outputs": [],
   "source": [
    "data['floors_total'].value_counts()"
   ]
  },
  {
   "cell_type": "markdown",
   "metadata": {},
   "source": [
    "Столбец living_area:"
   ]
  },
  {
   "cell_type": "markdown",
   "metadata": {},
   "source": [
    "В столбце имеются данные квартир меньшу 10 кв.м и больше 200, но среднее значение от 10 до 60"
   ]
  },
  {
   "cell_type": "code",
   "execution_count": null,
   "metadata": {},
   "outputs": [],
   "source": [
    "data.query('living_area < 10')['living_area'].count() # 25 квартир с жилой плошадью меньше 10, можно удалить \n",
    "data.query('living_area > 10 and living_area < 100')['living_area'].count() # 21187 квартир с жилой плошадью от 10 до 100\n",
    "data.query('living_area > 100 and living_area < 200')['living_area'].count() # 246 элитных квартир с жилой плошадью от 100 до 200\n",
    "data.query('living_area > 200')['living_area'].count() # 7 квартир с жилой плошадью больше 200, можно удалить "
   ]
  },
  {
   "cell_type": "code",
   "execution_count": null,
   "metadata": {},
   "outputs": [],
   "source": [
    "data.drop(index=data.query('living_area < 10').index,inplace=True)\n",
    "data.drop(index=data.query('living_area > 200').index,inplace=True)\n"
   ]
  },
  {
   "cell_type": "code",
   "execution_count": null,
   "metadata": {},
   "outputs": [],
   "source": [
    "data.hist('living_area', bins=30)"
   ]
  },
  {
   "cell_type": "code",
   "execution_count": null,
   "metadata": {},
   "outputs": [],
   "source": [
    "data['living_area'].value_counts()"
   ]
  },
  {
   "cell_type": "markdown",
   "metadata": {},
   "source": [
    "Столбец floor:"
   ]
  },
  {
   "cell_type": "markdown",
   "metadata": {},
   "source": [
    "В этом столбце нет аномалий"
   ]
  },
  {
   "cell_type": "code",
   "execution_count": null,
   "metadata": {},
   "outputs": [],
   "source": [
    "data.query('floor == 0')['floor'].count() # 0 значений с нулевыми этажами\n",
    "data.query('floor > 35')['floor'].count() # 0 значений с этажами выше 35"
   ]
  },
  {
   "cell_type": "code",
   "execution_count": null,
   "metadata": {},
   "outputs": [],
   "source": [
    "data.hist('floor',bins=20)"
   ]
  },
  {
   "cell_type": "code",
   "execution_count": null,
   "metadata": {},
   "outputs": [],
   "source": [
    "data['floor'].value_counts()"
   ]
  },
  {
   "cell_type": "markdown",
   "metadata": {},
   "source": [
    "Столбец kitchen_area:"
   ]
  },
  {
   "cell_type": "markdown",
   "metadata": {},
   "source": [
    "Большая часть кухонь с площадью до 15 кв м"
   ]
  },
  {
   "cell_type": "code",
   "execution_count": null,
   "metadata": {},
   "outputs": [],
   "source": [
    "data.query('kitchen_area < 2')['living_area'].count() # 1 кухня меньше 2 кв м, похоже на ошибку, можно удалить\n",
    "data.query('kitchen_area >= 5 and kitchen_area <= 15')['living_area'].count() # 18415 кухнь до 15 кв м\n",
    "data.query('kitchen_area > 15 and kitchen_area <= 50')['living_area'].count() # 2146 кухнь до 50 кв м\n",
    "data.query('kitchen_area > 50')['living_area'].count() # 32 очень большие кухни, явно. расположены в очень больших квартирах, которые я отфильтровала, удалю и это\n"
   ]
  },
  {
   "cell_type": "code",
   "execution_count": null,
   "metadata": {},
   "outputs": [],
   "source": [
    "data.drop(index=data.query('kitchen_area < 2').index,inplace=True)\n",
    "data.drop(index=data.query('kitchen_area > 50').index,inplace=True)"
   ]
  },
  {
   "cell_type": "code",
   "execution_count": null,
   "metadata": {},
   "outputs": [],
   "source": [
    "data.hist('kitchen_area', bins=50)"
   ]
  },
  {
   "cell_type": "code",
   "execution_count": null,
   "metadata": {},
   "outputs": [],
   "source": [
    "data['kitchen_area'].value_counts()"
   ]
  },
  {
   "cell_type": "markdown",
   "metadata": {},
   "source": [
    "Столбец balcony: "
   ]
  },
  {
   "cell_type": "markdown",
   "metadata": {},
   "source": [
    "Аномалий нет"
   ]
  },
  {
   "cell_type": "code",
   "execution_count": null,
   "metadata": {},
   "outputs": [],
   "source": [
    "data.hist('balcony', bins=10)"
   ]
  },
  {
   "cell_type": "markdown",
   "metadata": {},
   "source": [
    "Столбец airports_nearest:"
   ]
  },
  {
   "cell_type": "markdown",
   "metadata": {},
   "source": [
    "Аномалий нет, кроме одной, которую я удалила"
   ]
  },
  {
   "cell_type": "code",
   "execution_count": null,
   "metadata": {},
   "outputs": [],
   "source": [
    "data.query('airports_nearest < 2000')['airports_nearest'].count() # 1 квартира находится в аэропорту, что то тут не так, стоит удалить)\n",
    "data.drop(index=data.query('airports_nearest < 2000').index,inplace=True)"
   ]
  },
  {
   "cell_type": "code",
   "execution_count": null,
   "metadata": {},
   "outputs": [],
   "source": [
    "data.hist('airports_nearest', bins=10)"
   ]
  },
  {
   "cell_type": "code",
   "execution_count": null,
   "metadata": {},
   "outputs": [],
   "source": [
    "data['airports_nearest'].value_counts()"
   ]
  },
  {
   "cell_type": "markdown",
   "metadata": {},
   "source": [
    "Столбец city_centers_nearest:"
   ]
  },
  {
   "cell_type": "markdown",
   "metadata": {},
   "source": [
    "Аномалий нет"
   ]
  },
  {
   "cell_type": "code",
   "execution_count": null,
   "metadata": {},
   "outputs": [],
   "source": [
    "data.hist('city_centers_nearest', bins=10)"
   ]
  },
  {
   "cell_type": "code",
   "execution_count": null,
   "metadata": {},
   "outputs": [],
   "source": [
    "data['city_centers_nearest'].value_counts()"
   ]
  },
  {
   "cell_type": "markdown",
   "metadata": {},
   "source": [
    "Столбец parks_around3000:"
   ]
  },
  {
   "cell_type": "markdown",
   "metadata": {},
   "source": [
    "Аномалий нет"
   ]
  },
  {
   "cell_type": "code",
   "execution_count": null,
   "metadata": {},
   "outputs": [],
   "source": [
    "data.hist('parks_around3000', bins=10)"
   ]
  },
  {
   "cell_type": "code",
   "execution_count": null,
   "metadata": {},
   "outputs": [],
   "source": [
    "data['parks_around3000'].value_counts()"
   ]
  },
  {
   "cell_type": "markdown",
   "metadata": {},
   "source": [
    "Столбец parks_nearest: "
   ]
  },
  {
   "cell_type": "markdown",
   "metadata": {},
   "source": [
    "Аномалий нет"
   ]
  },
  {
   "cell_type": "code",
   "execution_count": null,
   "metadata": {},
   "outputs": [],
   "source": [
    "data.hist('parks_nearest', bins=10)"
   ]
  },
  {
   "cell_type": "code",
   "execution_count": null,
   "metadata": {},
   "outputs": [],
   "source": [
    "data['parks_nearest'].value_counts()"
   ]
  },
  {
   "cell_type": "markdown",
   "metadata": {},
   "source": [
    "Столбец ponds_around3000:"
   ]
  },
  {
   "cell_type": "markdown",
   "metadata": {},
   "source": [
    "Аномалий нет"
   ]
  },
  {
   "cell_type": "code",
   "execution_count": null,
   "metadata": {},
   "outputs": [],
   "source": [
    "data.hist('ponds_around3000', bins=10)"
   ]
  },
  {
   "cell_type": "code",
   "execution_count": null,
   "metadata": {},
   "outputs": [],
   "source": [
    "data['ponds_around3000'].value_counts()"
   ]
  },
  {
   "cell_type": "markdown",
   "metadata": {},
   "source": [
    "Столбец ponds_nearest:"
   ]
  },
  {
   "cell_type": "markdown",
   "metadata": {},
   "source": [
    "Аномалий нет"
   ]
  },
  {
   "cell_type": "code",
   "execution_count": null,
   "metadata": {},
   "outputs": [],
   "source": [
    "data.hist('ponds_nearest', bins=50)"
   ]
  },
  {
   "cell_type": "code",
   "execution_count": null,
   "metadata": {},
   "outputs": [],
   "source": [
    "data['ponds_nearest'].value_counts()"
   ]
  },
  {
   "cell_type": "markdown",
   "metadata": {},
   "source": [
    "Столбец days_exposition:"
   ]
  },
  {
   "cell_type": "markdown",
   "metadata": {},
   "source": [
    "В принципе, все хорошо, только удалила те обьявления, которые слишком долго висят на сайте, могут помешать исследованию"
   ]
  },
  {
   "cell_type": "code",
   "execution_count": null,
   "metadata": {},
   "outputs": [],
   "source": [
    "data.query('days_exposition > 365*3')['days_exposition'].count() # 163 обьявления, которые провисели на продаже больше 3х лет\n",
    "data.drop(index=data.query('days_exposition > 365*3').index,inplace=True)"
   ]
  },
  {
   "cell_type": "code",
   "execution_count": null,
   "metadata": {},
   "outputs": [],
   "source": [
    "data.hist('days_exposition', bins=100)"
   ]
  },
  {
   "cell_type": "code",
   "execution_count": null,
   "metadata": {},
   "outputs": [],
   "source": [
    "data['days_exposition'].value_counts()"
   ]
  },
  {
   "cell_type": "code",
   "execution_count": null,
   "metadata": {},
   "outputs": [],
   "source": [
    "data.describe()"
   ]
  },
  {
   "cell_type": "code",
   "execution_count": null,
   "metadata": {},
   "outputs": [],
   "source": [
    "data.isnull().sum()"
   ]
  },
  {
   "cell_type": "code",
   "execution_count": null,
   "metadata": {},
   "outputs": [],
   "source": [
    "data.reset_index(drop=True,inplace=True)"
   ]
  },
  {
   "cell_type": "markdown",
   "metadata": {},
   "source": []
  },
  {
   "cell_type": "code",
   "execution_count": null,
   "metadata": {},
   "outputs": [],
   "source": [
    "data.head(10)"
   ]
  },
  {
   "cell_type": "code",
   "execution_count": null,
   "metadata": {},
   "outputs": [],
   "source": [
    "data.duplicated().sum()"
   ]
  },
  {
   "cell_type": "markdown",
   "metadata": {},
   "source": []
  },
  {
   "cell_type": "markdown",
   "metadata": {},
   "source": [
    "Вывод по разделу:\n",
    "В принципе, данные достаточно качественные. Выбросов удаляла не очень много, заменила всего 1 название столбца, заменила несколько типов по столбцам, многие столбцы вообще не подвергала изменениями, пропусков в строках не много и большинство не поддаюся удалению или изменениям, т.к. неизвестны эти данные, да и заменять вычислениями смысла нет. Явных дубликатов нет, сложно определить этот момент, т.к. не понятно дубликат это или еще одно значение. В целом, было интересно)\n",
    "    "
   ]
  },
  {
   "cell_type": "markdown",
   "metadata": {},
   "source": []
  },
  {
   "cell_type": "markdown",
   "metadata": {},
   "source": []
  },
  {
   "cell_type": "markdown",
   "metadata": {},
   "source": [
    "### Посчитайте и добавьте в таблицу новые столбцы"
   ]
  },
  {
   "cell_type": "markdown",
   "metadata": {},
   "source": [
    "Цена одного квадратного метра:"
   ]
  },
  {
   "cell_type": "code",
   "execution_count": null,
   "metadata": {},
   "outputs": [],
   "source": [
    "data['cost_square_metre'] = data['last_price'] / data['total_area']\n",
    "data['cost_square_metre'].head(10)"
   ]
  },
  {
   "cell_type": "code",
   "execution_count": null,
   "metadata": {},
   "outputs": [],
   "source": [
    "data.head(10)"
   ]
  },
  {
   "cell_type": "markdown",
   "metadata": {},
   "source": [
    "День недели публикации объявления:"
   ]
  },
  {
   "cell_type": "code",
   "execution_count": null,
   "metadata": {},
   "outputs": [],
   "source": [
    "data['day_week_exposition'] = data['first_day_exposition'].dt.weekday\n",
    "data['day_week_exposition'].head(10)"
   ]
  },
  {
   "cell_type": "markdown",
   "metadata": {},
   "source": [
    "Месяц публикации объявления:"
   ]
  },
  {
   "cell_type": "code",
   "execution_count": null,
   "metadata": {},
   "outputs": [],
   "source": [
    "data['month_exposition'] = data['first_day_exposition'].dt.month\n",
    "data['month_exposition'].head(10)"
   ]
  },
  {
   "cell_type": "markdown",
   "metadata": {},
   "source": [
    "Год публикации объявления:"
   ]
  },
  {
   "cell_type": "code",
   "execution_count": null,
   "metadata": {},
   "outputs": [],
   "source": [
    "data['year_exposition'] = data['first_day_exposition'].dt.year\n",
    "data['year_exposition'].head(10)"
   ]
  },
  {
   "cell_type": "markdown",
   "metadata": {},
   "source": []
  },
  {
   "cell_type": "markdown",
   "metadata": {},
   "source": []
  },
  {
   "cell_type": "markdown",
   "metadata": {},
   "source": []
  },
  {
   "cell_type": "markdown",
   "metadata": {},
   "source": [
    "Тип этажа квартиры: "
   ]
  },
  {
   "cell_type": "code",
   "execution_count": null,
   "metadata": {},
   "outputs": [],
   "source": [
    "def type_floor(row):\n",
    "    floor = row['floor']\n",
    "    floors_total = row['floors_total']\n",
    "    if floor == 1:\n",
    "        return 'первый'\n",
    "    elif floor == floors_total:\n",
    "        return 'последний'\n",
    "    else:\n",
    "        return 'другой'\n",
    "data['type_floor'] = data.apply(type_floor, axis = 1)\n",
    "data['type_floor'].unique()\n",
    "\n",
    "    \n",
    "    "
   ]
  },
  {
   "cell_type": "markdown",
   "metadata": {},
   "source": [
    "Расстояние до центра города в километрах:"
   ]
  },
  {
   "cell_type": "code",
   "execution_count": null,
   "metadata": {},
   "outputs": [],
   "source": [
    "data['city_centers_nearest_km'] = round(data['city_centers_nearest'] / 1000)\n",
    "data['city_centers_nearest_km'].head(10)"
   ]
  },
  {
   "cell_type": "code",
   "execution_count": null,
   "metadata": {},
   "outputs": [],
   "source": [
    "data.info()"
   ]
  },
  {
   "cell_type": "markdown",
   "metadata": {},
   "source": []
  },
  {
   "cell_type": "markdown",
   "metadata": {},
   "source": []
  },
  {
   "cell_type": "markdown",
   "metadata": {},
   "source": [
    "### Проведите исследовательский анализ данных"
   ]
  },
  {
   "cell_type": "code",
   "execution_count": null,
   "metadata": {},
   "outputs": [],
   "source": [
    "data.head(20)"
   ]
  },
  {
   "cell_type": "code",
   "execution_count": null,
   "metadata": {
    "scrolled": true
   },
   "outputs": [],
   "source": [
    "data.hist('total_area', bins=100, range=(0, 300))"
   ]
  },
  {
   "cell_type": "markdown",
   "metadata": {},
   "source": []
  },
  {
   "cell_type": "markdown",
   "metadata": {},
   "source": []
  },
  {
   "cell_type": "markdown",
   "metadata": {},
   "source": [
    "Наблюдаем очень малое количество квартир с общей площадью более 100 кв.м"
   ]
  },
  {
   "cell_type": "code",
   "execution_count": null,
   "metadata": {},
   "outputs": [],
   "source": [
    "data.hist('living_area', bins=100)"
   ]
  },
  {
   "cell_type": "markdown",
   "metadata": {},
   "source": [
    "Наблюдается 2 пика: 1.квартиры примерно по 18 кв м. 2.квартиры от 25 до 50 кв м. Если обратить внимание на гистограму столбца rooms, то будет понятно, что продаются в основном 1-2 х комнатные квартиры, они как раз и имеют такой размер жилой площади"
   ]
  },
  {
   "cell_type": "code",
   "execution_count": null,
   "metadata": {},
   "outputs": [],
   "source": [
    "data.hist('kitchen_area', bins=100)"
   ]
  },
  {
   "cell_type": "markdown",
   "metadata": {},
   "source": [
    "Кухни в большинсве продаваемых квартир до 10 кв м "
   ]
  },
  {
   "cell_type": "code",
   "execution_count": null,
   "metadata": {},
   "outputs": [],
   "source": [
    "data.hist('last_price', bins=50)"
   ]
  },
  {
   "cell_type": "markdown",
   "metadata": {},
   "source": [
    "Цены высокие))) Длинный хвост говорит, что цены на элиьную недвижимость еще выше)"
   ]
  },
  {
   "cell_type": "code",
   "execution_count": null,
   "metadata": {},
   "outputs": [],
   "source": [
    "data.hist('rooms', bins=10)"
   ]
  },
  {
   "cell_type": "markdown",
   "metadata": {},
   "source": [
    "В основном продают 1-2 комнатные квартиры, 3 х комнатных немного меньше"
   ]
  },
  {
   "cell_type": "code",
   "execution_count": null,
   "metadata": {},
   "outputs": [],
   "source": [
    "data.hist('ceiling_height', bins=10)"
   ]
  },
  {
   "cell_type": "markdown",
   "metadata": {},
   "source": [
    "Большинство потолков 2,5-2,7 м"
   ]
  },
  {
   "cell_type": "code",
   "execution_count": null,
   "metadata": {},
   "outputs": [],
   "source": [
    "data.hist('floor', bins=50)"
   ]
  },
  {
   "cell_type": "markdown",
   "metadata": {},
   "source": [
    "Большинство квартир находятся до 5 го этажа, но это и понятно, ибо большинство домов имеют высоту 5 - 10 этажей"
   ]
  },
  {
   "cell_type": "code",
   "execution_count": null,
   "metadata": {},
   "outputs": [],
   "source": [
    "data.groupby(by='type_floor')['type_floor'].count().plot(kind='bar', ylabel = 'count')"
   ]
  },
  {
   "cell_type": "markdown",
   "metadata": {},
   "source": [
    "В большинтво квартир находятся не на 1м и не на последних этах, да и других этажей больше по числу, чем первых и последних"
   ]
  },
  {
   "cell_type": "markdown",
   "metadata": {},
   "source": []
  },
  {
   "cell_type": "markdown",
   "metadata": {},
   "source": []
  },
  {
   "cell_type": "code",
   "execution_count": null,
   "metadata": {},
   "outputs": [],
   "source": [
    "data.hist('floors_total', bins=10)"
   ]
  },
  {
   "cell_type": "markdown",
   "metadata": {},
   "source": [
    "Большинство домов 5ти- 10 этажные, в Питере мало очень высоких домов"
   ]
  },
  {
   "cell_type": "code",
   "execution_count": null,
   "metadata": {},
   "outputs": [],
   "source": [
    "data.hist('city_centers_nearest', bins=100)"
   ]
  },
  {
   "cell_type": "markdown",
   "metadata": {},
   "source": [
    "Питер сейчас разрастается, новые районы появляются в ближайшей области в 10-20 км от центра"
   ]
  },
  {
   "cell_type": "code",
   "execution_count": null,
   "metadata": {},
   "outputs": [],
   "source": [
    "data.hist('airports_nearest', bins=50)"
   ]
  },
  {
   "cell_type": "markdown",
   "metadata": {},
   "source": [
    "График очень шумный, расстояния до аэропота рызные. Но большинство объектов недвижимости расположены в 10-20 км от него"
   ]
  },
  {
   "cell_type": "code",
   "execution_count": null,
   "metadata": {},
   "outputs": [],
   "source": [
    "data.hist('parks_nearest', bins=100)"
   ]
  },
  {
   "cell_type": "markdown",
   "metadata": {},
   "source": [
    "В Питере не только пить, но и гулять в парке, которых очень много не только в самом городе, но и за его пределами. Гистограмма говорит о том же, что в большинстве случаев парки находятся близко к объектам недвижимости, в большинстве случаев 500м  "
   ]
  },
  {
   "cell_type": "code",
   "execution_count": null,
   "metadata": {},
   "outputs": [],
   "source": [
    "data.hist('day_week_exposition', bins=7)"
   ]
  },
  {
   "cell_type": "markdown",
   "metadata": {},
   "source": [
    "Видны провалы по выложенным объявлениям в выходнеы дни, видимо, риелторы отдыхают))"
   ]
  },
  {
   "cell_type": "code",
   "execution_count": null,
   "metadata": {},
   "outputs": [],
   "source": [
    "data.hist('month_exposition', bins=20)"
   ]
  },
  {
   "cell_type": "markdown",
   "metadata": {},
   "source": [
    "Видны провалы по выложенным объявлениям в январе(из-за новогодних каникул), в мае (из-за майских каникул) и в декабре (перед каникулами новогодними). Так же меньше объявлений наблюдается в летний период. Основными рабочими месяцами являеюся февраль - апрель."
   ]
  },
  {
   "cell_type": "markdown",
   "metadata": {},
   "source": []
  },
  {
   "cell_type": "markdown",
   "metadata": {},
   "source": []
  },
  {
   "cell_type": "markdown",
   "metadata": {},
   "source": [
    "Сколько времени обычно занимает продажа?"
   ]
  },
  {
   "cell_type": "code",
   "execution_count": null,
   "metadata": {},
   "outputs": [],
   "source": [
    "data.hist('days_exposition', bins=100)"
   ]
  },
  {
   "cell_type": "code",
   "execution_count": null,
   "metadata": {},
   "outputs": [],
   "source": [
    "data.hist('days_exposition', bins=100, range = (0,180))"
   ]
  },
  {
   "cell_type": "code",
   "execution_count": null,
   "metadata": {},
   "outputs": [],
   "source": [
    "data['days_exposition'].mean() # 171 день в среднем занимает продажа квартиры\n",
    "data['days_exposition'].median() # 93 день - медианное время продажи квартиры"
   ]
  },
  {
   "cell_type": "code",
   "execution_count": null,
   "metadata": {},
   "outputs": [],
   "source": [
    "data['days_exposition'].describe()"
   ]
  },
  {
   "cell_type": "code",
   "execution_count": null,
   "metadata": {},
   "outputs": [],
   "source": [
    "data.boxplot(column='days_exposition')\n"
   ]
  },
  {
   "cell_type": "markdown",
   "metadata": {},
   "source": [
    "Продажа квартиры дело не быстрое, но некоторые квартиры разлетаются как \"горячие пирожки\", за 45 - 60 дней можно продать квартиру и это считается \"быстрыми продажи\". А долгими все, что больше полугода - 180 дней, некоторые квартиры продаются годами, это видно из длинного хвоста гистограммы, необычно долгими можно считать продажи свыше года."
   ]
  },
  {
   "cell_type": "markdown",
   "metadata": {},
   "source": []
  },
  {
   "cell_type": "markdown",
   "metadata": {},
   "source": []
  },
  {
   "cell_type": "markdown",
   "metadata": {},
   "source": [
    "Какие факторы больше всего влияют на общую (полную) стоимость объекта?\n"
   ]
  },
  {
   "cell_type": "code",
   "execution_count": null,
   "metadata": {},
   "outputs": [],
   "source": [
    "data['last_price'].corr(data['total_area']) "
   ]
  },
  {
   "cell_type": "code",
   "execution_count": null,
   "metadata": {},
   "outputs": [],
   "source": [
    "data.plot(x='last_price', y='total_area', kind='scatter', alpha=0.1, grid = True)"
   ]
  },
  {
   "cell_type": "markdown",
   "metadata": {},
   "source": []
  },
  {
   "cell_type": "markdown",
   "metadata": {},
   "source": [
    "0.75 -  показывает высокое влияение общей площади квартиры на ее стоимость"
   ]
  },
  {
   "cell_type": "code",
   "execution_count": null,
   "metadata": {},
   "outputs": [],
   "source": [
    "data['last_price'].corr(data['living_area']) "
   ]
  },
  {
   "cell_type": "code",
   "execution_count": null,
   "metadata": {},
   "outputs": [],
   "source": [
    "data.plot(x='last_price', y='living_area', kind='scatter', alpha=0.1, grid = True)"
   ]
  },
  {
   "cell_type": "markdown",
   "metadata": {},
   "source": [
    "0.66 - чем больше жилая площадь, тем выше стоимость, ну и естественно будет выше общий размер квартиры. Так что, чем больше квадратов, тем больше стоимость"
   ]
  },
  {
   "cell_type": "markdown",
   "metadata": {},
   "source": []
  },
  {
   "cell_type": "code",
   "execution_count": null,
   "metadata": {},
   "outputs": [],
   "source": [
    "data['last_price'].corr(data['kitchen_area']) "
   ]
  },
  {
   "cell_type": "code",
   "execution_count": null,
   "metadata": {},
   "outputs": [],
   "source": [
    "data.plot(x='last_price', y='kitchen_area', kind='scatter', alpha=0.1, grid = True)"
   ]
  },
  {
   "cell_type": "markdown",
   "metadata": {},
   "source": [
    "0,56 - тот же принцип, что и в предыдущих: чем больше квадратных метров в квартире, тем больше стоимость ее"
   ]
  },
  {
   "cell_type": "markdown",
   "metadata": {},
   "source": []
  },
  {
   "cell_type": "code",
   "execution_count": null,
   "metadata": {},
   "outputs": [],
   "source": [
    "data['last_price'].corr(data['rooms']) "
   ]
  },
  {
   "cell_type": "code",
   "execution_count": null,
   "metadata": {},
   "outputs": [],
   "source": [
    "data.pivot_table(index='rooms',values='last_price').plot(y='last_price', kind='bar')"
   ]
  },
  {
   "cell_type": "markdown",
   "metadata": {},
   "source": [
    "чем больше комнат, тем выше стоимость"
   ]
  },
  {
   "cell_type": "code",
   "execution_count": null,
   "metadata": {},
   "outputs": [],
   "source": [
    "data.pivot_table(index='type_floor',values='last_price').\n"
   ]
  },
  {
   "cell_type": "markdown",
   "metadata": {},
   "source": [
    "1й и последний этаж всегла не в почете у покупателей из-за технических особенностей дома, но по графику видно, что разница не большая в стоимости между последним и другими этажами "
   ]
  },
  {
   "cell_type": "markdown",
   "metadata": {},
   "source": []
  },
  {
   "cell_type": "code",
   "execution_count": null,
   "metadata": {},
   "outputs": [],
   "source": [
    "data['last_price'].corr(data['year_exposition']) "
   ]
  },
  {
   "cell_type": "code",
   "execution_count": null,
   "metadata": {},
   "outputs": [],
   "source": [
    "data.pivot_table(index='year_exposition',values='last_price').plot(y='last_price', kind='bar')"
   ]
  },
  {
   "cell_type": "code",
   "execution_count": null,
   "metadata": {},
   "outputs": [],
   "source": [
    "data['last_price'].corr(data['day_week_exposition']) "
   ]
  },
  {
   "cell_type": "code",
   "execution_count": null,
   "metadata": {},
   "outputs": [],
   "source": [
    "data.pivot_table(index='day_week_exposition',values='last_price').plot(y='last_price', kind='bar')"
   ]
  },
  {
   "cell_type": "code",
   "execution_count": null,
   "metadata": {},
   "outputs": [],
   "source": [
    "data['last_price'].corr(data['month_exposition']) "
   ]
  },
  {
   "cell_type": "code",
   "execution_count": null,
   "metadata": {},
   "outputs": [],
   "source": [
    "data.pivot_table(index='month_exposition',values='last_price').plot(y='last_price', kind='bar')"
   ]
  },
  {
   "cell_type": "markdown",
   "metadata": {},
   "source": [
    "По очень низкой положительной и вообще отрицательной кореляции видно, что зависимости стоимости квартир от дат размещения объявлений нет. "
   ]
  },
  {
   "cell_type": "markdown",
   "metadata": {},
   "source": []
  },
  {
   "cell_type": "markdown",
   "metadata": {},
   "source": [
    "Вывод:\n",
    "Цена на квартиры зависит от: общей площади, жилой площади, площади кухни, количества комнат.\n",
    "Ценообразование почти  не зависит от: этажа, на котором расположена квартира, даты размещения объявления."
   ]
  },
  {
   "cell_type": "markdown",
   "metadata": {},
   "source": []
  },
  {
   "cell_type": "markdown",
   "metadata": {},
   "source": [
    "Cредняя цена одного квадратного метра в 10 населённых пунктах с наибольшим числом объявлений."
   ]
  },
  {
   "cell_type": "code",
   "execution_count": null,
   "metadata": {},
   "outputs": [],
   "source": [
    "kv_10 = data.pivot_table(index='locality_name', values='cost_square_metre' ,aggfunc=['mean', 'count']).round()\n",
    "kv_10.columns=['mean','count']\n",
    "kv_10.sort_values(by=\"count\",ascending = False).head(10)"
   ]
  },
  {
   "cell_type": "code",
   "execution_count": null,
   "metadata": {},
   "outputs": [],
   "source": [
    "\n"
   ]
  },
  {
   "cell_type": "markdown",
   "metadata": {},
   "source": [
    "Самая высокая стоимость квадратного метра в г.Санкт-Петербург. Самая низкой стоимостью квадратного метра в Выборге"
   ]
  },
  {
   "cell_type": "markdown",
   "metadata": {},
   "source": []
  },
  {
   "cell_type": "markdown",
   "metadata": {},
   "source": []
  },
  {
   "cell_type": "markdown",
   "metadata": {},
   "source": []
  },
  {
   "cell_type": "markdown",
   "metadata": {},
   "source": [
    "Стоимость расстояния до центра в километрах."
   ]
  },
  {
   "cell_type": "code",
   "execution_count": null,
   "metadata": {
    "scrolled": true
   },
   "outputs": [],
   "source": [
    "data[data['locality_name']=='санкт-петербург'].pivot_table(index='city_centers_nearest_km', values='last_price', aggfunc='mean')\\\n",
    "    .plot(kind='bar', title = 'Стоимость расстояния до центра в километрах');"
   ]
  },
  {
   "cell_type": "markdown",
   "metadata": {},
   "source": []
  },
  {
   "cell_type": "markdown",
   "metadata": {},
   "source": [
    "Дороже всего недвижимость в центре, пик на графике на 0 км, поднимается выше всех. На 2 м месте стоимость недвижимости на расстоянии от 1 др 7 км. От 9 км от центра стоимоть кватир стабилизиуется и примерно одинакова аж до 26 км от центра. На 27 км тоже пик, возможно, чьи то элитные дачи)"
   ]
  },
  {
   "cell_type": "markdown",
   "metadata": {},
   "source": [
    "### Общий вывод"
   ]
  },
  {
   "cell_type": "markdown",
   "metadata": {},
   "source": [
    "По данному проекту была проделана большая работа:\n",
    "1. Выполнение предобработки данных:\n",
    "   - Определение пропусков в столбцах и заполнение их там, где это возможно\n",
    "   - Поиск дубликатов\n",
    "   - Корректировка типов данных столбцов\n",
    "   - Изучение уникальных значений в столбцах и устраните неявные дубликатов\n",
    "   - Устраните редких и выбивающихся значений\n",
    "2. Добавление новых столбцов в датафрейм для более детального изучения вопроса\n",
    "3. Проведение исследовательского анализа данных:\n",
    "   - Изучение всех параметров объектов, указанных в датафрейме и построение графиков\n",
    "   - Проверка влияния различных параметров на ценообразование квартир\n",
    "   - Исследование скорости продажи квартир\n",
    "   - Подсчет средней цены одного квадратного метра и вывод 10 населенных пунктов с самыми дорогими квартирами\n",
    "   - Исследование влияния на ценообразование удаленности объектов недвижимости от центра Санкт-Петербурга\n",
    "\n",
    "Изучив полученные данные, я сделала вывод:\n",
    "\n",
    "Стоимость квартир напрямую зависит от: \n",
    "    1.территориального расположения объекта недвижимости\n",
    "    2.общей площади квартиры и жилой\n",
    "    3.площади кухни\n",
    "    4.количества комнат\n",
    "Дороже всего недвижимость в самом центре г.Санкт-Петербург. На 2 м месте стоимость недвижимости на расстоянии от 1 до 7 км от центра. От 9 км от центра стоимоть кватир стабилизиуется и примерно одинакова аж до 26 км от центра. Большинство домой не превышают 10 этажей, Квартиры имеют размер до 100 кв м с небольшими кухнями до 15 кв м, большинство 1-2х комнатные.\n",
    "Почти в любом из имеющихся населенных пунктов, будут парки и озера рядом с домом. Так же большинсво населенных пунктов имеют хорошую доступность до аэропорта (в среднем до 50км).  \n",
    "Продать квартиру можно в срок до полугода, но в некоторых случаях продажа затянется и на дольше, а то и на несколько лет. Причем не важно когла было выложено объявление, день и месяц почти не влияет на это.\n"
   ]
  },
  {
   "cell_type": "markdown",
   "metadata": {},
   "source": []
  },
  {
   "cell_type": "markdown",
   "metadata": {},
   "source": []
  },
  {
   "cell_type": "markdown",
   "metadata": {},
   "source": []
  },
  {
   "cell_type": "markdown",
   "metadata": {},
   "source": []
  },
  {
   "cell_type": "markdown",
   "metadata": {},
   "source": []
  },
  {
   "cell_type": "markdown",
   "metadata": {},
   "source": []
  },
  {
   "cell_type": "markdown",
   "metadata": {},
   "source": []
  },
  {
   "cell_type": "markdown",
   "metadata": {},
   "source": []
  },
  {
   "cell_type": "markdown",
   "metadata": {},
   "source": []
  },
  {
   "cell_type": "markdown",
   "metadata": {},
   "source": []
  },
  {
   "cell_type": "markdown",
   "metadata": {},
   "source": []
  },
  {
   "cell_type": "code",
   "execution_count": null,
   "metadata": {},
   "outputs": [],
   "source": []
  }
 ],
 "metadata": {
  "ExecuteTimeLog": [
   {
    "duration": 513,
    "start_time": "2023-03-08T10:46:29.370Z"
   },
   {
    "duration": 87,
    "start_time": "2023-03-08T10:47:29.740Z"
   },
   {
    "duration": 112,
    "start_time": "2023-03-08T10:47:55.046Z"
   },
   {
    "duration": 97,
    "start_time": "2023-03-08T10:48:18.578Z"
   },
   {
    "duration": 2681,
    "start_time": "2023-03-08T10:50:32.226Z"
   },
   {
    "duration": 3409,
    "start_time": "2023-03-08T17:40:42.719Z"
   },
   {
    "duration": 4561,
    "start_time": "2023-03-08T17:41:37.172Z"
   },
   {
    "duration": 3348,
    "start_time": "2023-03-08T17:44:05.273Z"
   },
   {
    "duration": 4900,
    "start_time": "2023-03-08T17:44:45.104Z"
   },
   {
    "duration": 80,
    "start_time": "2023-03-08T17:49:42.315Z"
   },
   {
    "duration": 10,
    "start_time": "2023-03-08T17:49:49.514Z"
   },
   {
    "duration": 5111,
    "start_time": "2023-03-08T17:52:57.637Z"
   },
   {
    "duration": 5312,
    "start_time": "2023-03-08T17:53:16.992Z"
   },
   {
    "duration": 28,
    "start_time": "2023-03-08T17:55:28.101Z"
   },
   {
    "duration": 9,
    "start_time": "2023-03-08T17:56:16.637Z"
   },
   {
    "duration": 9,
    "start_time": "2023-03-08T17:58:20.111Z"
   },
   {
    "duration": 12,
    "start_time": "2023-03-08T17:58:25.194Z"
   },
   {
    "duration": 14,
    "start_time": "2023-03-08T17:58:44.013Z"
   },
   {
    "duration": 9,
    "start_time": "2023-03-08T18:03:48.708Z"
   },
   {
    "duration": 13,
    "start_time": "2023-03-08T18:04:58.091Z"
   },
   {
    "duration": 7,
    "start_time": "2023-03-08T18:05:11.884Z"
   },
   {
    "duration": 5,
    "start_time": "2023-03-08T18:05:16.392Z"
   },
   {
    "duration": 4,
    "start_time": "2023-03-08T18:05:27.612Z"
   },
   {
    "duration": 76,
    "start_time": "2023-03-08T18:18:10.011Z"
   },
   {
    "duration": 44,
    "start_time": "2023-03-08T18:18:31.504Z"
   },
   {
    "duration": 10,
    "start_time": "2023-03-08T18:18:59.913Z"
   },
   {
    "duration": 13,
    "start_time": "2023-03-08T18:21:19.980Z"
   },
   {
    "duration": 4977,
    "start_time": "2023-03-08T18:21:54.945Z"
   },
   {
    "duration": 12,
    "start_time": "2023-03-08T18:22:29.032Z"
   },
   {
    "duration": 44,
    "start_time": "2023-03-08T18:25:06.612Z"
   },
   {
    "duration": 4,
    "start_time": "2023-03-08T18:25:14.901Z"
   },
   {
    "duration": 10,
    "start_time": "2023-03-08T18:25:18.786Z"
   },
   {
    "duration": 16,
    "start_time": "2023-03-08T19:12:13.148Z"
   },
   {
    "duration": 1027,
    "start_time": "2023-03-08T19:14:04.644Z"
   },
   {
    "duration": 12,
    "start_time": "2023-03-08T19:14:17.083Z"
   },
   {
    "duration": 12,
    "start_time": "2023-03-08T19:14:44.225Z"
   },
   {
    "duration": 9,
    "start_time": "2023-03-08T19:16:26.138Z"
   },
   {
    "duration": 16,
    "start_time": "2023-03-08T19:16:30.953Z"
   },
   {
    "duration": 9,
    "start_time": "2023-03-08T19:16:36.285Z"
   },
   {
    "duration": 11,
    "start_time": "2023-03-08T19:16:57.739Z"
   },
   {
    "duration": 34,
    "start_time": "2023-03-08T19:18:08.737Z"
   },
   {
    "duration": 14,
    "start_time": "2023-03-08T19:20:21.199Z"
   },
   {
    "duration": 13,
    "start_time": "2023-03-08T19:21:12.000Z"
   },
   {
    "duration": 22,
    "start_time": "2023-03-08T19:21:31.138Z"
   },
   {
    "duration": 13,
    "start_time": "2023-03-08T19:22:52.510Z"
   },
   {
    "duration": 13,
    "start_time": "2023-03-08T19:23:07.009Z"
   },
   {
    "duration": 34,
    "start_time": "2023-03-08T19:25:51.979Z"
   },
   {
    "duration": 21,
    "start_time": "2023-03-08T19:27:54.626Z"
   },
   {
    "duration": 5445,
    "start_time": "2023-03-08T19:41:18.183Z"
   },
   {
    "duration": 5070,
    "start_time": "2023-03-08T19:42:00.828Z"
   },
   {
    "duration": 33,
    "start_time": "2023-03-08T19:42:26.988Z"
   },
   {
    "duration": 21,
    "start_time": "2023-03-08T19:44:48.302Z"
   },
   {
    "duration": 33,
    "start_time": "2023-03-08T19:45:07.435Z"
   },
   {
    "duration": 32,
    "start_time": "2023-03-08T19:49:06.697Z"
   },
   {
    "duration": 37,
    "start_time": "2023-03-08T19:49:23.094Z"
   },
   {
    "duration": 21,
    "start_time": "2023-03-08T19:50:21.318Z"
   },
   {
    "duration": 61,
    "start_time": "2023-03-08T19:50:48.937Z"
   },
   {
    "duration": 25,
    "start_time": "2023-03-08T19:50:54.544Z"
   },
   {
    "duration": 19,
    "start_time": "2023-03-08T19:51:15.875Z"
   },
   {
    "duration": 72,
    "start_time": "2023-03-08T19:51:36.519Z"
   },
   {
    "duration": 29,
    "start_time": "2023-03-08T19:51:40.882Z"
   },
   {
    "duration": 47,
    "start_time": "2023-03-09T18:59:27.664Z"
   },
   {
    "duration": 1021,
    "start_time": "2023-03-09T19:00:06.739Z"
   },
   {
    "duration": 19,
    "start_time": "2023-03-09T19:00:10.338Z"
   },
   {
    "duration": 85,
    "start_time": "2023-03-09T19:00:25.842Z"
   },
   {
    "duration": 86,
    "start_time": "2023-03-09T19:00:41.377Z"
   },
   {
    "duration": 554,
    "start_time": "2023-03-09T19:01:08.172Z"
   },
   {
    "duration": 19,
    "start_time": "2023-03-09T19:01:11.701Z"
   },
   {
    "duration": 72,
    "start_time": "2023-03-09T19:01:19.028Z"
   },
   {
    "duration": 79,
    "start_time": "2023-03-09T19:01:30.830Z"
   },
   {
    "duration": 15,
    "start_time": "2023-03-09T19:02:36.729Z"
   },
   {
    "duration": 83,
    "start_time": "2023-03-09T19:02:50.544Z"
   },
   {
    "duration": 4414,
    "start_time": "2023-03-09T19:03:00.523Z"
   },
   {
    "duration": 10,
    "start_time": "2023-03-09T19:07:29.214Z"
   },
   {
    "duration": 25,
    "start_time": "2023-03-09T19:31:36.138Z"
   },
   {
    "duration": 15,
    "start_time": "2023-03-09T19:44:08.846Z"
   },
   {
    "duration": 8,
    "start_time": "2023-03-09T19:44:36.957Z"
   },
   {
    "duration": 12,
    "start_time": "2023-03-09T19:45:12.236Z"
   },
   {
    "duration": 9,
    "start_time": "2023-03-09T19:45:19.793Z"
   },
   {
    "duration": 14,
    "start_time": "2023-03-09T19:45:27.518Z"
   },
   {
    "duration": 9,
    "start_time": "2023-03-09T19:45:32.975Z"
   },
   {
    "duration": 17,
    "start_time": "2023-03-09T19:46:00.695Z"
   },
   {
    "duration": 16,
    "start_time": "2023-03-09T19:46:20.653Z"
   },
   {
    "duration": 8,
    "start_time": "2023-03-09T19:46:23.099Z"
   },
   {
    "duration": 8,
    "start_time": "2023-03-09T19:46:28.314Z"
   },
   {
    "duration": 517,
    "start_time": "2023-03-09T19:46:43.088Z"
   },
   {
    "duration": 18,
    "start_time": "2023-03-09T19:46:43.607Z"
   },
   {
    "duration": 19,
    "start_time": "2023-03-09T19:46:43.627Z"
   },
   {
    "duration": 4113,
    "start_time": "2023-03-09T19:46:43.648Z"
   },
   {
    "duration": 10,
    "start_time": "2023-03-09T19:46:47.763Z"
   },
   {
    "duration": 35,
    "start_time": "2023-03-09T19:46:47.774Z"
   },
   {
    "duration": 7,
    "start_time": "2023-03-09T19:46:47.811Z"
   },
   {
    "duration": 15,
    "start_time": "2023-03-09T19:46:47.819Z"
   },
   {
    "duration": 16,
    "start_time": "2023-03-09T19:47:01.547Z"
   },
   {
    "duration": 8,
    "start_time": "2023-03-09T19:47:05.582Z"
   },
   {
    "duration": 15,
    "start_time": "2023-03-09T19:47:08.287Z"
   },
   {
    "duration": 8,
    "start_time": "2023-03-09T19:47:09.732Z"
   },
   {
    "duration": 527,
    "start_time": "2023-03-09T19:47:16.982Z"
   },
   {
    "duration": 19,
    "start_time": "2023-03-09T19:47:17.511Z"
   },
   {
    "duration": 19,
    "start_time": "2023-03-09T19:47:17.531Z"
   },
   {
    "duration": 4253,
    "start_time": "2023-03-09T19:47:17.552Z"
   },
   {
    "duration": 10,
    "start_time": "2023-03-09T19:47:21.826Z"
   },
   {
    "duration": 19,
    "start_time": "2023-03-09T19:47:21.837Z"
   },
   {
    "duration": 7,
    "start_time": "2023-03-09T19:47:21.858Z"
   },
   {
    "duration": 19,
    "start_time": "2023-03-09T19:47:21.867Z"
   },
   {
    "duration": 16,
    "start_time": "2023-03-09T19:49:24.686Z"
   },
   {
    "duration": 17,
    "start_time": "2023-03-09T19:49:41.225Z"
   },
   {
    "duration": 8,
    "start_time": "2023-03-09T19:49:43.117Z"
   },
   {
    "duration": 570,
    "start_time": "2023-03-09T19:49:50.886Z"
   },
   {
    "duration": 20,
    "start_time": "2023-03-09T19:49:51.458Z"
   },
   {
    "duration": 22,
    "start_time": "2023-03-09T19:49:51.480Z"
   },
   {
    "duration": 4217,
    "start_time": "2023-03-09T19:49:51.504Z"
   },
   {
    "duration": 11,
    "start_time": "2023-03-09T19:49:55.743Z"
   },
   {
    "duration": 89,
    "start_time": "2023-03-09T19:49:55.756Z"
   },
   {
    "duration": 7,
    "start_time": "2023-03-09T19:49:55.847Z"
   },
   {
    "duration": 18,
    "start_time": "2023-03-09T19:49:55.856Z"
   },
   {
    "duration": 5,
    "start_time": "2023-03-09T19:50:33.836Z"
   },
   {
    "duration": 5,
    "start_time": "2023-03-09T19:50:37.360Z"
   },
   {
    "duration": 10,
    "start_time": "2023-03-09T19:51:07.750Z"
   },
   {
    "duration": 6,
    "start_time": "2023-03-09T19:51:12.950Z"
   },
   {
    "duration": 5,
    "start_time": "2023-03-09T19:51:22.805Z"
   },
   {
    "duration": 12,
    "start_time": "2023-03-09T19:51:36.313Z"
   },
   {
    "duration": 8,
    "start_time": "2023-03-09T19:52:24.873Z"
   },
   {
    "duration": 11,
    "start_time": "2023-03-09T19:53:06.318Z"
   },
   {
    "duration": 7,
    "start_time": "2023-03-09T19:53:11.968Z"
   },
   {
    "duration": 494,
    "start_time": "2023-03-09T19:53:22.194Z"
   },
   {
    "duration": 18,
    "start_time": "2023-03-09T19:53:22.690Z"
   },
   {
    "duration": 14,
    "start_time": "2023-03-09T19:53:22.709Z"
   },
   {
    "duration": 4168,
    "start_time": "2023-03-09T19:53:22.725Z"
   },
   {
    "duration": 10,
    "start_time": "2023-03-09T19:53:26.895Z"
   },
   {
    "duration": 12,
    "start_time": "2023-03-09T19:53:26.906Z"
   },
   {
    "duration": 6,
    "start_time": "2023-03-09T19:53:26.919Z"
   },
   {
    "duration": 11,
    "start_time": "2023-03-09T19:53:26.926Z"
   },
   {
    "duration": 7,
    "start_time": "2023-03-09T19:53:26.939Z"
   },
   {
    "duration": 14,
    "start_time": "2023-03-09T19:53:26.947Z"
   },
   {
    "duration": 11,
    "start_time": "2023-03-09T19:55:13.702Z"
   },
   {
    "duration": 7,
    "start_time": "2023-03-09T19:55:20.705Z"
   },
   {
    "duration": 12,
    "start_time": "2023-03-09T19:56:46.977Z"
   },
   {
    "duration": 8,
    "start_time": "2023-03-09T19:56:51.202Z"
   },
   {
    "duration": 6,
    "start_time": "2023-03-09T20:12:53.725Z"
   },
   {
    "duration": 4,
    "start_time": "2023-03-09T20:28:58.685Z"
   },
   {
    "duration": 65,
    "start_time": "2023-03-09T20:29:18.887Z"
   },
   {
    "duration": 70,
    "start_time": "2023-03-09T20:29:24.183Z"
   },
   {
    "duration": 4,
    "start_time": "2023-03-09T20:31:36.904Z"
   },
   {
    "duration": 6,
    "start_time": "2023-03-09T20:34:18.490Z"
   },
   {
    "duration": 6,
    "start_time": "2023-03-09T20:34:25.803Z"
   },
   {
    "duration": 6,
    "start_time": "2023-03-09T20:34:54.104Z"
   },
   {
    "duration": 6,
    "start_time": "2023-03-09T20:35:01.333Z"
   },
   {
    "duration": 6,
    "start_time": "2023-03-09T20:35:07.618Z"
   },
   {
    "duration": 51,
    "start_time": "2023-03-10T12:17:44.424Z"
   },
   {
    "duration": 6,
    "start_time": "2023-03-10T12:18:00.324Z"
   },
   {
    "duration": 7,
    "start_time": "2023-03-10T12:18:28.560Z"
   },
   {
    "duration": 7,
    "start_time": "2023-03-10T12:19:08.093Z"
   },
   {
    "duration": 6,
    "start_time": "2023-03-10T12:19:32.576Z"
   },
   {
    "duration": 571,
    "start_time": "2023-03-10T12:19:40.522Z"
   },
   {
    "duration": 17,
    "start_time": "2023-03-10T12:19:41.095Z"
   },
   {
    "duration": 14,
    "start_time": "2023-03-10T12:19:41.114Z"
   },
   {
    "duration": 4306,
    "start_time": "2023-03-10T12:19:41.130Z"
   },
   {
    "duration": 9,
    "start_time": "2023-03-10T12:19:45.439Z"
   },
   {
    "duration": 21,
    "start_time": "2023-03-10T12:19:45.450Z"
   },
   {
    "duration": 9,
    "start_time": "2023-03-10T12:19:45.473Z"
   },
   {
    "duration": 37,
    "start_time": "2023-03-10T12:19:45.483Z"
   },
   {
    "duration": 122,
    "start_time": "2023-03-10T12:19:45.522Z"
   },
   {
    "duration": 6,
    "start_time": "2023-03-10T12:19:45.646Z"
   },
   {
    "duration": 14,
    "start_time": "2023-03-10T12:20:33.254Z"
   },
   {
    "duration": 11,
    "start_time": "2023-03-10T12:20:44.669Z"
   },
   {
    "duration": 7,
    "start_time": "2023-03-10T12:21:04.122Z"
   },
   {
    "duration": 14,
    "start_time": "2023-03-10T12:21:22.308Z"
   },
   {
    "duration": 5,
    "start_time": "2023-03-10T12:36:39.033Z"
   },
   {
    "duration": 248,
    "start_time": "2023-03-10T12:39:07.565Z"
   },
   {
    "duration": 501,
    "start_time": "2023-03-10T12:39:16.392Z"
   },
   {
    "duration": 16,
    "start_time": "2023-03-10T12:39:16.895Z"
   },
   {
    "duration": 21,
    "start_time": "2023-03-10T12:39:16.913Z"
   },
   {
    "duration": 4188,
    "start_time": "2023-03-10T12:39:16.936Z"
   },
   {
    "duration": 10,
    "start_time": "2023-03-10T12:39:21.127Z"
   },
   {
    "duration": 10,
    "start_time": "2023-03-10T12:39:21.139Z"
   },
   {
    "duration": 6,
    "start_time": "2023-03-10T12:39:21.150Z"
   },
   {
    "duration": 21,
    "start_time": "2023-03-10T12:39:21.158Z"
   },
   {
    "duration": 14,
    "start_time": "2023-03-10T12:39:21.180Z"
   },
   {
    "duration": 6,
    "start_time": "2023-03-10T12:39:21.224Z"
   },
   {
    "duration": 260,
    "start_time": "2023-03-10T12:39:21.231Z"
   },
   {
    "duration": 196,
    "start_time": "2023-03-10T12:41:54.346Z"
   },
   {
    "duration": 12,
    "start_time": "2023-03-10T12:44:00.405Z"
   },
   {
    "duration": 6,
    "start_time": "2023-03-10T12:44:48.389Z"
   },
   {
    "duration": 5,
    "start_time": "2023-03-10T12:45:03.737Z"
   },
   {
    "duration": 6,
    "start_time": "2023-03-10T12:45:05.853Z"
   },
   {
    "duration": 5,
    "start_time": "2023-03-10T12:45:16.201Z"
   },
   {
    "duration": 53,
    "start_time": "2023-03-10T12:45:21.460Z"
   },
   {
    "duration": 6,
    "start_time": "2023-03-10T12:45:25.645Z"
   },
   {
    "duration": 516,
    "start_time": "2023-03-10T12:45:37.826Z"
   },
   {
    "duration": 17,
    "start_time": "2023-03-10T12:45:38.344Z"
   },
   {
    "duration": 15,
    "start_time": "2023-03-10T12:45:38.363Z"
   },
   {
    "duration": 4084,
    "start_time": "2023-03-10T12:45:38.380Z"
   },
   {
    "duration": 9,
    "start_time": "2023-03-10T12:45:42.466Z"
   },
   {
    "duration": 11,
    "start_time": "2023-03-10T12:45:42.477Z"
   },
   {
    "duration": 6,
    "start_time": "2023-03-10T12:45:42.489Z"
   },
   {
    "duration": 11,
    "start_time": "2023-03-10T12:45:42.496Z"
   },
   {
    "duration": 14,
    "start_time": "2023-03-10T12:45:42.524Z"
   },
   {
    "duration": 5,
    "start_time": "2023-03-10T12:45:42.540Z"
   },
   {
    "duration": 9,
    "start_time": "2023-03-10T12:45:42.547Z"
   },
   {
    "duration": 40,
    "start_time": "2023-03-10T12:45:42.557Z"
   },
   {
    "duration": 10,
    "start_time": "2023-03-10T12:46:51.298Z"
   },
   {
    "duration": 71,
    "start_time": "2023-03-10T12:49:14.882Z"
   },
   {
    "duration": 12,
    "start_time": "2023-03-10T12:49:28.309Z"
   },
   {
    "duration": 9,
    "start_time": "2023-03-10T12:49:47.194Z"
   },
   {
    "duration": 462,
    "start_time": "2023-03-10T12:49:57.875Z"
   },
   {
    "duration": 17,
    "start_time": "2023-03-10T12:49:58.340Z"
   },
   {
    "duration": 13,
    "start_time": "2023-03-10T12:49:58.359Z"
   },
   {
    "duration": 4335,
    "start_time": "2023-03-10T12:49:58.374Z"
   },
   {
    "duration": 10,
    "start_time": "2023-03-10T12:50:02.712Z"
   },
   {
    "duration": 52,
    "start_time": "2023-03-10T12:50:02.724Z"
   },
   {
    "duration": 23,
    "start_time": "2023-03-10T12:50:02.778Z"
   },
   {
    "duration": 39,
    "start_time": "2023-03-10T12:50:02.802Z"
   },
   {
    "duration": 16,
    "start_time": "2023-03-10T12:50:02.843Z"
   },
   {
    "duration": 27,
    "start_time": "2023-03-10T12:50:02.861Z"
   },
   {
    "duration": 72,
    "start_time": "2023-03-10T12:50:02.890Z"
   },
   {
    "duration": 0,
    "start_time": "2023-03-10T12:50:02.964Z"
   },
   {
    "duration": 10,
    "start_time": "2023-03-10T12:50:20.542Z"
   },
   {
    "duration": 48,
    "start_time": "2023-03-10T12:50:22.122Z"
   },
   {
    "duration": 16,
    "start_time": "2023-03-10T12:51:42.341Z"
   },
   {
    "duration": 14,
    "start_time": "2023-03-10T12:52:45.110Z"
   },
   {
    "duration": 9,
    "start_time": "2023-03-10T12:53:18.113Z"
   },
   {
    "duration": 6,
    "start_time": "2023-03-10T12:53:57.416Z"
   },
   {
    "duration": 9,
    "start_time": "2023-03-10T12:54:18.413Z"
   },
   {
    "duration": 13,
    "start_time": "2023-03-10T12:55:17.860Z"
   },
   {
    "duration": 7,
    "start_time": "2023-03-10T13:02:15.300Z"
   },
   {
    "duration": 51,
    "start_time": "2023-03-10T13:03:42.839Z"
   },
   {
    "duration": 11,
    "start_time": "2023-03-10T13:04:07.596Z"
   },
   {
    "duration": 207,
    "start_time": "2023-03-10T13:04:48.927Z"
   },
   {
    "duration": 226,
    "start_time": "2023-03-10T13:05:32.151Z"
   },
   {
    "duration": 46,
    "start_time": "2023-03-10T13:07:34.059Z"
   },
   {
    "duration": 22,
    "start_time": "2023-03-10T13:08:15.972Z"
   },
   {
    "duration": 23,
    "start_time": "2023-03-10T13:08:33.065Z"
   },
   {
    "duration": 25,
    "start_time": "2023-03-10T13:09:41.581Z"
   },
   {
    "duration": 20,
    "start_time": "2023-03-10T13:11:46.394Z"
   },
   {
    "duration": 20,
    "start_time": "2023-03-10T13:14:33.486Z"
   },
   {
    "duration": 25,
    "start_time": "2023-03-10T13:15:53.001Z"
   },
   {
    "duration": 13,
    "start_time": "2023-03-10T13:16:12.891Z"
   },
   {
    "duration": 19,
    "start_time": "2023-03-10T13:19:20.617Z"
   },
   {
    "duration": 17,
    "start_time": "2023-03-10T13:20:46.849Z"
   },
   {
    "duration": 181,
    "start_time": "2023-03-10T13:22:36.042Z"
   },
   {
    "duration": 21,
    "start_time": "2023-03-10T13:23:01.094Z"
   },
   {
    "duration": 20,
    "start_time": "2023-03-10T13:28:13.577Z"
   },
   {
    "duration": 27,
    "start_time": "2023-03-10T13:28:33.967Z"
   },
   {
    "duration": 11,
    "start_time": "2023-03-10T13:30:59.625Z"
   },
   {
    "duration": 8,
    "start_time": "2023-03-10T13:34:04.762Z"
   },
   {
    "duration": 51,
    "start_time": "2023-03-10T13:34:13.455Z"
   },
   {
    "duration": 10,
    "start_time": "2023-03-10T13:34:22.063Z"
   },
   {
    "duration": 7,
    "start_time": "2023-03-10T13:38:03.186Z"
   },
   {
    "duration": 14,
    "start_time": "2023-03-10T13:41:09.331Z"
   },
   {
    "duration": 8,
    "start_time": "2023-03-10T13:41:54.747Z"
   },
   {
    "duration": 6,
    "start_time": "2023-03-10T13:42:02.514Z"
   },
   {
    "duration": 8,
    "start_time": "2023-03-10T13:42:06.610Z"
   },
   {
    "duration": 12,
    "start_time": "2023-03-10T13:42:12.216Z"
   },
   {
    "duration": 497,
    "start_time": "2023-03-10T13:42:19.741Z"
   },
   {
    "duration": 19,
    "start_time": "2023-03-10T13:42:20.240Z"
   },
   {
    "duration": 15,
    "start_time": "2023-03-10T13:42:20.261Z"
   },
   {
    "duration": 4458,
    "start_time": "2023-03-10T13:42:20.278Z"
   },
   {
    "duration": 10,
    "start_time": "2023-03-10T13:42:24.739Z"
   },
   {
    "duration": 18,
    "start_time": "2023-03-10T13:42:24.751Z"
   },
   {
    "duration": 7,
    "start_time": "2023-03-10T13:42:24.771Z"
   },
   {
    "duration": 11,
    "start_time": "2023-03-10T13:42:24.779Z"
   },
   {
    "duration": 15,
    "start_time": "2023-03-10T13:42:24.792Z"
   },
   {
    "duration": 8,
    "start_time": "2023-03-10T13:42:24.824Z"
   },
   {
    "duration": 19,
    "start_time": "2023-03-10T13:42:24.833Z"
   },
   {
    "duration": 14,
    "start_time": "2023-03-10T13:42:24.853Z"
   },
   {
    "duration": 8,
    "start_time": "2023-03-10T13:42:24.869Z"
   },
   {
    "duration": 20,
    "start_time": "2023-03-10T13:42:24.879Z"
   },
   {
    "duration": 451,
    "start_time": "2023-03-10T13:59:57.275Z"
   },
   {
    "duration": 18,
    "start_time": "2023-03-10T13:59:57.728Z"
   },
   {
    "duration": 15,
    "start_time": "2023-03-10T13:59:57.748Z"
   },
   {
    "duration": 4380,
    "start_time": "2023-03-10T13:59:57.765Z"
   },
   {
    "duration": 11,
    "start_time": "2023-03-10T14:00:02.147Z"
   },
   {
    "duration": 30,
    "start_time": "2023-03-10T14:00:02.160Z"
   },
   {
    "duration": 22,
    "start_time": "2023-03-10T14:00:02.191Z"
   },
   {
    "duration": 43,
    "start_time": "2023-03-10T14:00:02.215Z"
   },
   {
    "duration": 40,
    "start_time": "2023-03-10T14:00:02.259Z"
   },
   {
    "duration": 7,
    "start_time": "2023-03-10T14:00:02.303Z"
   },
   {
    "duration": 30,
    "start_time": "2023-03-10T14:00:02.312Z"
   },
   {
    "duration": 22,
    "start_time": "2023-03-10T14:00:02.343Z"
   },
   {
    "duration": 34,
    "start_time": "2023-03-10T14:00:02.366Z"
   },
   {
    "duration": 16,
    "start_time": "2023-03-10T14:00:02.402Z"
   },
   {
    "duration": 23,
    "start_time": "2023-03-10T14:00:02.420Z"
   },
   {
    "duration": 6,
    "start_time": "2023-03-10T14:13:03.115Z"
   },
   {
    "duration": 478,
    "start_time": "2023-03-10T14:38:49.862Z"
   },
   {
    "duration": 17,
    "start_time": "2023-03-10T14:38:50.343Z"
   },
   {
    "duration": 14,
    "start_time": "2023-03-10T14:38:50.362Z"
   },
   {
    "duration": 4122,
    "start_time": "2023-03-10T14:38:50.378Z"
   },
   {
    "duration": 10,
    "start_time": "2023-03-10T14:38:54.504Z"
   },
   {
    "duration": 10,
    "start_time": "2023-03-10T14:38:54.517Z"
   },
   {
    "duration": 5,
    "start_time": "2023-03-10T14:38:54.529Z"
   },
   {
    "duration": 13,
    "start_time": "2023-03-10T14:38:54.536Z"
   },
   {
    "duration": 14,
    "start_time": "2023-03-10T14:38:54.550Z"
   },
   {
    "duration": 5,
    "start_time": "2023-03-10T14:38:54.566Z"
   },
   {
    "duration": 15,
    "start_time": "2023-03-10T14:38:54.573Z"
   },
   {
    "duration": 9,
    "start_time": "2023-03-10T14:38:54.624Z"
   },
   {
    "duration": 6,
    "start_time": "2023-03-10T14:38:54.634Z"
   },
   {
    "duration": 13,
    "start_time": "2023-03-10T14:38:54.643Z"
   },
   {
    "duration": 13,
    "start_time": "2023-03-10T14:38:54.658Z"
   },
   {
    "duration": 6,
    "start_time": "2023-03-10T14:38:54.673Z"
   },
   {
    "duration": 48,
    "start_time": "2023-03-10T14:38:54.680Z"
   },
   {
    "duration": 7,
    "start_time": "2023-03-10T14:40:15.614Z"
   },
   {
    "duration": 10,
    "start_time": "2023-03-10T14:42:43.315Z"
   },
   {
    "duration": 12,
    "start_time": "2023-03-10T14:43:04.925Z"
   },
   {
    "duration": 256,
    "start_time": "2023-03-10T14:44:24.992Z"
   },
   {
    "duration": 529,
    "start_time": "2023-03-10T14:44:46.218Z"
   },
   {
    "duration": 19,
    "start_time": "2023-03-10T14:44:46.749Z"
   },
   {
    "duration": 15,
    "start_time": "2023-03-10T14:44:46.769Z"
   },
   {
    "duration": 4494,
    "start_time": "2023-03-10T14:44:46.786Z"
   },
   {
    "duration": 10,
    "start_time": "2023-03-10T14:44:51.282Z"
   },
   {
    "duration": 18,
    "start_time": "2023-03-10T14:44:51.293Z"
   },
   {
    "duration": 6,
    "start_time": "2023-03-10T14:44:51.313Z"
   },
   {
    "duration": 12,
    "start_time": "2023-03-10T14:44:51.320Z"
   },
   {
    "duration": 14,
    "start_time": "2023-03-10T14:44:51.334Z"
   },
   {
    "duration": 5,
    "start_time": "2023-03-10T14:44:51.350Z"
   },
   {
    "duration": 13,
    "start_time": "2023-03-10T14:44:51.357Z"
   },
   {
    "duration": 8,
    "start_time": "2023-03-10T14:44:51.372Z"
   },
   {
    "duration": 6,
    "start_time": "2023-03-10T14:44:51.382Z"
   },
   {
    "duration": 47,
    "start_time": "2023-03-10T14:44:51.390Z"
   },
   {
    "duration": 16,
    "start_time": "2023-03-10T14:44:51.439Z"
   },
   {
    "duration": 7,
    "start_time": "2023-03-10T14:44:51.457Z"
   },
   {
    "duration": 6,
    "start_time": "2023-03-10T14:44:51.466Z"
   },
   {
    "duration": 291,
    "start_time": "2023-03-10T14:44:51.474Z"
   },
   {
    "duration": 185,
    "start_time": "2023-03-10T14:45:37.915Z"
   },
   {
    "duration": 191,
    "start_time": "2023-03-10T14:45:46.656Z"
   },
   {
    "duration": 177,
    "start_time": "2023-03-10T14:46:38.240Z"
   },
   {
    "duration": 204,
    "start_time": "2023-03-10T14:47:08.084Z"
   },
   {
    "duration": 11,
    "start_time": "2023-03-10T14:47:22.320Z"
   },
   {
    "duration": 12,
    "start_time": "2023-03-10T14:48:40.910Z"
   },
   {
    "duration": 547,
    "start_time": "2023-03-10T15:42:04.942Z"
   },
   {
    "duration": 19,
    "start_time": "2023-03-10T15:42:05.492Z"
   },
   {
    "duration": 17,
    "start_time": "2023-03-10T15:42:05.512Z"
   },
   {
    "duration": 4310,
    "start_time": "2023-03-10T15:42:05.531Z"
   },
   {
    "duration": 11,
    "start_time": "2023-03-10T15:42:09.843Z"
   },
   {
    "duration": 10,
    "start_time": "2023-03-10T15:42:09.856Z"
   },
   {
    "duration": 6,
    "start_time": "2023-03-10T15:42:09.867Z"
   },
   {
    "duration": 12,
    "start_time": "2023-03-10T15:42:09.875Z"
   },
   {
    "duration": 15,
    "start_time": "2023-03-10T15:42:09.888Z"
   },
   {
    "duration": 7,
    "start_time": "2023-03-10T15:42:09.923Z"
   },
   {
    "duration": 18,
    "start_time": "2023-03-10T15:42:09.933Z"
   },
   {
    "duration": 8,
    "start_time": "2023-03-10T15:42:09.953Z"
   },
   {
    "duration": 11,
    "start_time": "2023-03-10T15:42:09.962Z"
   },
   {
    "duration": 15,
    "start_time": "2023-03-10T15:42:09.975Z"
   },
   {
    "duration": 15,
    "start_time": "2023-03-10T15:42:10.024Z"
   },
   {
    "duration": 12,
    "start_time": "2023-03-10T15:42:10.041Z"
   },
   {
    "duration": 9,
    "start_time": "2023-03-10T15:42:10.055Z"
   },
   {
    "duration": 12,
    "start_time": "2023-03-10T15:42:10.066Z"
   },
   {
    "duration": 16,
    "start_time": "2023-03-10T15:42:10.080Z"
   },
   {
    "duration": 12,
    "start_time": "2023-03-10T15:43:39.809Z"
   },
   {
    "duration": 10,
    "start_time": "2023-03-10T15:44:15.803Z"
   },
   {
    "duration": 15,
    "start_time": "2023-03-10T15:44:26.109Z"
   },
   {
    "duration": 10,
    "start_time": "2023-03-10T15:44:46.188Z"
   },
   {
    "duration": 6,
    "start_time": "2023-03-10T15:45:26.418Z"
   },
   {
    "duration": 23,
    "start_time": "2023-03-10T15:45:53.489Z"
   },
   {
    "duration": 520,
    "start_time": "2023-03-10T15:46:34.030Z"
   },
   {
    "duration": 25,
    "start_time": "2023-03-10T15:46:34.552Z"
   },
   {
    "duration": 17,
    "start_time": "2023-03-10T15:46:34.579Z"
   },
   {
    "duration": 4202,
    "start_time": "2023-03-10T15:46:34.598Z"
   },
   {
    "duration": 10,
    "start_time": "2023-03-10T15:46:38.802Z"
   },
   {
    "duration": 14,
    "start_time": "2023-03-10T15:46:38.813Z"
   },
   {
    "duration": 8,
    "start_time": "2023-03-10T15:46:38.829Z"
   },
   {
    "duration": 14,
    "start_time": "2023-03-10T15:46:38.839Z"
   },
   {
    "duration": 20,
    "start_time": "2023-03-10T15:46:38.855Z"
   },
   {
    "duration": 5,
    "start_time": "2023-03-10T15:46:38.878Z"
   },
   {
    "duration": 50,
    "start_time": "2023-03-10T15:46:38.885Z"
   },
   {
    "duration": 10,
    "start_time": "2023-03-10T15:46:38.937Z"
   },
   {
    "duration": 8,
    "start_time": "2023-03-10T15:46:38.950Z"
   },
   {
    "duration": 19,
    "start_time": "2023-03-10T15:46:38.960Z"
   },
   {
    "duration": 53,
    "start_time": "2023-03-10T15:46:38.981Z"
   },
   {
    "duration": 8,
    "start_time": "2023-03-10T15:46:39.036Z"
   },
   {
    "duration": 8,
    "start_time": "2023-03-10T15:46:39.046Z"
   },
   {
    "duration": 17,
    "start_time": "2023-03-10T15:46:39.055Z"
   },
   {
    "duration": 54,
    "start_time": "2023-03-10T15:46:39.074Z"
   },
   {
    "duration": 8,
    "start_time": "2023-03-10T15:47:17.577Z"
   },
   {
    "duration": 10,
    "start_time": "2023-03-10T15:47:27.149Z"
   },
   {
    "duration": 10,
    "start_time": "2023-03-10T15:47:30.881Z"
   },
   {
    "duration": 13,
    "start_time": "2023-03-10T15:47:31.929Z"
   },
   {
    "duration": 467,
    "start_time": "2023-03-10T15:47:49.660Z"
   },
   {
    "duration": 25,
    "start_time": "2023-03-10T15:47:50.129Z"
   },
   {
    "duration": 14,
    "start_time": "2023-03-10T15:47:50.155Z"
   },
   {
    "duration": 4142,
    "start_time": "2023-03-10T15:47:50.170Z"
   },
   {
    "duration": 9,
    "start_time": "2023-03-10T15:47:54.315Z"
   },
   {
    "duration": 12,
    "start_time": "2023-03-10T15:47:54.326Z"
   },
   {
    "duration": 24,
    "start_time": "2023-03-10T15:47:54.340Z"
   },
   {
    "duration": 12,
    "start_time": "2023-03-10T15:47:54.366Z"
   },
   {
    "duration": 18,
    "start_time": "2023-03-10T15:47:54.379Z"
   },
   {
    "duration": 26,
    "start_time": "2023-03-10T15:47:54.399Z"
   },
   {
    "duration": 15,
    "start_time": "2023-03-10T15:47:54.426Z"
   },
   {
    "duration": 10,
    "start_time": "2023-03-10T15:47:54.443Z"
   },
   {
    "duration": 6,
    "start_time": "2023-03-10T15:47:54.455Z"
   },
   {
    "duration": 21,
    "start_time": "2023-03-10T15:47:54.464Z"
   },
   {
    "duration": 48,
    "start_time": "2023-03-10T15:47:54.488Z"
   },
   {
    "duration": 7,
    "start_time": "2023-03-10T15:47:54.538Z"
   },
   {
    "duration": 6,
    "start_time": "2023-03-10T15:47:54.547Z"
   },
   {
    "duration": 16,
    "start_time": "2023-03-10T15:47:54.554Z"
   },
   {
    "duration": 19,
    "start_time": "2023-03-10T15:47:54.571Z"
   },
   {
    "duration": 11,
    "start_time": "2023-03-10T15:48:26.219Z"
   },
   {
    "duration": 10,
    "start_time": "2023-03-10T15:48:29.710Z"
   },
   {
    "duration": 36,
    "start_time": "2023-03-10T15:49:33.316Z"
   },
   {
    "duration": 3,
    "start_time": "2023-03-10T15:50:00.441Z"
   },
   {
    "duration": 24,
    "start_time": "2023-03-10T15:50:08.599Z"
   },
   {
    "duration": 25,
    "start_time": "2023-03-10T15:50:12.272Z"
   },
   {
    "duration": 93,
    "start_time": "2023-03-10T15:50:16.394Z"
   },
   {
    "duration": 93,
    "start_time": "2023-03-10T15:50:20.172Z"
   },
   {
    "duration": 497,
    "start_time": "2023-03-10T15:50:29.361Z"
   },
   {
    "duration": 26,
    "start_time": "2023-03-10T15:50:29.860Z"
   },
   {
    "duration": 35,
    "start_time": "2023-03-10T15:50:29.888Z"
   },
   {
    "duration": 4626,
    "start_time": "2023-03-10T15:50:29.926Z"
   },
   {
    "duration": 14,
    "start_time": "2023-03-10T15:50:34.556Z"
   },
   {
    "duration": 13,
    "start_time": "2023-03-10T15:50:34.572Z"
   },
   {
    "duration": 13,
    "start_time": "2023-03-10T15:50:34.587Z"
   },
   {
    "duration": 5,
    "start_time": "2023-03-10T15:50:34.601Z"
   },
   {
    "duration": 18,
    "start_time": "2023-03-10T15:50:34.607Z"
   },
   {
    "duration": 7,
    "start_time": "2023-03-10T15:50:34.627Z"
   },
   {
    "duration": 15,
    "start_time": "2023-03-10T15:50:34.636Z"
   },
   {
    "duration": 11,
    "start_time": "2023-03-10T15:50:34.653Z"
   },
   {
    "duration": 10,
    "start_time": "2023-03-10T15:50:34.665Z"
   },
   {
    "duration": 54,
    "start_time": "2023-03-10T15:50:34.678Z"
   },
   {
    "duration": 20,
    "start_time": "2023-03-10T15:50:34.734Z"
   },
   {
    "duration": 9,
    "start_time": "2023-03-10T15:50:34.756Z"
   },
   {
    "duration": 6,
    "start_time": "2023-03-10T15:50:34.767Z"
   },
   {
    "duration": 50,
    "start_time": "2023-03-10T15:50:34.775Z"
   },
   {
    "duration": 23,
    "start_time": "2023-03-10T15:50:34.827Z"
   },
   {
    "duration": 13,
    "start_time": "2023-03-10T15:51:51.841Z"
   },
   {
    "duration": 13,
    "start_time": "2023-03-10T15:52:04.382Z"
   },
   {
    "duration": 8,
    "start_time": "2023-03-10T15:52:09.673Z"
   },
   {
    "duration": 5,
    "start_time": "2023-03-10T15:52:26.651Z"
   },
   {
    "duration": 8,
    "start_time": "2023-03-10T15:52:33.879Z"
   },
   {
    "duration": 6,
    "start_time": "2023-03-10T15:52:43.912Z"
   },
   {
    "duration": 23,
    "start_time": "2023-03-10T15:52:45.433Z"
   },
   {
    "duration": 8,
    "start_time": "2023-03-10T15:52:49.915Z"
   },
   {
    "duration": 16,
    "start_time": "2023-03-10T15:53:29.924Z"
   },
   {
    "duration": 8,
    "start_time": "2023-03-10T15:54:00.844Z"
   },
   {
    "duration": 10,
    "start_time": "2023-03-10T15:54:58.179Z"
   },
   {
    "duration": 17,
    "start_time": "2023-03-10T16:02:22.465Z"
   },
   {
    "duration": 5,
    "start_time": "2023-03-10T16:04:01.768Z"
   },
   {
    "duration": 5,
    "start_time": "2023-03-10T16:11:12.537Z"
   },
   {
    "duration": 7,
    "start_time": "2023-03-10T16:11:17.085Z"
   },
   {
    "duration": 11,
    "start_time": "2023-03-10T16:11:23.165Z"
   },
   {
    "duration": 14,
    "start_time": "2023-03-10T16:14:08.309Z"
   },
   {
    "duration": 17,
    "start_time": "2023-03-10T16:14:20.992Z"
   },
   {
    "duration": 13,
    "start_time": "2023-03-10T16:15:06.804Z"
   },
   {
    "duration": 16,
    "start_time": "2023-03-10T16:18:36.867Z"
   },
   {
    "duration": 12,
    "start_time": "2023-03-10T16:18:43.047Z"
   },
   {
    "duration": 24,
    "start_time": "2023-03-10T16:19:47.341Z"
   },
   {
    "duration": 100,
    "start_time": "2023-03-10T16:19:59.147Z"
   },
   {
    "duration": 4,
    "start_time": "2023-03-10T16:20:25.083Z"
   },
   {
    "duration": 8,
    "start_time": "2023-03-10T16:20:28.416Z"
   },
   {
    "duration": 3,
    "start_time": "2023-03-10T16:20:58.122Z"
   },
   {
    "duration": 119,
    "start_time": "2023-03-10T16:21:47.457Z"
   },
   {
    "duration": 21,
    "start_time": "2023-03-10T16:21:47.579Z"
   },
   {
    "duration": 10,
    "start_time": "2023-03-10T16:22:09.016Z"
   },
   {
    "duration": 602,
    "start_time": "2023-03-10T16:22:27.604Z"
   },
   {
    "duration": 19,
    "start_time": "2023-03-10T16:22:28.208Z"
   },
   {
    "duration": 3,
    "start_time": "2023-03-10T16:22:28.229Z"
   },
   {
    "duration": 6,
    "start_time": "2023-03-10T16:22:28.235Z"
   },
   {
    "duration": 5045,
    "start_time": "2023-03-10T16:22:28.243Z"
   },
   {
    "duration": 3,
    "start_time": "2023-03-10T16:22:33.290Z"
   },
   {
    "duration": 14,
    "start_time": "2023-03-10T16:22:33.295Z"
   },
   {
    "duration": 9,
    "start_time": "2023-03-10T16:22:33.311Z"
   },
   {
    "duration": 17,
    "start_time": "2023-03-10T16:22:33.322Z"
   },
   {
    "duration": 8,
    "start_time": "2023-03-10T16:22:33.342Z"
   },
   {
    "duration": 5,
    "start_time": "2023-03-10T16:22:33.352Z"
   },
   {
    "duration": 8,
    "start_time": "2023-03-10T16:22:33.358Z"
   },
   {
    "duration": 13,
    "start_time": "2023-03-10T16:22:33.368Z"
   },
   {
    "duration": 29,
    "start_time": "2023-03-10T16:22:33.383Z"
   },
   {
    "duration": 6,
    "start_time": "2023-03-10T16:22:51.816Z"
   },
   {
    "duration": 7,
    "start_time": "2023-03-10T16:22:55.600Z"
   },
   {
    "duration": 4,
    "start_time": "2023-03-10T16:23:10.950Z"
   },
   {
    "duration": 8,
    "start_time": "2023-03-10T16:23:13.721Z"
   },
   {
    "duration": 3,
    "start_time": "2023-03-10T16:23:38.720Z"
   },
   {
    "duration": 8,
    "start_time": "2023-03-10T16:23:41.272Z"
   },
   {
    "duration": 3,
    "start_time": "2023-03-10T16:24:11.954Z"
   },
   {
    "duration": 3,
    "start_time": "2023-03-10T16:24:15.513Z"
   },
   {
    "duration": 3,
    "start_time": "2023-03-10T16:24:18.654Z"
   },
   {
    "duration": 3,
    "start_time": "2023-03-10T16:24:25.586Z"
   },
   {
    "duration": 109,
    "start_time": "2023-03-10T16:24:31.264Z"
   },
   {
    "duration": 21,
    "start_time": "2023-03-10T16:24:35.040Z"
   },
   {
    "duration": 7,
    "start_time": "2023-03-10T16:24:48.459Z"
   },
   {
    "duration": 5,
    "start_time": "2023-03-10T16:25:17.365Z"
   },
   {
    "duration": 20,
    "start_time": "2023-03-10T16:25:22.595Z"
   },
   {
    "duration": 24,
    "start_time": "2023-03-10T16:25:36.756Z"
   },
   {
    "duration": 4,
    "start_time": "2023-03-10T16:32:26.073Z"
   },
   {
    "duration": 9,
    "start_time": "2023-03-10T16:32:30.492Z"
   },
   {
    "duration": 14,
    "start_time": "2023-03-10T16:32:42.705Z"
   },
   {
    "duration": 12,
    "start_time": "2023-03-10T16:33:05.245Z"
   },
   {
    "duration": 12,
    "start_time": "2023-03-10T16:33:37.422Z"
   },
   {
    "duration": 3,
    "start_time": "2023-03-10T16:33:46.760Z"
   },
   {
    "duration": 18,
    "start_time": "2023-03-10T16:34:05.817Z"
   },
   {
    "duration": 16,
    "start_time": "2023-03-10T16:34:23.298Z"
   },
   {
    "duration": 543,
    "start_time": "2023-03-10T16:34:33.411Z"
   },
   {
    "duration": 20,
    "start_time": "2023-03-10T16:34:33.956Z"
   },
   {
    "duration": 5,
    "start_time": "2023-03-10T16:34:33.978Z"
   },
   {
    "duration": 23,
    "start_time": "2023-03-10T16:34:33.986Z"
   },
   {
    "duration": 22,
    "start_time": "2023-03-10T16:34:34.026Z"
   },
   {
    "duration": 3,
    "start_time": "2023-03-10T16:34:34.050Z"
   },
   {
    "duration": 5,
    "start_time": "2023-03-10T16:34:34.055Z"
   },
   {
    "duration": 5,
    "start_time": "2023-03-10T16:34:34.062Z"
   },
   {
    "duration": 6,
    "start_time": "2023-03-10T16:34:34.069Z"
   },
   {
    "duration": 4,
    "start_time": "2023-03-10T16:34:34.078Z"
   },
   {
    "duration": 6,
    "start_time": "2023-03-10T16:34:34.084Z"
   },
   {
    "duration": 6,
    "start_time": "2023-03-10T16:34:34.091Z"
   },
   {
    "duration": 38,
    "start_time": "2023-03-10T16:34:34.099Z"
   },
   {
    "duration": 3,
    "start_time": "2023-03-10T16:34:34.143Z"
   },
   {
    "duration": 5,
    "start_time": "2023-03-10T16:34:34.148Z"
   },
   {
    "duration": 4821,
    "start_time": "2023-03-10T16:35:12.100Z"
   },
   {
    "duration": 5,
    "start_time": "2023-03-10T16:36:17.290Z"
   },
   {
    "duration": 12,
    "start_time": "2023-03-10T16:36:21.952Z"
   },
   {
    "duration": 9,
    "start_time": "2023-03-10T16:36:36.354Z"
   },
   {
    "duration": 6,
    "start_time": "2023-03-10T16:38:43.957Z"
   },
   {
    "duration": 22,
    "start_time": "2023-03-10T16:38:46.318Z"
   },
   {
    "duration": 7,
    "start_time": "2023-03-10T16:39:47.944Z"
   },
   {
    "duration": 17,
    "start_time": "2023-03-10T16:40:25.909Z"
   },
   {
    "duration": 13,
    "start_time": "2023-03-10T16:40:33.902Z"
   },
   {
    "duration": 6,
    "start_time": "2023-03-10T16:40:54.741Z"
   },
   {
    "duration": 3,
    "start_time": "2023-03-10T16:41:09.786Z"
   },
   {
    "duration": 570,
    "start_time": "2023-03-10T16:41:19.494Z"
   },
   {
    "duration": 21,
    "start_time": "2023-03-10T16:41:20.066Z"
   },
   {
    "duration": 4,
    "start_time": "2023-03-10T16:41:20.089Z"
   },
   {
    "duration": 41,
    "start_time": "2023-03-10T16:41:20.095Z"
   },
   {
    "duration": 22,
    "start_time": "2023-03-10T16:41:20.140Z"
   },
   {
    "duration": 4824,
    "start_time": "2023-03-10T16:41:20.164Z"
   },
   {
    "duration": 12,
    "start_time": "2023-03-10T16:41:25.009Z"
   },
   {
    "duration": 19,
    "start_time": "2023-03-10T16:41:25.022Z"
   },
   {
    "duration": 18,
    "start_time": "2023-03-10T16:41:25.043Z"
   },
   {
    "duration": 6,
    "start_time": "2023-03-10T16:41:25.064Z"
   },
   {
    "duration": 10,
    "start_time": "2023-03-10T16:41:25.073Z"
   },
   {
    "duration": 7,
    "start_time": "2023-03-10T16:41:25.085Z"
   },
   {
    "duration": 23,
    "start_time": "2023-03-10T16:41:25.094Z"
   },
   {
    "duration": 22,
    "start_time": "2023-03-10T16:41:25.118Z"
   },
   {
    "duration": 24,
    "start_time": "2023-03-10T16:41:25.142Z"
   },
   {
    "duration": 4,
    "start_time": "2023-03-10T16:41:25.168Z"
   },
   {
    "duration": 4,
    "start_time": "2023-03-10T16:41:25.173Z"
   },
   {
    "duration": 5,
    "start_time": "2023-03-10T16:42:01.041Z"
   },
   {
    "duration": 10,
    "start_time": "2023-03-10T16:42:34.219Z"
   },
   {
    "duration": 6,
    "start_time": "2023-03-10T16:43:47.314Z"
   },
   {
    "duration": 10,
    "start_time": "2023-03-10T16:43:59.008Z"
   },
   {
    "duration": 6,
    "start_time": "2023-03-10T16:44:53.363Z"
   },
   {
    "duration": 3,
    "start_time": "2023-03-10T16:46:37.911Z"
   },
   {
    "duration": 6,
    "start_time": "2023-03-10T16:46:48.395Z"
   },
   {
    "duration": 6,
    "start_time": "2023-03-10T16:47:02.641Z"
   },
   {
    "duration": 14,
    "start_time": "2023-03-10T16:47:39.266Z"
   },
   {
    "duration": 16,
    "start_time": "2023-03-10T16:47:42.316Z"
   },
   {
    "duration": 7,
    "start_time": "2023-03-10T16:48:04.110Z"
   },
   {
    "duration": 13,
    "start_time": "2023-03-10T16:49:14.080Z"
   },
   {
    "duration": 18,
    "start_time": "2023-03-10T16:49:54.835Z"
   },
   {
    "duration": 7,
    "start_time": "2023-03-10T16:57:17.845Z"
   },
   {
    "duration": 12,
    "start_time": "2023-03-10T16:57:20.765Z"
   },
   {
    "duration": 6,
    "start_time": "2023-03-10T16:57:23.414Z"
   },
   {
    "duration": 10,
    "start_time": "2023-03-10T16:59:05.205Z"
   },
   {
    "duration": 5,
    "start_time": "2023-03-10T16:59:11.027Z"
   },
   {
    "duration": 4,
    "start_time": "2023-03-10T16:59:26.209Z"
   },
   {
    "duration": 83,
    "start_time": "2023-03-10T17:01:14.157Z"
   },
   {
    "duration": 16,
    "start_time": "2023-03-10T17:01:26.015Z"
   },
   {
    "duration": 19,
    "start_time": "2023-03-10T17:01:42.420Z"
   },
   {
    "duration": 18,
    "start_time": "2023-03-10T17:02:31.900Z"
   },
   {
    "duration": 16,
    "start_time": "2023-03-10T17:02:37.555Z"
   },
   {
    "duration": 8,
    "start_time": "2023-03-10T17:03:24.994Z"
   },
   {
    "duration": 18,
    "start_time": "2023-03-10T17:03:39.319Z"
   },
   {
    "duration": 21,
    "start_time": "2023-03-10T17:03:49.661Z"
   },
   {
    "duration": 11,
    "start_time": "2023-03-10T17:10:03.769Z"
   },
   {
    "duration": 22,
    "start_time": "2023-03-10T17:10:15.262Z"
   },
   {
    "duration": 53,
    "start_time": "2023-03-10T18:54:26.157Z"
   },
   {
    "duration": 11,
    "start_time": "2023-03-10T18:54:34.250Z"
   },
   {
    "duration": 8,
    "start_time": "2023-03-10T18:54:38.902Z"
   },
   {
    "duration": 563,
    "start_time": "2023-03-10T18:54:53.196Z"
   },
   {
    "duration": 19,
    "start_time": "2023-03-10T18:54:53.761Z"
   },
   {
    "duration": 4,
    "start_time": "2023-03-10T18:54:53.782Z"
   },
   {
    "duration": 23,
    "start_time": "2023-03-10T18:54:53.787Z"
   },
   {
    "duration": 25,
    "start_time": "2023-03-10T18:54:53.812Z"
   },
   {
    "duration": 4829,
    "start_time": "2023-03-10T18:54:53.839Z"
   },
   {
    "duration": 15,
    "start_time": "2023-03-10T18:54:58.670Z"
   },
   {
    "duration": 6,
    "start_time": "2023-03-10T18:54:58.686Z"
   },
   {
    "duration": 6,
    "start_time": "2023-03-10T18:54:58.693Z"
   },
   {
    "duration": 6,
    "start_time": "2023-03-10T18:54:58.700Z"
   },
   {
    "duration": 6,
    "start_time": "2023-03-10T18:54:58.707Z"
   },
   {
    "duration": 24,
    "start_time": "2023-03-10T18:54:58.714Z"
   },
   {
    "duration": 7,
    "start_time": "2023-03-10T18:54:58.740Z"
   },
   {
    "duration": 18,
    "start_time": "2023-03-10T18:54:58.750Z"
   },
   {
    "duration": 7,
    "start_time": "2023-03-10T18:54:58.771Z"
   },
   {
    "duration": 13,
    "start_time": "2023-03-10T18:54:58.779Z"
   },
   {
    "duration": 10,
    "start_time": "2023-03-10T18:54:58.794Z"
   },
   {
    "duration": 174,
    "start_time": "2023-03-10T18:54:58.806Z"
   },
   {
    "duration": 18,
    "start_time": "2023-03-10T18:54:58.982Z"
   },
   {
    "duration": 5,
    "start_time": "2023-03-10T18:54:59.002Z"
   },
   {
    "duration": 12,
    "start_time": "2023-03-10T18:54:59.027Z"
   },
   {
    "duration": 4,
    "start_time": "2023-03-10T18:54:59.041Z"
   },
   {
    "duration": 113,
    "start_time": "2023-03-10T18:54:59.047Z"
   },
   {
    "duration": 0,
    "start_time": "2023-03-10T18:54:59.162Z"
   },
   {
    "duration": 11,
    "start_time": "2023-03-10T18:55:07.040Z"
   },
   {
    "duration": 13,
    "start_time": "2023-03-10T18:55:09.896Z"
   },
   {
    "duration": 8,
    "start_time": "2023-03-10T18:55:12.436Z"
   },
   {
    "duration": 17,
    "start_time": "2023-03-10T18:55:16.315Z"
   },
   {
    "duration": 5,
    "start_time": "2023-03-10T18:55:21.583Z"
   },
   {
    "duration": 4,
    "start_time": "2023-03-10T18:56:37.143Z"
   },
   {
    "duration": 13,
    "start_time": "2023-03-10T18:56:44.484Z"
   },
   {
    "duration": 14,
    "start_time": "2023-03-10T18:56:54.672Z"
   },
   {
    "duration": 10,
    "start_time": "2023-03-10T18:57:57.290Z"
   },
   {
    "duration": 10,
    "start_time": "2023-03-10T19:00:37.174Z"
   },
   {
    "duration": 5,
    "start_time": "2023-03-10T19:00:51.509Z"
   },
   {
    "duration": 5,
    "start_time": "2023-03-10T19:00:54.640Z"
   },
   {
    "duration": 12,
    "start_time": "2023-03-10T19:00:58.173Z"
   },
   {
    "duration": 137,
    "start_time": "2023-03-10T19:04:13.716Z"
   },
   {
    "duration": 21,
    "start_time": "2023-03-10T19:04:13.856Z"
   },
   {
    "duration": 3,
    "start_time": "2023-03-10T19:04:13.879Z"
   },
   {
    "duration": 20,
    "start_time": "2023-03-10T19:04:13.885Z"
   },
   {
    "duration": 20,
    "start_time": "2023-03-10T19:04:13.929Z"
   },
   {
    "duration": 4992,
    "start_time": "2023-03-10T19:04:13.954Z"
   },
   {
    "duration": 21,
    "start_time": "2023-03-10T19:04:18.952Z"
   },
   {
    "duration": 5,
    "start_time": "2023-03-10T19:04:18.975Z"
   },
   {
    "duration": 8,
    "start_time": "2023-03-10T19:04:18.982Z"
   },
   {
    "duration": 6,
    "start_time": "2023-03-10T19:04:18.994Z"
   },
   {
    "duration": 24,
    "start_time": "2023-03-10T19:04:19.002Z"
   },
   {
    "duration": 28,
    "start_time": "2023-03-10T19:04:19.029Z"
   },
   {
    "duration": 9,
    "start_time": "2023-03-10T19:04:19.059Z"
   },
   {
    "duration": 8,
    "start_time": "2023-03-10T19:04:19.070Z"
   },
   {
    "duration": 6,
    "start_time": "2023-03-10T19:04:19.080Z"
   },
   {
    "duration": 9,
    "start_time": "2023-03-10T19:04:19.089Z"
   },
   {
    "duration": 40,
    "start_time": "2023-03-10T19:04:19.101Z"
   },
   {
    "duration": 40,
    "start_time": "2023-03-10T19:04:19.152Z"
   },
   {
    "duration": 17,
    "start_time": "2023-03-10T19:04:19.194Z"
   },
   {
    "duration": 6,
    "start_time": "2023-03-10T19:04:19.213Z"
   },
   {
    "duration": 17,
    "start_time": "2023-03-10T19:04:19.221Z"
   },
   {
    "duration": 5,
    "start_time": "2023-03-10T19:04:19.244Z"
   },
   {
    "duration": 19,
    "start_time": "2023-03-10T19:04:19.250Z"
   },
   {
    "duration": 0,
    "start_time": "2023-03-10T19:04:19.273Z"
   },
   {
    "duration": 16,
    "start_time": "2023-03-10T19:13:38.018Z"
   },
   {
    "duration": 18,
    "start_time": "2023-03-10T19:13:52.625Z"
   },
   {
    "duration": 53,
    "start_time": "2023-03-12T10:45:48.418Z"
   },
   {
    "duration": 6,
    "start_time": "2023-03-12T10:45:52.366Z"
   },
   {
    "duration": 758,
    "start_time": "2023-03-12T10:46:01.426Z"
   },
   {
    "duration": 19,
    "start_time": "2023-03-12T10:46:02.187Z"
   },
   {
    "duration": 6,
    "start_time": "2023-03-12T10:46:02.207Z"
   },
   {
    "duration": 25,
    "start_time": "2023-03-12T10:46:02.215Z"
   },
   {
    "duration": 16,
    "start_time": "2023-03-12T10:46:02.242Z"
   },
   {
    "duration": 3260,
    "start_time": "2023-03-12T10:46:02.260Z"
   },
   {
    "duration": 19,
    "start_time": "2023-03-12T10:46:05.524Z"
   },
   {
    "duration": 20,
    "start_time": "2023-03-12T10:46:05.545Z"
   },
   {
    "duration": 8,
    "start_time": "2023-03-12T10:46:05.568Z"
   },
   {
    "duration": 13,
    "start_time": "2023-03-12T10:46:05.579Z"
   },
   {
    "duration": 10,
    "start_time": "2023-03-12T10:46:05.595Z"
   },
   {
    "duration": 21,
    "start_time": "2023-03-12T10:46:05.607Z"
   },
   {
    "duration": 6,
    "start_time": "2023-03-12T10:46:05.630Z"
   },
   {
    "duration": 5,
    "start_time": "2023-03-12T10:46:05.664Z"
   },
   {
    "duration": 9,
    "start_time": "2023-03-12T10:46:05.671Z"
   },
   {
    "duration": 21,
    "start_time": "2023-03-12T10:46:05.682Z"
   },
   {
    "duration": 10,
    "start_time": "2023-03-12T10:46:05.705Z"
   },
   {
    "duration": 50,
    "start_time": "2023-03-12T10:46:05.716Z"
   },
   {
    "duration": 14,
    "start_time": "2023-03-12T10:46:05.768Z"
   },
   {
    "duration": 5,
    "start_time": "2023-03-12T10:46:05.784Z"
   },
   {
    "duration": 17,
    "start_time": "2023-03-12T10:46:05.791Z"
   },
   {
    "duration": 8,
    "start_time": "2023-03-12T10:46:05.810Z"
   },
   {
    "duration": 18,
    "start_time": "2023-03-12T10:46:05.819Z"
   },
   {
    "duration": 10,
    "start_time": "2023-03-12T10:48:00.022Z"
   },
   {
    "duration": 5,
    "start_time": "2023-03-12T10:48:16.902Z"
   },
   {
    "duration": 7,
    "start_time": "2023-03-12T10:48:32.733Z"
   },
   {
    "duration": 5,
    "start_time": "2023-03-12T10:48:40.110Z"
   },
   {
    "duration": 9,
    "start_time": "2023-03-12T10:54:19.128Z"
   },
   {
    "duration": 10,
    "start_time": "2023-03-12T10:54:40.034Z"
   },
   {
    "duration": 10,
    "start_time": "2023-03-12T10:55:58.326Z"
   },
   {
    "duration": 11,
    "start_time": "2023-03-12T10:56:03.095Z"
   },
   {
    "duration": 18,
    "start_time": "2023-03-12T10:57:20.703Z"
   },
   {
    "duration": 31,
    "start_time": "2023-03-12T10:59:05.351Z"
   },
   {
    "duration": 45,
    "start_time": "2023-03-12T10:59:58.113Z"
   },
   {
    "duration": 8,
    "start_time": "2023-03-12T11:11:41.049Z"
   },
   {
    "duration": 6,
    "start_time": "2023-03-12T11:12:42.647Z"
   },
   {
    "duration": 212,
    "start_time": "2023-03-12T11:22:22.304Z"
   },
   {
    "duration": 282,
    "start_time": "2023-03-12T11:22:36.982Z"
   },
   {
    "duration": 213,
    "start_time": "2023-03-12T11:23:07.527Z"
   },
   {
    "duration": 199,
    "start_time": "2023-03-12T11:23:16.287Z"
   },
   {
    "duration": 203,
    "start_time": "2023-03-12T11:23:43.135Z"
   },
   {
    "duration": 184,
    "start_time": "2023-03-12T11:24:16.613Z"
   },
   {
    "duration": 179,
    "start_time": "2023-03-12T11:25:07.020Z"
   },
   {
    "duration": 218,
    "start_time": "2023-03-12T11:25:24.360Z"
   },
   {
    "duration": 186,
    "start_time": "2023-03-12T11:25:31.250Z"
   },
   {
    "duration": 4,
    "start_time": "2023-03-12T11:28:29.383Z"
   },
   {
    "duration": 10,
    "start_time": "2023-03-12T11:28:34.852Z"
   },
   {
    "duration": 8,
    "start_time": "2023-03-12T11:29:11.313Z"
   },
   {
    "duration": 15,
    "start_time": "2023-03-12T11:30:17.682Z"
   },
   {
    "duration": 10,
    "start_time": "2023-03-12T11:31:13.207Z"
   },
   {
    "duration": 13,
    "start_time": "2023-03-12T11:31:15.521Z"
   },
   {
    "duration": 8,
    "start_time": "2023-03-12T11:31:42.896Z"
   },
   {
    "duration": 9,
    "start_time": "2023-03-12T11:31:48.782Z"
   },
   {
    "duration": 10,
    "start_time": "2023-03-12T11:34:24.980Z"
   },
   {
    "duration": 10,
    "start_time": "2023-03-12T11:34:27.002Z"
   },
   {
    "duration": 8,
    "start_time": "2023-03-12T11:34:29.059Z"
   },
   {
    "duration": 8,
    "start_time": "2023-03-12T11:35:15.323Z"
   },
   {
    "duration": 8,
    "start_time": "2023-03-12T11:35:32.547Z"
   },
   {
    "duration": 11,
    "start_time": "2023-03-12T11:36:25.190Z"
   },
   {
    "duration": 10,
    "start_time": "2023-03-12T11:36:44.482Z"
   },
   {
    "duration": 9,
    "start_time": "2023-03-12T11:36:53.433Z"
   },
   {
    "duration": 9,
    "start_time": "2023-03-12T11:36:57.157Z"
   },
   {
    "duration": 8,
    "start_time": "2023-03-12T11:37:17.304Z"
   },
   {
    "duration": 8,
    "start_time": "2023-03-12T11:38:25.121Z"
   },
   {
    "duration": 11,
    "start_time": "2023-03-12T11:38:27.863Z"
   },
   {
    "duration": 11,
    "start_time": "2023-03-12T11:38:31.199Z"
   },
   {
    "duration": 9,
    "start_time": "2023-03-12T11:38:33.484Z"
   },
   {
    "duration": 7,
    "start_time": "2023-03-12T11:38:35.339Z"
   },
   {
    "duration": 167,
    "start_time": "2023-03-12T11:44:10.221Z"
   },
   {
    "duration": 3,
    "start_time": "2023-03-12T11:46:26.138Z"
   },
   {
    "duration": 14,
    "start_time": "2023-03-12T11:46:34.980Z"
   },
   {
    "duration": 13,
    "start_time": "2023-03-12T11:47:05.447Z"
   },
   {
    "duration": 20,
    "start_time": "2023-03-12T11:47:24.690Z"
   },
   {
    "duration": 21,
    "start_time": "2023-03-12T11:49:41.526Z"
   },
   {
    "duration": 20,
    "start_time": "2023-03-12T11:49:44.183Z"
   },
   {
    "duration": 17,
    "start_time": "2023-03-12T11:57:36.283Z"
   },
   {
    "duration": 11,
    "start_time": "2023-03-12T11:58:17.353Z"
   },
   {
    "duration": 21,
    "start_time": "2023-03-12T11:58:39.194Z"
   },
   {
    "duration": 20,
    "start_time": "2023-03-12T12:01:45.534Z"
   },
   {
    "duration": 18,
    "start_time": "2023-03-12T12:01:55.754Z"
   },
   {
    "duration": 186,
    "start_time": "2023-03-12T12:02:11.199Z"
   },
   {
    "duration": 328,
    "start_time": "2023-03-12T12:03:26.453Z"
   },
   {
    "duration": 173,
    "start_time": "2023-03-12T12:03:52.219Z"
   },
   {
    "duration": 9,
    "start_time": "2023-03-12T12:04:41.417Z"
   },
   {
    "duration": 87,
    "start_time": "2023-03-12T12:08:33.503Z"
   },
   {
    "duration": 101,
    "start_time": "2023-03-12T12:10:20.609Z"
   },
   {
    "duration": 555,
    "start_time": "2023-03-12T12:10:32.463Z"
   },
   {
    "duration": 19,
    "start_time": "2023-03-12T12:10:33.020Z"
   },
   {
    "duration": 10,
    "start_time": "2023-03-12T12:10:33.041Z"
   },
   {
    "duration": 21,
    "start_time": "2023-03-12T12:10:33.054Z"
   },
   {
    "duration": 15,
    "start_time": "2023-03-12T12:10:33.078Z"
   },
   {
    "duration": 2957,
    "start_time": "2023-03-12T12:10:33.095Z"
   },
   {
    "duration": 15,
    "start_time": "2023-03-12T12:10:36.054Z"
   },
   {
    "duration": 6,
    "start_time": "2023-03-12T12:10:36.072Z"
   },
   {
    "duration": 18,
    "start_time": "2023-03-12T12:10:36.080Z"
   },
   {
    "duration": 8,
    "start_time": "2023-03-12T12:10:36.101Z"
   },
   {
    "duration": 12,
    "start_time": "2023-03-12T12:10:36.111Z"
   },
   {
    "duration": 17,
    "start_time": "2023-03-12T12:10:36.125Z"
   },
   {
    "duration": 22,
    "start_time": "2023-03-12T12:10:36.144Z"
   },
   {
    "duration": 8,
    "start_time": "2023-03-12T12:10:36.168Z"
   },
   {
    "duration": 12,
    "start_time": "2023-03-12T12:10:36.178Z"
   },
   {
    "duration": 17,
    "start_time": "2023-03-12T12:10:36.192Z"
   },
   {
    "duration": 12,
    "start_time": "2023-03-12T12:10:36.211Z"
   },
   {
    "duration": 42,
    "start_time": "2023-03-12T12:10:36.225Z"
   },
   {
    "duration": 43,
    "start_time": "2023-03-12T12:10:36.269Z"
   },
   {
    "duration": 14,
    "start_time": "2023-03-12T12:10:36.314Z"
   },
   {
    "duration": 35,
    "start_time": "2023-03-12T12:10:36.329Z"
   },
   {
    "duration": 11,
    "start_time": "2023-03-12T12:10:36.366Z"
   },
   {
    "duration": 17,
    "start_time": "2023-03-12T12:10:36.378Z"
   },
   {
    "duration": 17,
    "start_time": "2023-03-12T12:10:36.396Z"
   },
   {
    "duration": 98,
    "start_time": "2023-03-12T12:10:36.415Z"
   },
   {
    "duration": 191,
    "start_time": "2023-03-12T12:10:36.515Z"
   },
   {
    "duration": 3,
    "start_time": "2023-03-12T12:10:36.708Z"
   },
   {
    "duration": 17,
    "start_time": "2023-03-12T12:10:36.715Z"
   },
   {
    "duration": 6,
    "start_time": "2023-03-12T12:10:36.734Z"
   },
   {
    "duration": 19,
    "start_time": "2023-03-12T12:10:36.741Z"
   },
   {
    "duration": 29,
    "start_time": "2023-03-12T12:12:01.371Z"
   },
   {
    "duration": 23,
    "start_time": "2023-03-12T12:12:05.603Z"
   },
   {
    "duration": 22,
    "start_time": "2023-03-12T12:12:08.665Z"
   },
   {
    "duration": 183,
    "start_time": "2023-03-12T12:12:12.117Z"
   },
   {
    "duration": 82,
    "start_time": "2023-03-12T12:28:45.676Z"
   },
   {
    "duration": 67,
    "start_time": "2023-03-12T12:30:06.988Z"
   },
   {
    "duration": 78,
    "start_time": "2023-03-12T12:35:25.642Z"
   },
   {
    "duration": 299,
    "start_time": "2023-03-12T12:36:57.235Z"
   },
   {
    "duration": 154,
    "start_time": "2023-03-12T12:37:08.244Z"
   },
   {
    "duration": 168,
    "start_time": "2023-03-12T12:38:00.771Z"
   },
   {
    "duration": 275,
    "start_time": "2023-03-12T12:38:42.185Z"
   },
   {
    "duration": 5,
    "start_time": "2023-03-12T12:39:17.942Z"
   },
   {
    "duration": 9,
    "start_time": "2023-03-12T12:39:22.016Z"
   },
   {
    "duration": 4,
    "start_time": "2023-03-12T12:40:34.376Z"
   },
   {
    "duration": 7,
    "start_time": "2023-03-12T12:40:38.514Z"
   },
   {
    "duration": 8,
    "start_time": "2023-03-12T12:42:21.321Z"
   },
   {
    "duration": 12,
    "start_time": "2023-03-12T12:43:27.350Z"
   },
   {
    "duration": 9,
    "start_time": "2023-03-12T12:49:59.794Z"
   },
   {
    "duration": 9,
    "start_time": "2023-03-12T12:51:32.415Z"
   },
   {
    "duration": 25,
    "start_time": "2023-03-12T12:54:19.054Z"
   },
   {
    "duration": 12,
    "start_time": "2023-03-12T12:55:29.374Z"
   },
   {
    "duration": 17,
    "start_time": "2023-03-12T12:56:08.374Z"
   },
   {
    "duration": 224,
    "start_time": "2023-03-12T12:56:38.507Z"
   },
   {
    "duration": 212,
    "start_time": "2023-03-12T12:57:03.368Z"
   },
   {
    "duration": 234,
    "start_time": "2023-03-12T12:57:54.584Z"
   },
   {
    "duration": 178,
    "start_time": "2023-03-12T12:58:04.959Z"
   },
   {
    "duration": 299,
    "start_time": "2023-03-12T12:58:34.514Z"
   },
   {
    "duration": 339,
    "start_time": "2023-03-12T12:58:46.489Z"
   },
   {
    "duration": 8,
    "start_time": "2023-03-12T13:03:25.820Z"
   },
   {
    "duration": 14,
    "start_time": "2023-03-12T13:07:51.064Z"
   },
   {
    "duration": 9,
    "start_time": "2023-03-12T13:09:30.058Z"
   },
   {
    "duration": 9,
    "start_time": "2023-03-12T13:10:34.284Z"
   },
   {
    "duration": 22,
    "start_time": "2023-03-12T13:12:33.114Z"
   },
   {
    "duration": 18,
    "start_time": "2023-03-12T13:13:29.176Z"
   },
   {
    "duration": 9,
    "start_time": "2023-03-12T13:15:57.432Z"
   },
   {
    "duration": 204,
    "start_time": "2023-03-12T13:16:07.215Z"
   },
   {
    "duration": 187,
    "start_time": "2023-03-12T13:16:14.914Z"
   },
   {
    "duration": 186,
    "start_time": "2023-03-12T13:16:23.030Z"
   },
   {
    "duration": 9,
    "start_time": "2023-03-12T13:21:50.142Z"
   },
   {
    "duration": 10,
    "start_time": "2023-03-12T13:21:57.796Z"
   },
   {
    "duration": 9,
    "start_time": "2023-03-12T13:25:58.820Z"
   },
   {
    "duration": 9,
    "start_time": "2023-03-12T13:26:46.160Z"
   },
   {
    "duration": 8,
    "start_time": "2023-03-12T13:32:56.617Z"
   },
   {
    "duration": 14,
    "start_time": "2023-03-12T13:33:52.907Z"
   },
   {
    "duration": 4,
    "start_time": "2023-03-12T13:35:58.964Z"
   },
   {
    "duration": 8,
    "start_time": "2023-03-12T13:36:02.060Z"
   },
   {
    "duration": 10,
    "start_time": "2023-03-12T13:36:08.469Z"
   },
   {
    "duration": 10,
    "start_time": "2023-03-12T13:36:14.482Z"
   },
   {
    "duration": 8,
    "start_time": "2023-03-12T13:36:21.010Z"
   },
   {
    "duration": 9,
    "start_time": "2023-03-12T13:36:27.346Z"
   },
   {
    "duration": 9,
    "start_time": "2023-03-12T13:36:32.409Z"
   },
   {
    "duration": 9,
    "start_time": "2023-03-12T13:36:37.815Z"
   },
   {
    "duration": 9,
    "start_time": "2023-03-12T13:36:55.570Z"
   },
   {
    "duration": 9,
    "start_time": "2023-03-12T13:37:01.852Z"
   },
   {
    "duration": 17,
    "start_time": "2023-03-12T13:41:26.606Z"
   },
   {
    "duration": 12,
    "start_time": "2023-03-12T13:42:06.798Z"
   },
   {
    "duration": 203,
    "start_time": "2023-03-12T13:43:00.655Z"
   },
   {
    "duration": 9,
    "start_time": "2023-03-12T13:47:00.466Z"
   },
   {
    "duration": 8,
    "start_time": "2023-03-12T13:48:16.258Z"
   },
   {
    "duration": 12,
    "start_time": "2023-03-12T13:48:44.400Z"
   },
   {
    "duration": 12,
    "start_time": "2023-03-12T13:49:32.157Z"
   },
   {
    "duration": 9,
    "start_time": "2023-03-12T13:49:52.566Z"
   },
   {
    "duration": 11,
    "start_time": "2023-03-12T13:51:38.413Z"
   },
   {
    "duration": 9,
    "start_time": "2023-03-12T13:51:58.800Z"
   },
   {
    "duration": 8,
    "start_time": "2023-03-12T13:52:03.946Z"
   },
   {
    "duration": 10,
    "start_time": "2023-03-12T13:54:26.213Z"
   },
   {
    "duration": 17,
    "start_time": "2023-03-12T13:56:45.254Z"
   },
   {
    "duration": 14,
    "start_time": "2023-03-12T13:56:47.552Z"
   },
   {
    "duration": 199,
    "start_time": "2023-03-12T13:57:03.582Z"
   },
   {
    "duration": 9,
    "start_time": "2023-03-12T14:01:16.972Z"
   },
   {
    "duration": 11,
    "start_time": "2023-03-12T14:03:11.075Z"
   },
   {
    "duration": 11,
    "start_time": "2023-03-12T14:04:05.535Z"
   },
   {
    "duration": 8,
    "start_time": "2023-03-12T14:04:37.648Z"
   },
   {
    "duration": 4,
    "start_time": "2023-03-12T14:05:11.250Z"
   },
   {
    "duration": 4,
    "start_time": "2023-03-12T14:05:21.496Z"
   },
   {
    "duration": 8,
    "start_time": "2023-03-12T14:05:28.670Z"
   },
   {
    "duration": 75,
    "start_time": "2023-03-12T14:05:37.292Z"
   },
   {
    "duration": 13,
    "start_time": "2023-03-12T14:05:46.729Z"
   },
   {
    "duration": 12,
    "start_time": "2023-03-12T14:05:57.278Z"
   },
   {
    "duration": 8,
    "start_time": "2023-03-12T14:06:26.234Z"
   },
   {
    "duration": 17,
    "start_time": "2023-03-12T14:12:02.267Z"
   },
   {
    "duration": 21,
    "start_time": "2023-03-12T14:12:09.209Z"
   },
   {
    "duration": 171,
    "start_time": "2023-03-12T14:12:48.819Z"
   },
   {
    "duration": 10,
    "start_time": "2023-03-12T14:28:53.774Z"
   },
   {
    "duration": 7,
    "start_time": "2023-03-12T14:29:24.279Z"
   },
   {
    "duration": 176,
    "start_time": "2023-03-12T14:30:23.740Z"
   },
   {
    "duration": 161,
    "start_time": "2023-03-12T14:30:56.832Z"
   },
   {
    "duration": 9,
    "start_time": "2023-03-12T14:41:23.158Z"
   },
   {
    "duration": 13,
    "start_time": "2023-03-12T14:42:25.452Z"
   },
   {
    "duration": 10,
    "start_time": "2023-03-12T14:42:40.045Z"
   },
   {
    "duration": 7,
    "start_time": "2023-03-12T14:43:06.232Z"
   },
   {
    "duration": 10,
    "start_time": "2023-03-12T14:44:11.601Z"
   },
   {
    "duration": 11,
    "start_time": "2023-03-12T14:45:09.941Z"
   },
   {
    "duration": 9,
    "start_time": "2023-03-12T14:45:42.367Z"
   },
   {
    "duration": 22,
    "start_time": "2023-03-12T14:46:29.473Z"
   },
   {
    "duration": 215,
    "start_time": "2023-03-12T14:46:44.877Z"
   },
   {
    "duration": 22,
    "start_time": "2023-03-12T14:51:38.138Z"
   },
   {
    "duration": 10,
    "start_time": "2023-03-12T14:53:56.285Z"
   },
   {
    "duration": 9,
    "start_time": "2023-03-12T14:54:27.451Z"
   },
   {
    "duration": 27,
    "start_time": "2023-03-12T14:54:48.894Z"
   },
   {
    "duration": 139,
    "start_time": "2023-03-12T14:57:17.494Z"
   },
   {
    "duration": 270,
    "start_time": "2023-03-12T14:57:23.814Z"
   },
   {
    "duration": 8,
    "start_time": "2023-03-12T15:03:55.597Z"
   },
   {
    "duration": 8,
    "start_time": "2023-03-12T15:04:25.103Z"
   },
   {
    "duration": 14,
    "start_time": "2023-03-12T15:06:24.136Z"
   },
   {
    "duration": 171,
    "start_time": "2023-03-12T15:06:43.125Z"
   },
   {
    "duration": 73,
    "start_time": "2023-03-12T15:13:58.035Z"
   },
   {
    "duration": 193,
    "start_time": "2023-03-12T15:14:24.599Z"
   },
   {
    "duration": 160,
    "start_time": "2023-03-12T15:18:40.718Z"
   },
   {
    "duration": 169,
    "start_time": "2023-03-12T15:20:49.343Z"
   },
   {
    "duration": 152,
    "start_time": "2023-03-12T15:21:03.220Z"
   },
   {
    "duration": 159,
    "start_time": "2023-03-12T15:21:21.423Z"
   },
   {
    "duration": 8,
    "start_time": "2023-03-12T15:24:55.999Z"
   },
   {
    "duration": 9,
    "start_time": "2023-03-12T15:25:07.274Z"
   },
   {
    "duration": 9,
    "start_time": "2023-03-12T15:25:14.039Z"
   },
   {
    "duration": 8,
    "start_time": "2023-03-12T15:25:18.506Z"
   },
   {
    "duration": 8,
    "start_time": "2023-03-12T15:25:22.235Z"
   },
   {
    "duration": 7,
    "start_time": "2023-03-12T15:25:27.600Z"
   },
   {
    "duration": 9,
    "start_time": "2023-03-12T15:25:33.165Z"
   },
   {
    "duration": 17,
    "start_time": "2023-03-12T15:26:24.473Z"
   },
   {
    "duration": 137,
    "start_time": "2023-03-12T15:26:52.788Z"
   },
   {
    "duration": 268,
    "start_time": "2023-03-12T15:26:59.089Z"
   },
   {
    "duration": 90,
    "start_time": "2023-03-12T15:30:13.397Z"
   },
   {
    "duration": 15,
    "start_time": "2023-03-12T15:30:55.952Z"
   },
   {
    "duration": 8,
    "start_time": "2023-03-12T15:31:27.835Z"
   },
   {
    "duration": 3,
    "start_time": "2023-03-12T15:31:57.473Z"
   },
   {
    "duration": 32,
    "start_time": "2023-03-12T15:32:15.866Z"
   },
   {
    "duration": 5,
    "start_time": "2023-03-12T15:44:40.044Z"
   },
   {
    "duration": 5,
    "start_time": "2023-03-12T15:44:43.151Z"
   },
   {
    "duration": 7,
    "start_time": "2023-03-12T15:45:03.474Z"
   },
   {
    "duration": 31,
    "start_time": "2023-03-12T15:45:36.896Z"
   },
   {
    "duration": 1204,
    "start_time": "2023-03-12T15:53:56.125Z"
   },
   {
    "duration": 1147,
    "start_time": "2023-03-12T15:55:50.549Z"
   },
   {
    "duration": 1078,
    "start_time": "2023-03-12T15:57:09.321Z"
   },
   {
    "duration": 545,
    "start_time": "2023-03-12T15:57:20.014Z"
   },
   {
    "duration": 26,
    "start_time": "2023-03-12T15:57:20.561Z"
   },
   {
    "duration": 4,
    "start_time": "2023-03-12T15:57:20.589Z"
   },
   {
    "duration": 24,
    "start_time": "2023-03-12T15:57:20.597Z"
   },
   {
    "duration": 41,
    "start_time": "2023-03-12T15:57:20.623Z"
   },
   {
    "duration": 2961,
    "start_time": "2023-03-12T15:57:20.667Z"
   },
   {
    "duration": 14,
    "start_time": "2023-03-12T15:57:23.630Z"
   },
   {
    "duration": 15,
    "start_time": "2023-03-12T15:57:23.646Z"
   },
   {
    "duration": 7,
    "start_time": "2023-03-12T15:57:23.664Z"
   },
   {
    "duration": 14,
    "start_time": "2023-03-12T15:57:23.674Z"
   },
   {
    "duration": 17,
    "start_time": "2023-03-12T15:57:23.690Z"
   },
   {
    "duration": 20,
    "start_time": "2023-03-12T15:57:23.710Z"
   },
   {
    "duration": 7,
    "start_time": "2023-03-12T15:57:23.732Z"
   },
   {
    "duration": 6,
    "start_time": "2023-03-12T15:57:23.740Z"
   },
   {
    "duration": 25,
    "start_time": "2023-03-12T15:57:23.748Z"
   },
   {
    "duration": 29,
    "start_time": "2023-03-12T15:57:23.775Z"
   },
   {
    "duration": 15,
    "start_time": "2023-03-12T15:57:23.806Z"
   },
   {
    "duration": 27,
    "start_time": "2023-03-12T15:57:23.823Z"
   },
   {
    "duration": 61,
    "start_time": "2023-03-12T15:57:23.852Z"
   },
   {
    "duration": 17,
    "start_time": "2023-03-12T15:57:23.915Z"
   },
   {
    "duration": 34,
    "start_time": "2023-03-12T15:57:23.934Z"
   },
   {
    "duration": 36,
    "start_time": "2023-03-12T15:57:23.970Z"
   },
   {
    "duration": 10,
    "start_time": "2023-03-12T15:57:24.008Z"
   },
   {
    "duration": 34,
    "start_time": "2023-03-12T15:57:24.020Z"
   },
   {
    "duration": 92,
    "start_time": "2023-03-12T15:57:24.056Z"
   },
   {
    "duration": 199,
    "start_time": "2023-03-12T15:57:24.150Z"
   },
   {
    "duration": 33,
    "start_time": "2023-03-12T15:57:24.351Z"
   },
   {
    "duration": 26,
    "start_time": "2023-03-12T15:57:24.388Z"
   },
   {
    "duration": 19,
    "start_time": "2023-03-12T15:57:24.417Z"
   },
   {
    "duration": 272,
    "start_time": "2023-03-12T15:57:24.438Z"
   },
   {
    "duration": 173,
    "start_time": "2023-03-12T15:57:24.712Z"
   },
   {
    "duration": 24,
    "start_time": "2023-03-12T15:57:24.888Z"
   },
   {
    "duration": 282,
    "start_time": "2023-03-12T15:57:24.915Z"
   },
   {
    "duration": 23,
    "start_time": "2023-03-12T15:57:25.199Z"
   },
   {
    "duration": 18,
    "start_time": "2023-03-12T15:57:25.223Z"
   },
   {
    "duration": 266,
    "start_time": "2023-03-12T15:57:25.242Z"
   },
   {
    "duration": 20,
    "start_time": "2023-03-12T15:57:25.510Z"
   },
   {
    "duration": 9,
    "start_time": "2023-03-12T15:57:25.532Z"
   },
   {
    "duration": 253,
    "start_time": "2023-03-12T15:57:25.543Z"
   },
   {
    "duration": 18,
    "start_time": "2023-03-12T15:57:25.798Z"
   },
   {
    "duration": 32,
    "start_time": "2023-03-12T15:57:25.818Z"
   },
   {
    "duration": 226,
    "start_time": "2023-03-12T15:57:25.852Z"
   },
   {
    "duration": 22,
    "start_time": "2023-03-12T15:57:26.080Z"
   },
   {
    "duration": 17,
    "start_time": "2023-03-12T15:57:26.104Z"
   },
   {
    "duration": 214,
    "start_time": "2023-03-12T15:57:26.122Z"
   },
   {
    "duration": 11,
    "start_time": "2023-03-12T15:57:26.338Z"
   },
   {
    "duration": 178,
    "start_time": "2023-03-12T15:57:26.364Z"
   },
   {
    "duration": 25,
    "start_time": "2023-03-12T15:57:26.544Z"
   },
   {
    "duration": 25,
    "start_time": "2023-03-12T15:57:26.572Z"
   },
   {
    "duration": 261,
    "start_time": "2023-03-12T15:57:26.599Z"
   },
   {
    "duration": 168,
    "start_time": "2023-03-12T15:57:26.861Z"
   },
   {
    "duration": 14,
    "start_time": "2023-03-12T15:57:27.031Z"
   },
   {
    "duration": 187,
    "start_time": "2023-03-12T15:57:27.047Z"
   },
   {
    "duration": 176,
    "start_time": "2023-03-12T15:57:27.236Z"
   },
   {
    "duration": 282,
    "start_time": "2023-03-12T15:57:27.414Z"
   },
   {
    "duration": 194,
    "start_time": "2023-03-12T15:57:27.698Z"
   },
   {
    "duration": 184,
    "start_time": "2023-03-12T15:57:27.896Z"
   },
   {
    "duration": 185,
    "start_time": "2023-03-12T15:57:28.082Z"
   },
   {
    "duration": 17,
    "start_time": "2023-03-12T15:57:28.269Z"
   },
   {
    "duration": 290,
    "start_time": "2023-03-12T15:57:28.288Z"
   },
   {
    "duration": 99,
    "start_time": "2023-03-12T15:57:28.580Z"
   },
   {
    "duration": 9,
    "start_time": "2023-03-12T15:57:28.681Z"
   },
   {
    "duration": 18,
    "start_time": "2023-03-12T15:57:28.692Z"
   },
   {
    "duration": 41,
    "start_time": "2023-03-12T15:57:28.712Z"
   },
   {
    "duration": 10,
    "start_time": "2023-03-12T15:57:28.755Z"
   },
   {
    "duration": 30,
    "start_time": "2023-03-12T15:57:28.767Z"
   },
   {
    "duration": 1208,
    "start_time": "2023-03-12T15:57:28.799Z"
   },
   {
    "duration": 1132,
    "start_time": "2023-03-12T15:57:41.486Z"
   },
   {
    "duration": 6,
    "start_time": "2023-03-12T15:59:12.445Z"
   },
   {
    "duration": 6,
    "start_time": "2023-03-12T15:59:17.689Z"
   },
   {
    "duration": 9,
    "start_time": "2023-03-12T15:59:30.550Z"
   },
   {
    "duration": 12,
    "start_time": "2023-03-12T16:02:56.074Z"
   },
   {
    "duration": 11,
    "start_time": "2023-03-12T16:03:55.580Z"
   },
   {
    "duration": 11,
    "start_time": "2023-03-12T16:04:38.944Z"
   },
   {
    "duration": 9,
    "start_time": "2023-03-12T16:05:40.254Z"
   },
   {
    "duration": 8,
    "start_time": "2023-03-12T16:07:17.412Z"
   },
   {
    "duration": 9,
    "start_time": "2023-03-12T16:07:59.064Z"
   },
   {
    "duration": 6,
    "start_time": "2023-03-12T16:38:09.539Z"
   },
   {
    "duration": 297,
    "start_time": "2023-03-12T17:14:42.290Z"
   },
   {
    "duration": 4,
    "start_time": "2023-03-12T17:24:20.895Z"
   },
   {
    "duration": 6,
    "start_time": "2023-03-12T17:24:51.293Z"
   },
   {
    "duration": 19,
    "start_time": "2023-03-12T17:28:32.014Z"
   },
   {
    "duration": 223,
    "start_time": "2023-03-12T17:36:19.754Z"
   },
   {
    "duration": 115,
    "start_time": "2023-03-12T17:37:41.206Z"
   },
   {
    "duration": 420,
    "start_time": "2023-03-12T17:38:30.696Z"
   },
   {
    "duration": 310,
    "start_time": "2023-03-12T17:38:39.743Z"
   },
   {
    "duration": 33,
    "start_time": "2023-03-12T17:38:54.795Z"
   },
   {
    "duration": 303,
    "start_time": "2023-03-12T17:42:31.523Z"
   },
   {
    "duration": 267,
    "start_time": "2023-03-12T17:44:23.016Z"
   },
   {
    "duration": 287,
    "start_time": "2023-03-12T17:46:04.998Z"
   },
   {
    "duration": 268,
    "start_time": "2023-03-12T17:49:38.587Z"
   },
   {
    "duration": 452,
    "start_time": "2023-03-12T17:49:42.521Z"
   },
   {
    "duration": 247,
    "start_time": "2023-03-12T17:49:52.030Z"
   },
   {
    "duration": 207,
    "start_time": "2023-03-12T17:50:04.689Z"
   },
   {
    "duration": 214,
    "start_time": "2023-03-12T17:50:10.697Z"
   },
   {
    "duration": 291,
    "start_time": "2023-03-12T17:50:48.653Z"
   },
   {
    "duration": 202,
    "start_time": "2023-03-12T17:50:54.048Z"
   },
   {
    "duration": 156,
    "start_time": "2023-03-12T17:51:06.025Z"
   },
   {
    "duration": 272,
    "start_time": "2023-03-12T17:51:52.210Z"
   },
   {
    "duration": 205,
    "start_time": "2023-03-12T17:51:59.402Z"
   },
   {
    "duration": 24,
    "start_time": "2023-03-12T17:52:34.852Z"
   },
   {
    "duration": 14,
    "start_time": "2023-03-12T17:54:10.087Z"
   },
   {
    "duration": 264,
    "start_time": "2023-03-12T17:55:35.426Z"
   },
   {
    "duration": 159,
    "start_time": "2023-03-12T17:55:41.746Z"
   },
   {
    "duration": 13,
    "start_time": "2023-03-12T17:57:58.921Z"
   },
   {
    "duration": 480,
    "start_time": "2023-03-12T17:59:03.098Z"
   },
   {
    "duration": 16,
    "start_time": "2023-03-12T17:59:14.547Z"
   },
   {
    "duration": 251,
    "start_time": "2023-03-12T18:00:21.483Z"
   },
   {
    "duration": 262,
    "start_time": "2023-03-12T18:00:45.383Z"
   },
   {
    "duration": 13,
    "start_time": "2023-03-12T18:01:47.383Z"
   },
   {
    "duration": 16,
    "start_time": "2023-03-12T18:02:35.104Z"
   },
   {
    "duration": 140,
    "start_time": "2023-03-12T18:02:58.844Z"
   },
   {
    "duration": 8,
    "start_time": "2023-03-12T18:03:52.203Z"
   },
   {
    "duration": 8,
    "start_time": "2023-03-12T18:03:56.618Z"
   },
   {
    "duration": 8,
    "start_time": "2023-03-12T18:03:59.599Z"
   },
   {
    "duration": 8,
    "start_time": "2023-03-12T18:04:06.334Z"
   },
   {
    "duration": 15,
    "start_time": "2023-03-12T18:04:09.314Z"
   },
   {
    "duration": 261,
    "start_time": "2023-03-12T18:05:01.695Z"
   },
   {
    "duration": 153,
    "start_time": "2023-03-12T18:05:08.587Z"
   },
   {
    "duration": 157,
    "start_time": "2023-03-12T18:05:16.400Z"
   },
   {
    "duration": 150,
    "start_time": "2023-03-12T18:05:23.287Z"
   },
   {
    "duration": 28,
    "start_time": "2023-03-12T18:06:08.547Z"
   },
   {
    "duration": 28,
    "start_time": "2023-03-12T18:06:25.824Z"
   },
   {
    "duration": 531,
    "start_time": "2023-03-12T18:06:53.027Z"
   },
   {
    "duration": 19,
    "start_time": "2023-03-12T18:06:53.560Z"
   },
   {
    "duration": 4,
    "start_time": "2023-03-12T18:06:53.581Z"
   },
   {
    "duration": 20,
    "start_time": "2023-03-12T18:06:53.588Z"
   },
   {
    "duration": 15,
    "start_time": "2023-03-12T18:06:53.611Z"
   },
   {
    "duration": 2932,
    "start_time": "2023-03-12T18:06:53.628Z"
   },
   {
    "duration": 11,
    "start_time": "2023-03-12T18:06:56.562Z"
   },
   {
    "duration": 7,
    "start_time": "2023-03-12T18:06:56.575Z"
   },
   {
    "duration": 7,
    "start_time": "2023-03-12T18:06:56.584Z"
   },
   {
    "duration": 7,
    "start_time": "2023-03-12T18:06:56.593Z"
   },
   {
    "duration": 8,
    "start_time": "2023-03-12T18:06:56.601Z"
   },
   {
    "duration": 19,
    "start_time": "2023-03-12T18:06:56.611Z"
   },
   {
    "duration": 33,
    "start_time": "2023-03-12T18:06:56.632Z"
   },
   {
    "duration": 6,
    "start_time": "2023-03-12T18:06:56.669Z"
   },
   {
    "duration": 12,
    "start_time": "2023-03-12T18:06:56.677Z"
   },
   {
    "duration": 21,
    "start_time": "2023-03-12T18:06:56.690Z"
   },
   {
    "duration": 23,
    "start_time": "2023-03-12T18:06:56.714Z"
   },
   {
    "duration": 39,
    "start_time": "2023-03-12T18:06:56.739Z"
   },
   {
    "duration": 48,
    "start_time": "2023-03-12T18:06:56.780Z"
   },
   {
    "duration": 40,
    "start_time": "2023-03-12T18:06:56.830Z"
   },
   {
    "duration": 6,
    "start_time": "2023-03-12T18:06:56.872Z"
   },
   {
    "duration": 20,
    "start_time": "2023-03-12T18:06:56.880Z"
   },
   {
    "duration": 15,
    "start_time": "2023-03-12T18:06:56.901Z"
   },
   {
    "duration": 23,
    "start_time": "2023-03-12T18:06:56.918Z"
   },
   {
    "duration": 88,
    "start_time": "2023-03-12T18:06:56.943Z"
   },
   {
    "duration": 176,
    "start_time": "2023-03-12T18:06:57.033Z"
   },
   {
    "duration": 20,
    "start_time": "2023-03-12T18:06:57.210Z"
   },
   {
    "duration": 34,
    "start_time": "2023-03-12T18:06:57.232Z"
   },
   {
    "duration": 15,
    "start_time": "2023-03-12T18:06:57.268Z"
   },
   {
    "duration": 187,
    "start_time": "2023-03-12T18:06:57.284Z"
   },
   {
    "duration": 125,
    "start_time": "2023-03-12T18:06:57.473Z"
   },
   {
    "duration": 16,
    "start_time": "2023-03-12T18:06:57.599Z"
   },
   {
    "duration": 215,
    "start_time": "2023-03-12T18:06:57.617Z"
   },
   {
    "duration": 19,
    "start_time": "2023-03-12T18:06:57.834Z"
   },
   {
    "duration": 15,
    "start_time": "2023-03-12T18:06:57.865Z"
   },
   {
    "duration": 203,
    "start_time": "2023-03-12T18:06:57.881Z"
   },
   {
    "duration": 17,
    "start_time": "2023-03-12T18:06:58.086Z"
   },
   {
    "duration": 10,
    "start_time": "2023-03-12T18:06:58.104Z"
   },
   {
    "duration": 217,
    "start_time": "2023-03-12T18:06:58.116Z"
   },
   {
    "duration": 18,
    "start_time": "2023-03-12T18:06:58.335Z"
   },
   {
    "duration": 10,
    "start_time": "2023-03-12T18:06:58.363Z"
   },
   {
    "duration": 193,
    "start_time": "2023-03-12T18:06:58.375Z"
   },
   {
    "duration": 20,
    "start_time": "2023-03-12T18:06:58.570Z"
   },
   {
    "duration": 16,
    "start_time": "2023-03-12T18:06:58.592Z"
   },
   {
    "duration": 195,
    "start_time": "2023-03-12T18:06:58.610Z"
   },
   {
    "duration": 10,
    "start_time": "2023-03-12T18:06:58.807Z"
   },
   {
    "duration": 180,
    "start_time": "2023-03-12T18:06:58.819Z"
   },
   {
    "duration": 21,
    "start_time": "2023-03-12T18:06:59.000Z"
   },
   {
    "duration": 16,
    "start_time": "2023-03-12T18:06:59.022Z"
   },
   {
    "duration": 226,
    "start_time": "2023-03-12T18:06:59.040Z"
   },
   {
    "duration": 171,
    "start_time": "2023-03-12T18:06:59.267Z"
   },
   {
    "duration": 24,
    "start_time": "2023-03-12T18:06:59.440Z"
   },
   {
    "duration": 178,
    "start_time": "2023-03-12T18:06:59.466Z"
   },
   {
    "duration": 165,
    "start_time": "2023-03-12T18:06:59.646Z"
   },
   {
    "duration": 285,
    "start_time": "2023-03-12T18:06:59.812Z"
   },
   {
    "duration": 161,
    "start_time": "2023-03-12T18:07:00.099Z"
   },
   {
    "duration": 148,
    "start_time": "2023-03-12T18:07:00.263Z"
   },
   {
    "duration": 213,
    "start_time": "2023-03-12T18:07:00.413Z"
   },
   {
    "duration": 15,
    "start_time": "2023-03-12T18:07:00.628Z"
   },
   {
    "duration": 275,
    "start_time": "2023-03-12T18:07:00.644Z"
   },
   {
    "duration": 95,
    "start_time": "2023-03-12T18:07:00.920Z"
   },
   {
    "duration": 9,
    "start_time": "2023-03-12T18:07:01.017Z"
   },
   {
    "duration": 31,
    "start_time": "2023-03-12T18:07:01.028Z"
   },
   {
    "duration": 72,
    "start_time": "2023-03-12T18:07:01.061Z"
   },
   {
    "duration": 29,
    "start_time": "2023-03-12T18:07:01.135Z"
   },
   {
    "duration": 72,
    "start_time": "2023-03-12T18:07:01.166Z"
   },
   {
    "duration": 43,
    "start_time": "2023-03-12T18:07:01.240Z"
   },
   {
    "duration": 61,
    "start_time": "2023-03-12T18:07:01.285Z"
   },
   {
    "duration": 30,
    "start_time": "2023-03-12T18:07:01.349Z"
   },
   {
    "duration": 303,
    "start_time": "2023-03-12T18:07:01.381Z"
   },
   {
    "duration": 8,
    "start_time": "2023-03-12T18:07:01.686Z"
   },
   {
    "duration": 56,
    "start_time": "2023-03-12T18:07:01.696Z"
   },
   {
    "duration": 62,
    "start_time": "2023-03-12T18:07:01.754Z"
   },
   {
    "duration": 271,
    "start_time": "2023-03-12T18:07:01.818Z"
   },
   {
    "duration": 385,
    "start_time": "2023-03-12T18:07:02.090Z"
   },
   {
    "duration": 271,
    "start_time": "2023-03-12T18:07:02.476Z"
   },
   {
    "duration": 212,
    "start_time": "2023-03-12T18:07:02.749Z"
   },
   {
    "duration": 157,
    "start_time": "2023-03-12T18:07:02.964Z"
   },
   {
    "duration": 154,
    "start_time": "2023-03-12T18:07:03.123Z"
   },
   {
    "duration": 196,
    "start_time": "2023-03-12T18:07:03.279Z"
   },
   {
    "duration": 77,
    "start_time": "2023-03-12T18:07:03.476Z"
   },
   {
    "duration": 0,
    "start_time": "2023-03-12T18:07:03.564Z"
   },
   {
    "duration": 0,
    "start_time": "2023-03-12T18:07:03.566Z"
   },
   {
    "duration": 0,
    "start_time": "2023-03-12T18:07:03.567Z"
   },
   {
    "duration": 0,
    "start_time": "2023-03-12T18:07:03.568Z"
   },
   {
    "duration": 0,
    "start_time": "2023-03-12T18:07:03.569Z"
   },
   {
    "duration": 0,
    "start_time": "2023-03-12T18:07:03.570Z"
   },
   {
    "duration": 160,
    "start_time": "2023-03-12T18:07:29.133Z"
   },
   {
    "duration": 261,
    "start_time": "2023-03-12T18:07:33.089Z"
   },
   {
    "duration": 259,
    "start_time": "2023-03-12T18:07:37.121Z"
   },
   {
    "duration": 411,
    "start_time": "2023-03-12T18:07:40.247Z"
   },
   {
    "duration": 175,
    "start_time": "2023-03-12T18:07:43.915Z"
   },
   {
    "duration": 153,
    "start_time": "2023-03-12T18:07:46.983Z"
   },
   {
    "duration": 14,
    "start_time": "2023-03-12T18:10:58.720Z"
   },
   {
    "duration": 141,
    "start_time": "2023-03-12T18:11:26.550Z"
   },
   {
    "duration": 158,
    "start_time": "2023-03-12T18:15:25.174Z"
   },
   {
    "duration": 169,
    "start_time": "2023-03-12T18:32:51.849Z"
   },
   {
    "duration": 212,
    "start_time": "2023-03-12T18:33:18.302Z"
   },
   {
    "duration": 152,
    "start_time": "2023-03-12T19:19:06.438Z"
   },
   {
    "duration": 132,
    "start_time": "2023-03-12T19:19:41.353Z"
   },
   {
    "duration": 201,
    "start_time": "2023-03-12T19:19:49.197Z"
   },
   {
    "duration": 495,
    "start_time": "2023-03-12T19:31:20.645Z"
   },
   {
    "duration": 169,
    "start_time": "2023-03-12T19:32:16.276Z"
   },
   {
    "duration": 150,
    "start_time": "2023-03-12T19:32:25.136Z"
   },
   {
    "duration": 183,
    "start_time": "2023-03-12T19:32:29.487Z"
   },
   {
    "duration": 468,
    "start_time": "2023-03-12T19:32:35.873Z"
   },
   {
    "duration": 6,
    "start_time": "2023-03-12T19:37:57.987Z"
   },
   {
    "duration": 7,
    "start_time": "2023-03-12T19:39:01.983Z"
   },
   {
    "duration": 6,
    "start_time": "2023-03-12T19:40:05.302Z"
   },
   {
    "duration": 8,
    "start_time": "2023-03-12T19:40:08.378Z"
   },
   {
    "duration": 248,
    "start_time": "2023-03-12T19:40:17.588Z"
   },
   {
    "duration": 249,
    "start_time": "2023-03-12T19:45:16.023Z"
   },
   {
    "duration": 263,
    "start_time": "2023-03-12T19:49:23.397Z"
   },
   {
    "duration": 270,
    "start_time": "2023-03-12T19:49:37.021Z"
   },
   {
    "duration": 1089,
    "start_time": "2023-03-12T19:59:32.172Z"
   },
   {
    "duration": 1131,
    "start_time": "2023-03-12T20:02:38.571Z"
   },
   {
    "duration": 1115,
    "start_time": "2023-03-12T20:04:47.867Z"
   },
   {
    "duration": 1133,
    "start_time": "2023-03-12T20:05:06.016Z"
   },
   {
    "duration": 522,
    "start_time": "2023-03-12T20:05:16.502Z"
   },
   {
    "duration": 20,
    "start_time": "2023-03-12T20:05:17.026Z"
   },
   {
    "duration": 13,
    "start_time": "2023-03-12T20:05:17.048Z"
   },
   {
    "duration": 36,
    "start_time": "2023-03-12T20:05:17.065Z"
   },
   {
    "duration": 14,
    "start_time": "2023-03-12T20:05:17.103Z"
   },
   {
    "duration": 2773,
    "start_time": "2023-03-12T20:05:17.119Z"
   },
   {
    "duration": 12,
    "start_time": "2023-03-12T20:05:19.893Z"
   },
   {
    "duration": 6,
    "start_time": "2023-03-12T20:05:19.906Z"
   },
   {
    "duration": 8,
    "start_time": "2023-03-12T20:05:19.914Z"
   },
   {
    "duration": 7,
    "start_time": "2023-03-12T20:05:19.924Z"
   },
   {
    "duration": 8,
    "start_time": "2023-03-12T20:05:19.932Z"
   },
   {
    "duration": 24,
    "start_time": "2023-03-12T20:05:19.941Z"
   },
   {
    "duration": 7,
    "start_time": "2023-03-12T20:05:19.967Z"
   },
   {
    "duration": 7,
    "start_time": "2023-03-12T20:05:19.975Z"
   },
   {
    "duration": 16,
    "start_time": "2023-03-12T20:05:19.984Z"
   },
   {
    "duration": 21,
    "start_time": "2023-03-12T20:05:20.001Z"
   },
   {
    "duration": 11,
    "start_time": "2023-03-12T20:05:20.024Z"
   },
   {
    "duration": 37,
    "start_time": "2023-03-12T20:05:20.036Z"
   },
   {
    "duration": 46,
    "start_time": "2023-03-12T20:05:20.075Z"
   },
   {
    "duration": 14,
    "start_time": "2023-03-12T20:05:20.123Z"
   },
   {
    "duration": 6,
    "start_time": "2023-03-12T20:05:20.163Z"
   },
   {
    "duration": 14,
    "start_time": "2023-03-12T20:05:20.171Z"
   },
   {
    "duration": 9,
    "start_time": "2023-03-12T20:05:20.187Z"
   },
   {
    "duration": 19,
    "start_time": "2023-03-12T20:05:20.197Z"
   },
   {
    "duration": 96,
    "start_time": "2023-03-12T20:05:20.218Z"
   },
   {
    "duration": 190,
    "start_time": "2023-03-12T20:05:20.315Z"
   },
   {
    "duration": 22,
    "start_time": "2023-03-12T20:05:20.507Z"
   },
   {
    "duration": 42,
    "start_time": "2023-03-12T20:05:20.534Z"
   },
   {
    "duration": 19,
    "start_time": "2023-03-12T20:05:20.578Z"
   },
   {
    "duration": 199,
    "start_time": "2023-03-12T20:05:20.599Z"
   },
   {
    "duration": 129,
    "start_time": "2023-03-12T20:05:20.799Z"
   },
   {
    "duration": 16,
    "start_time": "2023-03-12T20:05:20.930Z"
   },
   {
    "duration": 220,
    "start_time": "2023-03-12T20:05:20.947Z"
   },
   {
    "duration": 22,
    "start_time": "2023-03-12T20:05:21.168Z"
   },
   {
    "duration": 17,
    "start_time": "2023-03-12T20:05:21.192Z"
   },
   {
    "duration": 213,
    "start_time": "2023-03-12T20:05:21.211Z"
   },
   {
    "duration": 17,
    "start_time": "2023-03-12T20:05:21.427Z"
   },
   {
    "duration": 25,
    "start_time": "2023-03-12T20:05:21.446Z"
   },
   {
    "duration": 210,
    "start_time": "2023-03-12T20:05:21.473Z"
   },
   {
    "duration": 18,
    "start_time": "2023-03-12T20:05:21.685Z"
   },
   {
    "duration": 9,
    "start_time": "2023-03-12T20:05:21.704Z"
   },
   {
    "duration": 201,
    "start_time": "2023-03-12T20:05:21.715Z"
   },
   {
    "duration": 20,
    "start_time": "2023-03-12T20:05:21.918Z"
   },
   {
    "duration": 29,
    "start_time": "2023-03-12T20:05:21.940Z"
   },
   {
    "duration": 184,
    "start_time": "2023-03-12T20:05:21.971Z"
   },
   {
    "duration": 15,
    "start_time": "2023-03-12T20:05:22.157Z"
   },
   {
    "duration": 166,
    "start_time": "2023-03-12T20:05:22.173Z"
   },
   {
    "duration": 29,
    "start_time": "2023-03-12T20:05:22.341Z"
   },
   {
    "duration": 16,
    "start_time": "2023-03-12T20:05:22.372Z"
   },
   {
    "duration": 208,
    "start_time": "2023-03-12T20:05:22.390Z"
   },
   {
    "duration": 153,
    "start_time": "2023-03-12T20:05:22.600Z"
   },
   {
    "duration": 17,
    "start_time": "2023-03-12T20:05:22.755Z"
   },
   {
    "duration": 181,
    "start_time": "2023-03-12T20:05:22.773Z"
   },
   {
    "duration": 163,
    "start_time": "2023-03-12T20:05:22.955Z"
   },
   {
    "duration": 261,
    "start_time": "2023-03-12T20:05:23.119Z"
   },
   {
    "duration": 166,
    "start_time": "2023-03-12T20:05:23.382Z"
   },
   {
    "duration": 150,
    "start_time": "2023-03-12T20:05:23.551Z"
   },
   {
    "duration": 215,
    "start_time": "2023-03-12T20:05:23.704Z"
   },
   {
    "duration": 15,
    "start_time": "2023-03-12T20:05:23.921Z"
   },
   {
    "duration": 266,
    "start_time": "2023-03-12T20:05:23.938Z"
   },
   {
    "duration": 95,
    "start_time": "2023-03-12T20:05:24.207Z"
   },
   {
    "duration": 9,
    "start_time": "2023-03-12T20:05:24.303Z"
   },
   {
    "duration": 3,
    "start_time": "2023-03-12T20:05:24.314Z"
   },
   {
    "duration": 50,
    "start_time": "2023-03-12T20:05:24.318Z"
   },
   {
    "duration": 7,
    "start_time": "2023-03-12T20:05:24.370Z"
   },
   {
    "duration": 35,
    "start_time": "2023-03-12T20:05:24.379Z"
   },
   {
    "duration": 23,
    "start_time": "2023-03-12T20:05:24.416Z"
   },
   {
    "duration": 13,
    "start_time": "2023-03-12T20:05:24.441Z"
   },
   {
    "duration": 12,
    "start_time": "2023-03-12T20:05:24.465Z"
   },
   {
    "duration": 348,
    "start_time": "2023-03-12T20:05:24.480Z"
   },
   {
    "duration": 7,
    "start_time": "2023-03-12T20:05:24.830Z"
   },
   {
    "duration": 27,
    "start_time": "2023-03-12T20:05:24.839Z"
   },
   {
    "duration": 34,
    "start_time": "2023-03-12T20:05:24.868Z"
   },
   {
    "duration": 269,
    "start_time": "2023-03-12T20:05:24.903Z"
   },
   {
    "duration": 405,
    "start_time": "2023-03-12T20:05:25.174Z"
   },
   {
    "duration": 266,
    "start_time": "2023-03-12T20:05:25.580Z"
   },
   {
    "duration": 238,
    "start_time": "2023-03-12T20:05:25.848Z"
   },
   {
    "duration": 161,
    "start_time": "2023-03-12T20:05:26.087Z"
   },
   {
    "duration": 148,
    "start_time": "2023-03-12T20:05:26.250Z"
   },
   {
    "duration": 199,
    "start_time": "2023-03-12T20:05:26.399Z"
   },
   {
    "duration": 151,
    "start_time": "2023-03-12T20:05:26.599Z"
   },
   {
    "duration": 172,
    "start_time": "2023-03-12T20:05:26.763Z"
   },
   {
    "duration": 260,
    "start_time": "2023-03-12T20:05:26.937Z"
   },
   {
    "duration": 205,
    "start_time": "2023-03-12T20:05:27.199Z"
   },
   {
    "duration": 259,
    "start_time": "2023-03-12T20:05:27.406Z"
   },
   {
    "duration": 322,
    "start_time": "2023-03-12T20:05:27.667Z"
   },
   {
    "duration": 175,
    "start_time": "2023-03-12T20:05:27.991Z"
   },
   {
    "duration": 276,
    "start_time": "2023-03-12T20:05:28.168Z"
   },
   {
    "duration": 270,
    "start_time": "2023-03-12T20:05:28.446Z"
   },
   {
    "duration": 6,
    "start_time": "2023-03-12T20:05:28.718Z"
   },
   {
    "duration": 84,
    "start_time": "2023-03-12T20:05:28.726Z"
   },
   {
    "duration": 360,
    "start_time": "2023-03-12T20:07:32.806Z"
   },
   {
    "duration": 11,
    "start_time": "2023-03-12T20:10:07.351Z"
   },
   {
    "duration": 405,
    "start_time": "2023-03-12T20:10:43.913Z"
   },
   {
    "duration": 9,
    "start_time": "2023-03-12T20:24:11.289Z"
   },
   {
    "duration": 9,
    "start_time": "2023-03-12T20:26:06.869Z"
   },
   {
    "duration": 11,
    "start_time": "2023-03-12T20:27:26.649Z"
   },
   {
    "duration": 11,
    "start_time": "2023-03-12T20:30:22.849Z"
   },
   {
    "duration": 552,
    "start_time": "2023-03-12T20:36:58.169Z"
   },
   {
    "duration": 681,
    "start_time": "2023-03-12T20:37:49.437Z"
   },
   {
    "duration": 678,
    "start_time": "2023-03-12T20:39:55.995Z"
   },
   {
    "duration": 904,
    "start_time": "2023-03-12T20:40:33.920Z"
   },
   {
    "duration": 28,
    "start_time": "2023-03-12T20:54:21.490Z"
   },
   {
    "duration": 29,
    "start_time": "2023-03-12T20:54:27.902Z"
   },
   {
    "duration": 31,
    "start_time": "2023-03-12T20:54:48.007Z"
   },
   {
    "duration": 31,
    "start_time": "2023-03-12T20:55:40.076Z"
   },
   {
    "duration": 36,
    "start_time": "2023-03-12T20:56:15.070Z"
   },
   {
    "duration": 30,
    "start_time": "2023-03-12T20:56:19.820Z"
   },
   {
    "duration": 30,
    "start_time": "2023-03-12T20:56:38.496Z"
   },
   {
    "duration": 27,
    "start_time": "2023-03-12T20:57:27.542Z"
   },
   {
    "duration": 16,
    "start_time": "2023-03-12T20:58:07.987Z"
   },
   {
    "duration": 28,
    "start_time": "2023-03-12T20:58:11.126Z"
   },
   {
    "duration": 316,
    "start_time": "2023-03-12T21:04:38.575Z"
   },
   {
    "duration": 549,
    "start_time": "2023-03-12T21:53:19.724Z"
   },
   {
    "duration": 27,
    "start_time": "2023-03-12T21:53:20.275Z"
   },
   {
    "duration": 6,
    "start_time": "2023-03-12T21:53:20.304Z"
   },
   {
    "duration": 19,
    "start_time": "2023-03-12T21:53:20.312Z"
   },
   {
    "duration": 41,
    "start_time": "2023-03-12T21:53:20.332Z"
   },
   {
    "duration": 2823,
    "start_time": "2023-03-12T21:53:20.376Z"
   },
   {
    "duration": 11,
    "start_time": "2023-03-12T21:53:23.201Z"
   },
   {
    "duration": 7,
    "start_time": "2023-03-12T21:53:23.214Z"
   },
   {
    "duration": 8,
    "start_time": "2023-03-12T21:53:23.224Z"
   },
   {
    "duration": 8,
    "start_time": "2023-03-12T21:53:23.256Z"
   },
   {
    "duration": 11,
    "start_time": "2023-03-12T21:53:23.266Z"
   },
   {
    "duration": 11,
    "start_time": "2023-03-12T21:53:23.279Z"
   },
   {
    "duration": 7,
    "start_time": "2023-03-12T21:53:23.292Z"
   },
   {
    "duration": 4,
    "start_time": "2023-03-12T21:53:23.301Z"
   },
   {
    "duration": 9,
    "start_time": "2023-03-12T21:53:23.307Z"
   },
   {
    "duration": 51,
    "start_time": "2023-03-12T21:53:23.318Z"
   },
   {
    "duration": 10,
    "start_time": "2023-03-12T21:53:23.371Z"
   },
   {
    "duration": 37,
    "start_time": "2023-03-12T21:53:23.383Z"
   },
   {
    "duration": 87,
    "start_time": "2023-03-12T21:53:23.423Z"
   },
   {
    "duration": 15,
    "start_time": "2023-03-12T21:53:23.511Z"
   },
   {
    "duration": 7,
    "start_time": "2023-03-12T21:53:23.528Z"
   },
   {
    "duration": 37,
    "start_time": "2023-03-12T21:53:23.537Z"
   },
   {
    "duration": 6,
    "start_time": "2023-03-12T21:53:23.576Z"
   },
   {
    "duration": 15,
    "start_time": "2023-03-12T21:53:23.583Z"
   },
   {
    "duration": 105,
    "start_time": "2023-03-12T21:53:23.600Z"
   },
   {
    "duration": 186,
    "start_time": "2023-03-12T21:53:23.707Z"
   },
   {
    "duration": 27,
    "start_time": "2023-03-12T21:53:23.895Z"
   },
   {
    "duration": 37,
    "start_time": "2023-03-12T21:53:23.929Z"
   },
   {
    "duration": 28,
    "start_time": "2023-03-12T21:53:23.967Z"
   },
   {
    "duration": 274,
    "start_time": "2023-03-12T21:53:23.998Z"
   },
   {
    "duration": 124,
    "start_time": "2023-03-12T21:53:24.274Z"
   },
   {
    "duration": 18,
    "start_time": "2023-03-12T21:53:24.399Z"
   },
   {
    "duration": 257,
    "start_time": "2023-03-12T21:53:24.418Z"
   },
   {
    "duration": 23,
    "start_time": "2023-03-12T21:53:24.677Z"
   },
   {
    "duration": 16,
    "start_time": "2023-03-12T21:53:24.701Z"
   },
   {
    "duration": 220,
    "start_time": "2023-03-12T21:53:24.719Z"
   },
   {
    "duration": 30,
    "start_time": "2023-03-12T21:53:24.941Z"
   },
   {
    "duration": 15,
    "start_time": "2023-03-12T21:53:24.972Z"
   },
   {
    "duration": 248,
    "start_time": "2023-03-12T21:53:24.989Z"
   },
   {
    "duration": 34,
    "start_time": "2023-03-12T21:53:25.239Z"
   },
   {
    "duration": 10,
    "start_time": "2023-03-12T21:53:25.274Z"
   },
   {
    "duration": 219,
    "start_time": "2023-03-12T21:53:25.286Z"
   },
   {
    "duration": 22,
    "start_time": "2023-03-12T21:53:25.508Z"
   },
   {
    "duration": 49,
    "start_time": "2023-03-12T21:53:25.532Z"
   },
   {
    "duration": 196,
    "start_time": "2023-03-12T21:53:25.583Z"
   },
   {
    "duration": 14,
    "start_time": "2023-03-12T21:53:25.781Z"
   },
   {
    "duration": 183,
    "start_time": "2023-03-12T21:53:25.797Z"
   },
   {
    "duration": 24,
    "start_time": "2023-03-12T21:53:25.982Z"
   },
   {
    "duration": 22,
    "start_time": "2023-03-12T21:53:26.008Z"
   },
   {
    "duration": 236,
    "start_time": "2023-03-12T21:53:26.032Z"
   },
   {
    "duration": 178,
    "start_time": "2023-03-12T21:53:26.272Z"
   },
   {
    "duration": 21,
    "start_time": "2023-03-12T21:53:26.452Z"
   },
   {
    "duration": 230,
    "start_time": "2023-03-12T21:53:26.475Z"
   },
   {
    "duration": 171,
    "start_time": "2023-03-12T21:53:26.707Z"
   },
   {
    "duration": 264,
    "start_time": "2023-03-12T21:53:26.880Z"
   },
   {
    "duration": 187,
    "start_time": "2023-03-12T21:53:27.146Z"
   },
   {
    "duration": 167,
    "start_time": "2023-03-12T21:53:27.336Z"
   },
   {
    "duration": 237,
    "start_time": "2023-03-12T21:53:27.504Z"
   },
   {
    "duration": 32,
    "start_time": "2023-03-12T21:53:27.743Z"
   },
   {
    "duration": 269,
    "start_time": "2023-03-12T21:53:27.776Z"
   },
   {
    "duration": 98,
    "start_time": "2023-03-12T21:53:28.047Z"
   },
   {
    "duration": 24,
    "start_time": "2023-03-12T21:53:28.147Z"
   },
   {
    "duration": 5,
    "start_time": "2023-03-12T21:53:28.172Z"
   },
   {
    "duration": 31,
    "start_time": "2023-03-12T21:53:28.179Z"
   },
   {
    "duration": 21,
    "start_time": "2023-03-12T21:53:28.212Z"
   },
   {
    "duration": 55,
    "start_time": "2023-03-12T21:53:28.235Z"
   },
   {
    "duration": 9,
    "start_time": "2023-03-12T21:53:28.292Z"
   },
   {
    "duration": 8,
    "start_time": "2023-03-12T21:53:28.303Z"
   },
   {
    "duration": 10,
    "start_time": "2023-03-12T21:53:28.312Z"
   },
   {
    "duration": 367,
    "start_time": "2023-03-12T21:53:28.324Z"
   },
   {
    "duration": 10,
    "start_time": "2023-03-12T21:53:28.693Z"
   },
   {
    "duration": 20,
    "start_time": "2023-03-12T21:53:28.705Z"
   },
   {
    "duration": 72,
    "start_time": "2023-03-12T21:53:28.727Z"
   },
   {
    "duration": 269,
    "start_time": "2023-03-12T21:53:28.801Z"
   },
   {
    "duration": 406,
    "start_time": "2023-03-12T21:53:29.072Z"
   },
   {
    "duration": 297,
    "start_time": "2023-03-12T21:53:29.480Z"
   },
   {
    "duration": 241,
    "start_time": "2023-03-12T21:53:29.779Z"
   },
   {
    "duration": 202,
    "start_time": "2023-03-12T21:53:30.023Z"
   },
   {
    "duration": 195,
    "start_time": "2023-03-12T21:53:30.228Z"
   },
   {
    "duration": 256,
    "start_time": "2023-03-12T21:53:30.426Z"
   },
   {
    "duration": 168,
    "start_time": "2023-03-12T21:53:30.684Z"
   },
   {
    "duration": 170,
    "start_time": "2023-03-12T21:53:30.858Z"
   },
   {
    "duration": 282,
    "start_time": "2023-03-12T21:53:31.030Z"
   },
   {
    "duration": 262,
    "start_time": "2023-03-12T21:53:31.314Z"
   },
   {
    "duration": 292,
    "start_time": "2023-03-12T21:53:31.579Z"
   },
   {
    "duration": 327,
    "start_time": "2023-03-12T21:53:31.872Z"
   },
   {
    "duration": 191,
    "start_time": "2023-03-12T21:53:32.201Z"
   },
   {
    "duration": 342,
    "start_time": "2023-03-12T21:53:32.399Z"
   },
   {
    "duration": 361,
    "start_time": "2023-03-12T21:53:32.743Z"
   },
   {
    "duration": 6,
    "start_time": "2023-03-12T21:53:33.106Z"
   },
   {
    "duration": 17,
    "start_time": "2023-03-12T21:53:33.113Z"
   },
   {
    "duration": 1056,
    "start_time": "2023-03-12T21:53:33.133Z"
   },
   {
    "duration": 43,
    "start_time": "2023-03-12T21:53:34.191Z"
   },
   {
    "duration": 423,
    "start_time": "2023-03-12T21:53:34.237Z"
   },
   {
    "duration": 28,
    "start_time": "2023-03-12T21:55:09.034Z"
   },
   {
    "duration": 100,
    "start_time": "2023-03-12T21:55:27.522Z"
   },
   {
    "duration": 34,
    "start_time": "2023-03-12T21:57:33.157Z"
   },
   {
    "duration": 28,
    "start_time": "2023-03-12T21:57:40.516Z"
   },
   {
    "duration": 191,
    "start_time": "2023-03-12T21:58:16.449Z"
   },
   {
    "duration": 331,
    "start_time": "2023-03-12T21:58:19.306Z"
   },
   {
    "duration": 294,
    "start_time": "2023-03-12T21:58:21.675Z"
   },
   {
    "duration": 48,
    "start_time": "2023-03-14T15:37:19.211Z"
   },
   {
    "duration": 6,
    "start_time": "2023-03-14T15:37:27.143Z"
   },
   {
    "duration": 10,
    "start_time": "2023-03-14T15:37:36.799Z"
   },
   {
    "duration": 11,
    "start_time": "2023-03-14T15:38:01.909Z"
   },
   {
    "duration": 6,
    "start_time": "2023-03-14T15:38:40.207Z"
   },
   {
    "duration": 687,
    "start_time": "2023-03-14T15:39:23.430Z"
   },
   {
    "duration": 23,
    "start_time": "2023-03-14T15:39:24.121Z"
   },
   {
    "duration": 16,
    "start_time": "2023-03-14T15:39:24.146Z"
   },
   {
    "duration": 78,
    "start_time": "2023-03-14T15:39:24.164Z"
   },
   {
    "duration": 18,
    "start_time": "2023-03-14T15:39:24.245Z"
   },
   {
    "duration": 3396,
    "start_time": "2023-03-14T15:39:24.265Z"
   },
   {
    "duration": 15,
    "start_time": "2023-03-14T15:39:27.663Z"
   },
   {
    "duration": 39,
    "start_time": "2023-03-14T15:39:27.683Z"
   },
   {
    "duration": 7,
    "start_time": "2023-03-14T15:39:27.724Z"
   },
   {
    "duration": 9,
    "start_time": "2023-03-14T15:39:27.732Z"
   },
   {
    "duration": 8,
    "start_time": "2023-03-14T15:39:27.743Z"
   },
   {
    "duration": 14,
    "start_time": "2023-03-14T15:39:27.753Z"
   },
   {
    "duration": 13,
    "start_time": "2023-03-14T15:39:27.774Z"
   },
   {
    "duration": 35,
    "start_time": "2023-03-14T15:39:27.795Z"
   },
   {
    "duration": 11,
    "start_time": "2023-03-14T15:39:27.832Z"
   },
   {
    "duration": 21,
    "start_time": "2023-03-14T15:39:27.845Z"
   },
   {
    "duration": 19,
    "start_time": "2023-03-14T15:39:27.868Z"
   },
   {
    "duration": 57,
    "start_time": "2023-03-14T15:39:27.889Z"
   },
   {
    "duration": 76,
    "start_time": "2023-03-14T15:39:27.948Z"
   },
   {
    "duration": 19,
    "start_time": "2023-03-14T15:39:28.028Z"
   },
   {
    "duration": 6,
    "start_time": "2023-03-14T15:39:28.049Z"
   },
   {
    "duration": 32,
    "start_time": "2023-03-14T15:39:28.057Z"
   },
   {
    "duration": 39,
    "start_time": "2023-03-14T15:39:28.090Z"
   },
   {
    "duration": 22,
    "start_time": "2023-03-14T15:39:28.132Z"
   },
   {
    "duration": 107,
    "start_time": "2023-03-14T15:39:28.156Z"
   },
   {
    "duration": 213,
    "start_time": "2023-03-14T15:39:28.264Z"
   },
   {
    "duration": 118,
    "start_time": "2023-03-14T15:39:28.478Z"
   },
   {
    "duration": 57,
    "start_time": "2023-03-14T15:39:28.598Z"
   },
   {
    "duration": 24,
    "start_time": "2023-03-14T15:39:28.657Z"
   },
   {
    "duration": 235,
    "start_time": "2023-03-14T15:39:28.682Z"
   },
   {
    "duration": 52,
    "start_time": "2023-03-14T15:39:28.923Z"
   },
   {
    "duration": 18,
    "start_time": "2023-03-14T15:39:28.978Z"
   },
   {
    "duration": 278,
    "start_time": "2023-03-14T15:39:28.998Z"
   },
   {
    "duration": 25,
    "start_time": "2023-03-14T15:39:29.278Z"
   },
   {
    "duration": 42,
    "start_time": "2023-03-14T15:39:29.304Z"
   },
   {
    "duration": 283,
    "start_time": "2023-03-14T15:39:29.348Z"
   },
   {
    "duration": 69,
    "start_time": "2023-03-14T15:39:29.633Z"
   },
   {
    "duration": 30,
    "start_time": "2023-03-14T15:39:29.704Z"
   },
   {
    "duration": 249,
    "start_time": "2023-03-14T15:39:29.736Z"
   },
   {
    "duration": 23,
    "start_time": "2023-03-14T15:39:29.987Z"
   },
   {
    "duration": 23,
    "start_time": "2023-03-14T15:39:30.016Z"
   },
   {
    "duration": 223,
    "start_time": "2023-03-14T15:39:30.041Z"
   },
   {
    "duration": 24,
    "start_time": "2023-03-14T15:39:30.283Z"
   },
   {
    "duration": 48,
    "start_time": "2023-03-14T15:39:30.308Z"
   },
   {
    "duration": 241,
    "start_time": "2023-03-14T15:39:30.357Z"
   },
   {
    "duration": 17,
    "start_time": "2023-03-14T15:39:30.602Z"
   },
   {
    "duration": 208,
    "start_time": "2023-03-14T15:39:30.621Z"
   },
   {
    "duration": 20,
    "start_time": "2023-03-14T15:39:30.831Z"
   },
   {
    "duration": 96,
    "start_time": "2023-03-14T15:39:30.852Z"
   },
   {
    "duration": 327,
    "start_time": "2023-03-14T15:39:30.950Z"
   },
   {
    "duration": 174,
    "start_time": "2023-03-14T15:39:31.284Z"
   },
   {
    "duration": 28,
    "start_time": "2023-03-14T15:39:31.460Z"
   },
   {
    "duration": 333,
    "start_time": "2023-03-14T15:39:31.490Z"
   },
   {
    "duration": 171,
    "start_time": "2023-03-14T15:39:31.825Z"
   },
   {
    "duration": 148,
    "start_time": "2023-03-14T15:39:31.998Z"
   },
   {
    "duration": 176,
    "start_time": "2023-03-14T15:39:32.147Z"
   },
   {
    "duration": 155,
    "start_time": "2023-03-14T15:39:32.325Z"
   },
   {
    "duration": 213,
    "start_time": "2023-03-14T15:39:32.482Z"
   },
   {
    "duration": 18,
    "start_time": "2023-03-14T15:39:32.696Z"
   },
   {
    "duration": 291,
    "start_time": "2023-03-14T15:39:32.716Z"
   },
   {
    "duration": 89,
    "start_time": "2023-03-14T15:39:33.011Z"
   },
   {
    "duration": 10,
    "start_time": "2023-03-14T15:39:33.101Z"
   },
   {
    "duration": 21,
    "start_time": "2023-03-14T15:39:33.113Z"
   },
   {
    "duration": 58,
    "start_time": "2023-03-14T15:39:33.136Z"
   },
   {
    "duration": 47,
    "start_time": "2023-03-14T15:39:33.202Z"
   },
   {
    "duration": 8,
    "start_time": "2023-03-14T15:39:33.251Z"
   },
   {
    "duration": 73,
    "start_time": "2023-03-14T15:39:33.261Z"
   },
   {
    "duration": 26,
    "start_time": "2023-03-14T15:39:33.336Z"
   },
   {
    "duration": 58,
    "start_time": "2023-03-14T15:39:33.363Z"
   },
   {
    "duration": 18,
    "start_time": "2023-03-14T15:39:33.422Z"
   },
   {
    "duration": 328,
    "start_time": "2023-03-14T15:39:33.441Z"
   },
   {
    "duration": 16,
    "start_time": "2023-03-14T15:39:33.774Z"
   },
   {
    "duration": 64,
    "start_time": "2023-03-14T15:39:33.792Z"
   },
   {
    "duration": 52,
    "start_time": "2023-03-14T15:39:33.858Z"
   },
   {
    "duration": 429,
    "start_time": "2023-03-14T15:39:33.912Z"
   },
   {
    "duration": 303,
    "start_time": "2023-03-14T15:39:34.343Z"
   },
   {
    "duration": 283,
    "start_time": "2023-03-14T15:39:34.648Z"
   },
   {
    "duration": 229,
    "start_time": "2023-03-14T15:39:34.933Z"
   },
   {
    "duration": 192,
    "start_time": "2023-03-14T15:39:35.171Z"
   },
   {
    "duration": 187,
    "start_time": "2023-03-14T15:39:35.366Z"
   },
   {
    "duration": 207,
    "start_time": "2023-03-14T15:39:35.555Z"
   },
   {
    "duration": 162,
    "start_time": "2023-03-14T15:39:35.768Z"
   },
   {
    "duration": 194,
    "start_time": "2023-03-14T15:39:35.932Z"
   },
   {
    "duration": 282,
    "start_time": "2023-03-14T15:39:36.128Z"
   },
   {
    "duration": 219,
    "start_time": "2023-03-14T15:39:36.411Z"
   },
   {
    "duration": 411,
    "start_time": "2023-03-14T15:39:36.632Z"
   },
   {
    "duration": 169,
    "start_time": "2023-03-14T15:39:37.045Z"
   },
   {
    "duration": 166,
    "start_time": "2023-03-14T15:39:37.216Z"
   },
   {
    "duration": 282,
    "start_time": "2023-03-14T15:39:37.383Z"
   },
   {
    "duration": 293,
    "start_time": "2023-03-14T15:39:37.669Z"
   },
   {
    "duration": 8,
    "start_time": "2023-03-14T15:39:37.969Z"
   },
   {
    "duration": 44,
    "start_time": "2023-03-14T15:39:37.981Z"
   },
   {
    "duration": 926,
    "start_time": "2023-03-14T15:39:38.027Z"
   },
   {
    "duration": 59,
    "start_time": "2023-03-14T15:39:38.955Z"
   },
   {
    "duration": 333,
    "start_time": "2023-03-14T15:39:39.017Z"
   },
   {
    "duration": 38,
    "start_time": "2023-03-14T15:40:08.458Z"
   },
   {
    "duration": 5,
    "start_time": "2023-03-14T15:40:32.948Z"
   },
   {
    "duration": 12,
    "start_time": "2023-03-14T15:41:13.008Z"
   },
   {
    "duration": 6,
    "start_time": "2023-03-14T15:45:36.096Z"
   },
   {
    "duration": 10,
    "start_time": "2023-03-14T15:46:32.597Z"
   },
   {
    "duration": 6,
    "start_time": "2023-03-14T15:47:46.953Z"
   },
   {
    "duration": 6,
    "start_time": "2023-03-14T15:48:35.660Z"
   },
   {
    "duration": 13,
    "start_time": "2023-03-14T15:49:15.396Z"
   },
   {
    "duration": 7,
    "start_time": "2023-03-14T15:53:18.112Z"
   },
   {
    "duration": 7,
    "start_time": "2023-03-14T15:54:41.597Z"
   },
   {
    "duration": 6,
    "start_time": "2023-03-14T15:56:44.500Z"
   },
   {
    "duration": 7,
    "start_time": "2023-03-14T15:57:25.847Z"
   },
   {
    "duration": 6,
    "start_time": "2023-03-14T15:57:40.698Z"
   },
   {
    "duration": 6,
    "start_time": "2023-03-14T15:58:12.899Z"
   },
   {
    "duration": 9,
    "start_time": "2023-03-14T15:58:46.338Z"
   },
   {
    "duration": 7,
    "start_time": "2023-03-14T15:59:17.296Z"
   },
   {
    "duration": 8,
    "start_time": "2023-03-14T16:00:14.206Z"
   },
   {
    "duration": 7,
    "start_time": "2023-03-14T16:00:42.306Z"
   },
   {
    "duration": 8,
    "start_time": "2023-03-14T16:01:25.042Z"
   },
   {
    "duration": 6,
    "start_time": "2023-03-14T16:02:00.205Z"
   },
   {
    "duration": 81,
    "start_time": "2023-03-14T16:02:37.174Z"
   },
   {
    "duration": 7,
    "start_time": "2023-03-14T16:02:40.610Z"
   },
   {
    "duration": 7,
    "start_time": "2023-03-14T16:03:14.556Z"
   },
   {
    "duration": 10,
    "start_time": "2023-03-14T16:03:25.961Z"
   },
   {
    "duration": 28,
    "start_time": "2023-03-14T16:04:25.305Z"
   },
   {
    "duration": 6,
    "start_time": "2023-03-14T16:05:19.801Z"
   },
   {
    "duration": 9,
    "start_time": "2023-03-14T16:05:43.924Z"
   },
   {
    "duration": 7,
    "start_time": "2023-03-14T16:06:01.204Z"
   },
   {
    "duration": 24,
    "start_time": "2023-03-14T16:06:32.511Z"
   },
   {
    "duration": 7,
    "start_time": "2023-03-14T16:06:36.795Z"
   },
   {
    "duration": 41,
    "start_time": "2023-03-14T16:06:47.698Z"
   },
   {
    "duration": 7,
    "start_time": "2023-03-14T16:06:52.130Z"
   },
   {
    "duration": 8,
    "start_time": "2023-03-14T16:07:22.013Z"
   },
   {
    "duration": 84,
    "start_time": "2023-03-14T16:08:41.749Z"
   },
   {
    "duration": 25,
    "start_time": "2023-03-14T16:08:49.505Z"
   },
   {
    "duration": 9,
    "start_time": "2023-03-14T16:27:18.016Z"
   },
   {
    "duration": 56,
    "start_time": "2023-03-14T16:28:27.698Z"
   },
   {
    "duration": 9,
    "start_time": "2023-03-14T16:28:37.128Z"
   },
   {
    "duration": 286,
    "start_time": "2023-03-14T16:33:54.518Z"
   },
   {
    "duration": 11,
    "start_time": "2023-03-14T16:37:26.114Z"
   },
   {
    "duration": 141,
    "start_time": "2023-03-14T16:40:11.753Z"
   },
   {
    "duration": 133,
    "start_time": "2023-03-14T16:40:20.512Z"
   },
   {
    "duration": 28,
    "start_time": "2023-03-14T16:46:08.106Z"
   },
   {
    "duration": 17,
    "start_time": "2023-03-14T16:49:17.139Z"
   },
   {
    "duration": 16,
    "start_time": "2023-03-14T16:49:24.523Z"
   },
   {
    "duration": 17,
    "start_time": "2023-03-14T16:49:33.595Z"
   },
   {
    "duration": 12,
    "start_time": "2023-03-14T16:51:53.851Z"
   },
   {
    "duration": 1019,
    "start_time": "2023-03-14T16:52:45.121Z"
   },
   {
    "duration": 7443,
    "start_time": "2023-03-14T16:53:15.685Z"
   },
   {
    "duration": 10,
    "start_time": "2023-03-14T16:56:13.752Z"
   },
   {
    "duration": 47,
    "start_time": "2023-03-14T19:29:19.973Z"
   },
   {
    "duration": 10,
    "start_time": "2023-03-14T19:29:43.617Z"
   },
   {
    "duration": 52,
    "start_time": "2023-03-14T19:31:36.005Z"
   },
   {
    "duration": 40,
    "start_time": "2023-03-14T19:31:47.488Z"
   },
   {
    "duration": 60,
    "start_time": "2023-03-14T19:32:26.520Z"
   },
   {
    "duration": 47,
    "start_time": "2023-03-14T19:34:19.290Z"
   },
   {
    "duration": 8,
    "start_time": "2023-03-14T19:34:31.037Z"
   },
   {
    "duration": 8,
    "start_time": "2023-03-14T19:34:42.404Z"
   },
   {
    "duration": 5,
    "start_time": "2023-03-14T19:35:21.748Z"
   },
   {
    "duration": 598,
    "start_time": "2023-03-14T19:35:36.291Z"
   },
   {
    "duration": 18,
    "start_time": "2023-03-14T19:35:36.891Z"
   },
   {
    "duration": 3,
    "start_time": "2023-03-14T19:35:36.910Z"
   },
   {
    "duration": 26,
    "start_time": "2023-03-14T19:35:36.915Z"
   },
   {
    "duration": 13,
    "start_time": "2023-03-14T19:35:36.943Z"
   },
   {
    "duration": 3332,
    "start_time": "2023-03-14T19:35:36.957Z"
   },
   {
    "duration": 15,
    "start_time": "2023-03-14T19:35:40.291Z"
   },
   {
    "duration": 6,
    "start_time": "2023-03-14T19:35:40.308Z"
   },
   {
    "duration": 7,
    "start_time": "2023-03-14T19:35:40.316Z"
   },
   {
    "duration": 10,
    "start_time": "2023-03-14T19:35:40.324Z"
   },
   {
    "duration": 10,
    "start_time": "2023-03-14T19:35:40.336Z"
   },
   {
    "duration": 18,
    "start_time": "2023-03-14T19:35:40.348Z"
   },
   {
    "duration": 6,
    "start_time": "2023-03-14T19:35:40.368Z"
   },
   {
    "duration": 4,
    "start_time": "2023-03-14T19:35:40.377Z"
   },
   {
    "duration": 8,
    "start_time": "2023-03-14T19:35:40.382Z"
   },
   {
    "duration": 37,
    "start_time": "2023-03-14T19:35:40.392Z"
   },
   {
    "duration": 12,
    "start_time": "2023-03-14T19:35:40.432Z"
   },
   {
    "duration": 16,
    "start_time": "2023-03-14T19:35:40.446Z"
   },
   {
    "duration": 41,
    "start_time": "2023-03-14T19:35:40.464Z"
   },
   {
    "duration": 65,
    "start_time": "2023-03-14T19:35:40.507Z"
   },
   {
    "duration": 10,
    "start_time": "2023-03-14T19:35:40.573Z"
   },
   {
    "duration": 42,
    "start_time": "2023-03-14T19:35:40.585Z"
   },
   {
    "duration": 12,
    "start_time": "2023-03-14T19:35:40.628Z"
   },
   {
    "duration": 10,
    "start_time": "2023-03-14T19:35:40.642Z"
   },
   {
    "duration": 18,
    "start_time": "2023-03-14T19:35:40.654Z"
   },
   {
    "duration": 19,
    "start_time": "2023-03-14T19:35:40.674Z"
   },
   {
    "duration": 28,
    "start_time": "2023-03-14T19:35:40.695Z"
   },
   {
    "duration": 37,
    "start_time": "2023-03-14T19:35:40.725Z"
   },
   {
    "duration": 23,
    "start_time": "2023-03-14T19:35:40.764Z"
   },
   {
    "duration": 18,
    "start_time": "2023-03-14T19:35:40.789Z"
   },
   {
    "duration": 90,
    "start_time": "2023-03-14T19:35:40.809Z"
   },
   {
    "duration": 198,
    "start_time": "2023-03-14T19:35:40.901Z"
   },
   {
    "duration": 129,
    "start_time": "2023-03-14T19:35:41.100Z"
   },
   {
    "duration": 18,
    "start_time": "2023-03-14T19:35:41.230Z"
   },
   {
    "duration": 8,
    "start_time": "2023-03-14T19:35:41.250Z"
   },
   {
    "duration": 32,
    "start_time": "2023-03-14T19:35:41.260Z"
   },
   {
    "duration": 193,
    "start_time": "2023-03-14T19:35:41.294Z"
   },
   {
    "duration": 38,
    "start_time": "2023-03-14T19:35:41.489Z"
   },
   {
    "duration": 19,
    "start_time": "2023-03-14T19:35:41.529Z"
   },
   {
    "duration": 231,
    "start_time": "2023-03-14T19:35:41.550Z"
   },
   {
    "duration": 6,
    "start_time": "2023-03-14T19:35:41.788Z"
   },
   {
    "duration": 37,
    "start_time": "2023-03-14T19:35:41.796Z"
   },
   {
    "duration": 17,
    "start_time": "2023-03-14T19:35:41.835Z"
   },
   {
    "duration": 215,
    "start_time": "2023-03-14T19:35:41.854Z"
   },
   {
    "duration": 11,
    "start_time": "2023-03-14T19:35:42.071Z"
   },
   {
    "duration": 49,
    "start_time": "2023-03-14T19:35:42.084Z"
   },
   {
    "duration": 15,
    "start_time": "2023-03-14T19:35:42.137Z"
   },
   {
    "duration": 241,
    "start_time": "2023-03-14T19:35:42.154Z"
   },
   {
    "duration": 6,
    "start_time": "2023-03-14T19:35:42.398Z"
   },
   {
    "duration": 32,
    "start_time": "2023-03-14T19:35:42.406Z"
   },
   {
    "duration": 11,
    "start_time": "2023-03-14T19:35:42.440Z"
   },
   {
    "duration": 224,
    "start_time": "2023-03-14T19:35:42.453Z"
   },
   {
    "duration": 7,
    "start_time": "2023-03-14T19:35:42.679Z"
   },
   {
    "duration": 21,
    "start_time": "2023-03-14T19:35:42.688Z"
   },
   {
    "duration": 35,
    "start_time": "2023-03-14T19:35:42.710Z"
   },
   {
    "duration": 196,
    "start_time": "2023-03-14T19:35:42.747Z"
   },
   {
    "duration": 8,
    "start_time": "2023-03-14T19:35:42.945Z"
   },
   {
    "duration": 10,
    "start_time": "2023-03-14T19:35:42.955Z"
   },
   {
    "duration": 180,
    "start_time": "2023-03-14T19:35:42.967Z"
   },
   {
    "duration": 6,
    "start_time": "2023-03-14T19:35:43.149Z"
   },
   {
    "duration": 20,
    "start_time": "2023-03-14T19:35:43.157Z"
   },
   {
    "duration": 24,
    "start_time": "2023-03-14T19:35:43.178Z"
   },
   {
    "duration": 239,
    "start_time": "2023-03-14T19:35:43.204Z"
   },
   {
    "duration": 8,
    "start_time": "2023-03-14T19:35:43.444Z"
   },
   {
    "duration": 293,
    "start_time": "2023-03-14T19:35:43.453Z"
   },
   {
    "duration": 14,
    "start_time": "2023-03-14T19:35:43.747Z"
   },
   {
    "duration": 268,
    "start_time": "2023-03-14T19:35:43.762Z"
   },
   {
    "duration": 12,
    "start_time": "2023-03-14T19:35:44.036Z"
   },
   {
    "duration": 168,
    "start_time": "2023-03-14T19:35:44.050Z"
   },
   {
    "duration": 19,
    "start_time": "2023-03-14T19:35:44.219Z"
   },
   {
    "duration": 177,
    "start_time": "2023-03-14T19:35:44.240Z"
   },
   {
    "duration": 23,
    "start_time": "2023-03-14T19:35:44.418Z"
   },
   {
    "duration": 189,
    "start_time": "2023-03-14T19:35:44.443Z"
   },
   {
    "duration": 9,
    "start_time": "2023-03-14T19:35:44.640Z"
   },
   {
    "duration": 160,
    "start_time": "2023-03-14T19:35:44.651Z"
   },
   {
    "duration": 25,
    "start_time": "2023-03-14T19:35:44.813Z"
   },
   {
    "duration": 222,
    "start_time": "2023-03-14T19:35:44.840Z"
   },
   {
    "duration": 10,
    "start_time": "2023-03-14T19:35:45.064Z"
   },
   {
    "duration": 21,
    "start_time": "2023-03-14T19:35:45.076Z"
   },
   {
    "duration": 320,
    "start_time": "2023-03-14T19:35:45.099Z"
   },
   {
    "duration": 16,
    "start_time": "2023-03-14T19:35:45.423Z"
   },
   {
    "duration": 131,
    "start_time": "2023-03-14T19:35:45.441Z"
   },
   {
    "duration": 10,
    "start_time": "2023-03-14T19:35:45.574Z"
   },
   {
    "duration": 2,
    "start_time": "2023-03-14T19:35:45.586Z"
   },
   {
    "duration": 62,
    "start_time": "2023-03-14T19:35:45.590Z"
   },
   {
    "duration": 25,
    "start_time": "2023-03-14T19:35:45.654Z"
   },
   {
    "duration": 7,
    "start_time": "2023-03-14T19:35:45.680Z"
   },
   {
    "duration": 56,
    "start_time": "2023-03-14T19:35:45.688Z"
   },
   {
    "duration": 9,
    "start_time": "2023-03-14T19:35:45.748Z"
   },
   {
    "duration": 9,
    "start_time": "2023-03-14T19:35:45.759Z"
   },
   {
    "duration": 28,
    "start_time": "2023-03-14T19:35:45.770Z"
   },
   {
    "duration": 319,
    "start_time": "2023-03-14T19:35:45.800Z"
   },
   {
    "duration": 16,
    "start_time": "2023-03-14T19:35:46.124Z"
   },
   {
    "duration": 34,
    "start_time": "2023-03-14T19:35:46.142Z"
   },
   {
    "duration": 36,
    "start_time": "2023-03-14T19:35:46.178Z"
   },
   {
    "duration": 442,
    "start_time": "2023-03-14T19:35:46.215Z"
   },
   {
    "duration": 315,
    "start_time": "2023-03-14T19:35:46.659Z"
   },
   {
    "duration": 302,
    "start_time": "2023-03-14T19:35:46.976Z"
   },
   {
    "duration": 241,
    "start_time": "2023-03-14T19:35:47.280Z"
   },
   {
    "duration": 170,
    "start_time": "2023-03-14T19:35:47.524Z"
   },
   {
    "duration": 166,
    "start_time": "2023-03-14T19:35:47.696Z"
   },
   {
    "duration": 219,
    "start_time": "2023-03-14T19:35:47.863Z"
   },
   {
    "duration": 156,
    "start_time": "2023-03-14T19:35:48.084Z"
   },
   {
    "duration": 195,
    "start_time": "2023-03-14T19:35:48.242Z"
   },
   {
    "duration": 270,
    "start_time": "2023-03-14T19:35:48.439Z"
   },
   {
    "duration": 242,
    "start_time": "2023-03-14T19:35:48.711Z"
   },
   {
    "duration": 554,
    "start_time": "2023-03-14T19:35:48.955Z"
   },
   {
    "duration": 195,
    "start_time": "2023-03-14T19:35:49.510Z"
   },
   {
    "duration": 174,
    "start_time": "2023-03-14T19:35:49.707Z"
   },
   {
    "duration": 278,
    "start_time": "2023-03-14T19:35:49.883Z"
   },
   {
    "duration": 303,
    "start_time": "2023-03-14T19:35:50.163Z"
   },
   {
    "duration": 6,
    "start_time": "2023-03-14T19:35:50.468Z"
   },
   {
    "duration": 15,
    "start_time": "2023-03-14T19:35:50.476Z"
   },
   {
    "duration": 147,
    "start_time": "2023-03-14T19:35:50.493Z"
   },
   {
    "duration": 859,
    "start_time": "2023-03-14T19:35:50.641Z"
   },
   {
    "duration": 43,
    "start_time": "2023-03-14T19:35:51.503Z"
   },
   {
    "duration": 7214,
    "start_time": "2023-03-14T19:35:51.548Z"
   },
   {
    "duration": 386,
    "start_time": "2023-03-14T19:35:58.764Z"
   },
   {
    "duration": 770,
    "start_time": "2023-03-14T19:36:47.832Z"
   },
   {
    "duration": 725,
    "start_time": "2023-03-14T19:37:07.867Z"
   },
   {
    "duration": 732,
    "start_time": "2023-03-14T19:37:24.390Z"
   },
   {
    "duration": 1066,
    "start_time": "2023-03-14T19:39:34.023Z"
   },
   {
    "duration": 1702,
    "start_time": "2023-03-14T19:40:10.775Z"
   },
   {
    "duration": 490,
    "start_time": "2023-03-14T19:55:52.368Z"
   },
   {
    "duration": 24,
    "start_time": "2023-03-14T19:55:52.860Z"
   },
   {
    "duration": 6,
    "start_time": "2023-03-14T19:55:52.886Z"
   },
   {
    "duration": 37,
    "start_time": "2023-03-14T19:55:52.894Z"
   },
   {
    "duration": 16,
    "start_time": "2023-03-14T19:55:52.933Z"
   },
   {
    "duration": 2616,
    "start_time": "2023-03-14T19:55:52.953Z"
   },
   {
    "duration": 12,
    "start_time": "2023-03-14T19:55:55.570Z"
   },
   {
    "duration": 5,
    "start_time": "2023-03-14T19:55:55.584Z"
   },
   {
    "duration": 5,
    "start_time": "2023-03-14T19:55:55.591Z"
   },
   {
    "duration": 4,
    "start_time": "2023-03-14T19:55:55.599Z"
   },
   {
    "duration": 13,
    "start_time": "2023-03-14T19:55:55.605Z"
   },
   {
    "duration": 10,
    "start_time": "2023-03-14T19:55:55.619Z"
   },
   {
    "duration": 5,
    "start_time": "2023-03-14T19:55:55.630Z"
   },
   {
    "duration": 3,
    "start_time": "2023-03-14T19:55:55.637Z"
   },
   {
    "duration": 6,
    "start_time": "2023-03-14T19:55:55.642Z"
   },
   {
    "duration": 13,
    "start_time": "2023-03-14T19:55:55.649Z"
   },
   {
    "duration": 8,
    "start_time": "2023-03-14T19:55:55.663Z"
   },
   {
    "duration": 8,
    "start_time": "2023-03-14T19:55:55.673Z"
   },
   {
    "duration": 57,
    "start_time": "2023-03-14T19:55:55.682Z"
   },
   {
    "duration": 44,
    "start_time": "2023-03-14T19:55:55.741Z"
   },
   {
    "duration": 9,
    "start_time": "2023-03-14T19:55:55.786Z"
   },
   {
    "duration": 31,
    "start_time": "2023-03-14T19:55:55.797Z"
   },
   {
    "duration": 8,
    "start_time": "2023-03-14T19:55:55.830Z"
   },
   {
    "duration": 5,
    "start_time": "2023-03-14T19:55:55.839Z"
   },
   {
    "duration": 9,
    "start_time": "2023-03-14T19:55:55.846Z"
   },
   {
    "duration": 9,
    "start_time": "2023-03-14T19:55:55.857Z"
   },
   {
    "duration": 8,
    "start_time": "2023-03-14T19:55:55.868Z"
   },
   {
    "duration": 42,
    "start_time": "2023-03-14T19:55:55.882Z"
   },
   {
    "duration": 6,
    "start_time": "2023-03-14T19:55:55.926Z"
   },
   {
    "duration": 13,
    "start_time": "2023-03-14T19:55:55.934Z"
   },
   {
    "duration": 116,
    "start_time": "2023-03-14T19:55:55.948Z"
   },
   {
    "duration": 178,
    "start_time": "2023-03-14T19:55:56.066Z"
   },
   {
    "duration": 20,
    "start_time": "2023-03-14T19:55:56.245Z"
   },
   {
    "duration": 18,
    "start_time": "2023-03-14T19:55:56.267Z"
   },
   {
    "duration": 7,
    "start_time": "2023-03-14T19:55:56.287Z"
   },
   {
    "duration": 20,
    "start_time": "2023-03-14T19:55:56.324Z"
   },
   {
    "duration": 185,
    "start_time": "2023-03-14T19:55:56.346Z"
   },
   {
    "duration": 114,
    "start_time": "2023-03-14T19:55:56.533Z"
   },
   {
    "duration": 15,
    "start_time": "2023-03-14T19:55:56.649Z"
   },
   {
    "duration": 220,
    "start_time": "2023-03-14T19:55:56.666Z"
   },
   {
    "duration": 6,
    "start_time": "2023-03-14T19:55:56.888Z"
   },
   {
    "duration": 36,
    "start_time": "2023-03-14T19:55:56.895Z"
   },
   {
    "duration": 16,
    "start_time": "2023-03-14T19:55:56.933Z"
   },
   {
    "duration": 203,
    "start_time": "2023-03-14T19:55:56.951Z"
   },
   {
    "duration": 7,
    "start_time": "2023-03-14T19:55:57.156Z"
   },
   {
    "duration": 19,
    "start_time": "2023-03-14T19:55:57.165Z"
   },
   {
    "duration": 8,
    "start_time": "2023-03-14T19:55:57.186Z"
   },
   {
    "duration": 220,
    "start_time": "2023-03-14T19:55:57.196Z"
   },
   {
    "duration": 5,
    "start_time": "2023-03-14T19:55:57.423Z"
   },
   {
    "duration": 16,
    "start_time": "2023-03-14T19:55:57.430Z"
   },
   {
    "duration": 9,
    "start_time": "2023-03-14T19:55:57.448Z"
   },
   {
    "duration": 196,
    "start_time": "2023-03-14T19:55:57.459Z"
   },
   {
    "duration": 6,
    "start_time": "2023-03-14T19:55:57.657Z"
   },
   {
    "duration": 17,
    "start_time": "2023-03-14T19:55:57.664Z"
   },
   {
    "duration": 14,
    "start_time": "2023-03-14T19:55:57.682Z"
   },
   {
    "duration": 197,
    "start_time": "2023-03-14T19:55:57.698Z"
   },
   {
    "duration": 7,
    "start_time": "2023-03-14T19:55:57.896Z"
   },
   {
    "duration": 24,
    "start_time": "2023-03-14T19:55:57.906Z"
   },
   {
    "duration": 166,
    "start_time": "2023-03-14T19:55:57.931Z"
   },
   {
    "duration": 6,
    "start_time": "2023-03-14T19:55:58.098Z"
   },
   {
    "duration": 30,
    "start_time": "2023-03-14T19:55:58.105Z"
   },
   {
    "duration": 19,
    "start_time": "2023-03-14T19:55:58.137Z"
   },
   {
    "duration": 206,
    "start_time": "2023-03-14T19:55:58.158Z"
   },
   {
    "duration": 7,
    "start_time": "2023-03-14T19:55:58.366Z"
   },
   {
    "duration": 159,
    "start_time": "2023-03-14T19:55:58.374Z"
   },
   {
    "duration": 14,
    "start_time": "2023-03-14T19:55:58.534Z"
   },
   {
    "duration": 175,
    "start_time": "2023-03-14T19:55:58.550Z"
   },
   {
    "duration": 8,
    "start_time": "2023-03-14T19:55:58.727Z"
   },
   {
    "duration": 200,
    "start_time": "2023-03-14T19:55:58.737Z"
   },
   {
    "duration": 12,
    "start_time": "2023-03-14T19:55:58.939Z"
   },
   {
    "duration": 294,
    "start_time": "2023-03-14T19:55:58.953Z"
   },
   {
    "duration": 7,
    "start_time": "2023-03-14T19:55:59.249Z"
   },
   {
    "duration": 182,
    "start_time": "2023-03-14T19:55:59.258Z"
   },
   {
    "duration": 7,
    "start_time": "2023-03-14T19:55:59.441Z"
   },
   {
    "duration": 148,
    "start_time": "2023-03-14T19:55:59.450Z"
   },
   {
    "duration": 6,
    "start_time": "2023-03-14T19:55:59.600Z"
   },
   {
    "duration": 200,
    "start_time": "2023-03-14T19:55:59.607Z"
   },
   {
    "duration": 15,
    "start_time": "2023-03-14T19:55:59.809Z"
   },
   {
    "duration": 15,
    "start_time": "2023-03-14T19:55:59.826Z"
   },
   {
    "duration": 258,
    "start_time": "2023-03-14T19:55:59.843Z"
   },
   {
    "duration": 20,
    "start_time": "2023-03-14T19:56:00.103Z"
   },
   {
    "duration": 85,
    "start_time": "2023-03-14T19:56:00.129Z"
   },
   {
    "duration": 9,
    "start_time": "2023-03-14T19:56:00.224Z"
   },
   {
    "duration": 13,
    "start_time": "2023-03-14T19:56:00.234Z"
   },
   {
    "duration": 38,
    "start_time": "2023-03-14T19:56:00.249Z"
   },
   {
    "duration": 50,
    "start_time": "2023-03-14T19:56:00.289Z"
   },
   {
    "duration": 8,
    "start_time": "2023-03-14T19:56:00.341Z"
   },
   {
    "duration": 57,
    "start_time": "2023-03-14T19:56:00.351Z"
   },
   {
    "duration": 31,
    "start_time": "2023-03-14T19:56:00.409Z"
   },
   {
    "duration": 29,
    "start_time": "2023-03-14T19:56:00.442Z"
   },
   {
    "duration": 14,
    "start_time": "2023-03-14T19:56:00.473Z"
   },
   {
    "duration": 307,
    "start_time": "2023-03-14T19:56:00.489Z"
   },
   {
    "duration": 6,
    "start_time": "2023-03-14T19:56:00.798Z"
   },
   {
    "duration": 44,
    "start_time": "2023-03-14T19:56:00.806Z"
   },
   {
    "duration": 60,
    "start_time": "2023-03-14T19:56:00.852Z"
   },
   {
    "duration": 266,
    "start_time": "2023-03-14T19:56:00.914Z"
   },
   {
    "duration": 409,
    "start_time": "2023-03-14T19:56:01.182Z"
   },
   {
    "duration": 274,
    "start_time": "2023-03-14T19:56:01.593Z"
   },
   {
    "duration": 201,
    "start_time": "2023-03-14T19:56:01.869Z"
   },
   {
    "duration": 167,
    "start_time": "2023-03-14T19:56:02.072Z"
   },
   {
    "duration": 166,
    "start_time": "2023-03-14T19:56:02.241Z"
   },
   {
    "duration": 210,
    "start_time": "2023-03-14T19:56:02.409Z"
   },
   {
    "duration": 132,
    "start_time": "2023-03-14T19:56:02.624Z"
   },
   {
    "duration": 162,
    "start_time": "2023-03-14T19:56:02.757Z"
   },
   {
    "duration": 243,
    "start_time": "2023-03-14T19:56:02.923Z"
   },
   {
    "duration": 210,
    "start_time": "2023-03-14T19:56:03.168Z"
   },
   {
    "duration": 248,
    "start_time": "2023-03-14T19:56:03.380Z"
   },
   {
    "duration": 307,
    "start_time": "2023-03-14T19:56:03.630Z"
   },
   {
    "duration": 164,
    "start_time": "2023-03-14T19:56:03.938Z"
   },
   {
    "duration": 300,
    "start_time": "2023-03-14T19:56:04.104Z"
   },
   {
    "duration": 259,
    "start_time": "2023-03-14T19:56:04.406Z"
   },
   {
    "duration": 6,
    "start_time": "2023-03-14T19:56:04.667Z"
   },
   {
    "duration": 10,
    "start_time": "2023-03-14T19:56:04.674Z"
   },
   {
    "duration": 131,
    "start_time": "2023-03-14T19:56:04.686Z"
   },
   {
    "duration": 841,
    "start_time": "2023-03-14T19:56:04.823Z"
   },
   {
    "duration": 25,
    "start_time": "2023-03-14T19:56:05.666Z"
   },
   {
    "duration": 293,
    "start_time": "2023-03-14T19:56:05.692Z"
   },
   {
    "duration": 6876,
    "start_time": "2023-03-14T20:00:01.418Z"
   },
   {
    "duration": 87,
    "start_time": "2023-03-14T20:07:43.367Z"
   },
   {
    "duration": 6,
    "start_time": "2023-03-14T20:08:17.802Z"
   },
   {
    "duration": 6245,
    "start_time": "2023-03-14T20:11:22.942Z"
   },
   {
    "duration": 4,
    "start_time": "2023-03-14T20:12:34.193Z"
   },
   {
    "duration": 3,
    "start_time": "2023-03-14T20:12:37.627Z"
   },
   {
    "duration": 4,
    "start_time": "2023-03-14T20:12:48.840Z"
   },
   {
    "duration": 6,
    "start_time": "2023-03-14T20:12:53.148Z"
   },
   {
    "duration": 6090,
    "start_time": "2023-03-14T20:15:29.307Z"
   },
   {
    "duration": 6029,
    "start_time": "2023-03-14T20:16:03.013Z"
   },
   {
    "duration": 3795,
    "start_time": "2023-03-14T20:16:17.563Z"
   },
   {
    "duration": 3904,
    "start_time": "2023-03-14T20:17:24.313Z"
   },
   {
    "duration": 48,
    "start_time": "2023-03-14T20:17:38.869Z"
   },
   {
    "duration": 3770,
    "start_time": "2023-03-14T20:18:41.286Z"
   },
   {
    "duration": 675,
    "start_time": "2023-03-14T20:19:12.466Z"
   },
   {
    "duration": 3957,
    "start_time": "2023-03-14T20:19:30.490Z"
   },
   {
    "duration": 695,
    "start_time": "2023-03-14T20:21:02.445Z"
   },
   {
    "duration": 283,
    "start_time": "2023-03-14T20:21:56.735Z"
   },
   {
    "duration": 6446,
    "start_time": "2023-03-14T20:23:21.446Z"
   },
   {
    "duration": 223,
    "start_time": "2023-03-14T20:24:03.024Z"
   },
   {
    "duration": 7565,
    "start_time": "2023-03-14T20:24:46.480Z"
   },
   {
    "duration": 33,
    "start_time": "2023-03-14T20:25:11.907Z"
   },
   {
    "duration": 308,
    "start_time": "2023-03-14T20:25:45.193Z"
   },
   {
    "duration": 155,
    "start_time": "2023-03-14T20:26:55.790Z"
   },
   {
    "duration": 212,
    "start_time": "2023-03-14T20:27:27.796Z"
   },
   {
    "duration": 231,
    "start_time": "2023-03-14T20:27:48.974Z"
   },
   {
    "duration": 225,
    "start_time": "2023-03-14T20:28:20.253Z"
   },
   {
    "duration": 244,
    "start_time": "2023-03-14T20:28:49.842Z"
   },
   {
    "duration": 249,
    "start_time": "2023-03-14T20:30:48.828Z"
   },
   {
    "duration": 220,
    "start_time": "2023-03-14T20:32:14.813Z"
   },
   {
    "duration": 207,
    "start_time": "2023-03-14T20:32:45.307Z"
   },
   {
    "duration": 193,
    "start_time": "2023-03-14T20:33:53.121Z"
   },
   {
    "duration": 202,
    "start_time": "2023-03-14T20:34:07.274Z"
   },
   {
    "duration": 25,
    "start_time": "2023-03-14T20:34:23.268Z"
   },
   {
    "duration": 25,
    "start_time": "2023-03-14T20:34:38.605Z"
   },
   {
    "duration": 27,
    "start_time": "2023-03-14T20:34:44.786Z"
   },
   {
    "duration": 27,
    "start_time": "2023-03-14T20:35:21.292Z"
   },
   {
    "duration": 6877,
    "start_time": "2023-03-14T20:35:30.323Z"
   },
   {
    "duration": 222,
    "start_time": "2023-03-14T20:36:01.447Z"
   },
   {
    "duration": 199,
    "start_time": "2023-03-14T20:39:04.065Z"
   },
   {
    "duration": 660,
    "start_time": "2023-03-14T20:39:34.643Z"
   },
   {
    "duration": 772,
    "start_time": "2023-03-14T20:39:50.250Z"
   },
   {
    "duration": 213,
    "start_time": "2023-03-14T20:40:40.853Z"
   },
   {
    "duration": 219,
    "start_time": "2023-03-14T20:41:41.470Z"
   },
   {
    "duration": 207,
    "start_time": "2023-03-14T20:42:37.165Z"
   },
   {
    "duration": 226,
    "start_time": "2023-03-14T20:42:44.186Z"
   },
   {
    "duration": 381,
    "start_time": "2023-03-14T20:42:52.587Z"
   },
   {
    "duration": 292,
    "start_time": "2023-03-14T20:43:00.712Z"
   },
   {
    "duration": 214,
    "start_time": "2023-03-14T20:43:11.648Z"
   },
   {
    "duration": 201,
    "start_time": "2023-03-14T20:44:46.500Z"
   },
   {
    "duration": 226,
    "start_time": "2023-03-14T20:45:30.548Z"
   },
   {
    "duration": 220,
    "start_time": "2023-03-14T20:46:20.658Z"
   },
   {
    "duration": 545,
    "start_time": "2023-03-15T10:26:57.910Z"
   },
   {
    "duration": 19,
    "start_time": "2023-03-15T10:26:58.457Z"
   },
   {
    "duration": 12,
    "start_time": "2023-03-15T10:26:58.477Z"
   },
   {
    "duration": 17,
    "start_time": "2023-03-15T10:26:58.490Z"
   },
   {
    "duration": 14,
    "start_time": "2023-03-15T10:26:58.510Z"
   },
   {
    "duration": 2675,
    "start_time": "2023-03-15T10:26:58.526Z"
   },
   {
    "duration": 11,
    "start_time": "2023-03-15T10:27:01.202Z"
   },
   {
    "duration": 34,
    "start_time": "2023-03-15T10:27:01.215Z"
   },
   {
    "duration": 51,
    "start_time": "2023-03-15T10:27:01.251Z"
   },
   {
    "duration": 29,
    "start_time": "2023-03-15T10:27:01.304Z"
   },
   {
    "duration": 93,
    "start_time": "2023-03-15T10:27:01.335Z"
   },
   {
    "duration": 68,
    "start_time": "2023-03-15T10:27:01.430Z"
   },
   {
    "duration": 64,
    "start_time": "2023-03-15T10:27:01.499Z"
   },
   {
    "duration": 65,
    "start_time": "2023-03-15T10:27:01.567Z"
   },
   {
    "duration": 22,
    "start_time": "2023-03-15T10:27:01.634Z"
   },
   {
    "duration": 42,
    "start_time": "2023-03-15T10:27:01.658Z"
   },
   {
    "duration": 39,
    "start_time": "2023-03-15T10:27:01.701Z"
   },
   {
    "duration": 21,
    "start_time": "2023-03-15T10:27:01.741Z"
   },
   {
    "duration": 34,
    "start_time": "2023-03-15T10:27:01.764Z"
   },
   {
    "duration": 57,
    "start_time": "2023-03-15T10:27:01.799Z"
   },
   {
    "duration": 9,
    "start_time": "2023-03-15T10:27:01.857Z"
   },
   {
    "duration": 30,
    "start_time": "2023-03-15T10:27:01.869Z"
   },
   {
    "duration": 19,
    "start_time": "2023-03-15T10:27:01.901Z"
   },
   {
    "duration": 11,
    "start_time": "2023-03-15T10:27:01.922Z"
   },
   {
    "duration": 23,
    "start_time": "2023-03-15T10:27:01.935Z"
   },
   {
    "duration": 22,
    "start_time": "2023-03-15T10:27:01.960Z"
   },
   {
    "duration": 40,
    "start_time": "2023-03-15T10:27:01.984Z"
   },
   {
    "duration": 41,
    "start_time": "2023-03-15T10:27:02.026Z"
   },
   {
    "duration": 23,
    "start_time": "2023-03-15T10:27:02.069Z"
   },
   {
    "duration": 26,
    "start_time": "2023-03-15T10:27:02.094Z"
   },
   {
    "duration": 77,
    "start_time": "2023-03-15T10:27:02.122Z"
   },
   {
    "duration": 159,
    "start_time": "2023-03-15T10:27:02.201Z"
   },
   {
    "duration": 94,
    "start_time": "2023-03-15T10:27:02.369Z"
   },
   {
    "duration": 30,
    "start_time": "2023-03-15T10:27:02.469Z"
   },
   {
    "duration": 17,
    "start_time": "2023-03-15T10:27:02.501Z"
   },
   {
    "duration": 46,
    "start_time": "2023-03-15T10:27:02.520Z"
   },
   {
    "duration": 176,
    "start_time": "2023-03-15T10:27:02.568Z"
   },
   {
    "duration": 25,
    "start_time": "2023-03-15T10:27:02.745Z"
   },
   {
    "duration": 25,
    "start_time": "2023-03-15T10:27:02.772Z"
   },
   {
    "duration": 206,
    "start_time": "2023-03-15T10:27:02.799Z"
   },
   {
    "duration": 7,
    "start_time": "2023-03-15T10:27:03.011Z"
   },
   {
    "duration": 30,
    "start_time": "2023-03-15T10:27:03.020Z"
   },
   {
    "duration": 25,
    "start_time": "2023-03-15T10:27:03.052Z"
   },
   {
    "duration": 194,
    "start_time": "2023-03-15T10:27:03.078Z"
   },
   {
    "duration": 7,
    "start_time": "2023-03-15T10:27:03.274Z"
   },
   {
    "duration": 24,
    "start_time": "2023-03-15T10:27:03.282Z"
   },
   {
    "duration": 14,
    "start_time": "2023-03-15T10:27:03.308Z"
   },
   {
    "duration": 211,
    "start_time": "2023-03-15T10:27:03.324Z"
   },
   {
    "duration": 6,
    "start_time": "2023-03-15T10:27:03.537Z"
   },
   {
    "duration": 35,
    "start_time": "2023-03-15T10:27:03.545Z"
   },
   {
    "duration": 8,
    "start_time": "2023-03-15T10:27:03.582Z"
   },
   {
    "duration": 206,
    "start_time": "2023-03-15T10:27:03.592Z"
   },
   {
    "duration": 7,
    "start_time": "2023-03-15T10:27:03.800Z"
   },
   {
    "duration": 23,
    "start_time": "2023-03-15T10:27:03.809Z"
   },
   {
    "duration": 15,
    "start_time": "2023-03-15T10:27:03.834Z"
   },
   {
    "duration": 203,
    "start_time": "2023-03-15T10:27:03.868Z"
   },
   {
    "duration": 9,
    "start_time": "2023-03-15T10:27:04.073Z"
   },
   {
    "duration": 30,
    "start_time": "2023-03-15T10:27:04.084Z"
   },
   {
    "duration": 190,
    "start_time": "2023-03-15T10:27:04.116Z"
   },
   {
    "duration": 7,
    "start_time": "2023-03-15T10:27:04.308Z"
   },
   {
    "duration": 29,
    "start_time": "2023-03-15T10:27:04.317Z"
   },
   {
    "duration": 33,
    "start_time": "2023-03-15T10:27:04.348Z"
   },
   {
    "duration": 198,
    "start_time": "2023-03-15T10:27:04.383Z"
   },
   {
    "duration": 7,
    "start_time": "2023-03-15T10:27:04.582Z"
   },
   {
    "duration": 250,
    "start_time": "2023-03-15T10:27:04.591Z"
   },
   {
    "duration": 13,
    "start_time": "2023-03-15T10:27:04.843Z"
   },
   {
    "duration": 170,
    "start_time": "2023-03-15T10:27:04.858Z"
   },
   {
    "duration": 7,
    "start_time": "2023-03-15T10:27:05.030Z"
   },
   {
    "duration": 192,
    "start_time": "2023-03-15T10:27:05.038Z"
   },
   {
    "duration": 6,
    "start_time": "2023-03-15T10:27:05.233Z"
   },
   {
    "duration": 168,
    "start_time": "2023-03-15T10:27:05.241Z"
   },
   {
    "duration": 6,
    "start_time": "2023-03-15T10:27:05.410Z"
   },
   {
    "duration": 164,
    "start_time": "2023-03-15T10:27:05.418Z"
   },
   {
    "duration": 7,
    "start_time": "2023-03-15T10:27:05.584Z"
   },
   {
    "duration": 147,
    "start_time": "2023-03-15T10:27:05.593Z"
   },
   {
    "duration": 7,
    "start_time": "2023-03-15T10:27:05.742Z"
   },
   {
    "duration": 210,
    "start_time": "2023-03-15T10:27:05.751Z"
   },
   {
    "duration": 11,
    "start_time": "2023-03-15T10:27:05.963Z"
   },
   {
    "duration": 14,
    "start_time": "2023-03-15T10:27:05.976Z"
   },
   {
    "duration": 287,
    "start_time": "2023-03-15T10:27:05.992Z"
   },
   {
    "duration": 8,
    "start_time": "2023-03-15T10:27:06.281Z"
   },
   {
    "duration": 92,
    "start_time": "2023-03-15T10:27:06.291Z"
   },
   {
    "duration": 8,
    "start_time": "2023-03-15T10:27:06.385Z"
   },
   {
    "duration": 5,
    "start_time": "2023-03-15T10:27:06.395Z"
   },
   {
    "duration": 34,
    "start_time": "2023-03-15T10:27:06.402Z"
   },
   {
    "duration": 39,
    "start_time": "2023-03-15T10:27:06.438Z"
   },
   {
    "duration": 7,
    "start_time": "2023-03-15T10:27:06.478Z"
   },
   {
    "duration": 35,
    "start_time": "2023-03-15T10:27:06.487Z"
   },
   {
    "duration": 12,
    "start_time": "2023-03-15T10:27:06.524Z"
   },
   {
    "duration": 8,
    "start_time": "2023-03-15T10:27:06.537Z"
   },
   {
    "duration": 31,
    "start_time": "2023-03-15T10:27:06.546Z"
   },
   {
    "duration": 285,
    "start_time": "2023-03-15T10:27:06.578Z"
   },
   {
    "duration": 9,
    "start_time": "2023-03-15T10:27:06.864Z"
   },
   {
    "duration": 18,
    "start_time": "2023-03-15T10:27:06.875Z"
   },
   {
    "duration": 33,
    "start_time": "2023-03-15T10:27:06.895Z"
   },
   {
    "duration": 373,
    "start_time": "2023-03-15T10:27:06.929Z"
   },
   {
    "duration": 242,
    "start_time": "2023-03-15T10:27:07.304Z"
   },
   {
    "duration": 255,
    "start_time": "2023-03-15T10:27:07.548Z"
   },
   {
    "duration": 209,
    "start_time": "2023-03-15T10:27:07.805Z"
   },
   {
    "duration": 170,
    "start_time": "2023-03-15T10:27:08.016Z"
   },
   {
    "duration": 155,
    "start_time": "2023-03-15T10:27:08.188Z"
   },
   {
    "duration": 211,
    "start_time": "2023-03-15T10:27:08.346Z"
   },
   {
    "duration": 151,
    "start_time": "2023-03-15T10:27:08.558Z"
   },
   {
    "duration": 167,
    "start_time": "2023-03-15T10:27:08.710Z"
   },
   {
    "duration": 259,
    "start_time": "2023-03-15T10:27:08.879Z"
   },
   {
    "duration": 196,
    "start_time": "2023-03-15T10:27:09.139Z"
   },
   {
    "duration": 387,
    "start_time": "2023-03-15T10:27:09.338Z"
   },
   {
    "duration": 158,
    "start_time": "2023-03-15T10:27:09.727Z"
   },
   {
    "duration": 168,
    "start_time": "2023-03-15T10:27:09.887Z"
   },
   {
    "duration": 280,
    "start_time": "2023-03-15T10:27:10.057Z"
   },
   {
    "duration": 259,
    "start_time": "2023-03-15T10:27:10.339Z"
   },
   {
    "duration": 6,
    "start_time": "2023-03-15T10:27:10.600Z"
   },
   {
    "duration": 13,
    "start_time": "2023-03-15T10:27:10.607Z"
   },
   {
    "duration": 119,
    "start_time": "2023-03-15T10:27:10.622Z"
   },
   {
    "duration": 41,
    "start_time": "2023-03-15T10:27:10.742Z"
   },
   {
    "duration": 0,
    "start_time": "2023-03-15T10:27:10.785Z"
   },
   {
    "duration": 0,
    "start_time": "2023-03-15T10:27:10.786Z"
   },
   {
    "duration": 0,
    "start_time": "2023-03-15T10:27:10.787Z"
   },
   {
    "duration": 0,
    "start_time": "2023-03-15T10:27:10.788Z"
   },
   {
    "duration": 52,
    "start_time": "2023-03-15T10:37:31.513Z"
   },
   {
    "duration": 5,
    "start_time": "2023-03-15T10:37:48.244Z"
   },
   {
    "duration": 179,
    "start_time": "2023-03-15T10:38:40.133Z"
   },
   {
    "duration": 280,
    "start_time": "2023-03-15T10:39:27.333Z"
   },
   {
    "duration": 203,
    "start_time": "2023-03-15T10:40:22.102Z"
   },
   {
    "duration": 213,
    "start_time": "2023-03-15T10:40:31.311Z"
   },
   {
    "duration": 190,
    "start_time": "2023-03-15T10:41:02.451Z"
   },
   {
    "duration": 571,
    "start_time": "2023-03-15T10:43:44.663Z"
   },
   {
    "duration": 19,
    "start_time": "2023-03-15T10:43:45.236Z"
   },
   {
    "duration": 3,
    "start_time": "2023-03-15T10:43:45.257Z"
   },
   {
    "duration": 19,
    "start_time": "2023-03-15T10:43:45.268Z"
   },
   {
    "duration": 15,
    "start_time": "2023-03-15T10:43:45.289Z"
   },
   {
    "duration": 2607,
    "start_time": "2023-03-15T10:43:45.306Z"
   },
   {
    "duration": 12,
    "start_time": "2023-03-15T10:43:47.915Z"
   },
   {
    "duration": 6,
    "start_time": "2023-03-15T10:43:47.929Z"
   },
   {
    "duration": 11,
    "start_time": "2023-03-15T10:43:47.937Z"
   },
   {
    "duration": 6,
    "start_time": "2023-03-15T10:43:47.950Z"
   },
   {
    "duration": 17,
    "start_time": "2023-03-15T10:43:47.958Z"
   },
   {
    "duration": 13,
    "start_time": "2023-03-15T10:43:47.977Z"
   },
   {
    "duration": 6,
    "start_time": "2023-03-15T10:43:47.992Z"
   },
   {
    "duration": 4,
    "start_time": "2023-03-15T10:43:48.002Z"
   },
   {
    "duration": 11,
    "start_time": "2023-03-15T10:43:48.008Z"
   },
   {
    "duration": 14,
    "start_time": "2023-03-15T10:43:48.021Z"
   },
   {
    "duration": 9,
    "start_time": "2023-03-15T10:43:48.036Z"
   },
   {
    "duration": 30,
    "start_time": "2023-03-15T10:43:48.046Z"
   },
   {
    "duration": 22,
    "start_time": "2023-03-15T10:43:48.077Z"
   },
   {
    "duration": 43,
    "start_time": "2023-03-15T10:43:48.101Z"
   },
   {
    "duration": 31,
    "start_time": "2023-03-15T10:43:48.146Z"
   },
   {
    "duration": 15,
    "start_time": "2023-03-15T10:43:48.178Z"
   },
   {
    "duration": 7,
    "start_time": "2023-03-15T10:43:48.194Z"
   },
   {
    "duration": 5,
    "start_time": "2023-03-15T10:43:48.202Z"
   },
   {
    "duration": 9,
    "start_time": "2023-03-15T10:43:48.208Z"
   },
   {
    "duration": 8,
    "start_time": "2023-03-15T10:43:48.218Z"
   },
   {
    "duration": 43,
    "start_time": "2023-03-15T10:43:48.228Z"
   },
   {
    "duration": 5,
    "start_time": "2023-03-15T10:43:48.272Z"
   },
   {
    "duration": 8,
    "start_time": "2023-03-15T10:43:48.278Z"
   },
   {
    "duration": 14,
    "start_time": "2023-03-15T10:43:48.288Z"
   },
   {
    "duration": 104,
    "start_time": "2023-03-15T10:43:48.304Z"
   },
   {
    "duration": 178,
    "start_time": "2023-03-15T10:43:48.410Z"
   },
   {
    "duration": 19,
    "start_time": "2023-03-15T10:43:48.590Z"
   },
   {
    "duration": 18,
    "start_time": "2023-03-15T10:43:48.611Z"
   },
   {
    "duration": 7,
    "start_time": "2023-03-15T10:43:48.631Z"
   },
   {
    "duration": 47,
    "start_time": "2023-03-15T10:43:48.640Z"
   },
   {
    "duration": 169,
    "start_time": "2023-03-15T10:43:48.688Z"
   },
   {
    "duration": 110,
    "start_time": "2023-03-15T10:43:48.859Z"
   },
   {
    "duration": 14,
    "start_time": "2023-03-15T10:43:48.971Z"
   },
   {
    "duration": 199,
    "start_time": "2023-03-15T10:43:48.987Z"
   },
   {
    "duration": 6,
    "start_time": "2023-03-15T10:43:49.192Z"
   },
   {
    "duration": 21,
    "start_time": "2023-03-15T10:43:49.200Z"
   },
   {
    "duration": 13,
    "start_time": "2023-03-15T10:43:49.223Z"
   },
   {
    "duration": 202,
    "start_time": "2023-03-15T10:43:49.237Z"
   },
   {
    "duration": 7,
    "start_time": "2023-03-15T10:43:49.441Z"
   },
   {
    "duration": 32,
    "start_time": "2023-03-15T10:43:49.449Z"
   },
   {
    "duration": 8,
    "start_time": "2023-03-15T10:43:49.483Z"
   },
   {
    "duration": 198,
    "start_time": "2023-03-15T10:43:49.493Z"
   },
   {
    "duration": 7,
    "start_time": "2023-03-15T10:43:49.693Z"
   },
   {
    "duration": 22,
    "start_time": "2023-03-15T10:43:49.701Z"
   },
   {
    "duration": 9,
    "start_time": "2023-03-15T10:43:49.724Z"
   },
   {
    "duration": 177,
    "start_time": "2023-03-15T10:43:49.735Z"
   },
   {
    "duration": 6,
    "start_time": "2023-03-15T10:43:49.914Z"
   },
   {
    "duration": 18,
    "start_time": "2023-03-15T10:43:49.922Z"
   },
   {
    "duration": 31,
    "start_time": "2023-03-15T10:43:49.942Z"
   },
   {
    "duration": 167,
    "start_time": "2023-03-15T10:43:49.975Z"
   },
   {
    "duration": 7,
    "start_time": "2023-03-15T10:43:50.144Z"
   },
   {
    "duration": 23,
    "start_time": "2023-03-15T10:43:50.152Z"
   },
   {
    "duration": 157,
    "start_time": "2023-03-15T10:43:50.176Z"
   },
   {
    "duration": 5,
    "start_time": "2023-03-15T10:43:50.335Z"
   },
   {
    "duration": 36,
    "start_time": "2023-03-15T10:43:50.342Z"
   },
   {
    "duration": 32,
    "start_time": "2023-03-15T10:43:50.380Z"
   },
   {
    "duration": 191,
    "start_time": "2023-03-15T10:43:50.413Z"
   },
   {
    "duration": 7,
    "start_time": "2023-03-15T10:43:50.606Z"
   },
   {
    "duration": 166,
    "start_time": "2023-03-15T10:43:50.614Z"
   },
   {
    "duration": 13,
    "start_time": "2023-03-15T10:43:50.782Z"
   },
   {
    "duration": 158,
    "start_time": "2023-03-15T10:43:50.797Z"
   },
   {
    "duration": 13,
    "start_time": "2023-03-15T10:43:50.957Z"
   },
   {
    "duration": 253,
    "start_time": "2023-03-15T10:43:50.971Z"
   },
   {
    "duration": 7,
    "start_time": "2023-03-15T10:43:51.225Z"
   },
   {
    "duration": 152,
    "start_time": "2023-03-15T10:43:51.234Z"
   },
   {
    "duration": 5,
    "start_time": "2023-03-15T10:43:51.388Z"
   },
   {
    "duration": 157,
    "start_time": "2023-03-15T10:43:51.394Z"
   },
   {
    "duration": 16,
    "start_time": "2023-03-15T10:43:51.553Z"
   },
   {
    "duration": 133,
    "start_time": "2023-03-15T10:43:51.571Z"
   },
   {
    "duration": 6,
    "start_time": "2023-03-15T10:43:51.705Z"
   },
   {
    "duration": 212,
    "start_time": "2023-03-15T10:43:51.712Z"
   },
   {
    "duration": 6,
    "start_time": "2023-03-15T10:43:51.926Z"
   },
   {
    "duration": 14,
    "start_time": "2023-03-15T10:43:51.933Z"
   },
   {
    "duration": 261,
    "start_time": "2023-03-15T10:43:51.949Z"
   },
   {
    "duration": 6,
    "start_time": "2023-03-15T10:43:52.212Z"
   },
   {
    "duration": 91,
    "start_time": "2023-03-15T10:43:52.220Z"
   },
   {
    "duration": 8,
    "start_time": "2023-03-15T10:43:52.313Z"
   },
   {
    "duration": 3,
    "start_time": "2023-03-15T10:43:52.323Z"
   },
   {
    "duration": 46,
    "start_time": "2023-03-15T10:43:52.327Z"
   },
   {
    "duration": 30,
    "start_time": "2023-03-15T10:43:52.375Z"
   },
   {
    "duration": 6,
    "start_time": "2023-03-15T10:43:52.407Z"
   },
   {
    "duration": 37,
    "start_time": "2023-03-15T10:43:52.415Z"
   },
   {
    "duration": 22,
    "start_time": "2023-03-15T10:43:52.454Z"
   },
   {
    "duration": 9,
    "start_time": "2023-03-15T10:43:52.478Z"
   },
   {
    "duration": 8,
    "start_time": "2023-03-15T10:43:52.489Z"
   },
   {
    "duration": 310,
    "start_time": "2023-03-15T10:43:52.498Z"
   },
   {
    "duration": 7,
    "start_time": "2023-03-15T10:43:52.810Z"
   },
   {
    "duration": 25,
    "start_time": "2023-03-15T10:43:52.819Z"
   },
   {
    "duration": 54,
    "start_time": "2023-03-15T10:43:52.845Z"
   },
   {
    "duration": 270,
    "start_time": "2023-03-15T10:43:52.901Z"
   },
   {
    "duration": 384,
    "start_time": "2023-03-15T10:43:53.172Z"
   },
   {
    "duration": 261,
    "start_time": "2023-03-15T10:43:53.558Z"
   },
   {
    "duration": 215,
    "start_time": "2023-03-15T10:43:53.820Z"
   },
   {
    "duration": 200,
    "start_time": "2023-03-15T10:43:54.037Z"
   },
   {
    "duration": 146,
    "start_time": "2023-03-15T10:43:54.240Z"
   },
   {
    "duration": 205,
    "start_time": "2023-03-15T10:43:54.388Z"
   },
   {
    "duration": 131,
    "start_time": "2023-03-15T10:43:54.595Z"
   },
   {
    "duration": 164,
    "start_time": "2023-03-15T10:43:54.728Z"
   },
   {
    "duration": 277,
    "start_time": "2023-03-15T10:43:54.894Z"
   },
   {
    "duration": 214,
    "start_time": "2023-03-15T10:43:55.173Z"
   },
   {
    "duration": 377,
    "start_time": "2023-03-15T10:43:55.388Z"
   },
   {
    "duration": 149,
    "start_time": "2023-03-15T10:43:55.768Z"
   },
   {
    "duration": 155,
    "start_time": "2023-03-15T10:43:55.919Z"
   },
   {
    "duration": 239,
    "start_time": "2023-03-15T10:43:56.076Z"
   },
   {
    "duration": 247,
    "start_time": "2023-03-15T10:43:56.316Z"
   },
   {
    "duration": 6,
    "start_time": "2023-03-15T10:43:56.568Z"
   },
   {
    "duration": 16,
    "start_time": "2023-03-15T10:43:56.575Z"
   },
   {
    "duration": 124,
    "start_time": "2023-03-15T10:43:56.592Z"
   },
   {
    "duration": 6,
    "start_time": "2023-03-15T10:43:56.718Z"
   },
   {
    "duration": 185,
    "start_time": "2023-03-15T10:43:56.726Z"
   },
   {
    "duration": 801,
    "start_time": "2023-03-15T10:43:56.913Z"
   },
   {
    "duration": 230,
    "start_time": "2023-03-15T10:43:57.716Z"
   },
   {
    "duration": 5,
    "start_time": "2023-03-15T10:43:57.948Z"
   },
   {
    "duration": 304,
    "start_time": "2023-03-15T10:43:57.954Z"
   },
   {
    "duration": 57,
    "start_time": "2023-03-15T10:49:17.540Z"
   },
   {
    "duration": 7,
    "start_time": "2023-03-15T10:49:27.919Z"
   },
   {
    "duration": 529,
    "start_time": "2023-03-15T10:49:36.116Z"
   },
   {
    "duration": 22,
    "start_time": "2023-03-15T10:49:36.647Z"
   },
   {
    "duration": 16,
    "start_time": "2023-03-15T10:49:36.672Z"
   },
   {
    "duration": 20,
    "start_time": "2023-03-15T10:49:36.690Z"
   },
   {
    "duration": 14,
    "start_time": "2023-03-15T10:49:36.712Z"
   },
   {
    "duration": 2937,
    "start_time": "2023-03-15T10:49:36.728Z"
   },
   {
    "duration": 26,
    "start_time": "2023-03-15T10:49:39.667Z"
   },
   {
    "duration": 25,
    "start_time": "2023-03-15T10:49:39.694Z"
   },
   {
    "duration": 16,
    "start_time": "2023-03-15T10:49:39.720Z"
   },
   {
    "duration": 13,
    "start_time": "2023-03-15T10:49:39.738Z"
   },
   {
    "duration": 11,
    "start_time": "2023-03-15T10:49:39.752Z"
   },
   {
    "duration": 18,
    "start_time": "2023-03-15T10:49:39.764Z"
   },
   {
    "duration": 16,
    "start_time": "2023-03-15T10:49:39.784Z"
   },
   {
    "duration": 9,
    "start_time": "2023-03-15T10:49:39.802Z"
   },
   {
    "duration": 8,
    "start_time": "2023-03-15T10:49:39.813Z"
   },
   {
    "duration": 21,
    "start_time": "2023-03-15T10:49:39.823Z"
   },
   {
    "duration": 20,
    "start_time": "2023-03-15T10:49:39.846Z"
   },
   {
    "duration": 25,
    "start_time": "2023-03-15T10:49:39.868Z"
   },
   {
    "duration": 26,
    "start_time": "2023-03-15T10:49:39.896Z"
   },
   {
    "duration": 62,
    "start_time": "2023-03-15T10:49:39.925Z"
   },
   {
    "duration": 10,
    "start_time": "2023-03-15T10:49:39.989Z"
   },
   {
    "duration": 28,
    "start_time": "2023-03-15T10:49:40.001Z"
   },
   {
    "duration": 12,
    "start_time": "2023-03-15T10:49:40.031Z"
   },
   {
    "duration": 5,
    "start_time": "2023-03-15T10:49:40.045Z"
   },
   {
    "duration": 31,
    "start_time": "2023-03-15T10:49:40.052Z"
   },
   {
    "duration": 13,
    "start_time": "2023-03-15T10:49:40.085Z"
   },
   {
    "duration": 18,
    "start_time": "2023-03-15T10:49:40.100Z"
   },
   {
    "duration": 10,
    "start_time": "2023-03-15T10:49:40.120Z"
   },
   {
    "duration": 7,
    "start_time": "2023-03-15T10:49:40.132Z"
   },
   {
    "duration": 15,
    "start_time": "2023-03-15T10:49:40.140Z"
   },
   {
    "duration": 95,
    "start_time": "2023-03-15T10:49:40.157Z"
   },
   {
    "duration": 198,
    "start_time": "2023-03-15T10:49:40.254Z"
   },
   {
    "duration": 33,
    "start_time": "2023-03-15T10:49:40.454Z"
   },
   {
    "duration": 20,
    "start_time": "2023-03-15T10:49:40.489Z"
   },
   {
    "duration": 7,
    "start_time": "2023-03-15T10:49:40.510Z"
   },
   {
    "duration": 17,
    "start_time": "2023-03-15T10:49:40.518Z"
   },
   {
    "duration": 208,
    "start_time": "2023-03-15T10:49:40.537Z"
   },
   {
    "duration": 123,
    "start_time": "2023-03-15T10:49:40.746Z"
   },
   {
    "duration": 23,
    "start_time": "2023-03-15T10:49:40.871Z"
   },
   {
    "duration": 213,
    "start_time": "2023-03-15T10:49:40.896Z"
   },
   {
    "duration": 7,
    "start_time": "2023-03-15T10:49:41.114Z"
   },
   {
    "duration": 22,
    "start_time": "2023-03-15T10:49:41.122Z"
   },
   {
    "duration": 41,
    "start_time": "2023-03-15T10:49:41.145Z"
   },
   {
    "duration": 223,
    "start_time": "2023-03-15T10:49:41.188Z"
   },
   {
    "duration": 6,
    "start_time": "2023-03-15T10:49:41.413Z"
   },
   {
    "duration": 62,
    "start_time": "2023-03-15T10:49:41.421Z"
   },
   {
    "duration": 21,
    "start_time": "2023-03-15T10:49:41.485Z"
   },
   {
    "duration": 210,
    "start_time": "2023-03-15T10:49:41.508Z"
   },
   {
    "duration": 6,
    "start_time": "2023-03-15T10:49:41.720Z"
   },
   {
    "duration": 22,
    "start_time": "2023-03-15T10:49:41.727Z"
   },
   {
    "duration": 9,
    "start_time": "2023-03-15T10:49:41.751Z"
   },
   {
    "duration": 251,
    "start_time": "2023-03-15T10:49:41.762Z"
   },
   {
    "duration": 6,
    "start_time": "2023-03-15T10:49:42.015Z"
   },
   {
    "duration": 21,
    "start_time": "2023-03-15T10:49:42.023Z"
   },
   {
    "duration": 32,
    "start_time": "2023-03-15T10:49:42.045Z"
   },
   {
    "duration": 225,
    "start_time": "2023-03-15T10:49:42.080Z"
   },
   {
    "duration": 6,
    "start_time": "2023-03-15T10:49:42.307Z"
   },
   {
    "duration": 9,
    "start_time": "2023-03-15T10:49:42.315Z"
   },
   {
    "duration": 192,
    "start_time": "2023-03-15T10:49:42.326Z"
   },
   {
    "duration": 5,
    "start_time": "2023-03-15T10:49:42.520Z"
   },
   {
    "duration": 33,
    "start_time": "2023-03-15T10:49:42.527Z"
   },
   {
    "duration": 28,
    "start_time": "2023-03-15T10:49:42.562Z"
   },
   {
    "duration": 215,
    "start_time": "2023-03-15T10:49:42.591Z"
   },
   {
    "duration": 7,
    "start_time": "2023-03-15T10:49:42.808Z"
   },
   {
    "duration": 172,
    "start_time": "2023-03-15T10:49:42.816Z"
   },
   {
    "duration": 14,
    "start_time": "2023-03-15T10:49:42.990Z"
   },
   {
    "duration": 193,
    "start_time": "2023-03-15T10:49:43.006Z"
   },
   {
    "duration": 6,
    "start_time": "2023-03-15T10:49:43.201Z"
   },
   {
    "duration": 291,
    "start_time": "2023-03-15T10:49:43.209Z"
   },
   {
    "duration": 7,
    "start_time": "2023-03-15T10:49:43.502Z"
   },
   {
    "duration": 175,
    "start_time": "2023-03-15T10:49:43.511Z"
   },
   {
    "duration": 6,
    "start_time": "2023-03-15T10:49:43.688Z"
   },
   {
    "duration": 184,
    "start_time": "2023-03-15T10:49:43.696Z"
   },
   {
    "duration": 8,
    "start_time": "2023-03-15T10:49:43.882Z"
   },
   {
    "duration": 230,
    "start_time": "2023-03-15T10:49:43.891Z"
   },
   {
    "duration": 7,
    "start_time": "2023-03-15T10:49:44.123Z"
   },
   {
    "duration": 266,
    "start_time": "2023-03-15T10:49:44.132Z"
   },
   {
    "duration": 8,
    "start_time": "2023-03-15T10:49:44.399Z"
   },
   {
    "duration": 16,
    "start_time": "2023-03-15T10:49:44.408Z"
   },
   {
    "duration": 307,
    "start_time": "2023-03-15T10:49:44.425Z"
   },
   {
    "duration": 7,
    "start_time": "2023-03-15T10:49:44.734Z"
   },
   {
    "duration": 112,
    "start_time": "2023-03-15T10:49:44.742Z"
   },
   {
    "duration": 15,
    "start_time": "2023-03-15T10:49:44.856Z"
   },
   {
    "duration": 21,
    "start_time": "2023-03-15T10:49:44.873Z"
   },
   {
    "duration": 53,
    "start_time": "2023-03-15T10:49:44.896Z"
   },
   {
    "duration": 34,
    "start_time": "2023-03-15T10:49:44.951Z"
   },
   {
    "duration": 9,
    "start_time": "2023-03-15T10:49:44.987Z"
   },
   {
    "duration": 85,
    "start_time": "2023-03-15T10:49:44.998Z"
   },
   {
    "duration": 41,
    "start_time": "2023-03-15T10:49:45.086Z"
   },
   {
    "duration": 9,
    "start_time": "2023-03-15T10:49:45.129Z"
   },
   {
    "duration": 8,
    "start_time": "2023-03-15T10:49:45.140Z"
   },
   {
    "duration": 340,
    "start_time": "2023-03-15T10:49:45.150Z"
   },
   {
    "duration": 8,
    "start_time": "2023-03-15T10:49:45.492Z"
   },
   {
    "duration": 22,
    "start_time": "2023-03-15T10:49:45.502Z"
   },
   {
    "duration": 47,
    "start_time": "2023-03-15T10:49:45.526Z"
   },
   {
    "duration": 290,
    "start_time": "2023-03-15T10:49:45.575Z"
   },
   {
    "duration": 410,
    "start_time": "2023-03-15T10:49:45.866Z"
   },
   {
    "duration": 279,
    "start_time": "2023-03-15T10:49:46.278Z"
   },
   {
    "duration": 207,
    "start_time": "2023-03-15T10:49:46.559Z"
   },
   {
    "duration": 179,
    "start_time": "2023-03-15T10:49:46.767Z"
   },
   {
    "duration": 152,
    "start_time": "2023-03-15T10:49:46.949Z"
   },
   {
    "duration": 210,
    "start_time": "2023-03-15T10:49:47.103Z"
   },
   {
    "duration": 141,
    "start_time": "2023-03-15T10:49:47.314Z"
   },
   {
    "duration": 180,
    "start_time": "2023-03-15T10:49:47.457Z"
   },
   {
    "duration": 276,
    "start_time": "2023-03-15T10:49:47.638Z"
   },
   {
    "duration": 217,
    "start_time": "2023-03-15T10:49:47.915Z"
   },
   {
    "duration": 428,
    "start_time": "2023-03-15T10:49:48.134Z"
   },
   {
    "duration": 173,
    "start_time": "2023-03-15T10:49:48.564Z"
   },
   {
    "duration": 171,
    "start_time": "2023-03-15T10:49:48.739Z"
   },
   {
    "duration": 311,
    "start_time": "2023-03-15T10:49:48.911Z"
   },
   {
    "duration": 291,
    "start_time": "2023-03-15T10:49:49.224Z"
   },
   {
    "duration": 6,
    "start_time": "2023-03-15T10:49:49.517Z"
   },
   {
    "duration": 33,
    "start_time": "2023-03-15T10:49:49.524Z"
   },
   {
    "duration": 135,
    "start_time": "2023-03-15T10:49:49.559Z"
   },
   {
    "duration": 6,
    "start_time": "2023-03-15T10:49:49.695Z"
   },
   {
    "duration": 204,
    "start_time": "2023-03-15T10:49:49.702Z"
   },
   {
    "duration": 895,
    "start_time": "2023-03-15T10:49:49.907Z"
   },
   {
    "duration": 243,
    "start_time": "2023-03-15T10:49:50.803Z"
   },
   {
    "duration": 6,
    "start_time": "2023-03-15T10:49:51.048Z"
   },
   {
    "duration": 341,
    "start_time": "2023-03-15T10:49:51.069Z"
   },
   {
    "duration": 196,
    "start_time": "2023-03-15T10:51:55.943Z"
   },
   {
    "duration": 197,
    "start_time": "2023-03-15T10:52:04.462Z"
   },
   {
    "duration": 200,
    "start_time": "2023-03-15T10:52:11.318Z"
   },
   {
    "duration": 194,
    "start_time": "2023-03-15T10:56:27.930Z"
   },
   {
    "duration": 6,
    "start_time": "2023-03-15T10:56:36.032Z"
   },
   {
    "duration": 7,
    "start_time": "2023-03-15T10:56:50.137Z"
   },
   {
    "duration": 371,
    "start_time": "2023-03-15T10:57:12.111Z"
   },
   {
    "duration": 6,
    "start_time": "2023-03-15T11:01:22.155Z"
   },
   {
    "duration": 174,
    "start_time": "2023-03-15T11:01:46.710Z"
   },
   {
    "duration": 189,
    "start_time": "2023-03-15T11:02:26.910Z"
   },
   {
    "duration": 179,
    "start_time": "2023-03-15T11:02:53.742Z"
   },
   {
    "duration": 203,
    "start_time": "2023-03-15T11:03:13.398Z"
   },
   {
    "duration": 7,
    "start_time": "2023-03-15T11:04:43.746Z"
   },
   {
    "duration": 193,
    "start_time": "2023-03-15T11:05:23.040Z"
   },
   {
    "duration": 179,
    "start_time": "2023-03-15T11:05:50.029Z"
   },
   {
    "duration": 189,
    "start_time": "2023-03-15T11:05:56.711Z"
   },
   {
    "duration": 182,
    "start_time": "2023-03-15T11:06:04.690Z"
   },
   {
    "duration": 508,
    "start_time": "2023-03-15T11:09:16.915Z"
   },
   {
    "duration": 20,
    "start_time": "2023-03-15T11:09:17.425Z"
   },
   {
    "duration": 4,
    "start_time": "2023-03-15T11:09:17.447Z"
   },
   {
    "duration": 16,
    "start_time": "2023-03-15T11:09:17.471Z"
   },
   {
    "duration": 15,
    "start_time": "2023-03-15T11:09:17.489Z"
   },
   {
    "duration": 2651,
    "start_time": "2023-03-15T11:09:17.506Z"
   },
   {
    "duration": 12,
    "start_time": "2023-03-15T11:09:20.159Z"
   },
   {
    "duration": 7,
    "start_time": "2023-03-15T11:09:20.173Z"
   },
   {
    "duration": 6,
    "start_time": "2023-03-15T11:09:20.182Z"
   },
   {
    "duration": 6,
    "start_time": "2023-03-15T11:09:20.191Z"
   },
   {
    "duration": 21,
    "start_time": "2023-03-15T11:09:20.199Z"
   },
   {
    "duration": 14,
    "start_time": "2023-03-15T11:09:20.222Z"
   },
   {
    "duration": 6,
    "start_time": "2023-03-15T11:09:20.237Z"
   },
   {
    "duration": 25,
    "start_time": "2023-03-15T11:09:20.245Z"
   },
   {
    "duration": 16,
    "start_time": "2023-03-15T11:09:20.272Z"
   },
   {
    "duration": 24,
    "start_time": "2023-03-15T11:09:20.289Z"
   },
   {
    "duration": 11,
    "start_time": "2023-03-15T11:09:20.315Z"
   },
   {
    "duration": 36,
    "start_time": "2023-03-15T11:09:20.328Z"
   },
   {
    "duration": 25,
    "start_time": "2023-03-15T11:09:20.366Z"
   },
   {
    "duration": 49,
    "start_time": "2023-03-15T11:09:20.394Z"
   },
   {
    "duration": 9,
    "start_time": "2023-03-15T11:09:20.445Z"
   },
   {
    "duration": 26,
    "start_time": "2023-03-15T11:09:20.456Z"
   },
   {
    "duration": 6,
    "start_time": "2023-03-15T11:09:20.484Z"
   },
   {
    "duration": 6,
    "start_time": "2023-03-15T11:09:20.491Z"
   },
   {
    "duration": 6,
    "start_time": "2023-03-15T11:09:20.498Z"
   },
   {
    "duration": 7,
    "start_time": "2023-03-15T11:09:20.506Z"
   },
   {
    "duration": 11,
    "start_time": "2023-03-15T11:09:20.515Z"
   },
   {
    "duration": 4,
    "start_time": "2023-03-15T11:09:20.530Z"
   },
   {
    "duration": 34,
    "start_time": "2023-03-15T11:09:20.536Z"
   },
   {
    "duration": 13,
    "start_time": "2023-03-15T11:09:20.572Z"
   },
   {
    "duration": 97,
    "start_time": "2023-03-15T11:09:20.586Z"
   },
   {
    "duration": 169,
    "start_time": "2023-03-15T11:09:20.684Z"
   },
   {
    "duration": 28,
    "start_time": "2023-03-15T11:09:20.855Z"
   },
   {
    "duration": 17,
    "start_time": "2023-03-15T11:09:20.884Z"
   },
   {
    "duration": 6,
    "start_time": "2023-03-15T11:09:20.903Z"
   },
   {
    "duration": 17,
    "start_time": "2023-03-15T11:09:20.910Z"
   },
   {
    "duration": 184,
    "start_time": "2023-03-15T11:09:20.929Z"
   },
   {
    "duration": 120,
    "start_time": "2023-03-15T11:09:21.115Z"
   },
   {
    "duration": 16,
    "start_time": "2023-03-15T11:09:21.236Z"
   },
   {
    "duration": 236,
    "start_time": "2023-03-15T11:09:21.254Z"
   },
   {
    "duration": 6,
    "start_time": "2023-03-15T11:09:21.492Z"
   },
   {
    "duration": 19,
    "start_time": "2023-03-15T11:09:21.499Z"
   },
   {
    "duration": 14,
    "start_time": "2023-03-15T11:09:21.520Z"
   },
   {
    "duration": 211,
    "start_time": "2023-03-15T11:09:21.536Z"
   },
   {
    "duration": 20,
    "start_time": "2023-03-15T11:09:21.749Z"
   },
   {
    "duration": 16,
    "start_time": "2023-03-15T11:09:21.770Z"
   },
   {
    "duration": 10,
    "start_time": "2023-03-15T11:09:21.788Z"
   },
   {
    "duration": 212,
    "start_time": "2023-03-15T11:09:21.800Z"
   },
   {
    "duration": 6,
    "start_time": "2023-03-15T11:09:22.013Z"
   },
   {
    "duration": 19,
    "start_time": "2023-03-15T11:09:22.020Z"
   },
   {
    "duration": 15,
    "start_time": "2023-03-15T11:09:22.041Z"
   },
   {
    "duration": 180,
    "start_time": "2023-03-15T11:09:22.068Z"
   },
   {
    "duration": 7,
    "start_time": "2023-03-15T11:09:22.249Z"
   },
   {
    "duration": 28,
    "start_time": "2023-03-15T11:09:22.257Z"
   },
   {
    "duration": 15,
    "start_time": "2023-03-15T11:09:22.287Z"
   },
   {
    "duration": 189,
    "start_time": "2023-03-15T11:09:22.304Z"
   },
   {
    "duration": 7,
    "start_time": "2023-03-15T11:09:22.495Z"
   },
   {
    "duration": 12,
    "start_time": "2023-03-15T11:09:22.504Z"
   },
   {
    "duration": 189,
    "start_time": "2023-03-15T11:09:22.518Z"
   },
   {
    "duration": 6,
    "start_time": "2023-03-15T11:09:22.709Z"
   },
   {
    "duration": 23,
    "start_time": "2023-03-15T11:09:22.717Z"
   },
   {
    "duration": 36,
    "start_time": "2023-03-15T11:09:22.742Z"
   },
   {
    "duration": 204,
    "start_time": "2023-03-15T11:09:22.780Z"
   },
   {
    "duration": 7,
    "start_time": "2023-03-15T11:09:22.986Z"
   },
   {
    "duration": 175,
    "start_time": "2023-03-15T11:09:22.995Z"
   },
   {
    "duration": 16,
    "start_time": "2023-03-15T11:09:23.172Z"
   },
   {
    "duration": 193,
    "start_time": "2023-03-15T11:09:23.190Z"
   },
   {
    "duration": 7,
    "start_time": "2023-03-15T11:09:23.385Z"
   },
   {
    "duration": 160,
    "start_time": "2023-03-15T11:09:23.394Z"
   },
   {
    "duration": 14,
    "start_time": "2023-03-15T11:09:23.556Z"
   },
   {
    "duration": 265,
    "start_time": "2023-03-15T11:09:23.571Z"
   },
   {
    "duration": 6,
    "start_time": "2023-03-15T11:09:23.838Z"
   },
   {
    "duration": 187,
    "start_time": "2023-03-15T11:09:23.845Z"
   },
   {
    "duration": 9,
    "start_time": "2023-03-15T11:09:24.034Z"
   },
   {
    "duration": 186,
    "start_time": "2023-03-15T11:09:24.045Z"
   },
   {
    "duration": 5,
    "start_time": "2023-03-15T11:09:24.233Z"
   },
   {
    "duration": 209,
    "start_time": "2023-03-15T11:09:24.241Z"
   },
   {
    "duration": 7,
    "start_time": "2023-03-15T11:09:24.452Z"
   },
   {
    "duration": 15,
    "start_time": "2023-03-15T11:09:24.470Z"
   },
   {
    "duration": 264,
    "start_time": "2023-03-15T11:09:24.487Z"
   },
   {
    "duration": 17,
    "start_time": "2023-03-15T11:09:24.753Z"
   },
   {
    "duration": 82,
    "start_time": "2023-03-15T11:09:24.776Z"
   },
   {
    "duration": 9,
    "start_time": "2023-03-15T11:09:24.868Z"
   },
   {
    "duration": 2,
    "start_time": "2023-03-15T11:09:24.879Z"
   },
   {
    "duration": 30,
    "start_time": "2023-03-15T11:09:24.883Z"
   },
   {
    "duration": 23,
    "start_time": "2023-03-15T11:09:24.915Z"
   },
   {
    "duration": 33,
    "start_time": "2023-03-15T11:09:24.939Z"
   },
   {
    "duration": 34,
    "start_time": "2023-03-15T11:09:24.974Z"
   },
   {
    "duration": 8,
    "start_time": "2023-03-15T11:09:25.009Z"
   },
   {
    "duration": 18,
    "start_time": "2023-03-15T11:09:25.019Z"
   },
   {
    "duration": 7,
    "start_time": "2023-03-15T11:09:25.039Z"
   },
   {
    "duration": 333,
    "start_time": "2023-03-15T11:09:25.047Z"
   },
   {
    "duration": 7,
    "start_time": "2023-03-15T11:09:25.381Z"
   },
   {
    "duration": 25,
    "start_time": "2023-03-15T11:09:25.390Z"
   },
   {
    "duration": 33,
    "start_time": "2023-03-15T11:09:25.416Z"
   },
   {
    "duration": 275,
    "start_time": "2023-03-15T11:09:25.451Z"
   },
   {
    "duration": 371,
    "start_time": "2023-03-15T11:09:25.728Z"
   },
   {
    "duration": 268,
    "start_time": "2023-03-15T11:09:26.101Z"
   },
   {
    "duration": 208,
    "start_time": "2023-03-15T11:09:26.371Z"
   },
   {
    "duration": 160,
    "start_time": "2023-03-15T11:09:26.581Z"
   },
   {
    "duration": 151,
    "start_time": "2023-03-15T11:09:26.743Z"
   },
   {
    "duration": 192,
    "start_time": "2023-03-15T11:09:26.896Z"
   },
   {
    "duration": 135,
    "start_time": "2023-03-15T11:09:27.090Z"
   },
   {
    "duration": 167,
    "start_time": "2023-03-15T11:09:27.227Z"
   },
   {
    "duration": 262,
    "start_time": "2023-03-15T11:09:27.396Z"
   },
   {
    "duration": 212,
    "start_time": "2023-03-15T11:09:27.659Z"
   },
   {
    "duration": 247,
    "start_time": "2023-03-15T11:09:27.873Z"
   },
   {
    "duration": 335,
    "start_time": "2023-03-15T11:09:28.122Z"
   },
   {
    "duration": 175,
    "start_time": "2023-03-15T11:09:28.459Z"
   },
   {
    "duration": 284,
    "start_time": "2023-03-15T11:09:28.636Z"
   },
   {
    "duration": 289,
    "start_time": "2023-03-15T11:09:28.922Z"
   },
   {
    "duration": 6,
    "start_time": "2023-03-15T11:09:29.213Z"
   },
   {
    "duration": 15,
    "start_time": "2023-03-15T11:09:29.221Z"
   },
   {
    "duration": 155,
    "start_time": "2023-03-15T11:09:29.238Z"
   },
   {
    "duration": 6,
    "start_time": "2023-03-15T11:09:29.395Z"
   },
   {
    "duration": 227,
    "start_time": "2023-03-15T11:09:29.403Z"
   },
   {
    "duration": 6,
    "start_time": "2023-03-15T11:09:29.632Z"
   },
   {
    "duration": 261,
    "start_time": "2023-03-15T11:09:29.640Z"
   },
   {
    "duration": 6,
    "start_time": "2023-03-15T11:09:29.903Z"
   },
   {
    "duration": 236,
    "start_time": "2023-03-15T11:09:29.911Z"
   },
   {
    "duration": 7,
    "start_time": "2023-03-15T11:09:30.149Z"
   },
   {
    "duration": 230,
    "start_time": "2023-03-15T11:09:30.169Z"
   },
   {
    "duration": 883,
    "start_time": "2023-03-15T11:09:30.401Z"
   },
   {
    "duration": 232,
    "start_time": "2023-03-15T11:09:31.286Z"
   },
   {
    "duration": 6,
    "start_time": "2023-03-15T11:09:31.520Z"
   },
   {
    "duration": 354,
    "start_time": "2023-03-15T11:09:31.528Z"
   },
   {
    "duration": 344,
    "start_time": "2023-03-15T11:17:24.906Z"
   },
   {
    "duration": 169,
    "start_time": "2023-03-15T11:18:05.010Z"
   },
   {
    "duration": 7,
    "start_time": "2023-03-15T11:34:07.511Z"
   },
   {
    "duration": 6,
    "start_time": "2023-03-15T11:35:16.358Z"
   },
   {
    "duration": 6,
    "start_time": "2023-03-15T11:35:18.407Z"
   },
   {
    "duration": 151,
    "start_time": "2023-03-15T11:42:45.312Z"
   },
   {
    "duration": 179,
    "start_time": "2023-03-15T11:43:39.230Z"
   },
   {
    "duration": 173,
    "start_time": "2023-03-15T11:44:10.721Z"
   },
   {
    "duration": 507,
    "start_time": "2023-03-15T20:49:34.893Z"
   },
   {
    "duration": 24,
    "start_time": "2023-03-15T20:49:35.402Z"
   },
   {
    "duration": 4,
    "start_time": "2023-03-15T20:49:35.441Z"
   },
   {
    "duration": 23,
    "start_time": "2023-03-15T20:49:35.449Z"
   },
   {
    "duration": 14,
    "start_time": "2023-03-15T20:49:35.474Z"
   },
   {
    "duration": 2961,
    "start_time": "2023-03-15T20:49:35.490Z"
   },
   {
    "duration": 12,
    "start_time": "2023-03-15T20:49:38.453Z"
   },
   {
    "duration": 7,
    "start_time": "2023-03-15T20:49:38.467Z"
   },
   {
    "duration": 7,
    "start_time": "2023-03-15T20:49:38.475Z"
   },
   {
    "duration": 13,
    "start_time": "2023-03-15T20:49:38.485Z"
   },
   {
    "duration": 6,
    "start_time": "2023-03-15T20:49:38.501Z"
   },
   {
    "duration": 44,
    "start_time": "2023-03-15T20:49:38.509Z"
   },
   {
    "duration": 7,
    "start_time": "2023-03-15T20:49:38.555Z"
   },
   {
    "duration": 4,
    "start_time": "2023-03-15T20:49:38.564Z"
   },
   {
    "duration": 13,
    "start_time": "2023-03-15T20:49:38.570Z"
   },
   {
    "duration": 20,
    "start_time": "2023-03-15T20:49:38.585Z"
   },
   {
    "duration": 41,
    "start_time": "2023-03-15T20:49:38.607Z"
   },
   {
    "duration": 13,
    "start_time": "2023-03-15T20:49:38.650Z"
   },
   {
    "duration": 38,
    "start_time": "2023-03-15T20:49:38.665Z"
   },
   {
    "duration": 95,
    "start_time": "2023-03-15T20:49:38.705Z"
   },
   {
    "duration": 11,
    "start_time": "2023-03-15T20:49:38.802Z"
   },
   {
    "duration": 38,
    "start_time": "2023-03-15T20:49:38.815Z"
   },
   {
    "duration": 10,
    "start_time": "2023-03-15T20:49:38.855Z"
   },
   {
    "duration": 10,
    "start_time": "2023-03-15T20:49:38.867Z"
   },
   {
    "duration": 16,
    "start_time": "2023-03-15T20:49:38.879Z"
   },
   {
    "duration": 10,
    "start_time": "2023-03-15T20:49:38.897Z"
   },
   {
    "duration": 33,
    "start_time": "2023-03-15T20:49:38.909Z"
   },
   {
    "duration": 5,
    "start_time": "2023-03-15T20:49:38.947Z"
   },
   {
    "duration": 8,
    "start_time": "2023-03-15T20:49:38.954Z"
   },
   {
    "duration": 21,
    "start_time": "2023-03-15T20:49:38.964Z"
   },
   {
    "duration": 114,
    "start_time": "2023-03-15T20:49:38.987Z"
   },
   {
    "duration": 196,
    "start_time": "2023-03-15T20:49:39.103Z"
   },
   {
    "duration": 23,
    "start_time": "2023-03-15T20:49:39.301Z"
   },
   {
    "duration": 36,
    "start_time": "2023-03-15T20:49:39.325Z"
   },
   {
    "duration": 9,
    "start_time": "2023-03-15T20:49:39.364Z"
   },
   {
    "duration": 18,
    "start_time": "2023-03-15T20:49:39.375Z"
   },
   {
    "duration": 215,
    "start_time": "2023-03-15T20:49:39.395Z"
   },
   {
    "duration": 120,
    "start_time": "2023-03-15T20:49:39.612Z"
   },
   {
    "duration": 20,
    "start_time": "2023-03-15T20:49:39.733Z"
   },
   {
    "duration": 224,
    "start_time": "2023-03-15T20:49:39.755Z"
   },
   {
    "duration": 6,
    "start_time": "2023-03-15T20:49:39.981Z"
   },
   {
    "duration": 20,
    "start_time": "2023-03-15T20:49:39.989Z"
   },
   {
    "duration": 42,
    "start_time": "2023-03-15T20:49:40.010Z"
   },
   {
    "duration": 204,
    "start_time": "2023-03-15T20:49:40.054Z"
   },
   {
    "duration": 8,
    "start_time": "2023-03-15T20:49:40.261Z"
   },
   {
    "duration": 18,
    "start_time": "2023-03-15T20:49:40.272Z"
   },
   {
    "duration": 37,
    "start_time": "2023-03-15T20:49:40.292Z"
   },
   {
    "duration": 231,
    "start_time": "2023-03-15T20:49:40.331Z"
   },
   {
    "duration": 6,
    "start_time": "2023-03-15T20:49:40.564Z"
   },
   {
    "duration": 65,
    "start_time": "2023-03-15T20:49:40.572Z"
   },
   {
    "duration": 22,
    "start_time": "2023-03-15T20:49:40.639Z"
   },
   {
    "duration": 209,
    "start_time": "2023-03-15T20:49:40.663Z"
   },
   {
    "duration": 8,
    "start_time": "2023-03-15T20:49:40.874Z"
   },
   {
    "duration": 40,
    "start_time": "2023-03-15T20:49:40.884Z"
   },
   {
    "duration": 31,
    "start_time": "2023-03-15T20:49:40.926Z"
   },
   {
    "duration": 187,
    "start_time": "2023-03-15T20:49:40.959Z"
   },
   {
    "duration": 8,
    "start_time": "2023-03-15T20:49:41.148Z"
   },
   {
    "duration": 20,
    "start_time": "2023-03-15T20:49:41.157Z"
   },
   {
    "duration": 191,
    "start_time": "2023-03-15T20:49:41.179Z"
   },
   {
    "duration": 7,
    "start_time": "2023-03-15T20:49:41.372Z"
   },
   {
    "duration": 25,
    "start_time": "2023-03-15T20:49:41.381Z"
   },
   {
    "duration": 38,
    "start_time": "2023-03-15T20:49:41.408Z"
   },
   {
    "duration": 199,
    "start_time": "2023-03-15T20:49:41.448Z"
   },
   {
    "duration": 6,
    "start_time": "2023-03-15T20:49:41.649Z"
   },
   {
    "duration": 170,
    "start_time": "2023-03-15T20:49:41.657Z"
   },
   {
    "duration": 22,
    "start_time": "2023-03-15T20:49:41.829Z"
   },
   {
    "duration": 188,
    "start_time": "2023-03-15T20:49:41.853Z"
   },
   {
    "duration": 10,
    "start_time": "2023-03-15T20:49:42.043Z"
   },
   {
    "duration": 203,
    "start_time": "2023-03-15T20:49:42.055Z"
   },
   {
    "duration": 7,
    "start_time": "2023-03-15T20:49:42.260Z"
   },
   {
    "duration": 291,
    "start_time": "2023-03-15T20:49:42.270Z"
   },
   {
    "duration": 7,
    "start_time": "2023-03-15T20:49:42.563Z"
   },
   {
    "duration": 172,
    "start_time": "2023-03-15T20:49:42.572Z"
   },
   {
    "duration": 6,
    "start_time": "2023-03-15T20:49:42.746Z"
   },
   {
    "duration": 152,
    "start_time": "2023-03-15T20:49:42.754Z"
   },
   {
    "duration": 7,
    "start_time": "2023-03-15T20:49:42.908Z"
   },
   {
    "duration": 208,
    "start_time": "2023-03-15T20:49:42.917Z"
   },
   {
    "duration": 15,
    "start_time": "2023-03-15T20:49:43.127Z"
   },
   {
    "duration": 15,
    "start_time": "2023-03-15T20:49:43.143Z"
   },
   {
    "duration": 274,
    "start_time": "2023-03-15T20:49:43.159Z"
   },
   {
    "duration": 11,
    "start_time": "2023-03-15T20:49:43.434Z"
   },
   {
    "duration": 102,
    "start_time": "2023-03-15T20:49:43.451Z"
   },
   {
    "duration": 9,
    "start_time": "2023-03-15T20:49:43.554Z"
   },
   {
    "duration": 3,
    "start_time": "2023-03-15T20:49:43.565Z"
   },
   {
    "duration": 29,
    "start_time": "2023-03-15T20:49:43.569Z"
   },
   {
    "duration": 52,
    "start_time": "2023-03-15T20:49:43.600Z"
   },
   {
    "duration": 7,
    "start_time": "2023-03-15T20:49:43.654Z"
   },
   {
    "duration": 32,
    "start_time": "2023-03-15T20:49:43.663Z"
   },
   {
    "duration": 8,
    "start_time": "2023-03-15T20:49:43.697Z"
   },
   {
    "duration": 37,
    "start_time": "2023-03-15T20:49:43.706Z"
   },
   {
    "duration": 9,
    "start_time": "2023-03-15T20:49:43.745Z"
   },
   {
    "duration": 318,
    "start_time": "2023-03-15T20:49:43.756Z"
   },
   {
    "duration": 6,
    "start_time": "2023-03-15T20:49:44.076Z"
   },
   {
    "duration": 17,
    "start_time": "2023-03-15T20:49:44.084Z"
   },
   {
    "duration": 61,
    "start_time": "2023-03-15T20:49:44.103Z"
   },
   {
    "duration": 281,
    "start_time": "2023-03-15T20:49:44.167Z"
   },
   {
    "duration": 423,
    "start_time": "2023-03-15T20:49:44.450Z"
   },
   {
    "duration": 293,
    "start_time": "2023-03-15T20:49:44.874Z"
   },
   {
    "duration": 216,
    "start_time": "2023-03-15T20:49:45.169Z"
   },
   {
    "duration": 172,
    "start_time": "2023-03-15T20:49:45.387Z"
   },
   {
    "duration": 168,
    "start_time": "2023-03-15T20:49:45.561Z"
   },
   {
    "duration": 219,
    "start_time": "2023-03-15T20:49:45.730Z"
   },
   {
    "duration": 138,
    "start_time": "2023-03-15T20:49:45.951Z"
   },
   {
    "duration": 179,
    "start_time": "2023-03-15T20:49:46.091Z"
   },
   {
    "duration": 254,
    "start_time": "2023-03-15T20:49:46.273Z"
   },
   {
    "duration": 212,
    "start_time": "2023-03-15T20:49:46.529Z"
   },
   {
    "duration": 279,
    "start_time": "2023-03-15T20:49:46.743Z"
   },
   {
    "duration": 325,
    "start_time": "2023-03-15T20:49:47.024Z"
   },
   {
    "duration": 199,
    "start_time": "2023-03-15T20:49:47.350Z"
   },
   {
    "duration": 343,
    "start_time": "2023-03-15T20:49:47.555Z"
   },
   {
    "duration": 293,
    "start_time": "2023-03-15T20:49:47.900Z"
   },
   {
    "duration": 8,
    "start_time": "2023-03-15T20:49:48.195Z"
   },
   {
    "duration": 14,
    "start_time": "2023-03-15T20:49:48.205Z"
   },
   {
    "duration": 136,
    "start_time": "2023-03-15T20:49:48.242Z"
   },
   {
    "duration": 7,
    "start_time": "2023-03-15T20:49:48.379Z"
   },
   {
    "duration": 221,
    "start_time": "2023-03-15T20:49:48.387Z"
   },
   {
    "duration": 6,
    "start_time": "2023-03-15T20:49:48.610Z"
   },
   {
    "duration": 244,
    "start_time": "2023-03-15T20:49:48.619Z"
   },
   {
    "duration": 7,
    "start_time": "2023-03-15T20:49:48.865Z"
   },
   {
    "duration": 216,
    "start_time": "2023-03-15T20:49:48.876Z"
   },
   {
    "duration": 7,
    "start_time": "2023-03-15T20:49:49.094Z"
   },
   {
    "duration": 180,
    "start_time": "2023-03-15T20:49:49.102Z"
   },
   {
    "duration": 148,
    "start_time": "2023-03-15T20:49:49.284Z"
   },
   {
    "duration": 11,
    "start_time": "2023-03-15T20:49:49.434Z"
   },
   {
    "duration": 177,
    "start_time": "2023-03-15T20:49:49.447Z"
   },
   {
    "duration": 7,
    "start_time": "2023-03-15T20:49:49.626Z"
   },
   {
    "duration": 168,
    "start_time": "2023-03-15T20:49:49.641Z"
   },
   {
    "duration": 6,
    "start_time": "2023-03-15T20:49:49.811Z"
   },
   {
    "duration": 200,
    "start_time": "2023-03-15T20:49:49.819Z"
   },
   {
    "duration": 236,
    "start_time": "2023-03-15T20:49:50.021Z"
   },
   {
    "duration": 9,
    "start_time": "2023-03-15T20:49:50.259Z"
   },
   {
    "duration": 306,
    "start_time": "2023-03-15T20:49:50.271Z"
   },
   {
    "duration": 111,
    "start_time": "2023-03-16T11:35:34.347Z"
   },
   {
    "duration": 1045,
    "start_time": "2023-03-16T11:35:48.937Z"
   },
   {
    "duration": 38,
    "start_time": "2023-03-16T11:35:49.985Z"
   },
   {
    "duration": 9,
    "start_time": "2023-03-16T11:35:50.025Z"
   },
   {
    "duration": 39,
    "start_time": "2023-03-16T11:35:50.037Z"
   },
   {
    "duration": 26,
    "start_time": "2023-03-16T11:35:50.085Z"
   },
   {
    "duration": 4546,
    "start_time": "2023-03-16T11:35:50.118Z"
   },
   {
    "duration": 71,
    "start_time": "2023-03-16T11:35:54.683Z"
   },
   {
    "duration": 20,
    "start_time": "2023-03-16T11:35:54.764Z"
   },
   {
    "duration": 30,
    "start_time": "2023-03-16T11:35:54.786Z"
   },
   {
    "duration": 21,
    "start_time": "2023-03-16T11:35:54.818Z"
   },
   {
    "duration": 11,
    "start_time": "2023-03-16T11:35:54.841Z"
   },
   {
    "duration": 41,
    "start_time": "2023-03-16T11:35:54.860Z"
   },
   {
    "duration": 20,
    "start_time": "2023-03-16T11:35:54.904Z"
   },
   {
    "duration": 10,
    "start_time": "2023-03-16T11:35:54.936Z"
   },
   {
    "duration": 21,
    "start_time": "2023-03-16T11:35:54.956Z"
   },
   {
    "duration": 46,
    "start_time": "2023-03-16T11:35:54.980Z"
   },
   {
    "duration": 38,
    "start_time": "2023-03-16T11:35:55.029Z"
   },
   {
    "duration": 27,
    "start_time": "2023-03-16T11:35:55.069Z"
   },
   {
    "duration": 81,
    "start_time": "2023-03-16T11:35:55.106Z"
   },
   {
    "duration": 98,
    "start_time": "2023-03-16T11:35:55.189Z"
   },
   {
    "duration": 20,
    "start_time": "2023-03-16T11:35:55.294Z"
   },
   {
    "duration": 25,
    "start_time": "2023-03-16T11:35:55.321Z"
   },
   {
    "duration": 18,
    "start_time": "2023-03-16T11:35:55.353Z"
   },
   {
    "duration": 15,
    "start_time": "2023-03-16T11:35:55.380Z"
   },
   {
    "duration": 23,
    "start_time": "2023-03-16T11:35:55.406Z"
   },
   {
    "duration": 19,
    "start_time": "2023-03-16T11:35:55.440Z"
   },
   {
    "duration": 19,
    "start_time": "2023-03-16T11:35:55.467Z"
   },
   {
    "duration": 10,
    "start_time": "2023-03-16T11:35:55.492Z"
   },
   {
    "duration": 43,
    "start_time": "2023-03-16T11:35:55.511Z"
   },
   {
    "duration": 39,
    "start_time": "2023-03-16T11:35:55.562Z"
   },
   {
    "duration": 154,
    "start_time": "2023-03-16T11:35:55.610Z"
   },
   {
    "duration": 313,
    "start_time": "2023-03-16T11:35:55.771Z"
   },
   {
    "duration": 174,
    "start_time": "2023-03-16T11:35:56.091Z"
   },
   {
    "duration": 39,
    "start_time": "2023-03-16T11:35:56.277Z"
   },
   {
    "duration": 13,
    "start_time": "2023-03-16T11:35:56.324Z"
   },
   {
    "duration": 45,
    "start_time": "2023-03-16T11:35:56.345Z"
   },
   {
    "duration": 289,
    "start_time": "2023-03-16T11:35:56.402Z"
   },
   {
    "duration": 44,
    "start_time": "2023-03-16T11:35:56.698Z"
   },
   {
    "duration": 43,
    "start_time": "2023-03-16T11:35:56.749Z"
   },
   {
    "duration": 350,
    "start_time": "2023-03-16T11:35:56.798Z"
   },
   {
    "duration": 15,
    "start_time": "2023-03-16T11:35:57.162Z"
   },
   {
    "duration": 89,
    "start_time": "2023-03-16T11:35:57.187Z"
   },
   {
    "duration": 54,
    "start_time": "2023-03-16T11:35:57.279Z"
   },
   {
    "duration": 423,
    "start_time": "2023-03-16T11:35:57.339Z"
   },
   {
    "duration": 14,
    "start_time": "2023-03-16T11:35:57.768Z"
   },
   {
    "duration": 57,
    "start_time": "2023-03-16T11:35:57.789Z"
   },
   {
    "duration": 38,
    "start_time": "2023-03-16T11:35:57.853Z"
   },
   {
    "duration": 429,
    "start_time": "2023-03-16T11:35:57.906Z"
   },
   {
    "duration": 12,
    "start_time": "2023-03-16T11:35:58.342Z"
   },
   {
    "duration": 74,
    "start_time": "2023-03-16T11:35:58.360Z"
   },
   {
    "duration": 24,
    "start_time": "2023-03-16T11:35:58.446Z"
   },
   {
    "duration": 346,
    "start_time": "2023-03-16T11:35:58.476Z"
   },
   {
    "duration": 18,
    "start_time": "2023-03-16T11:35:58.830Z"
   },
   {
    "duration": 59,
    "start_time": "2023-03-16T11:35:58.855Z"
   },
   {
    "duration": 52,
    "start_time": "2023-03-16T11:35:58.926Z"
   },
   {
    "duration": 335,
    "start_time": "2023-03-16T11:35:58.987Z"
   },
   {
    "duration": 16,
    "start_time": "2023-03-16T11:35:59.333Z"
   },
   {
    "duration": 77,
    "start_time": "2023-03-16T11:35:59.353Z"
   },
   {
    "duration": 328,
    "start_time": "2023-03-16T11:35:59.440Z"
   },
   {
    "duration": 12,
    "start_time": "2023-03-16T11:35:59.775Z"
   },
   {
    "duration": 40,
    "start_time": "2023-03-16T11:35:59.794Z"
   },
   {
    "duration": 30,
    "start_time": "2023-03-16T11:35:59.841Z"
   },
   {
    "duration": 323,
    "start_time": "2023-03-16T11:35:59.878Z"
   },
   {
    "duration": 16,
    "start_time": "2023-03-16T11:36:00.204Z"
   },
   {
    "duration": 485,
    "start_time": "2023-03-16T11:36:00.223Z"
   },
   {
    "duration": 24,
    "start_time": "2023-03-16T11:36:00.717Z"
   },
   {
    "duration": 328,
    "start_time": "2023-03-16T11:36:00.748Z"
   },
   {
    "duration": 26,
    "start_time": "2023-03-16T11:36:01.086Z"
   },
   {
    "duration": 326,
    "start_time": "2023-03-16T11:36:01.119Z"
   },
   {
    "duration": 21,
    "start_time": "2023-03-16T11:36:01.452Z"
   },
   {
    "duration": 275,
    "start_time": "2023-03-16T11:36:01.480Z"
   },
   {
    "duration": 8,
    "start_time": "2023-03-16T11:36:01.758Z"
   },
   {
    "duration": 339,
    "start_time": "2023-03-16T11:36:01.768Z"
   },
   {
    "duration": 10,
    "start_time": "2023-03-16T11:36:02.110Z"
   },
   {
    "duration": 260,
    "start_time": "2023-03-16T11:36:02.123Z"
   },
   {
    "duration": 47,
    "start_time": "2023-03-16T11:36:02.390Z"
   },
   {
    "duration": 363,
    "start_time": "2023-03-16T11:36:02.444Z"
   },
   {
    "duration": 17,
    "start_time": "2023-03-16T11:36:02.816Z"
   },
   {
    "duration": 37,
    "start_time": "2023-03-16T11:36:02.841Z"
   },
   {
    "duration": 463,
    "start_time": "2023-03-16T11:36:02.885Z"
   },
   {
    "duration": 22,
    "start_time": "2023-03-16T11:36:03.355Z"
   },
   {
    "duration": 157,
    "start_time": "2023-03-16T11:36:03.389Z"
   },
   {
    "duration": 31,
    "start_time": "2023-03-16T11:36:03.555Z"
   },
   {
    "duration": 12,
    "start_time": "2023-03-16T11:36:03.593Z"
   },
   {
    "duration": 71,
    "start_time": "2023-03-16T11:36:03.617Z"
   },
   {
    "duration": 49,
    "start_time": "2023-03-16T11:36:03.705Z"
   },
   {
    "duration": 31,
    "start_time": "2023-03-16T11:36:03.756Z"
   },
   {
    "duration": 66,
    "start_time": "2023-03-16T11:36:03.792Z"
   },
   {
    "duration": 12,
    "start_time": "2023-03-16T11:36:03.862Z"
   },
   {
    "duration": 15,
    "start_time": "2023-03-16T11:36:03.876Z"
   },
   {
    "duration": 14,
    "start_time": "2023-03-16T11:36:03.892Z"
   },
   {
    "duration": 493,
    "start_time": "2023-03-16T11:36:03.908Z"
   },
   {
    "duration": 9,
    "start_time": "2023-03-16T11:36:04.403Z"
   },
   {
    "duration": 74,
    "start_time": "2023-03-16T11:36:04.415Z"
   },
   {
    "duration": 78,
    "start_time": "2023-03-16T11:36:04.494Z"
   },
   {
    "duration": 551,
    "start_time": "2023-03-16T11:36:04.574Z"
   },
   {
    "duration": 348,
    "start_time": "2023-03-16T11:36:05.131Z"
   },
   {
    "duration": 355,
    "start_time": "2023-03-16T11:36:05.487Z"
   },
   {
    "duration": 295,
    "start_time": "2023-03-16T11:36:05.847Z"
   },
   {
    "duration": 213,
    "start_time": "2023-03-16T11:36:06.149Z"
   },
   {
    "duration": 285,
    "start_time": "2023-03-16T11:36:06.373Z"
   },
   {
    "duration": 397,
    "start_time": "2023-03-16T11:36:06.668Z"
   },
   {
    "duration": 265,
    "start_time": "2023-03-16T11:36:07.077Z"
   },
   {
    "duration": 293,
    "start_time": "2023-03-16T11:36:07.348Z"
   },
   {
    "duration": 511,
    "start_time": "2023-03-16T11:36:07.647Z"
   },
   {
    "duration": 403,
    "start_time": "2023-03-16T11:36:08.169Z"
   },
   {
    "duration": 596,
    "start_time": "2023-03-16T11:36:08.580Z"
   },
   {
    "duration": 250,
    "start_time": "2023-03-16T11:36:09.185Z"
   },
   {
    "duration": 248,
    "start_time": "2023-03-16T11:36:09.437Z"
   },
   {
    "duration": 390,
    "start_time": "2023-03-16T11:36:09.688Z"
   },
   {
    "duration": 452,
    "start_time": "2023-03-16T11:36:10.083Z"
   },
   {
    "duration": 46,
    "start_time": "2023-03-16T11:36:10.544Z"
   },
   {
    "duration": 21,
    "start_time": "2023-03-16T11:36:10.595Z"
   },
   {
    "duration": 195,
    "start_time": "2023-03-16T11:36:10.622Z"
   },
   {
    "duration": 12,
    "start_time": "2023-03-16T11:36:10.822Z"
   },
   {
    "duration": 351,
    "start_time": "2023-03-16T11:36:10.840Z"
   },
   {
    "duration": 8,
    "start_time": "2023-03-16T11:36:11.197Z"
   },
   {
    "duration": 312,
    "start_time": "2023-03-16T11:36:11.211Z"
   },
   {
    "duration": 16,
    "start_time": "2023-03-16T11:36:11.528Z"
   },
   {
    "duration": 327,
    "start_time": "2023-03-16T11:36:11.557Z"
   },
   {
    "duration": 9,
    "start_time": "2023-03-16T11:36:11.889Z"
   },
   {
    "duration": 213,
    "start_time": "2023-03-16T11:36:11.912Z"
   },
   {
    "duration": 199,
    "start_time": "2023-03-16T11:36:12.130Z"
   },
   {
    "duration": 12,
    "start_time": "2023-03-16T11:36:12.334Z"
   },
   {
    "duration": 296,
    "start_time": "2023-03-16T11:36:12.351Z"
   },
   {
    "duration": 12,
    "start_time": "2023-03-16T11:36:12.652Z"
   },
   {
    "duration": 230,
    "start_time": "2023-03-16T11:36:12.669Z"
   },
   {
    "duration": 9,
    "start_time": "2023-03-16T11:36:12.908Z"
   },
   {
    "duration": 268,
    "start_time": "2023-03-16T11:36:12.922Z"
   },
   {
    "duration": 310,
    "start_time": "2023-03-16T11:36:13.197Z"
   },
   {
    "duration": 14,
    "start_time": "2023-03-16T11:36:13.513Z"
   },
   {
    "duration": 472,
    "start_time": "2023-03-16T11:36:13.533Z"
   },
   {
    "duration": 18,
    "start_time": "2023-03-16T11:36:25.503Z"
   },
   {
    "duration": 162,
    "start_time": "2023-03-16T11:37:29.685Z"
   },
   {
    "duration": 9,
    "start_time": "2023-03-16T11:37:38.735Z"
   },
   {
    "duration": 46,
    "start_time": "2023-03-16T13:48:38.906Z"
   },
   {
    "duration": 595,
    "start_time": "2023-03-16T13:48:51.563Z"
   },
   {
    "duration": 17,
    "start_time": "2023-03-16T13:48:52.160Z"
   },
   {
    "duration": 7,
    "start_time": "2023-03-16T13:48:52.179Z"
   },
   {
    "duration": 18,
    "start_time": "2023-03-16T13:48:52.188Z"
   },
   {
    "duration": 14,
    "start_time": "2023-03-16T13:48:52.208Z"
   },
   {
    "duration": 2913,
    "start_time": "2023-03-16T13:48:52.224Z"
   },
   {
    "duration": 14,
    "start_time": "2023-03-16T13:48:55.140Z"
   },
   {
    "duration": 13,
    "start_time": "2023-03-16T13:48:55.156Z"
   },
   {
    "duration": 6,
    "start_time": "2023-03-16T13:48:55.171Z"
   },
   {
    "duration": 10,
    "start_time": "2023-03-16T13:48:55.179Z"
   },
   {
    "duration": 12,
    "start_time": "2023-03-16T13:48:55.191Z"
   },
   {
    "duration": 14,
    "start_time": "2023-03-16T13:48:55.205Z"
   },
   {
    "duration": 6,
    "start_time": "2023-03-16T13:48:55.220Z"
   },
   {
    "duration": 3,
    "start_time": "2023-03-16T13:48:55.230Z"
   },
   {
    "duration": 14,
    "start_time": "2023-03-16T13:48:55.235Z"
   },
   {
    "duration": 30,
    "start_time": "2023-03-16T13:48:55.250Z"
   },
   {
    "duration": 9,
    "start_time": "2023-03-16T13:48:55.281Z"
   },
   {
    "duration": 8,
    "start_time": "2023-03-16T13:48:55.291Z"
   },
   {
    "duration": 30,
    "start_time": "2023-03-16T13:48:55.300Z"
   },
   {
    "duration": 62,
    "start_time": "2023-03-16T13:48:55.332Z"
   },
   {
    "duration": 9,
    "start_time": "2023-03-16T13:48:55.396Z"
   },
   {
    "duration": 19,
    "start_time": "2023-03-16T13:48:55.407Z"
   },
   {
    "duration": 7,
    "start_time": "2023-03-16T13:48:55.428Z"
   },
   {
    "duration": 34,
    "start_time": "2023-03-16T13:48:55.437Z"
   },
   {
    "duration": 7,
    "start_time": "2023-03-16T13:48:55.473Z"
   },
   {
    "duration": 10,
    "start_time": "2023-03-16T13:48:55.482Z"
   },
   {
    "duration": 9,
    "start_time": "2023-03-16T13:48:55.493Z"
   },
   {
    "duration": 4,
    "start_time": "2023-03-16T13:48:55.504Z"
   },
   {
    "duration": 8,
    "start_time": "2023-03-16T13:48:55.510Z"
   },
   {
    "duration": 15,
    "start_time": "2023-03-16T13:48:55.520Z"
   },
   {
    "duration": 112,
    "start_time": "2023-03-16T13:48:55.536Z"
   },
   {
    "duration": 179,
    "start_time": "2023-03-16T13:48:55.650Z"
   },
   {
    "duration": 98,
    "start_time": "2023-03-16T13:48:55.830Z"
   },
   {
    "duration": 18,
    "start_time": "2023-03-16T13:48:55.929Z"
   },
   {
    "duration": 6,
    "start_time": "2023-03-16T13:48:55.948Z"
   },
   {
    "duration": 25,
    "start_time": "2023-03-16T13:48:55.969Z"
   },
   {
    "duration": 165,
    "start_time": "2023-03-16T13:48:55.996Z"
   },
   {
    "duration": 25,
    "start_time": "2023-03-16T13:48:56.163Z"
   },
   {
    "duration": 14,
    "start_time": "2023-03-16T13:48:56.190Z"
   },
   {
    "duration": 211,
    "start_time": "2023-03-16T13:48:56.206Z"
   },
   {
    "duration": 7,
    "start_time": "2023-03-16T13:48:56.422Z"
   },
   {
    "duration": 26,
    "start_time": "2023-03-16T13:48:56.430Z"
   },
   {
    "duration": 24,
    "start_time": "2023-03-16T13:48:56.457Z"
   },
   {
    "duration": 188,
    "start_time": "2023-03-16T13:48:56.483Z"
   },
   {
    "duration": 6,
    "start_time": "2023-03-16T13:48:56.673Z"
   },
   {
    "duration": 19,
    "start_time": "2023-03-16T13:48:56.680Z"
   },
   {
    "duration": 13,
    "start_time": "2023-03-16T13:48:56.700Z"
   },
   {
    "duration": 211,
    "start_time": "2023-03-16T13:48:56.715Z"
   },
   {
    "duration": 6,
    "start_time": "2023-03-16T13:48:56.928Z"
   },
   {
    "duration": 20,
    "start_time": "2023-03-16T13:48:56.936Z"
   },
   {
    "duration": 17,
    "start_time": "2023-03-16T13:48:56.958Z"
   },
   {
    "duration": 175,
    "start_time": "2023-03-16T13:48:56.977Z"
   },
   {
    "duration": 6,
    "start_time": "2023-03-16T13:48:57.154Z"
   },
   {
    "duration": 19,
    "start_time": "2023-03-16T13:48:57.169Z"
   },
   {
    "duration": 14,
    "start_time": "2023-03-16T13:48:57.190Z"
   },
   {
    "duration": 214,
    "start_time": "2023-03-16T13:48:57.206Z"
   },
   {
    "duration": 7,
    "start_time": "2023-03-16T13:48:57.421Z"
   },
   {
    "duration": 14,
    "start_time": "2023-03-16T13:48:57.430Z"
   },
   {
    "duration": 195,
    "start_time": "2023-03-16T13:48:57.446Z"
   },
   {
    "duration": 6,
    "start_time": "2023-03-16T13:48:57.643Z"
   },
   {
    "duration": 33,
    "start_time": "2023-03-16T13:48:57.651Z"
   },
   {
    "duration": 16,
    "start_time": "2023-03-16T13:48:57.687Z"
   },
   {
    "duration": 206,
    "start_time": "2023-03-16T13:48:57.705Z"
   },
   {
    "duration": 8,
    "start_time": "2023-03-16T13:48:57.912Z"
   },
   {
    "duration": 252,
    "start_time": "2023-03-16T13:48:57.921Z"
   },
   {
    "duration": 14,
    "start_time": "2023-03-16T13:48:58.174Z"
   },
   {
    "duration": 179,
    "start_time": "2023-03-16T13:48:58.190Z"
   },
   {
    "duration": 7,
    "start_time": "2023-03-16T13:48:58.371Z"
   },
   {
    "duration": 160,
    "start_time": "2023-03-16T13:48:58.379Z"
   },
   {
    "duration": 7,
    "start_time": "2023-03-16T13:48:58.541Z"
   },
   {
    "duration": 155,
    "start_time": "2023-03-16T13:48:58.550Z"
   },
   {
    "duration": 5,
    "start_time": "2023-03-16T13:48:58.707Z"
   },
   {
    "duration": 168,
    "start_time": "2023-03-16T13:48:58.714Z"
   },
   {
    "duration": 7,
    "start_time": "2023-03-16T13:48:58.884Z"
   },
   {
    "duration": 153,
    "start_time": "2023-03-16T13:48:58.893Z"
   },
   {
    "duration": 6,
    "start_time": "2023-03-16T13:48:59.047Z"
   },
   {
    "duration": 204,
    "start_time": "2023-03-16T13:48:59.055Z"
   },
   {
    "duration": 13,
    "start_time": "2023-03-16T13:48:59.261Z"
   },
   {
    "duration": 16,
    "start_time": "2023-03-16T13:48:59.276Z"
   },
   {
    "duration": 277,
    "start_time": "2023-03-16T13:48:59.294Z"
   },
   {
    "duration": 6,
    "start_time": "2023-03-16T13:48:59.573Z"
   },
   {
    "duration": 96,
    "start_time": "2023-03-16T13:48:59.580Z"
   },
   {
    "duration": 8,
    "start_time": "2023-03-16T13:48:59.678Z"
   },
   {
    "duration": 3,
    "start_time": "2023-03-16T13:48:59.688Z"
   },
   {
    "duration": 33,
    "start_time": "2023-03-16T13:48:59.692Z"
   },
   {
    "duration": 21,
    "start_time": "2023-03-16T13:48:59.726Z"
   },
   {
    "duration": 25,
    "start_time": "2023-03-16T13:48:59.748Z"
   },
   {
    "duration": 30,
    "start_time": "2023-03-16T13:48:59.774Z"
   },
   {
    "duration": 10,
    "start_time": "2023-03-16T13:48:59.806Z"
   },
   {
    "duration": 7,
    "start_time": "2023-03-16T13:48:59.818Z"
   },
   {
    "duration": 9,
    "start_time": "2023-03-16T13:48:59.826Z"
   },
   {
    "duration": 301,
    "start_time": "2023-03-16T13:48:59.836Z"
   },
   {
    "duration": 7,
    "start_time": "2023-03-16T13:49:00.139Z"
   },
   {
    "duration": 26,
    "start_time": "2023-03-16T13:49:00.147Z"
   },
   {
    "duration": 48,
    "start_time": "2023-03-16T13:49:00.175Z"
   },
   {
    "duration": 362,
    "start_time": "2023-03-16T13:49:00.225Z"
   },
   {
    "duration": 260,
    "start_time": "2023-03-16T13:49:00.589Z"
   },
   {
    "duration": 255,
    "start_time": "2023-03-16T13:49:00.851Z"
   },
   {
    "duration": 205,
    "start_time": "2023-03-16T13:49:01.108Z"
   },
   {
    "duration": 171,
    "start_time": "2023-03-16T13:49:01.316Z"
   },
   {
    "duration": 159,
    "start_time": "2023-03-16T13:49:01.489Z"
   },
   {
    "duration": 198,
    "start_time": "2023-03-16T13:49:01.649Z"
   },
   {
    "duration": 155,
    "start_time": "2023-03-16T13:49:01.848Z"
   },
   {
    "duration": 159,
    "start_time": "2023-03-16T13:49:02.005Z"
   },
   {
    "duration": 243,
    "start_time": "2023-03-16T13:49:02.168Z"
   },
   {
    "duration": 206,
    "start_time": "2023-03-16T13:49:02.413Z"
   },
   {
    "duration": 393,
    "start_time": "2023-03-16T13:49:02.620Z"
   },
   {
    "duration": 162,
    "start_time": "2023-03-16T13:49:03.014Z"
   },
   {
    "duration": 167,
    "start_time": "2023-03-16T13:49:03.178Z"
   },
   {
    "duration": 288,
    "start_time": "2023-03-16T13:49:03.346Z"
   },
   {
    "duration": 265,
    "start_time": "2023-03-16T13:49:03.636Z"
   },
   {
    "duration": 7,
    "start_time": "2023-03-16T13:49:03.903Z"
   },
   {
    "duration": 10,
    "start_time": "2023-03-16T13:49:03.911Z"
   },
   {
    "duration": 127,
    "start_time": "2023-03-16T13:49:03.923Z"
   },
   {
    "duration": 20,
    "start_time": "2023-03-16T13:49:04.051Z"
   },
   {
    "duration": 228,
    "start_time": "2023-03-16T13:49:04.073Z"
   },
   {
    "duration": 7,
    "start_time": "2023-03-16T13:49:04.303Z"
   },
   {
    "duration": 240,
    "start_time": "2023-03-16T13:49:04.312Z"
   },
   {
    "duration": 6,
    "start_time": "2023-03-16T13:49:04.554Z"
   },
   {
    "duration": 188,
    "start_time": "2023-03-16T13:49:04.568Z"
   },
   {
    "duration": 12,
    "start_time": "2023-03-16T13:49:04.758Z"
   },
   {
    "duration": 145,
    "start_time": "2023-03-16T13:49:04.777Z"
   },
   {
    "duration": 136,
    "start_time": "2023-03-16T13:49:04.923Z"
   },
   {
    "duration": 6,
    "start_time": "2023-03-16T13:49:05.068Z"
   },
   {
    "duration": 174,
    "start_time": "2023-03-16T13:49:05.076Z"
   },
   {
    "duration": 5,
    "start_time": "2023-03-16T13:49:05.252Z"
   },
   {
    "duration": 161,
    "start_time": "2023-03-16T13:49:05.258Z"
   },
   {
    "duration": 5,
    "start_time": "2023-03-16T13:49:05.421Z"
   },
   {
    "duration": 186,
    "start_time": "2023-03-16T13:49:05.427Z"
   },
   {
    "duration": 24,
    "start_time": "2023-03-16T13:49:05.615Z"
   },
   {
    "duration": 299,
    "start_time": "2023-03-16T13:49:05.642Z"
   },
   {
    "duration": 80,
    "start_time": "2023-03-16T13:50:35.644Z"
   },
   {
    "duration": 26,
    "start_time": "2023-03-16T13:50:50.971Z"
   },
   {
    "duration": 485,
    "start_time": "2023-03-16T14:13:38.244Z"
   },
   {
    "duration": 18,
    "start_time": "2023-03-16T14:13:38.731Z"
   },
   {
    "duration": 3,
    "start_time": "2023-03-16T14:13:38.751Z"
   },
   {
    "duration": 17,
    "start_time": "2023-03-16T14:13:38.756Z"
   },
   {
    "duration": 39,
    "start_time": "2023-03-16T14:13:38.774Z"
   },
   {
    "duration": 2690,
    "start_time": "2023-03-16T14:13:38.815Z"
   },
   {
    "duration": 15,
    "start_time": "2023-03-16T14:13:41.507Z"
   },
   {
    "duration": 7,
    "start_time": "2023-03-16T14:13:41.524Z"
   },
   {
    "duration": 16,
    "start_time": "2023-03-16T14:13:41.532Z"
   },
   {
    "duration": 7,
    "start_time": "2023-03-16T14:13:41.550Z"
   },
   {
    "duration": 10,
    "start_time": "2023-03-16T14:13:41.559Z"
   },
   {
    "duration": 34,
    "start_time": "2023-03-16T14:13:41.571Z"
   },
   {
    "duration": 9,
    "start_time": "2023-03-16T14:13:41.606Z"
   },
   {
    "duration": 4,
    "start_time": "2023-03-16T14:13:41.617Z"
   },
   {
    "duration": 9,
    "start_time": "2023-03-16T14:13:41.622Z"
   },
   {
    "duration": 15,
    "start_time": "2023-03-16T14:13:41.632Z"
   },
   {
    "duration": 9,
    "start_time": "2023-03-16T14:13:41.649Z"
   },
   {
    "duration": 8,
    "start_time": "2023-03-16T14:13:41.659Z"
   },
   {
    "duration": 49,
    "start_time": "2023-03-16T14:13:41.669Z"
   },
   {
    "duration": 44,
    "start_time": "2023-03-16T14:13:41.719Z"
   },
   {
    "duration": 9,
    "start_time": "2023-03-16T14:13:41.765Z"
   },
   {
    "duration": 39,
    "start_time": "2023-03-16T14:13:41.775Z"
   },
   {
    "duration": 7,
    "start_time": "2023-03-16T14:13:41.816Z"
   },
   {
    "duration": 6,
    "start_time": "2023-03-16T14:13:41.825Z"
   },
   {
    "duration": 6,
    "start_time": "2023-03-16T14:13:41.833Z"
   },
   {
    "duration": 8,
    "start_time": "2023-03-16T14:13:41.841Z"
   },
   {
    "duration": 11,
    "start_time": "2023-03-16T14:13:41.851Z"
   },
   {
    "duration": 5,
    "start_time": "2023-03-16T14:13:41.867Z"
   },
   {
    "duration": 40,
    "start_time": "2023-03-16T14:13:41.874Z"
   },
   {
    "duration": 23,
    "start_time": "2023-03-16T14:13:41.915Z"
   },
   {
    "duration": 94,
    "start_time": "2023-03-16T14:13:41.940Z"
   },
   {
    "duration": 187,
    "start_time": "2023-03-16T14:13:42.035Z"
   },
   {
    "duration": 19,
    "start_time": "2023-03-16T14:13:42.224Z"
   },
   {
    "duration": 17,
    "start_time": "2023-03-16T14:13:42.245Z"
   },
   {
    "duration": 5,
    "start_time": "2023-03-16T14:13:42.264Z"
   },
   {
    "duration": 41,
    "start_time": "2023-03-16T14:13:42.271Z"
   },
   {
    "duration": 186,
    "start_time": "2023-03-16T14:13:42.314Z"
   },
   {
    "duration": 116,
    "start_time": "2023-03-16T14:13:42.501Z"
   },
   {
    "duration": 15,
    "start_time": "2023-03-16T14:13:42.619Z"
   },
   {
    "duration": 232,
    "start_time": "2023-03-16T14:13:42.635Z"
   },
   {
    "duration": 7,
    "start_time": "2023-03-16T14:13:42.868Z"
   },
   {
    "duration": 18,
    "start_time": "2023-03-16T14:13:42.877Z"
   },
   {
    "duration": 30,
    "start_time": "2023-03-16T14:13:42.896Z"
   },
   {
    "duration": 199,
    "start_time": "2023-03-16T14:13:42.927Z"
   },
   {
    "duration": 7,
    "start_time": "2023-03-16T14:13:43.127Z"
   },
   {
    "duration": 23,
    "start_time": "2023-03-16T14:13:43.135Z"
   },
   {
    "duration": 8,
    "start_time": "2023-03-16T14:13:43.159Z"
   },
   {
    "duration": 206,
    "start_time": "2023-03-16T14:13:43.168Z"
   },
   {
    "duration": 6,
    "start_time": "2023-03-16T14:13:43.386Z"
   },
   {
    "duration": 27,
    "start_time": "2023-03-16T14:13:43.393Z"
   },
   {
    "duration": 8,
    "start_time": "2023-03-16T14:13:43.422Z"
   },
   {
    "duration": 186,
    "start_time": "2023-03-16T14:13:43.432Z"
   },
   {
    "duration": 6,
    "start_time": "2023-03-16T14:13:43.620Z"
   },
   {
    "duration": 24,
    "start_time": "2023-03-16T14:13:43.627Z"
   },
   {
    "duration": 16,
    "start_time": "2023-03-16T14:13:43.653Z"
   },
   {
    "duration": 187,
    "start_time": "2023-03-16T14:13:43.670Z"
   },
   {
    "duration": 6,
    "start_time": "2023-03-16T14:13:43.859Z"
   },
   {
    "duration": 15,
    "start_time": "2023-03-16T14:13:43.867Z"
   },
   {
    "duration": 176,
    "start_time": "2023-03-16T14:13:43.883Z"
   },
   {
    "duration": 7,
    "start_time": "2023-03-16T14:13:44.061Z"
   },
   {
    "duration": 41,
    "start_time": "2023-03-16T14:13:44.071Z"
   },
   {
    "duration": 18,
    "start_time": "2023-03-16T14:13:44.114Z"
   },
   {
    "duration": 248,
    "start_time": "2023-03-16T14:13:44.134Z"
   },
   {
    "duration": 7,
    "start_time": "2023-03-16T14:13:44.384Z"
   },
   {
    "duration": 173,
    "start_time": "2023-03-16T14:13:44.393Z"
   },
   {
    "duration": 15,
    "start_time": "2023-03-16T14:13:44.568Z"
   },
   {
    "duration": 175,
    "start_time": "2023-03-16T14:13:44.584Z"
   },
   {
    "duration": 7,
    "start_time": "2023-03-16T14:13:44.761Z"
   },
   {
    "duration": 157,
    "start_time": "2023-03-16T14:13:44.769Z"
   },
   {
    "duration": 8,
    "start_time": "2023-03-16T14:13:44.927Z"
   },
   {
    "duration": 265,
    "start_time": "2023-03-16T14:13:44.937Z"
   },
   {
    "duration": 11,
    "start_time": "2023-03-16T14:13:45.204Z"
   },
   {
    "duration": 169,
    "start_time": "2023-03-16T14:13:45.217Z"
   },
   {
    "duration": 6,
    "start_time": "2023-03-16T14:13:45.388Z"
   },
   {
    "duration": 158,
    "start_time": "2023-03-16T14:13:45.396Z"
   },
   {
    "duration": 8,
    "start_time": "2023-03-16T14:13:45.557Z"
   },
   {
    "duration": 204,
    "start_time": "2023-03-16T14:13:45.567Z"
   },
   {
    "duration": 7,
    "start_time": "2023-03-16T14:13:45.772Z"
   },
   {
    "duration": 14,
    "start_time": "2023-03-16T14:13:45.781Z"
   },
   {
    "duration": 269,
    "start_time": "2023-03-16T14:13:45.796Z"
   },
   {
    "duration": 6,
    "start_time": "2023-03-16T14:13:46.067Z"
   },
   {
    "duration": 94,
    "start_time": "2023-03-16T14:13:46.079Z"
   },
   {
    "duration": 8,
    "start_time": "2023-03-16T14:13:46.174Z"
   },
   {
    "duration": 28,
    "start_time": "2023-03-16T14:13:46.183Z"
   },
   {
    "duration": 44,
    "start_time": "2023-03-16T14:13:46.213Z"
   },
   {
    "duration": 20,
    "start_time": "2023-03-16T14:13:46.258Z"
   },
   {
    "duration": 7,
    "start_time": "2023-03-16T14:13:46.280Z"
   },
   {
    "duration": 36,
    "start_time": "2023-03-16T14:13:46.289Z"
   },
   {
    "duration": 9,
    "start_time": "2023-03-16T14:13:46.327Z"
   },
   {
    "duration": 7,
    "start_time": "2023-03-16T14:13:46.337Z"
   },
   {
    "duration": 16,
    "start_time": "2023-03-16T14:13:46.346Z"
   },
   {
    "duration": 310,
    "start_time": "2023-03-16T14:13:46.363Z"
   },
   {
    "duration": 7,
    "start_time": "2023-03-16T14:13:46.674Z"
   },
   {
    "duration": 29,
    "start_time": "2023-03-16T14:13:46.683Z"
   },
   {
    "duration": 33,
    "start_time": "2023-03-16T14:13:46.714Z"
   },
   {
    "duration": 268,
    "start_time": "2023-03-16T14:13:46.749Z"
   },
   {
    "duration": 388,
    "start_time": "2023-03-16T14:13:47.019Z"
   },
   {
    "duration": 265,
    "start_time": "2023-03-16T14:13:47.412Z"
   },
   {
    "duration": 207,
    "start_time": "2023-03-16T14:13:47.678Z"
   },
   {
    "duration": 161,
    "start_time": "2023-03-16T14:13:47.886Z"
   },
   {
    "duration": 142,
    "start_time": "2023-03-16T14:13:48.048Z"
   },
   {
    "duration": 195,
    "start_time": "2023-03-16T14:13:48.191Z"
   },
   {
    "duration": 131,
    "start_time": "2023-03-16T14:13:48.388Z"
   },
   {
    "duration": 169,
    "start_time": "2023-03-16T14:13:48.520Z"
   },
   {
    "duration": 259,
    "start_time": "2023-03-16T14:13:48.690Z"
   },
   {
    "duration": 203,
    "start_time": "2023-03-16T14:13:48.951Z"
   },
   {
    "duration": 249,
    "start_time": "2023-03-16T14:13:49.156Z"
   },
   {
    "duration": 289,
    "start_time": "2023-03-16T14:13:49.411Z"
   },
   {
    "duration": 154,
    "start_time": "2023-03-16T14:13:49.712Z"
   },
   {
    "duration": 262,
    "start_time": "2023-03-16T14:13:49.867Z"
   },
   {
    "duration": 266,
    "start_time": "2023-03-16T14:13:50.131Z"
   },
   {
    "duration": 14,
    "start_time": "2023-03-16T14:13:50.399Z"
   },
   {
    "duration": 9,
    "start_time": "2023-03-16T14:13:50.414Z"
   },
   {
    "duration": 124,
    "start_time": "2023-03-16T14:13:50.425Z"
   },
   {
    "duration": 5,
    "start_time": "2023-03-16T14:13:50.551Z"
   },
   {
    "duration": 199,
    "start_time": "2023-03-16T14:13:50.557Z"
   },
   {
    "duration": 5,
    "start_time": "2023-03-16T14:13:50.758Z"
   },
   {
    "duration": 212,
    "start_time": "2023-03-16T14:13:50.765Z"
   },
   {
    "duration": 5,
    "start_time": "2023-03-16T14:13:50.979Z"
   },
   {
    "duration": 189,
    "start_time": "2023-03-16T14:13:50.985Z"
   },
   {
    "duration": 5,
    "start_time": "2023-03-16T14:13:51.176Z"
   },
   {
    "duration": 154,
    "start_time": "2023-03-16T14:13:51.182Z"
   },
   {
    "duration": 149,
    "start_time": "2023-03-16T14:13:51.337Z"
   },
   {
    "duration": 6,
    "start_time": "2023-03-16T14:13:51.487Z"
   },
   {
    "duration": 170,
    "start_time": "2023-03-16T14:13:51.494Z"
   },
   {
    "duration": 6,
    "start_time": "2023-03-16T14:13:51.666Z"
   },
   {
    "duration": 170,
    "start_time": "2023-03-16T14:13:51.673Z"
   },
   {
    "duration": 5,
    "start_time": "2023-03-16T14:13:51.844Z"
   },
   {
    "duration": 188,
    "start_time": "2023-03-16T14:13:51.851Z"
   },
   {
    "duration": 29,
    "start_time": "2023-03-16T14:13:52.040Z"
   },
   {
    "duration": 313,
    "start_time": "2023-03-16T14:13:52.071Z"
   },
   {
    "duration": 75,
    "start_time": "2023-03-16T14:13:52.386Z"
   },
   {
    "duration": 52,
    "start_time": "2023-09-06T16:15:19.071Z"
   },
   {
    "duration": 827,
    "start_time": "2023-09-06T16:15:27.314Z"
   },
   {
    "duration": 17,
    "start_time": "2023-09-06T16:15:28.143Z"
   },
   {
    "duration": 4,
    "start_time": "2023-09-06T16:15:28.161Z"
   },
   {
    "duration": 36,
    "start_time": "2023-09-06T16:15:28.166Z"
   },
   {
    "duration": 15,
    "start_time": "2023-09-06T16:15:28.204Z"
   },
   {
    "duration": 3321,
    "start_time": "2023-09-06T16:15:28.221Z"
   },
   {
    "duration": 0,
    "start_time": "2023-09-06T16:15:31.548Z"
   },
   {
    "duration": 0,
    "start_time": "2023-09-06T16:15:31.549Z"
   },
   {
    "duration": 0,
    "start_time": "2023-09-06T16:15:31.550Z"
   },
   {
    "duration": 0,
    "start_time": "2023-09-06T16:15:31.551Z"
   },
   {
    "duration": 0,
    "start_time": "2023-09-06T16:15:31.552Z"
   },
   {
    "duration": 0,
    "start_time": "2023-09-06T16:15:31.553Z"
   },
   {
    "duration": 0,
    "start_time": "2023-09-06T16:15:31.554Z"
   },
   {
    "duration": 0,
    "start_time": "2023-09-06T16:15:31.555Z"
   },
   {
    "duration": 0,
    "start_time": "2023-09-06T16:15:31.556Z"
   },
   {
    "duration": 0,
    "start_time": "2023-09-06T16:15:31.601Z"
   },
   {
    "duration": 0,
    "start_time": "2023-09-06T16:15:31.603Z"
   },
   {
    "duration": 0,
    "start_time": "2023-09-06T16:15:31.604Z"
   },
   {
    "duration": 0,
    "start_time": "2023-09-06T16:15:31.605Z"
   },
   {
    "duration": 0,
    "start_time": "2023-09-06T16:15:31.606Z"
   },
   {
    "duration": 0,
    "start_time": "2023-09-06T16:15:31.607Z"
   },
   {
    "duration": 0,
    "start_time": "2023-09-06T16:15:31.608Z"
   },
   {
    "duration": 0,
    "start_time": "2023-09-06T16:15:31.609Z"
   },
   {
    "duration": 0,
    "start_time": "2023-09-06T16:15:31.610Z"
   },
   {
    "duration": 0,
    "start_time": "2023-09-06T16:15:31.611Z"
   },
   {
    "duration": 0,
    "start_time": "2023-09-06T16:15:31.612Z"
   },
   {
    "duration": 0,
    "start_time": "2023-09-06T16:15:31.614Z"
   },
   {
    "duration": 0,
    "start_time": "2023-09-06T16:15:31.615Z"
   },
   {
    "duration": 0,
    "start_time": "2023-09-06T16:15:31.616Z"
   },
   {
    "duration": 0,
    "start_time": "2023-09-06T16:15:31.617Z"
   },
   {
    "duration": 0,
    "start_time": "2023-09-06T16:15:31.618Z"
   },
   {
    "duration": 0,
    "start_time": "2023-09-06T16:15:31.619Z"
   },
   {
    "duration": 0,
    "start_time": "2023-09-06T16:15:31.620Z"
   },
   {
    "duration": 0,
    "start_time": "2023-09-06T16:15:31.621Z"
   },
   {
    "duration": 0,
    "start_time": "2023-09-06T16:15:31.622Z"
   },
   {
    "duration": 0,
    "start_time": "2023-09-06T16:15:31.623Z"
   },
   {
    "duration": 0,
    "start_time": "2023-09-06T16:15:31.624Z"
   },
   {
    "duration": 0,
    "start_time": "2023-09-06T16:15:31.625Z"
   },
   {
    "duration": 0,
    "start_time": "2023-09-06T16:15:31.627Z"
   },
   {
    "duration": 0,
    "start_time": "2023-09-06T16:15:31.627Z"
   },
   {
    "duration": 0,
    "start_time": "2023-09-06T16:15:31.629Z"
   },
   {
    "duration": 0,
    "start_time": "2023-09-06T16:15:31.629Z"
   },
   {
    "duration": 0,
    "start_time": "2023-09-06T16:15:31.631Z"
   },
   {
    "duration": 0,
    "start_time": "2023-09-06T16:15:31.632Z"
   },
   {
    "duration": 0,
    "start_time": "2023-09-06T16:15:31.633Z"
   },
   {
    "duration": 0,
    "start_time": "2023-09-06T16:15:31.634Z"
   },
   {
    "duration": 0,
    "start_time": "2023-09-06T16:15:31.635Z"
   },
   {
    "duration": 0,
    "start_time": "2023-09-06T16:15:31.636Z"
   },
   {
    "duration": 1,
    "start_time": "2023-09-06T16:15:31.637Z"
   },
   {
    "duration": 0,
    "start_time": "2023-09-06T16:15:31.638Z"
   },
   {
    "duration": 0,
    "start_time": "2023-09-06T16:15:31.702Z"
   },
   {
    "duration": 0,
    "start_time": "2023-09-06T16:15:31.703Z"
   },
   {
    "duration": 0,
    "start_time": "2023-09-06T16:15:31.704Z"
   },
   {
    "duration": 0,
    "start_time": "2023-09-06T16:15:31.705Z"
   },
   {
    "duration": 0,
    "start_time": "2023-09-06T16:15:31.706Z"
   },
   {
    "duration": 0,
    "start_time": "2023-09-06T16:15:31.707Z"
   },
   {
    "duration": 0,
    "start_time": "2023-09-06T16:15:31.708Z"
   },
   {
    "duration": 0,
    "start_time": "2023-09-06T16:15:31.709Z"
   },
   {
    "duration": 0,
    "start_time": "2023-09-06T16:15:31.711Z"
   },
   {
    "duration": 0,
    "start_time": "2023-09-06T16:15:31.711Z"
   },
   {
    "duration": 0,
    "start_time": "2023-09-06T16:15:31.712Z"
   },
   {
    "duration": 0,
    "start_time": "2023-09-06T16:15:31.714Z"
   },
   {
    "duration": 0,
    "start_time": "2023-09-06T16:15:31.715Z"
   },
   {
    "duration": 0,
    "start_time": "2023-09-06T16:15:31.716Z"
   },
   {
    "duration": 0,
    "start_time": "2023-09-06T16:15:31.717Z"
   },
   {
    "duration": 0,
    "start_time": "2023-09-06T16:15:31.718Z"
   },
   {
    "duration": 0,
    "start_time": "2023-09-06T16:15:31.719Z"
   },
   {
    "duration": 0,
    "start_time": "2023-09-06T16:15:31.720Z"
   },
   {
    "duration": 0,
    "start_time": "2023-09-06T16:15:31.721Z"
   },
   {
    "duration": 0,
    "start_time": "2023-09-06T16:15:31.722Z"
   },
   {
    "duration": 0,
    "start_time": "2023-09-06T16:15:31.723Z"
   },
   {
    "duration": 0,
    "start_time": "2023-09-06T16:15:31.724Z"
   },
   {
    "duration": 0,
    "start_time": "2023-09-06T16:15:31.725Z"
   },
   {
    "duration": 0,
    "start_time": "2023-09-06T16:15:31.726Z"
   },
   {
    "duration": 0,
    "start_time": "2023-09-06T16:15:31.728Z"
   },
   {
    "duration": 0,
    "start_time": "2023-09-06T16:15:31.729Z"
   },
   {
    "duration": 0,
    "start_time": "2023-09-06T16:15:31.730Z"
   },
   {
    "duration": 0,
    "start_time": "2023-09-06T16:15:31.731Z"
   },
   {
    "duration": 0,
    "start_time": "2023-09-06T16:15:31.732Z"
   },
   {
    "duration": 0,
    "start_time": "2023-09-06T16:15:31.733Z"
   },
   {
    "duration": 0,
    "start_time": "2023-09-06T16:15:31.734Z"
   },
   {
    "duration": 0,
    "start_time": "2023-09-06T16:15:31.735Z"
   },
   {
    "duration": 0,
    "start_time": "2023-09-06T16:15:31.802Z"
   },
   {
    "duration": 0,
    "start_time": "2023-09-06T16:15:31.803Z"
   },
   {
    "duration": 0,
    "start_time": "2023-09-06T16:15:31.804Z"
   },
   {
    "duration": 0,
    "start_time": "2023-09-06T16:15:31.805Z"
   },
   {
    "duration": 0,
    "start_time": "2023-09-06T16:15:31.806Z"
   },
   {
    "duration": 0,
    "start_time": "2023-09-06T16:15:31.807Z"
   },
   {
    "duration": 0,
    "start_time": "2023-09-06T16:15:31.808Z"
   },
   {
    "duration": 0,
    "start_time": "2023-09-06T16:15:31.809Z"
   },
   {
    "duration": 0,
    "start_time": "2023-09-06T16:15:31.811Z"
   },
   {
    "duration": 0,
    "start_time": "2023-09-06T16:15:31.811Z"
   },
   {
    "duration": 0,
    "start_time": "2023-09-06T16:15:31.812Z"
   },
   {
    "duration": 0,
    "start_time": "2023-09-06T16:15:31.813Z"
   },
   {
    "duration": 0,
    "start_time": "2023-09-06T16:15:31.814Z"
   },
   {
    "duration": 0,
    "start_time": "2023-09-06T16:15:31.815Z"
   },
   {
    "duration": 0,
    "start_time": "2023-09-06T16:15:31.817Z"
   },
   {
    "duration": 0,
    "start_time": "2023-09-06T16:15:31.818Z"
   },
   {
    "duration": 0,
    "start_time": "2023-09-06T16:15:31.819Z"
   },
   {
    "duration": 0,
    "start_time": "2023-09-06T16:15:31.820Z"
   },
   {
    "duration": 0,
    "start_time": "2023-09-06T16:15:31.820Z"
   },
   {
    "duration": 0,
    "start_time": "2023-09-06T16:15:31.822Z"
   },
   {
    "duration": 0,
    "start_time": "2023-09-06T16:15:31.823Z"
   },
   {
    "duration": 0,
    "start_time": "2023-09-06T16:15:31.823Z"
   },
   {
    "duration": 0,
    "start_time": "2023-09-06T16:15:31.824Z"
   },
   {
    "duration": 0,
    "start_time": "2023-09-06T16:15:31.825Z"
   },
   {
    "duration": 0,
    "start_time": "2023-09-06T16:15:31.826Z"
   },
   {
    "duration": 0,
    "start_time": "2023-09-06T16:15:31.827Z"
   },
   {
    "duration": 0,
    "start_time": "2023-09-06T16:15:31.828Z"
   },
   {
    "duration": 0,
    "start_time": "2023-09-06T16:15:31.829Z"
   },
   {
    "duration": 0,
    "start_time": "2023-09-06T16:15:31.830Z"
   },
   {
    "duration": 0,
    "start_time": "2023-09-06T16:15:31.832Z"
   },
   {
    "duration": 0,
    "start_time": "2023-09-06T16:15:31.832Z"
   },
   {
    "duration": 0,
    "start_time": "2023-09-06T16:15:31.833Z"
   },
   {
    "duration": 0,
    "start_time": "2023-09-06T16:15:31.834Z"
   },
   {
    "duration": 0,
    "start_time": "2023-09-06T16:15:31.835Z"
   },
   {
    "duration": 0,
    "start_time": "2023-09-06T16:15:31.837Z"
   },
   {
    "duration": 0,
    "start_time": "2023-09-06T16:15:31.902Z"
   },
   {
    "duration": 0,
    "start_time": "2023-09-06T16:15:31.903Z"
   },
   {
    "duration": 0,
    "start_time": "2023-09-06T16:15:31.904Z"
   },
   {
    "duration": 0,
    "start_time": "2023-09-06T16:15:31.905Z"
   },
   {
    "duration": 0,
    "start_time": "2023-09-06T16:15:31.906Z"
   },
   {
    "duration": 0,
    "start_time": "2023-09-06T16:15:31.907Z"
   },
   {
    "duration": 0,
    "start_time": "2023-09-06T16:15:31.908Z"
   },
   {
    "duration": 0,
    "start_time": "2023-09-06T16:15:31.910Z"
   },
   {
    "duration": 0,
    "start_time": "2023-09-06T16:15:31.911Z"
   },
   {
    "duration": 0,
    "start_time": "2023-09-06T16:15:31.912Z"
   },
   {
    "duration": 0,
    "start_time": "2023-09-06T16:15:31.913Z"
   },
   {
    "duration": 0,
    "start_time": "2023-09-06T16:15:31.914Z"
   },
   {
    "duration": 0,
    "start_time": "2023-09-06T16:15:31.915Z"
   },
   {
    "duration": 0,
    "start_time": "2023-09-06T16:15:31.916Z"
   },
   {
    "duration": 2465,
    "start_time": "2023-09-06T16:15:51.969Z"
   },
   {
    "duration": 96,
    "start_time": "2023-09-06T16:16:18.897Z"
   },
   {
    "duration": 2625,
    "start_time": "2023-09-06T16:16:30.801Z"
   }
  ],
  "kernelspec": {
   "display_name": "Python 3 (ipykernel)",
   "language": "python",
   "name": "python3"
  },
  "language_info": {
   "codemirror_mode": {
    "name": "ipython",
    "version": 3
   },
   "file_extension": ".py",
   "mimetype": "text/x-python",
   "name": "python",
   "nbconvert_exporter": "python",
   "pygments_lexer": "ipython3",
   "version": "3.9.5"
  },
  "toc": {
   "base_numbering": 1,
   "nav_menu": {},
   "number_sections": true,
   "sideBar": true,
   "skip_h1_title": true,
   "title_cell": "Table of Contents",
   "title_sidebar": "Contents",
   "toc_cell": false,
   "toc_position": {
    "height": "calc(100% - 180px)",
    "left": "10px",
    "top": "150px",
    "width": "165px"
   },
   "toc_section_display": true,
   "toc_window_display": true
  }
 },
 "nbformat": 4,
 "nbformat_minor": 2
}
